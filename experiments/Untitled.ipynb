{
 "cells": [
  {
   "cell_type": "code",
   "execution_count": 1,
   "metadata": {},
   "outputs": [
    {
     "name": "stderr",
     "output_type": "stream",
     "text": [
      "┌ Info: Recompiling stale cache file /home/peltzer/.julia/compiled/v1.0/CRCBS/26Ksw.ji for CRCBS [edef75b8-3ac4-11e9-0392-bf149c536ee3]\n",
      "└ @ Base loading.jl:1190\n",
      "┌ Warning: Package CRCBS does not have JLD in its dependencies:\n",
      "│ - If you have CRCBS checked out for development and have\n",
      "│   added JLD as a dependency but haven't updated your primary\n",
      "│   environment's manifest file, try `Pkg.resolve()`.\n",
      "│ - Otherwise you may need to report an issue with CRCBS\n",
      "└ Loading JLD into CRCBS from project dependency, future warnings for CRCBS are suppressed.\n"
     ]
    }
   ],
   "source": [
    "using LightGraphs, MetaGraphs\n",
    "using NearestNeighbors\n",
    "using CRCBS"
   ]
  },
  {
   "cell_type": "code",
   "execution_count": null,
   "metadata": {},
   "outputs": [],
   "source": [
    "G = CRCBS.initialize_full_grid_graph()"
   ]
  },
  {
   "cell_type": "code",
   "execution_count": null,
   "metadata": {},
   "outputs": [],
   "source": [
    "starts = [1,5,8]\n",
    "goals = [4,1,2]\n",
    "mapf = MAPF(G,starts,goals)"
   ]
  },
  {
   "cell_type": "code",
   "execution_count": null,
   "metadata": {},
   "outputs": [],
   "source": [
    "CBS(mapf)"
   ]
  },
  {
   "cell_type": "code",
   "execution_count": 2,
   "metadata": {},
   "outputs": [
    {
     "ename": "KeyError",
     "evalue": "KeyError: key :x not found",
     "output_type": "error",
     "traceback": [
      "KeyError: key :x not found",
      "",
      "Stacktrace:",
      " [1] getindex at ./dict.jl:478 [inlined]",
      " [2] get_prop at /home/peltzer/.julia/packages/MetaGraphs/kAvjf/src/MetaGraphs.jl:236 [inlined]",
      " [3] a_star(::MetaGraph{Int64,Float64}, ::Int64, ::Int64, ::ConstraintDict, ::MetaGraphs.MetaWeights{Int64,Float64}, ::Function) at /home/peltzer/.julia/dev/CRCBS/src/low_level_search/a_star.jl:69",
      " [4] a_star at /home/peltzer/.julia/dev/CRCBS/src/low_level_search/a_star.jl:66 [inlined]",
      " [5] low_level_search! at /home/peltzer/.julia/dev/CRCBS/src/CRCBS.jl:491 [inlined]",
      " [6] low_level_search! at /home/peltzer/.julia/dev/CRCBS/src/CRCBS.jl:489 [inlined]",
      " [7] macro expansion at ./util.jl:289 [inlined]",
      " [8] CBS(::MAPF{MetaGraph{Int64,Float64}}, ::Function) at /home/peltzer/.julia/dev/CRCBS/src/CRCBS.jl:519",
      " [9] CBS at /home/peltzer/.julia/dev/CRCBS/src/CRCBS.jl:512 [inlined]",
      " [10] macro expansion at ./util.jl:289 [inlined]",
      " [11] run_problem(::String) at /home/peltzer/.julia/dev/CRCBS/src/simulations.jl:80",
      " [12] top-level scope at In[2]:1"
     ]
    }
   ],
   "source": [
    "run_problem(\"Debugging_test_1\")"
   ]
  },
  {
   "cell_type": "code",
   "execution_count": null,
   "metadata": {},
   "outputs": [],
   "source": []
  }
 ],
 "metadata": {
  "@webio": {
   "lastCommId": null,
   "lastKernelId": null
  },
  "kernelspec": {
   "display_name": "Julia 1.0.3",
   "language": "julia",
   "name": "julia-1.0"
  },
  "language_info": {
   "file_extension": ".jl",
   "mimetype": "application/julia",
   "name": "julia",
   "version": "1.0.3"
  }
 },
 "nbformat": 4,
 "nbformat_minor": 2
}
