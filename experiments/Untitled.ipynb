{
 "cells": [
  {
   "cell_type": "code",
   "execution_count": 1,
   "metadata": {},
   "outputs": [
    {
     "ename": "ArgumentError",
     "evalue": "ArgumentError: Package NearestNeighbors not found in current path:\n- Run `import Pkg; Pkg.add(\"NearestNeighbors\")` to install the NearestNeighbors package.\n",
     "output_type": "error",
     "traceback": [
      "ArgumentError: Package NearestNeighbors not found in current path:\n- Run `import Pkg; Pkg.add(\"NearestNeighbors\")` to install the NearestNeighbors package.\n",
      "",
      "Stacktrace:",
      " [1] require(::Module, ::Symbol) at .\\loading.jl:823",
      " [2] top-level scope at In[1]:2"
     ]
    }
   ],
   "source": [
    "using LightGraphs, MetaGraphs\n",
    "using NearestNeighbors\n",
    "using CRCBS"
   ]
  },
  {
   "cell_type": "code",
   "execution_count": 2,
   "metadata": {},
   "outputs": [
    {
     "ename": "UndefVarError",
     "evalue": "UndefVarError: CRCBS not defined",
     "output_type": "error",
     "traceback": [
      "UndefVarError: CRCBS not defined",
      "",
      "Stacktrace:",
      " [1] top-level scope at In[2]:1"
     ]
    }
   ],
   "source": [
    "G = CRCBS.initialize_full_grid_graph()"
   ]
  },
  {
   "cell_type": "code",
   "execution_count": 3,
   "metadata": {},
   "outputs": [
    {
     "ename": "UndefVarError",
     "evalue": "UndefVarError: MAPF not defined",
     "output_type": "error",
     "traceback": [
      "UndefVarError: MAPF not defined",
      "",
      "Stacktrace:",
      " [1] top-level scope at In[3]:4"
     ]
    }
   ],
   "source": [
    "starts = [8,4,3]\n",
    "#starts = [4,20,10]\n",
    "goals = [2,9,16] \n",
    "mapf = MAPF(G,starts,goals)"
   ]
  },
  {
   "cell_type": "code",
   "execution_count": 4,
   "metadata": {},
   "outputs": [
    {
     "ename": "UndefVarError",
     "evalue": "UndefVarError: CBS not defined",
     "output_type": "error",
     "traceback": [
      "UndefVarError: CBS not defined",
      "",
      "Stacktrace:",
      " [1] top-level scope at In[4]:1"
     ]
    }
   ],
   "source": [
    "CBS(mapf)"
   ]
  },
  {
   "cell_type": "code",
   "execution_count": null,
   "metadata": {
    "collapsed": true
   },
   "outputs": [],
   "source": [
    "run_problem(\"Timing_test_10_4\")"
   ]
  },
  {
   "cell_type": "code",
   "execution_count": null,
   "metadata": {
    "collapsed": true
   },
   "outputs": [],
   "source": []
  }
 ],
 "metadata": {
  "@webio": {
   "lastCommId": null,
   "lastKernelId": null
  },
  "kernelspec": {
   "display_name": "Julia 1.1.0",
   "language": "julia",
   "name": "julia-1.1"
  },
  "language_info": {
   "file_extension": ".jl",
   "mimetype": "application/julia",
   "name": "julia",
   "version": "1.1.0"
  }
 },
 "nbformat": 4,
 "nbformat_minor": 2
}
