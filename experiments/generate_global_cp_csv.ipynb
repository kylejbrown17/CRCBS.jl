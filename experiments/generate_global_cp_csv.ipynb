{
 "cells": [
  {
   "cell_type": "code",
   "execution_count": 1,
   "id": "minimal-rider",
   "metadata": {},
   "outputs": [],
   "source": [
    "using DataFrames\n",
    "using CSV"
   ]
  },
  {
   "cell_type": "markdown",
   "id": "designing-shore",
   "metadata": {},
   "source": [
    "# Conflict Probability"
   ]
  },
  {
   "cell_type": "code",
   "execution_count": 2,
   "id": "royal-secret",
   "metadata": {},
   "outputs": [],
   "source": [
    "epsilons = [0.2 0.1 0.05 0.01 0.001 0.0001]'\n",
    "\n",
    "data10 = DataFrame(CSV.File(\"Dict_Timing_test_10.csv\"));\n",
    "data11 = DataFrame(CSV.File(\"Dict_Timing_test_11.csv\"));\n",
    "data12 = DataFrame(CSV.File(\"Dict_Timing_test_12.csv\"));\n",
    "data9 = DataFrame(CSV.File(\"Dict_Timing_test_9.csv\"));\n",
    "data15 = DataFrame(CSV.File(\"Dict_Timing_test_15.csv\"));\n",
    "data17 = DataFrame(CSV.File(\"Dict_Timing_test_17.csv\"));"
   ]
  },
  {
   "cell_type": "code",
   "execution_count": 17,
   "id": "industrial-guess",
   "metadata": {},
   "outputs": [
    {
     "data": {
      "text/html": [
       "<table class=\"data-frame\"><thead><tr><th></th><th>x1</th></tr></thead><tbody><tr><th>1</th><td>CSV.Row: (Column1 = 1, name = \"Timing_test_9_1\", Id = 0, CBS = false, success = false, lambda = 0.2, epsilon = 0.2, t_delay = 1, num_trials = 2000, num_agents = 8, cbs_time_steps = -1, num_nodes = 121, num_edges = 280, solving_time = 82.157, counting_time = 77.109, time_spent_on_astar = 2.18043, num_interactions = 0, num_iterations = 1000, solution_cost = 9.22337e18, global_cp = 0.0, conflict_counts_locally = \"Float64[]\", probability_error = \"(NaN, NaN)\")</td></tr></tbody></table>"
      ],
      "text/latex": [
       "\\begin{tabular}{r|c}\n",
       "\t& x1\\\\\n",
       "\t\\hline\n",
       "\t1 & CSV.Row: (Column1 = 1, name = \"Timing\\_test\\_9\\_1\", Id = 0, CBS = false, success = false, lambda = 0.2, epsilon = 0.2, t\\_delay = 1, num\\_trials = 2000, num\\_agents = 8, cbs\\_time\\_steps = -1, num\\_nodes = 121, num\\_edges = 280, solving\\_time = 82.157, counting\\_time = 77.109, time\\_spent\\_on\\_astar = 2.18043, num\\_interactions = 0, num\\_iterations = 1000, solution\\_cost = 9.22337e18, global\\_cp = 0.0, conflict\\_counts\\_locally = \"Float64[]\", probability\\_error = \"(NaN, NaN)\") \\\\\n",
       "\\end{tabular}\n"
      ],
      "text/plain": [
       "1×1 DataFrame. Omitted printing of 1 columns\n",
       "│ Row │ ├─────┼\n",
       "│ 1   │ "
      ]
     },
     "execution_count": 17,
     "metadata": {},
     "output_type": "execute_result"
    }
   ],
   "source": []
  },
  {
   "cell_type": "code",
   "execution_count": 14,
   "id": "employed-affairs",
   "metadata": {},
   "outputs": [
    {
     "name": "stdout",
     "output_type": "stream",
     "text": [
      "Any[]Any[]"
     ]
    }
   ],
   "source": [
    "N_trials  = 14\n",
    "N_methods = 2\n",
    "epsilons = [0.2 0.1 0.05 0.01 0.001 0.0001]'\n",
    "\n",
    "results = DataFrame(columns=[\"ϵ\",\"Method\",\"Trial\",\"Conflict Probability\"])\n",
    "conflict_probabilities = []\n",
    "\n",
    "\n",
    "# 8 agents\n",
    "for k in [2,5]\n",
    "    idxs = findall(data9[2].==string(\"Timing_test_9_\",k))\n",
    "    seg = [data9.global_cp[idx] for idx in idxs]\n",
    "    print(seg)\n",
    "    conflict_probabilities = [conflict_probabilities; seg]\n",
    "end\n",
    "for k in [2,5]\n",
    "    idxs2 = findall(data12[1].==string(\"Timing_test_12_\",k))\n",
    "    seg2 = [data12.global_cp[idx] for idx in idxs2]\n",
    "    conflict_probabilities = [conflict_probabilities; seg2]\n",
    "end\n",
    "\n",
    "\n",
    "# 10 agents\n",
    "for k in [3]\n",
    "    idxs = findall(data10[1].==string(\"Timing_test_10_\",k))\n",
    "    seg = [data10.global_cp[idx] for idx in idxs]\n",
    "    conflict_probabilities = [conflict_probabilities; seg]\n",
    "end\n",
    "for k in 1:4\n",
    "    idxs2 = findall(data11[1].==string(\"Timing_test_11_\",k))\n",
    "    seg2 = [data11.global_cp[idx] for idx in idxs2]\n",
    "    conflict_probabilities = [conflict_probabilities; seg2]\n",
    "end\n",
    "\n",
    "\n",
    "# 12 agents\n",
    "for k in [1,3,5]\n",
    "    idxs = findall(data15[1].==string(\"Timing_test_15_\",k))\n",
    "    seg = [data15.global_cp[idx] for idx in idxs]\n",
    "    conflict_probabilities = [conflict_probabilities; seg]\n",
    "end\n",
    "for k in [3,5]\n",
    "    idxs2 = findall(data17[1].==string(\"Timing_test_17_\",k))\n",
    "    seg2 = [data17.global_cp[idx] for idx in idxs2]\n",
    "    conflict_probabilities = [conflict_probabilities; seg2]\n",
    "end\n"
   ]
  },
  {
   "cell_type": "code",
   "execution_count": 7,
   "id": "discrete-notebook",
   "metadata": {},
   "outputs": [
    {
     "data": {
      "text/plain": [
       "Any[]"
      ]
     },
     "execution_count": 7,
     "metadata": {},
     "output_type": "execute_result"
    }
   ],
   "source": [
    "conflict_probabilities"
   ]
  },
  {
   "cell_type": "code",
   "execution_count": null,
   "id": "assisted-dakota",
   "metadata": {},
   "outputs": [],
   "source": [
    "\n",
    "N_trials = [4,5,5]\n",
    "\n",
    "df_results = DataFrame(\n",
    "    ϵ=vec(repeat(epsilons,sum(N_trials))),\n",
    "    number_agents = vcat(fill.([8,10,12], length(epsilons) * N_trials)...),\n",
    "#     Method = [fill(:STT_CBS,N_trials*length(epsilons));fill(:CBS,N_trials*length(epsilons))],\n",
    "#     Method_line = [fill(:solid,N_trials*length(epsilons));fill(:dash,N_trials*length(epsilons))],\n",
    "    trial  = repeat(1:sum(N_trials), inner=length(epsilons)),\n",
    "    conflict_prob = conflict_probabilities)\n"
   ]
  },
  {
   "cell_type": "code",
   "execution_count": null,
   "id": "proprietary-investigator",
   "metadata": {},
   "outputs": [],
   "source": [
    "CSV.write(\"dict_global_conflict_probability_results.csv\", df_results)"
   ]
  },
  {
   "cell_type": "markdown",
   "id": "varying-calcium",
   "metadata": {},
   "source": [
    "# Conflict Comparison"
   ]
  },
  {
   "cell_type": "code",
   "execution_count": null,
   "id": "weekly-statistics",
   "metadata": {},
   "outputs": [],
   "source": [
    "\n",
    "# cbsprobs = [0.1596,#0.566349,0.5738,0.335,0.0658,#0.0248,0.323,0.1723667,#0.2645777]\n",
    "    \n",
    "cbsprobs = [0.1596,0.5738,0.335,0.0658,0.323,0.1723667]"
   ]
  },
  {
   "cell_type": "code",
   "execution_count": null,
   "id": "improving-enemy",
   "metadata": {},
   "outputs": [],
   "source": [
    "N_trials  = 6\n",
    "N_methods = 2\n",
    "epsilons = [0.2 0.1 0.05 0.01 0.001 0.0001]'\n",
    "\n",
    "results = DataFrame(columns=[\"ϵ\",\"Method\",\"Trial\",\"Conflict Probability\"])\n",
    "conflict_probabilities = []\n",
    "for k in [1,3,5]\n",
    "    idxs = findall(data10[1].==string(\"Timing_test_10_\",k))\n",
    "    seg = [data10.global_cp[idx] for idx in idxs]\n",
    "    conflict_probabilities = [conflict_probabilities; seg]\n",
    "end\n",
    "for k in 2:4\n",
    "    idxs2 = findall(data11[1].==string(\"Timing_test_11_\",k))\n",
    "    seg2 = [data11.global_cp[idx] for idx in idxs2]\n",
    "    conflict_probabilities = [conflict_probabilities; seg2]\n",
    "end\n",
    "conflict_probabilities = [conflict_probabilities;repeat(cbsprobs,inner=length(epsilons))]\n",
    "\n",
    "df_results = DataFrame(\n",
    "    ϵ=vec(repeat(epsilons,N_trials*N_methods)),\n",
    "    Method = [fill(:STT_CBS,N_trials*length(epsilons));fill(:CBS,N_trials*length(epsilons))],\n",
    "    Method_line = [fill(:solid,N_trials*length(epsilons));fill(:dash,N_trials*length(epsilons))],\n",
    "    Trial  = repeat(repeat(CategoricalArray(1:N_trials), inner=length(epsilons)),N_methods),\n",
    "    Conflict_Prob = conflict_probabilities)"
   ]
  },
  {
   "cell_type": "code",
   "execution_count": null,
   "id": "higher-cassette",
   "metadata": {},
   "outputs": [],
   "source": [
    "CSV.write(\"dict_conflict_comparison.csv\", df_results)"
   ]
  },
  {
   "cell_type": "code",
   "execution_count": 5,
   "id": "decimal-split",
   "metadata": {},
   "outputs": [
    {
     "data": {
      "text/plain": [
       "70"
      ]
     },
     "execution_count": 5,
     "metadata": {},
     "output_type": "execute_result"
    }
   ],
   "source": [
    "14*5"
   ]
  },
  {
   "cell_type": "code",
   "execution_count": null,
   "id": "medieval-hungarian",
   "metadata": {},
   "outputs": [],
   "source": []
  }
 ],
 "metadata": {
  "@webio": {
   "lastCommId": null,
   "lastKernelId": null
  },
  "kernelspec": {
   "display_name": "Julia 1.5.1",
   "language": "julia",
   "name": "julia-1.5"
  },
  "language_info": {
   "file_extension": ".jl",
   "mimetype": "application/julia",
   "name": "julia",
   "version": "1.5.1"
  }
 },
 "nbformat": 4,
 "nbformat_minor": 5
}
