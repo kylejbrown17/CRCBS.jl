{
 "cells": [
  {
   "cell_type": "code",
   "execution_count": 1,
   "metadata": {},
   "outputs": [
    {
     "name": "stderr",
     "output_type": "stream",
     "text": [
      "┌ Info: Recompiling stale cache file /home/peltzer/.julia/compiled/v1.0/CRCBS/26Ksw.ji for CRCBS [edef75b8-3ac4-11e9-0392-bf149c536ee3]\n",
      "└ @ Base loading.jl:1190\n",
      "┌ Warning: Package CRCBS does not have JLD in its dependencies:\n",
      "│ - If you have CRCBS checked out for development and have\n",
      "│   added JLD as a dependency but haven't updated your primary\n",
      "│   environment's manifest file, try `Pkg.resolve()`.\n",
      "│ - Otherwise you may need to report an issue with CRCBS\n",
      "└ Loading JLD into CRCBS from project dependency, future warnings for CRCBS are suppressed.\n",
      "WARNING: Method definition get_dist_matrix(LightGraphs.AbstractGraph{T} where T) in module CRCBS at /home/peltzer/.julia/dev/CRCBS/src/utils.jl:11 overwritten at /home/peltzer/.julia/dev/CRCBS/src/utils.jl:11.\n",
      "┌ Warning: Replacing docs for `CRCBS.get_dist_matrix :: Tuple{LightGraphs.AbstractGraph}` in module `CRCBS`\n",
      "└ @ Base.Docs docs/Docs.jl:223\n",
      "WARNING: Method definition pad_matrix(Array{T, 2}, Tuple{Int64, Int64}, T) where {T} in module CRCBS at /home/peltzer/.julia/dev/CRCBS/src/utils.jl:22 overwritten at /home/peltzer/.julia/dev/CRCBS/src/utils.jl:22.\n",
      "┌ Warning: Replacing docs for `CRCBS.pad_matrix :: Union{Tuple{T}, Tuple{Array{T,2},Tuple{Int64,Int64},T}} where T` in module `CRCBS`\n",
      "└ @ Base.Docs docs/Docs.jl:223\n",
      "WARNING: Method definition compute_distance_matrix(Any, Any) in module CRCBS at /home/peltzer/.julia/dev/CRCBS/src/utils.jl:35 overwritten at /home/peltzer/.julia/dev/CRCBS/src/utils.jl:35.\n",
      "┌ Warning: Replacing docs for `CRCBS.compute_distance_matrix :: Tuple{Any,Any}` in module `CRCBS`\n",
      "└ @ Base.Docs docs/Docs.jl:223\n",
      "WARNING: Method definition sample_wo_repl(Any, Any) in module CRCBS at /home/peltzer/.julia/dev/CRCBS/src/utils.jl:44 overwritten at /home/peltzer/.julia/dev/CRCBS/src/utils.jl:44.\n"
     ]
    }
   ],
   "source": [
    "using CRCBS\n",
    "using LightGraphs,MetaGraphs"
   ]
  },
  {
   "cell_type": "code",
   "execution_count": 2,
   "metadata": {
    "scrolled": true
   },
   "outputs": [
    {
     "data": {
      "text/plain": [
       "MAPF{MetaDiGraph{Int64,Float64}}({121, 561} directed Int64 metagraph with Float64 weights defined by :weight (default weight 1.0), [1, 5, 8, 12], [0.0, 1.0, 2.0, 3.0], Array{Int64,1}[[4], [1, 3], [2], [25]], Array{Float64,1}[[0.0], [2.0, 0.0], [1.0], [2.0]], 0.5, 0.1, 0.5)"
      ]
     },
     "execution_count": 2,
     "metadata": {},
     "output_type": "execute_result"
    }
   ],
   "source": [
    "G = initialize_full_grid_graph_CT()\n",
    "starts = [1,5,8,12]\n",
    "start_times = [0.0,1.0,2.0,3.0]\n",
    "goals = [[4],[1,3],[2],[25]]\n",
    "goal_completion_times = [[0.0],[2.0,0.0],[1.0],[2.0]]\n",
    "lambda = 0.5\n",
    "epsilon = 0.1\n",
    "t_delay = 0.5\n",
    "mapf = MAPF(G,starts,start_times,goals,goal_completion_times,lambda,epsilon,t_delay)"
   ]
  },
  {
   "cell_type": "code",
   "execution_count": 8,
   "metadata": {},
   "outputs": [
    {
     "data": {
      "text/plain": [
       "0-element Array{Int64,1}"
      ]
     },
     "execution_count": 8,
     "metadata": {},
     "output_type": "execute_result"
    }
   ],
   "source": [
    "Array{Int64,1}()"
   ]
  },
  {
   "cell_type": "code",
   "execution_count": 3,
   "metadata": {},
   "outputs": [
    {
     "name": "stdout",
     "output_type": "stream",
     "text": [
      "ASTAR: 4\n",
      "\n",
      " \n",
      "Constraints\n",
      "CRCBS.EdgeConstraint[EdgeConstraint(1, 3, 4, 5.0), EdgeConstraint(2, 4, 3, 6.0)]\n",
      "ASTAR: 1\n",
      "ASTAR: 1\n",
      "\n",
      " \n",
      "ASTAR: 1\n",
      "ASTAR: 1\n",
      "\n",
      " \n",
      "ASTAR: 1\n",
      "ASTAR: 1\n",
      "\n",
      " \n",
      "ASTAR: 1\n",
      "ASTAR: 1\n",
      "\n",
      " \n",
      "ASTAR: 1\n",
      "ASTAR: 1\n",
      "\n",
      " \n",
      "ASTAR: 1\n",
      "ASTAR: 1\n",
      "\n",
      " \n",
      "Constraints\n",
      "CRCBS.EdgeConstraint[EdgeConstraint(1, 14, 15, 6.5), EdgeConstraint(2, 15, 14, 7.5)]\n",
      "ASTAR: 1\n",
      "ASTAR: 1\n",
      "\n",
      " \n",
      "ASTAR: 1\n",
      "ASTAR: 1\n",
      "\n",
      " \n",
      "Optimal Solution Found! Cost = 24\n",
      "Time spent on probability count: 0.977071905 \n",
      "Time spent on path finding: 0.27976678000000005 \n"
     ]
    },
    {
     "data": {
      "text/plain": [
       "(Array{LightGraphs.SimpleGraphs.SimpleEdge,1}[[Edge 1 => 2, Edge 2 => 3, Edge 3 => 4], [Edge 5 => 16, Edge 16 => 27, Edge 27 => 26, Edge 26 => 37, Edge 37 => 36, Edge 36 => 35, Edge 35 => 24, Edge 24 => 13, Edge 13 => 12, Edge 12 => 1, Edge 1 => 2, Edge 2 => 3], [Edge 8 => 7, Edge 7 => 6, Edge 6 => 5, Edge 5 => 4, Edge 4 => 3, Edge 3 => 2], [Edge 12 => 13, Edge 13 => 14, Edge 14 => 25]], 24, 0.977071905, 0.27976678000000005, [17, 1], 8)"
      ]
     },
     "execution_count": 3,
     "metadata": {},
     "output_type": "execute_result"
    }
   ],
   "source": [
    "result = CTCBS(mapf)"
   ]
  },
  {
   "cell_type": "code",
   "execution_count": 7,
   "metadata": {},
   "outputs": [
    {
     "data": {
      "text/plain": [
       "false"
      ]
     },
     "execution_count": 7,
     "metadata": {},
     "output_type": "execute_result"
    }
   ],
   "source": [
    "Float64 <: Integer"
   ]
  },
  {
   "cell_type": "code",
   "execution_count": null,
   "metadata": {},
   "outputs": [],
   "source": []
  }
 ],
 "metadata": {
  "@webio": {
   "lastCommId": null,
   "lastKernelId": null
  },
  "kernelspec": {
   "display_name": "Julia 1.0.3",
   "language": "julia",
   "name": "julia-1.0"
  },
  "language_info": {
   "file_extension": ".jl",
   "mimetype": "application/julia",
   "name": "julia",
   "version": "1.0.3"
  }
 },
 "nbformat": 4,
 "nbformat_minor": 2
}
