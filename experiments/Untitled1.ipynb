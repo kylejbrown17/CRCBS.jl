{
 "cells": [
  {
   "cell_type": "code",
   "execution_count": 1,
   "metadata": {},
   "outputs": [
    {
     "name": "stderr",
     "output_type": "stream",
     "text": [
      "┌ Info: Recompiling stale cache file /home/peltzer/.julia/compiled/v1.0/CRCBS/26Ksw.ji for CRCBS [edef75b8-3ac4-11e9-0392-bf149c536ee3]\n",
      "└ @ Base loading.jl:1190\n",
      "┌ Warning: Package CRCBS does not have JLD in its dependencies:\n",
      "│ - If you have CRCBS checked out for development and have\n",
      "│   added JLD as a dependency but haven't updated your primary\n",
      "│   environment's manifest file, try `Pkg.resolve()`.\n",
      "│ - Otherwise you may need to report an issue with CRCBS\n",
      "└ Loading JLD into CRCBS from project dependency, future warnings for CRCBS are suppressed.\n"
     ]
    }
   ],
   "source": [
    "using LightGraphs, MetaGraphs\n",
    "using NearestNeighbors\n",
    "using CRCBS"
   ]
  },
  {
   "cell_type": "code",
   "execution_count": 12,
   "metadata": {},
   "outputs": [
    {
     "name": "stdout",
     "output_type": "stream",
     "text": [
      "Optimal Solution Found! Cost = 246\n"
     ]
    },
    {
     "data": {
      "text/plain": [
       "(Array{LightGraphs.SimpleGraphs.SimpleEdge{Int64},1}[[Edge 125 => 126, Edge 126 => 127, Edge 127 => 158, Edge 158 => 159, Edge 159 => 190, Edge 190 => 221, Edge 221 => 252, Edge 252 => 253, Edge 253 => 254, Edge 254 => 255  …  Edge 349 => 350, Edge 350 => 351, Edge 351 => 352, Edge 352 => 383, Edge 383 => 414, Edge 414 => 415, Edge 415 => 416, Edge 416 => 417, Edge 417 => 418, Edge 418 => 419], [Edge 768 => 767, Edge 767 => 798, Edge 798 => 797, Edge 797 => 796, Edge 796 => 795, Edge 795 => 794, Edge 794 => 793, Edge 793 => 792, Edge 792 => 791, Edge 791 => 790  …  Edge 820 => 819, Edge 819 => 818, Edge 818 => 817, Edge 817 => 816, Edge 816 => 815, Edge 815 => 814, Edge 814 => 813, Edge 813 => 812, Edge 812 => 843, Edge 843 => 874], [Edge 306 => 305, Edge 305 => 304, Edge 304 => 335, Edge 335 => 366, Edge 366 => 365, Edge 365 => 396, Edge 396 => 427, Edge 427 => 458, Edge 458 => 457, Edge 457 => 488  …  Edge 697 => 728, Edge 728 => 759, Edge 759 => 758, Edge 758 => 789, Edge 789 => 820, Edge 820 => 819, Edge 819 => 818, Edge 818 => 849, Edge 849 => 880, Edge 880 => 911], [Edge 943 => 912, Edge 912 => 911, Edge 911 => 880, Edge 880 => 879, Edge 879 => 848, Edge 848 => 817, Edge 817 => 786, Edge 786 => 755, Edge 755 => 724, Edge 724 => 693, Edge 693 => 692, Edge 692 => 691, Edge 691 => 690, Edge 690 => 659, Edge 659 => 628], [Edge 411 => 412, Edge 412 => 413, Edge 413 => 444, Edge 444 => 475, Edge 475 => 476, Edge 476 => 477, Edge 477 => 508, Edge 508 => 539, Edge 539 => 540, Edge 540 => 571  …  Edge 666 => 697, Edge 697 => 728, Edge 728 => 729, Edge 729 => 730, Edge 730 => 761, Edge 761 => 792, Edge 792 => 823, Edge 823 => 824, Edge 824 => 855, Edge 855 => 886], [Edge 883 => 852, Edge 852 => 853, Edge 853 => 822, Edge 822 => 823, Edge 823 => 792, Edge 792 => 761, Edge 761 => 762, Edge 762 => 731, Edge 731 => 732, Edge 732 => 701  …  Edge 671 => 672, Edge 672 => 673, Edge 673 => 674, Edge 674 => 675, Edge 675 => 676, Edge 676 => 677, Edge 677 => 678, Edge 678 => 679, Edge 679 => 680, Edge 680 => 681], [Edge 629 => 598, Edge 598 => 599, Edge 599 => 568, Edge 568 => 569, Edge 569 => 570, Edge 570 => 539, Edge 539 => 540, Edge 540 => 509], [Edge 43 => 44, Edge 44 => 45, Edge 45 => 76, Edge 76 => 107, Edge 107 => 108, Edge 108 => 109, Edge 109 => 140, Edge 140 => 171, Edge 171 => 202, Edge 202 => 233  …  Edge 295 => 296, Edge 296 => 327, Edge 327 => 358, Edge 358 => 389, Edge 389 => 390, Edge 390 => 421, Edge 421 => 422, Edge 422 => 423, Edge 423 => 424, Edge 424 => 455], [Edge 269 => 268, Edge 268 => 299, Edge 299 => 298, Edge 298 => 297, Edge 297 => 296, Edge 296 => 295, Edge 295 => 326, Edge 326 => 325, Edge 325 => 324, Edge 324 => 323  …  Edge 437 => 468, Edge 468 => 499, Edge 499 => 530, Edge 530 => 561, Edge 561 => 592, Edge 592 => 623, Edge 623 => 654, Edge 654 => 685, Edge 685 => 716, Edge 716 => 715], [Edge 801 => 770, Edge 770 => 739, Edge 739 => 708, Edge 708 => 707, Edge 707 => 706, Edge 706 => 675, Edge 675 => 674, Edge 674 => 643, Edge 643 => 612, Edge 612 => 581  …  Edge 232 => 231, Edge 231 => 230, Edge 230 => 229, Edge 229 => 228, Edge 228 => 227, Edge 227 => 226, Edge 226 => 225, Edge 225 => 224, Edge 224 => 223, Edge 223 => 222]], 246, 0.399275233)"
      ]
     },
     "execution_count": 12,
     "metadata": {},
     "output_type": "execute_result"
    }
   ],
   "source": [
    "run_problem(\"Timing_test_12_5\")"
   ]
  },
  {
   "cell_type": "code",
   "execution_count": null,
   "metadata": {},
   "outputs": [],
   "source": []
  }
 ],
 "metadata": {
  "kernelspec": {
   "display_name": "Julia 1.0.3",
   "language": "julia",
   "name": "julia-1.0"
  },
  "language_info": {
   "file_extension": ".jl",
   "mimetype": "application/julia",
   "name": "julia",
   "version": "1.0.3"
  }
 },
 "nbformat": 4,
 "nbformat_minor": 2
}
