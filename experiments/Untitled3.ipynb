{
 "cells": [
  {
   "cell_type": "code",
   "execution_count": 1,
   "metadata": {},
   "outputs": [
    {
     "name": "stderr",
     "output_type": "stream",
     "text": [
      "┌ Info: Precompiling CRCBS [edef75b8-3ac4-11e9-0392-bf149c536ee3]\n",
      "└ @ Base loading.jl:1278\n",
      "┌ Warning: Package CRCBS does not have Random in its dependencies:\n",
      "│ - If you have CRCBS checked out for development and have\n",
      "│   added Random as a dependency but haven't updated your primary\n",
      "│   environment's manifest file, try `Pkg.resolve()`.\n",
      "│ - Otherwise you may need to report an issue with CRCBS\n",
      "└ Loading Random into CRCBS from project dependency, future warnings for CRCBS are suppressed.\n",
      "WARNING: Method definition maximum(AbstractArray{T<:(StaticArrays.StaticArray{Tuple{N}, T, 1} where T where N), 1}) where {T<:(StaticArrays.StaticArray{Tuple{N}, T, 1} where T where N)} in module FixedSizeArraysWillBeRemoved at /home/peltzer/.julia/packages/StaticArrays/VyRz3/src/FixedSizeArrays.jl:86 overwritten in module FixedSizeArrays at /home/peltzer/.julia/packages/GeometryTypes/8vIFC/src/FixedSizeArrays.jl:175.\n",
      "  ** incremental compilation may be fatally broken for this module **\n",
      "\n",
      "WARNING: Method definition isnan(StaticArrays.StaticArray{S, T, N} where N where T where S<:Tuple) in module FixedSizeArraysWillBeRemoved at /home/peltzer/.julia/packages/StaticArrays/VyRz3/src/FixedSizeArrays.jl:62 overwritten in module FixedSizeArrays at /home/peltzer/.julia/packages/GeometryTypes/8vIFC/src/FixedSizeArrays.jl:153.\n",
      "  ** incremental compilation may be fatally broken for this module **\n",
      "\n",
      "WARNING: Method definition extrema(AbstractArray{T<:(StaticArrays.StaticArray{Tuple{N}, T, 1} where T where N), 1}) where {T<:(StaticArrays.StaticArray{Tuple{N}, T, 1} where T where N)} in module FixedSizeArraysWillBeRemoved at /home/peltzer/.julia/packages/StaticArrays/VyRz3/src/FixedSizeArrays.jl:79 overwritten in module FixedSizeArrays at /home/peltzer/.julia/packages/GeometryTypes/8vIFC/src/FixedSizeArrays.jl:168.\n",
      "  ** incremental compilation may be fatally broken for this module **\n",
      "\n",
      "WARNING: Method definition minimum(AbstractArray{T<:(StaticArrays.StaticArray{Tuple{N}, T, 1} where T where N), 1}) where {T<:(StaticArrays.StaticArray{Tuple{N}, T, 1} where T where N)} in module FixedSizeArraysWillBeRemoved at /home/peltzer/.julia/packages/StaticArrays/VyRz3/src/FixedSizeArrays.jl:83 overwritten in module FixedSizeArrays at /home/peltzer/.julia/packages/GeometryTypes/8vIFC/src/FixedSizeArrays.jl:172.\n",
      "  ** incremental compilation may be fatally broken for this module **\n",
      "\n",
      "WARNING: Method definition get_dist_matrix(LightGraphs.AbstractGraph{T} where T) in module CRCBS at /home/peltzer/.julia/dev/CRCBS/src/utils.jl:10 overwritten at /home/peltzer/.julia/dev/CRCBS/src/utils.jl:10.\n",
      "  ** incremental compilation may be fatally broken for this module **\n",
      "\n",
      "┌ Warning: Replacing docs for `CRCBS.get_dist_matrix :: Tuple{LightGraphs.AbstractGraph}` in module `CRCBS`\n",
      "└ @ Base.Docs docs/Docs.jl:227\n",
      "WARNING: Method definition pad_matrix(Array{T, 2}, Tuple{Int64, Int64}, T) where {T} in module CRCBS at /home/peltzer/.julia/dev/CRCBS/src/utils.jl:21 overwritten at /home/peltzer/.julia/dev/CRCBS/src/utils.jl:21.\n",
      "  ** incremental compilation may be fatally broken for this module **\n",
      "\n",
      "┌ Warning: Replacing docs for `CRCBS.pad_matrix :: Union{Tuple{T}, Tuple{Array{T,2},Tuple{Int64,Int64},T}} where T` in module `CRCBS`\n",
      "└ @ Base.Docs docs/Docs.jl:227\n",
      "WARNING: Method definition compute_distance_matrix(Any, Any) in module CRCBS at /home/peltzer/.julia/dev/CRCBS/src/utils.jl:31 overwritten at /home/peltzer/.julia/dev/CRCBS/src/utils.jl:31.\n",
      "  ** incremental compilation may be fatally broken for this module **\n",
      "\n",
      "WARNING: Method definition sample_wo_repl(Any, Any) in module CRCBS at /home/peltzer/.julia/dev/CRCBS/src/utils.jl:134 overwritten at /home/peltzer/.julia/dev/CRCBS/src/utils.jl:134.\n",
      "  ** incremental compilation may be fatally broken for this module **\n",
      "\n"
     ]
    }
   ],
   "source": [
    "using CRCBS"
   ]
  },
  {
   "cell_type": "code",
   "execution_count": 2,
   "metadata": {},
   "outputs": [
    {
     "data": {
      "text/plain": [
       "MAPF{MetaDiGraph{Int64,Float64}}({121, 561} directed Int64 metagraph with Float64 weights defined by :weight (default weight 1.0), [1, 5, 8, 12], [4, 1, 2, 25], 0.5, 0.1, 0.5)"
      ]
     },
     "execution_count": 2,
     "metadata": {},
     "output_type": "execute_result"
    }
   ],
   "source": [
    "using LightGraphs, MetaGraphs\n",
    "G = initialize_full_grid_graph_CT()\n",
    "starts = [1,5,8,12]\n",
    "goals = [4,1,2,25]\n",
    "lambda = 0.5\n",
    "epsilon = 0.1\n",
    "t_delay = 0.5\n",
    "mapf = MAPF(G,starts,goals,lambda,epsilon,t_delay)"
   ]
  },
  {
   "cell_type": "code",
   "execution_count": 3,
   "metadata": {},
   "outputs": [
    {
     "name": "stdout",
     "output_type": "stream",
     "text": [
      "Optimal Solution Found! Cost = 19\n",
      "Time spent on probability count: 0.7867592019999999 \n",
      "Time spent on path finding: 0.406725753 \n"
     ]
    },
    {
     "data": {
      "text/plain": [
       "(Array{LightGraphs.SimpleGraphs.SimpleEdge,1}[[Edge 1 => 2, Edge 2 => 3, Edge 3 => 4], [Edge 5 => 4, Edge 4 => 15, Edge 15 => 14, Edge 14 => 3, Edge 3 => 2, Edge 2 => 1], [Edge 8 => 7, Edge 7 => 6, Edge 6 => 5, Edge 5 => 4, Edge 4 => 4, Edge 4 => 3, Edge 3 => 2], [Edge 12 => 13, Edge 13 => 24, Edge 24 => 25]], 19, 0.7867592019999999, 0.406725753, [16, 1], 8)"
      ]
     },
     "execution_count": 3,
     "metadata": {},
     "output_type": "execute_result"
    }
   ],
   "source": [
    "CTCBS(mapf)"
   ]
  },
  {
   "cell_type": "code",
   "execution_count": null,
   "metadata": {},
   "outputs": [],
   "source": []
  }
 ],
 "metadata": {
  "kernelspec": {
   "display_name": "Julia 1.5.1",
   "language": "julia",
   "name": "julia-1.5"
  },
  "language_info": {
   "file_extension": ".jl",
   "mimetype": "application/julia",
   "name": "julia",
   "version": "1.5.1"
  }
 },
 "nbformat": 4,
 "nbformat_minor": 2
}
