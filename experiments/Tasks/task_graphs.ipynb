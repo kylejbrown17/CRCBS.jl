{
 "cells": [
  {
   "cell_type": "markdown",
   "metadata": {},
   "source": [
    "# Task Graphs Problem Formulation"
   ]
  },
  {
   "cell_type": "code",
   "execution_count": 3,
   "metadata": {},
   "outputs": [],
   "source": [
    "using LightGraphs, MetaGraphs, GraphUtils\n",
    "using Parameters\n",
    "using LinearAlgebra\n",
    "# using Compose\n",
    "# using Colors\n",
    "using TaskGraphs\n",
    "# using GraphPlottingBFS\n",
    "using DataStructures\n",
    "using JuMP, MathOptInterface\n",
    "# using GLPK\n",
    "using Gurobi"
   ]
  },
  {
   "cell_type": "markdown",
   "metadata": {},
   "source": [
    "# Setup Problem"
   ]
  },
  {
   "cell_type": "markdown",
   "metadata": {},
   "source": [
    "***\n",
    "The `project_spec` describes:\n",
    "1. the inputs, outputs and process time of operations that must be performed at manufacturing stations \n",
    "2. the dependencies between those operation (e.g. op 3 requires the outputs of op 1 and op 2"
   ]
  },
  {
   "cell_type": "code",
   "execution_count": 4,
   "metadata": {
    "scrolled": false
   },
   "outputs": [
    {
     "data": {
      "text/plain": [
       "ProjectSpec{SimpleDiGraph{Int64}}\n",
       "  operations: Array{Operation}((20,))\n",
       "  pre_deps: Dict{Int64,Set{Int64}}\n",
       "  post_deps: Dict{Int64,Set{Int64}}\n",
       "  graph: SimpleDiGraph{Int64}\n",
       "  M: Int64 40\n"
      ]
     },
     "execution_count": 4,
     "metadata": {},
     "output_type": "execute_result"
    }
   ],
   "source": [
    "N = 20                  # num robots\n",
    "M = 40                  # num delivery tasks\n",
    "# project_spec = construct_random_project_spec(M;max_parents=3,depth_bias=1.0,Δt_min=0,Δt_max=0)\n",
    "project_spec1 = construct_random_project_spec(Int(M/2);max_parents=3,depth_bias=0.25,Δt_min=0,Δt_max=0)\n",
    "project_spec2 = construct_random_project_spec(Int(M/2);max_parents=3,depth_bias=0.25,Δt_min=0,Δt_max=0)\n",
    "project_spec = combine_project_specs([project_spec1, project_spec2])\n",
    "# plot_graph_bfs(project_spec.graph;mode=nothing,fillcolor=\"orange\")"
   ]
  },
  {
   "cell_type": "markdown",
   "metadata": {},
   "source": [
    "***\n",
    "The `delivery_graph` describes the delivery tasks that must be completed by robots in order to meet preconditions (objects 1 and 2 at station 3) for the prescribed operations"
   ]
  },
  {
   "cell_type": "code",
   "execution_count": 5,
   "metadata": {
    "scrolled": false
   },
   "outputs": [],
   "source": [
    "delivery_graph = construct_delivery_graph(project_spec,M)\n",
    "r₀,s₀,sₜ,pts = initialize_random_2D_task_graph_env(N,M;d=[400,400])\n",
    "Drs, Dss = cached_pickup_and_delivery_distances(pts[r₀],pts[s₀],pts[sₜ])\n",
    "G = delivery_graph.graph\n",
    "# initialize vector of operation times\n",
    "Δt = zeros(nv(G)) # Δt[j] is the wait time for the object j to appear once all inputs have been satisfied\n",
    "for op in project_spec.operations\n",
    "    for id in get_output_ids(op)\n",
    "        Δt[id] = duration(op)\n",
    "    end\n",
    "end\n",
    "# plot_graph_bfs(delivery_graph.graph;mode=nothing)"
   ]
  },
  {
   "cell_type": "code",
   "execution_count": 6,
   "metadata": {},
   "outputs": [],
   "source": [
    "# set initial conditions\n",
    "to0_ = Dict{Int,Float64}()\n",
    "for v in vertices(G)\n",
    "    if is_leaf_node(G,v)\n",
    "        to0_[v] = 0.0\n",
    "    end\n",
    "end\n",
    "tr0_ = Dict{Int,Float64}()\n",
    "for i in 1:N\n",
    "    tr0_[i] = 0.0\n",
    "end"
   ]
  },
  {
   "cell_type": "markdown",
   "metadata": {},
   "source": [
    "# Solve as MILP"
   ]
  },
  {
   "cell_type": "code",
   "execution_count": 8,
   "metadata": {},
   "outputs": [
    {
     "name": "stdout",
     "output_type": "stream",
     "text": [
      "Academic license - for non-commercial use only\n",
      "Academic license - for non-commercial use only\n",
      "solve_time = 0.10075211524963379\n",
      "optimal = true\n"
     ]
    }
   ],
   "source": [
    "model = formulate_JuMP_optimization_problem(G,Drs,Dss,Δt,to0_,tr0_,Gurobi.Optimizer;OutputFlag=0);\n",
    "start_time = time()\n",
    "optimize!(model)\n",
    "solve_time = time() - start_time\n",
    "optimal = (termination_status(model) == MathOptInterface.TerminationStatusCode(1))\n",
    "@show solve_time\n",
    "@show optimal;\n",
    "assignment = Matrix{Int}(value.(model[:x]));"
   ]
  },
  {
   "cell_type": "markdown",
   "metadata": {},
   "source": [
    "## Process solution (compute slack and convert assignment matrix into task sequences)"
   ]
  },
  {
   "cell_type": "code",
   "execution_count": 10,
   "metadata": {},
   "outputs": [],
   "source": [
    "spec = TaskGraphProblemSpec(N,M,G,Drs,Dss,Δt,tr0_,to0_)\n",
    "cache = SearchCache(N,M,to0_,tr0_)\n",
    "for j in 1:M\n",
    "    i = findfirst(assignment[:,j] .== 1)\n",
    "    cache.x[i,j] = 1\n",
    "end\n",
    "cache = process_solution(model,cache,spec); # process_solution_fast(model,cache,spec)"
   ]
  },
  {
   "cell_type": "code",
   "execution_count": 7,
   "metadata": {},
   "outputs": [],
   "source": [
    "# struct TaskSpec\n",
    "#     id          ::Int     # j\n",
    "#     deadline    ::Float64 # tof\n",
    "#     local_slack ::Float64 # local_slack\n",
    "#     global_slack::Float64 # slack\n",
    "# end"
   ]
  },
  {
   "cell_type": "code",
   "execution_count": 13,
   "metadata": {},
   "outputs": [
    {
     "data": {
      "text/plain": [
       "Dict{Int64,Array{Int64,1}} with 20 entries:\n",
       "  18 => [22]\n",
       "  2  => [35]\n",
       "  16 => [27, 40]\n",
       "  11 => [26]\n",
       "  7  => [7]\n",
       "  9  => [33]\n",
       "  10 => [15, 17]\n",
       "  19 => [29, 36]\n",
       "  17 => [3, 18]\n",
       "  8  => [12, 34]\n",
       "  6  => [5]\n",
       "  4  => [31]\n",
       "  3  => [6, 32]\n",
       "  5  => [23, 30]\n",
       "  20 => [28]\n",
       "  13 => [25]\n",
       "  14 => [24, 37]\n",
       "  15 => [10, 39]\n",
       "  12 => [21]\n",
       "  1  => [9]"
      ]
     },
     "execution_count": 13,
     "metadata": {},
     "output_type": "execute_result"
    }
   ],
   "source": [
    "task_sequences = Dict{Int,Vector{Int}}()\n",
    "for i in 1:N\n",
    "    robot_id = i\n",
    "    seq = Vector{Int}()\n",
    "    for j in 1:M\n",
    "        if cache.x[i,j] == 1\n",
    "            push!(seq, j)\n",
    "            i = j + N\n",
    "        end\n",
    "    end\n",
    "    task_sequences[robot_id] = seq\n",
    "end\n",
    "task_sequences"
   ]
  },
  {
   "cell_type": "code",
   "execution_count": null,
   "metadata": {},
   "outputs": [],
   "source": []
  }
 ],
 "metadata": {
  "@webio": {
   "lastCommId": null,
   "lastKernelId": null
  },
  "kernelspec": {
   "display_name": "Julia 1.0.3",
   "language": "julia",
   "name": "julia-1.0"
  },
  "language_info": {
   "file_extension": ".jl",
   "mimetype": "application/julia",
   "name": "julia",
   "version": "1.0.3"
  }
 },
 "nbformat": 4,
 "nbformat_minor": 2
}
