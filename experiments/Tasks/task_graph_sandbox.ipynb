{
 "cells": [
  {
   "cell_type": "markdown",
   "metadata": {},
   "source": [
    "# Task Graphs Problem Formulation"
   ]
  },
  {
   "cell_type": "code",
   "execution_count": null,
   "metadata": {},
   "outputs": [],
   "source": [
    "using LightGraphs, MetaGraphs, GraphUtils\n",
    "using Parameters\n",
    "using LinearAlgebra\n",
    "using Compose\n",
    "using Colors\n",
    "using TaskGraphs\n",
    "using GraphPlottingBFS\n",
    "using DataStructures\n",
    "using JuMP, MathOptInterface\n",
    "# using GLPK\n",
    "using Gurobi"
   ]
  },
  {
   "cell_type": "code",
   "execution_count": null,
   "metadata": {},
   "outputs": [],
   "source": [
    "function render_solution(r₀,s₀,sₜ,assignment;rad=5,width=20,fsize=10)\n",
    "    robot_disks = [circle(p[1],p[2],rad) for p in r₀]\n",
    "    object_disks = [rectangle(p[1]-rad,p[2]-rad,2*rad,2*rad) for p in s₀]\n",
    "    c = cos(π/6)*rad; s = sin(π/6)*rad;\n",
    "    object_disks = [polygon([(p[1]-c,p[2]+s),(p[1]+c,p[2]+s),(p[1],p[2]-rad)]) for p in s₀]\n",
    "    station_disks = [rectangle(p[1]-rad,p[2]-rad,2*rad,2*rad) for p in sₜ]\n",
    "    edge_list = []\n",
    "    for i in 1:N+M\n",
    "        for j in 1:M\n",
    "            if assignment[i,j] == 1\n",
    "                if i <= N\n",
    "                    push!(edge_list, line([tuple(r₀[i]...),tuple(s₀[j]...)]))\n",
    "                else\n",
    "                    push!(edge_list, line([tuple(sₜ[i-N]...),tuple(s₀[j]...)]))\n",
    "                end\n",
    "                push!(edge_list, line([tuple(s₀[j]...),tuple(sₜ[j]...)]))\n",
    "            end\n",
    "        end\n",
    "    end\n",
    "    set_default_graphic_size((width)cm,(width)cm)\n",
    "    compose(context(units=UnitBox(0,0,400,400)),\n",
    "        compose(context(),\n",
    "            [text(p[1],p[2],string(i),hcenter,vcenter) for (i,p) in enumerate(r₀)]...,\n",
    "            stroke(\"black\"),fontsize((fsize)pt), font(\"futura\")),\n",
    "        compose(context(),\n",
    "            [text(p[1],p[2],string(i),hcenter,vcenter) for (i,p) in enumerate(s₀)]...,\n",
    "            stroke(\"black\"),fontsize((fsize)pt), font(\"futura\")),\n",
    "        compose(context(),\n",
    "            [text(p[1],p[2],string(i),hcenter,vcenter) for (i,p) in enumerate(sₜ)]...,\n",
    "            stroke(\"black\"),fontsize((fsize)pt), font(\"futura\")),\n",
    "        compose(context(),robot_disks...,fill(\"cyan\")),\n",
    "        compose(context(),object_disks...,fill(\"orange\")),\n",
    "        compose(context(),station_disks...,fill(\"red\")),\n",
    "        compose(context(),edge_list...,stroke(\"gray\"))\n",
    "    )\n",
    "end"
   ]
  },
  {
   "cell_type": "code",
   "execution_count": 1,
   "metadata": {},
   "outputs": [
    {
     "data": {
      "text/plain": [
       "construct_solution_graph (generic function with 1 method)"
      ]
     },
     "execution_count": 1,
     "metadata": {},
     "output_type": "execute_result"
    }
   ],
   "source": [
    "# solution graph encodes dependencies between robots and tasks too\n",
    "function construct_solution_graph(G,assignment)\n",
    "    M = nv(G)\n",
    "    N = size(assignment,1) - M\n",
    "    solution_graph = deepcopy(G)\n",
    "    for j in vertices(solution_graph)\n",
    "        set_prop!(G,j,:vtype,:task)\n",
    "    end\n",
    "    for i in 1:N+M\n",
    "        add_vertex!(solution_graph)\n",
    "        set_prop!(solution_graph,nv(solution_graph),:vtype,:robot)\n",
    "    end\n",
    "    for i in 1:N+M\n",
    "        for j in 1:M\n",
    "            if assignment[i,j] == 1\n",
    "                add_edge!(solution_graph,M+i,j)\n",
    "                add_edge!(solution_graph,j,M+j+N)\n",
    "            end\n",
    "        end\n",
    "    end\n",
    "    solution_graph\n",
    "end"
   ]
  },
  {
   "cell_type": "code",
   "execution_count": null,
   "metadata": {},
   "outputs": [],
   "source": [
    "function check_causality(assignment::Matrix)\n",
    "    M = size(assignment,2)\n",
    "    N = size(assignment,1) - M\n",
    "    for i in 1:M\n",
    "        for j in 1:M\n",
    "            if assignment[i+N,j] == 1\n",
    "                @assert(sum(assignment[:,j]) == 1)\n",
    "            end\n",
    "        end\n",
    "    end\n",
    "    return true\n",
    "end"
   ]
  },
  {
   "cell_type": "markdown",
   "metadata": {},
   "source": [
    "# Setup Problem"
   ]
  },
  {
   "cell_type": "markdown",
   "metadata": {},
   "source": [
    "***\n",
    "The `project_spec` describes:\n",
    "1. the inputs, outputs and process time of operations that must be performed at manufacturing stations \n",
    "2. the dependencies between those operation (e.g. op 3 requires the outputs of op 1 and op 2"
   ]
  },
  {
   "cell_type": "code",
   "execution_count": null,
   "metadata": {
    "scrolled": false
   },
   "outputs": [],
   "source": [
    "N = 2                  # num robots\n",
    "M = 4                  # num delivery tasks\n",
    "# project_spec = construct_random_project_spec(M;max_parents=3,depth_bias=1.0,Δt_min=0,Δt_max=0)\n",
    "project_spec1 = construct_random_project_spec(Int(M/2);max_parents=3,depth_bias=0.25,Δt_min=0,Δt_max=0)\n",
    "project_spec2 = construct_random_project_spec(Int(M/2);max_parents=3,depth_bias=0.25,Δt_min=0,Δt_max=0)\n",
    "project_spec = combine_project_specs([project_spec1, project_spec2])\n",
    "plot_graph_bfs(project_spec.graph;mode=nothing,fillcolor=\"orange\")"
   ]
  },
  {
   "cell_type": "markdown",
   "metadata": {},
   "source": [
    "***\n",
    "The `delivery_graph` describes the delivery tasks that must be completed by robots in order to meet preconditions (objects 1 and 2 at station 3) for the prescribed operations"
   ]
  },
  {
   "cell_type": "code",
   "execution_count": null,
   "metadata": {
    "scrolled": false
   },
   "outputs": [],
   "source": [
    "delivery_graph = construct_delivery_graph(project_spec,M)\n",
    "r₀,s₀,sₜ,pts = initialize_random_2D_task_graph_env(N,M;d=[400,400])\n",
    "Drs, Dss = cached_pickup_and_delivery_distances(pts[r₀],pts[s₀],pts[sₜ])\n",
    "G = delivery_graph.graph\n",
    "# initialize vector of operation times\n",
    "Δt = zeros(nv(G)) # Δt[j] is the wait time for the object j to appear once all inputs have been satisfied\n",
    "for op in project_spec.operations\n",
    "    for id in get_output_ids(op)\n",
    "        Δt[id] = duration(op)\n",
    "    end\n",
    "end\n",
    "plot_graph_bfs(delivery_graph.graph;mode=nothing)"
   ]
  },
  {
   "cell_type": "code",
   "execution_count": null,
   "metadata": {},
   "outputs": [],
   "source": [
    "# set initial conditions\n",
    "to0_ = Dict{Int,Float64}()\n",
    "for v in vertices(G)\n",
    "    if is_leaf_node(G,v)\n",
    "        to0_[v] = 0.0\n",
    "    end\n",
    "end\n",
    "tr0_ = Dict{Int,Float64}()\n",
    "for i in 1:N\n",
    "    tr0_[i] = 0.0\n",
    "end"
   ]
  },
  {
   "cell_type": "markdown",
   "metadata": {},
   "source": [
    "# Solve as MILP"
   ]
  },
  {
   "cell_type": "code",
   "execution_count": null,
   "metadata": {},
   "outputs": [],
   "source": [
    "model = formulate_JuMP_optimization_problem(G,Drs,Dss,Δt,to0_,tr0_,Gurobi.Optimizer;OutputFlag=0);\n",
    "start_time = time()\n",
    "optimize!(model)\n",
    "solve_time = time() - start_time\n",
    "optimal = (termination_status(model) == MathOptInterface.TerminationStatusCode(1))\n",
    "@show solve_time\n",
    "@show optimal;\n",
    "assignment = Matrix{Int}(value.(model[:x]));"
   ]
  },
  {
   "cell_type": "code",
   "execution_count": null,
   "metadata": {},
   "outputs": [],
   "source": [
    "spec = TaskGraphProblemSpec(N,M,G,Drs,Dss,Δt,tr0_,to0_)\n",
    "cache = SearchCache(N,M,to0_,tr0_)\n",
    "for j in 1:M\n",
    "    i = findfirst(assignment[:,j] .== 1)\n",
    "    cache.x[i,j] = 1\n",
    "end\n",
    "cache = process_solution(model,cache,spec);"
   ]
  },
  {
   "cell_type": "code",
   "execution_count": null,
   "metadata": {},
   "outputs": [],
   "source": [
    "check_causality(assignment)"
   ]
  },
  {
   "cell_type": "code",
   "execution_count": null,
   "metadata": {},
   "outputs": [],
   "source": [
    "render_solution(r₀,s₀,sₜ,assignment;rad=10,width=10,fsize=10)"
   ]
  },
  {
   "cell_type": "markdown",
   "metadata": {},
   "source": [
    "# Sandbox"
   ]
  },
  {
   "cell_type": "code",
   "execution_count": null,
   "metadata": {},
   "outputs": [],
   "source": [
    "# Using breadth first search for recomputing a solution. THIS DOES NOT WORK (because the graph is not guaranteed\n",
    "# to have tree structure, but it would work for a sorting procedure that traverses all nodes in topological order\n",
    "struct BackupGraph{G,C,S}\n",
    "    graph::G\n",
    "    cache::C\n",
    "    spec::S\n",
    "end\n",
    "LightGraphs.inneighbors(BG::BackupGraph,v) = inneighbors(BG.graph,v)\n",
    "function GraphPlottingBFS.leaf_case!(BG::BackupGraph,j,s::BFS_state)\n",
    "    if get_prop(solution_graph,j,:vtype) == :task\n",
    "        @show i = findfirst(cache.x[:,j] .== 1) # robot id\n",
    "        @show tro0 = BG.cache.tr0[i] + BG.spec.Drs[i,j] # robot arrival time\n",
    "        @show BG.cache.tof[j] = max(BG.cache.to0[j], tro0) + BG.spec.Dss[j,j] # task completion time\n",
    "        @show BG.cache.tr0[j+N] = BG.cache.tof[j] # new robot availability time\n",
    "    end\n",
    "    s = BFS_state(d=s.d,w=s.w+1,d_max=max(s.d_max,s.d))\n",
    "end\n",
    "function GraphPlottingBFS.initial_branch_case!(BG::BackupGraph,j,s::BFS_state)\n",
    "    if get_prop(solution_graph,j,:vtype) == :task\n",
    "    end\n",
    "end\n",
    "function GraphPlottingBFS.backup!(BG::BackupGraph,j,j2,s::BFS_state)\n",
    "    if get_prop(solution_graph,j,:vtype) == :task\n",
    "        @show BG.cache.to0[j] = max(cache.to0[j], cache.tof[j2] + Δt[j])\n",
    "        @show i = findfirst(cache.x[:,j] .== 1) # robot id\n",
    "        if BG.cache.tr0[i] < Inf\n",
    "            @show tro0 = BG.cache.tr0[i] + BG.spec.Drs[i,j] # robot arrival time\n",
    "            @show BG.cache.tof[j] = max(BG.cache.to0[j], tro0) + BG.spec.Dss[j,j] # task completion time\n",
    "            @show BG.cache.tr0[j+N] = BG.cache.tof[j]\n",
    "        end\n",
    "    end\n",
    "end"
   ]
  },
  {
   "cell_type": "code",
   "execution_count": null,
   "metadata": {},
   "outputs": [],
   "source": [
    "cache = SearchCache(N,M,to0_,tr0_);\n",
    "for j in 1:M\n",
    "    i = findfirst(assignment[:,j] .== 1)\n",
    "    cache.x[i,j] = 1\n",
    "end\n",
    "spec = TaskGraphProblemSpec(N,M,G,Drs,Dss,Δt,tr0_,to0_)\n",
    "BG = BackupGraph(G,cache,spec);\n",
    "for j in get_all_root_nodes(G)\n",
    "    bfs!(BG,j,BFS_state())\n",
    "end\n",
    "BG.cache.tof"
   ]
  },
  {
   "cell_type": "markdown",
   "metadata": {},
   "source": [
    "# Solve assignment problem with Dynamic Programming\n",
    "\n",
    "Two possible search paradigms:\n",
    "1. Start with the lower bound infeasible solution, then add constraints via branch-and-bound until the first feasible (and therefore the optimal) solution is returned. One major issue with this approach is that it may take a VERY long time to get through all of the low-cost but infeasible solutions.\n",
    "2. Start with a greedy solution and improve it until it can't be improved anymore. This paradigm comes with two questions: (a) How to know that a solution can't be improved? (b) How to guarantee global optimality (e.g. how to start in the right \"basin of attraction\")?\n",
    "\n",
    "I think it would be good to start tracking the slack associated with dummy robots as well"
   ]
  },
  {
   "cell_type": "code",
   "execution_count": null,
   "metadata": {},
   "outputs": [],
   "source": [
    "start_time = time()\n",
    "cache, FEASIBLE = solve_task_graphs_problem(G,Drs,Dss,Δt,to0_,tr0_;mode=1,MAX_ITERS=100000)\n",
    "solve_time = time() - start_time\n",
    "\n",
    "@show solve_time \n",
    "@show cache.tof\n",
    "@show cache.slack\n",
    "@show cache.local_slack;"
   ]
  },
  {
   "cell_type": "markdown",
   "metadata": {},
   "source": [
    "# MATROID SEARCH!!!!!!!\n",
    "\n",
    "1. First lesson learned: the dimensionality of the matroid table scales exponentially with problem size. I will have to use a sparse lookup table."
   ]
  },
  {
   "cell_type": "code",
   "execution_count": null,
   "metadata": {},
   "outputs": [],
   "source": [
    "function get_matroid_table_dimension(n::Int)\n",
    "    N = 2^n\n",
    "end"
   ]
  },
  {
   "cell_type": "code",
   "execution_count": null,
   "metadata": {},
   "outputs": [],
   "source": [
    "struct AssignmentSeries\n",
    "    robot::Int\n",
    "    tasks::Vector{Int}\n",
    "end\n",
    "struct PartialAssignment\n",
    "    assignments::Set{AssignmentSeries}\n",
    "end\n",
    "struct SearchState\n",
    "    robot_x::Vector{Int} # indices giving robot locations\n",
    "    robot_t::Vector{Float64} # indices giving robot availability times\n",
    "    assignments::Vector{AssignmentSeries}\n",
    "end\n",
    "struct AssignmentMatroid\n",
    "    robots::Set{Int}\n",
    "    tasks::Set{Int}\n",
    "end\n",
    "const SearchTable = Dict{Int,Vector{AssignmentSeries}}\n",
    "function SearchTable(N::Int)\n",
    "    SearchTable( i => Vector{AssignmentSeries}() for i in 1:N)\n",
    "end\n",
    "const AssignmentQueues = Dict{Int,PriorityQueue{AssignmentSeries,Float64}}\n",
    "function AssignmentQueues(M::Int)\n",
    "    AssignmentQueues(j=>PriorityQueue{AssignmentSeries,Float64}() for j in 1:M)\n",
    "end"
   ]
  },
  {
   "cell_type": "code",
   "execution_count": null,
   "metadata": {},
   "outputs": [],
   "source": [
    "# assignment_queues = AssignmentQueues(M)\n",
    "# for j in 1:M\n",
    "#     q = assignment_queues[j]\n",
    "#     if is_leaf_node(G,j)\n",
    "#         for i in 1:N\n",
    "#             assignment = AssignmentSeries(i,[j])\n",
    "#             tof = max(to0_[j], tr0_[i] + Drs[i,j]) + Dss[j,j]\n",
    "#             enqueue!(q,assignment=>tof)\n",
    "#         end\n",
    "#     end\n",
    "# end"
   ]
  },
  {
   "cell_type": "code",
   "execution_count": null,
   "metadata": {},
   "outputs": [],
   "source": [
    "# n = 4; m = 7\n",
    "# N = get_matroid_table_dimension(n)\n",
    "# M = get_matroid_table_dimension(m)\n",
    "# search_table = SearchTable(n)"
   ]
  },
  {
   "cell_type": "markdown",
   "metadata": {},
   "source": [
    "# Sandbox"
   ]
  },
  {
   "cell_type": "code",
   "execution_count": null,
   "metadata": {},
   "outputs": [],
   "source": [
    "bfs_traversal = get_bfs_node_traversal(G);\n",
    "cache = SearchCache(N,M,to0_,tr0_)\n",
    "for j in 1:M\n",
    "    upstream_jobs = [j, map(e->e.dst,collect(edges(bfs_tree(G,j;dir=:in))))...]\n",
    "    for v in upstream_jobs\n",
    "        add_constraint!(cache.FT, j+N, v)\n",
    "    end\n",
    "end\n",
    "spec = TaskGraphProblemSpec(N,M,Drs,Dss,tr0_,to0_)\n",
    "\n",
    "cache = solve_task_graph(cache,spec,bfs_traversal)"
   ]
  },
  {
   "cell_type": "code",
   "execution_count": null,
   "metadata": {},
   "outputs": [],
   "source": [
    "stacked_vals = [cache.tr0;cache.to0;cache.tof;cache.slack]\n",
    "for j in 1:M\n",
    "    cache = deepcopy(cache)\n",
    "    for i in 1:N+M\n",
    "        if cache.x[i] == 1\n",
    "            add_constraint!(cache.FT, i, j)\n",
    "        end\n",
    "    end\n",
    "    cache = solve_task_graph(cache,spec,bfs_traversal)\n",
    "    stacked_vals = hcat(stacked_vals, [cache.tr0;cache.to0;cache.tof;cache.slack])\n",
    "end\n",
    "stacked_vals"
   ]
  },
  {
   "cell_type": "code",
   "execution_count": null,
   "metadata": {},
   "outputs": [],
   "source": [
    "cache.FT.arr"
   ]
  },
  {
   "cell_type": "code",
   "execution_count": null,
   "metadata": {},
   "outputs": [],
   "source": [
    "j = 1\n",
    "idxs = findall(cache.x[j,:] .== 1)\n",
    "ordering = (cache.slack .* cache.x[j,:])[idxs]\n",
    "sorted_idxs = sort(idxs, by=i->(cache.slack .* cache.x[j,:])[i])\n",
    "@show idxs\n",
    "@show ordering\n",
    "@show sorted_idxs;"
   ]
  },
  {
   "cell_type": "code",
   "execution_count": null,
   "metadata": {},
   "outputs": [],
   "source": [
    "cr_path = get_critical_path(bfs_traversal,slack)\n",
    "@show slack\n",
    "@show local_slack\n",
    "@show cr_path\n",
    "plot_graph_bfs(delivery_graph.graph;mode=nothing)"
   ]
  },
  {
   "cell_type": "markdown",
   "metadata": {},
   "source": [
    "# Comparisons"
   ]
  },
  {
   "cell_type": "code",
   "execution_count": null,
   "metadata": {},
   "outputs": [],
   "source": [
    "N = 5                  # num robots\n",
    "M = 10                 # num delivery tasks\n",
    "r₀,s₀,sₜ = initialize_random_2D_task_graph_env(N,M;d=[40,40])\n",
    "Drs, Dss = cached_pickup_and_delivery_distances(r₀,s₀,sₜ)\n",
    "project_spec = construct_random_project_spec(M;max_parents=3,depth_bias=1.0,Δt_min=0,Δt_max=0)\n",
    "\n",
    "delivery_graph = construct_delivery_graph(project_spec,M)\n",
    "G = delivery_graph.graph\n",
    "# initialize vector of operation times\n",
    "Δt = zeros(nv(G)) # Δt[j] is the wait time for the object j to appear once all inputs have been satisfied\n",
    "for op in project_spec.operations\n",
    "    for id in get_output_ids(op)\n",
    "        Δt[id] = duration(op)\n",
    "    end\n",
    "end\n",
    "\n",
    "# set initial conditions\n",
    "to0_ = Dict{Int,Float64}()\n",
    "for v in vertices(G)\n",
    "    if is_leaf_node(G,v)\n",
    "        to0_[v] = 0.0\n",
    "    end\n",
    "end\n",
    "tr0_ = Dict{Int,Float64}()\n",
    "for i in 1:N\n",
    "    tr0_[i] = 0.0\n",
    "end\n",
    "# plot_graph_bfs(delivery_graph.graph;mode=nothing)"
   ]
  },
  {
   "cell_type": "markdown",
   "metadata": {},
   "source": [
    "# Sandbox"
   ]
  },
  {
   "cell_type": "code",
   "execution_count": null,
   "metadata": {},
   "outputs": [],
   "source": [
    "# @show backward_slack;\n",
    "########### Compute Greedy Solution ###########\n",
    "# sorted lists of assignment time\n",
    "A = Vector{Vector{Int}}() #[collect(1:N+M) for j in 1:M])\n",
    "D_ = Drs .+ tr0_low\n",
    "for j in 1:M\n",
    "    push!(A, sortperm(Drs[:,j]+tr0_low)) # sort robot ids by lower bound on arrival time\n",
    "    D_[:,j] = D_[:,j] .- Drs[A[j][1],j]\n",
    "end\n",
    "# ### Try to find an optimal assignment working forward\n",
    "# Push open nodes into a priority queue, where priority is defined by slack\n",
    "p = PriorityQueue{Int,Float64}()\n",
    "for v in vertices(G)\n",
    "    if is_leaf_node(G,v)\n",
    "        enqueue!(p,v=>slack[v])\n",
    "    end\n",
    "end\n",
    "# Iteratively compute assignments by moving through the graph from the bottom up\n",
    "x = Dict{Int,Int}() # j=>i maps task j => robot i\n",
    "assigned = Set{Int}()\n",
    "# While an optimal solution has not yet been returned\n",
    "while length(p) > 0\n",
    "    # Pop an open node from the queue and make an assignment (greedy vs. selfless...)\n",
    "    j, dt = dequeue_pair!(p)\n",
    "    # find the best robot for the job\n",
    "    for i in A[j]\n",
    "        \n",
    "    end\n",
    "    a = A[j]\n",
    "    d = Int.(round.(D_[:,j][A[j]]))\n",
    "    @show j\n",
    "    @show a\n",
    "    @show d\n",
    "end\n",
    "#     1. If the greedy assignment is already taken and the next assignment maintains non-negative slack, continue to the next assignment.\n",
    "#     2. If the greedy assignment maintains the current critical path, keep it\n",
    "#     3. If the greedy assignment ... \n",
    "#     4. return to 2"
   ]
  },
  {
   "cell_type": "code",
   "execution_count": null,
   "metadata": {},
   "outputs": [],
   "source": [
    "bfs_traversal = bfs_tree(G,M;dir=:in)\n",
    "ids = map(e->e.dst, collect(edges(bfs_traversal)))\n",
    "p = PriorityQueue{Int,Float64}()\n",
    "for v in vertices(G)\n",
    "    if is_leaf_node(G,v)\n",
    "        enqueue!(p,v=>slack[v])\n",
    "    end\n",
    "end"
   ]
  },
  {
   "cell_type": "markdown",
   "metadata": {},
   "source": [
    "# Next steps:\n",
    "\n",
    "- How to solve the planning problem? I have a vague idea for a\n",
    "  forward-backward BFS algorithm with pruning.\n",
    "- It may be helpful to compute the slack in both directions\n",
    "- When lots of projects are happening in the factory at once, this will\n",
    "  converge to a sort of steady-state thing. How to formulate this on a\n",
    "  receding horizon basis? Initial thoughts: problem statement is defined\n",
    "  by available time of robots (0 for robots with no payload, scheduled\n",
    "  dropoff time for robots with a payload), graph(s), distance matrix and\n",
    "  process time vector $\\Delta t$. Also, the right approach for massive \n",
    "  scaling may be a prioritized planning approach."
   ]
  },
  {
   "cell_type": "code",
   "execution_count": null,
   "metadata": {},
   "outputs": [],
   "source": [
    "assignments = Dict{Int,Int}() # j=>i maps task j => robot i\n",
    "while length(p) > 0\n",
    "    j, dt = dequeue_pair!(p)\n",
    "end"
   ]
  }
 ],
 "metadata": {
  "kernelspec": {
   "display_name": "Julia 1.0.3",
   "language": "julia",
   "name": "julia-1.0"
  },
  "language_info": {
   "file_extension": ".jl",
   "mimetype": "application/julia",
   "name": "julia",
   "version": "1.0.3"
  }
 },
 "nbformat": 4,
 "nbformat_minor": 2
}
