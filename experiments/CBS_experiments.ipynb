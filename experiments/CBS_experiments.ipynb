{
 "cells": [
  {
   "cell_type": "code",
   "execution_count": null,
   "metadata": {},
   "outputs": [],
   "source": [
    "using Compose\n",
    "using Colors"
   ]
  },
  {
   "cell_type": "code",
   "execution_count": null,
   "metadata": {},
   "outputs": [],
   "source": [
    "function render_grid_graph(G,paths::Vector{Vector{Int}}=Vector{Vector{Int}}();\n",
    "        width=10,r=0.4,color=\"gray\",pathcolors=[\"lime\",\"red\",\"blue\",\"violet\",\"orange\",\"cyan\"])\n",
    "    # vertices\n",
    "    x = Vector{Float64}()\n",
    "    y = Vector{Float64}()\n",
    "    for v in vertices(G)\n",
    "        push!(x,get_prop(G,v,:x))\n",
    "        push!(y,get_prop(G,v,:y))\n",
    "    end\n",
    "    x₀ = minimum(x) - r\n",
    "    y₀ = minimum(y) - r\n",
    "    Δx = maximum(x) + r - x₀\n",
    "    Δy = maximum(y) + r - y₀\n",
    "    # graphic size\n",
    "    set_default_graphic_size((width)cm,(width*Δy/Δx)cm)\n",
    "    # edges\n",
    "    edge_list = []\n",
    "    for e in edges(G)\n",
    "        push!(edge_list, [(x[e.src],y[e.src]),(x[e.dst],y[e.dst])])\n",
    "    end\n",
    "    # paths\n",
    "    rendered_paths = []\n",
    "    starts = []\n",
    "    goals = []\n",
    "    while length(pathcolors) < length(paths)\n",
    "        pathcolors = [pathcolors..., pathcolors...]\n",
    "    end\n",
    "    for (p,color) in zip(paths,pathcolors)\n",
    "        rpath = []\n",
    "        start = circle(x[p[1]],y[p[1]],r*0.8)\n",
    "        goal = circle(x[p[end]],y[p[end]],r*0.8)\n",
    "        for i in 1:length(p)-1\n",
    "            push!(rpath, [(x[p[i]],y[p[i]]),(x[p[i+1]],y[p[i+1]])])\n",
    "        end\n",
    "        push!(rendered_paths,\n",
    "            compose(context(),\n",
    "                (context(),start,fill(color)),\n",
    "                (context(),goal,fill(color)),\n",
    "                (context(),line(rpath),stroke(color),linewidth(2pt))\n",
    "            )\n",
    "        )\n",
    "    end\n",
    "    \n",
    "    compose(context(units=UnitBox(x₀, y₀, Δx, Δy)),\n",
    "        rendered_paths...,\n",
    "        compose(context(),circle(x,y,r*ones(length(x))),fill(color)),\n",
    "        compose(context(),line(edge_list),stroke(color),linewidth(4pt))\n",
    "    )\n",
    "end"
   ]
  },
  {
   "cell_type": "code",
   "execution_count": null,
   "metadata": {},
   "outputs": [],
   "source": [
    "using LightGraphs, MetaGraphs, GraphUtils\n",
    "using NearestNeighbors\n",
    "using CRCBS"
   ]
  },
  {
   "cell_type": "code",
   "execution_count": null,
   "metadata": {},
   "outputs": [],
   "source": [
    "solver = CBS_Solver()\n",
    "G = initialize_regular_grid_graph(;n_obstacles_x=1,n_obstacles_y=1)\n",
    "mapf = initialize_mapf(\n",
    "    CBS.LowLevelEnv(graph=G),\n",
    "    [CBS.State(1,0),CBS.State(2,0)],\n",
    "    [CBS.State(vtx=6),CBS.State(vtx=5)]\n",
    ")\n",
    "node = CBS.initialize_root_node(mapf)\n",
    "solution, cost = CRCBS.solve!(solver,mapf);"
   ]
  },
  {
   "cell_type": "code",
   "execution_count": null,
   "metadata": {},
   "outputs": [],
   "source": [
    "solution, cost = CRCBS.solve!(MetaAgentCBS_Solver(0),mapf);"
   ]
  },
  {
   "cell_type": "code",
   "execution_count": null,
   "metadata": {},
   "outputs": [],
   "source": [
    "render_grid_graph(G,CBS.convert_to_vertex_lists(solution);width=12)"
   ]
  },
  {
   "cell_type": "markdown",
   "metadata": {},
   "source": [
    "# Multi-Stage CBS"
   ]
  },
  {
   "cell_type": "code",
   "execution_count": null,
   "metadata": {},
   "outputs": [],
   "source": [
    "# solver = MultiStageCBS.CBS_Solver()\n",
    "solver = CBS_Solver()\n",
    "G = initialize_regular_grid_graph(;n_obstacles_x=2,n_obstacles_y=2,obs_offset = [2;2])\n",
    "mapf = initialize_mapf(\n",
    "    MultiStageCBS.LowLevelEnv(graph=G),\n",
    "    [   MultiStageCBS.State(vtx=1,stage=1,t=0),\n",
    "        MultiStageCBS.State(vtx=2,stage=1,t=0),\n",
    "        MultiStageCBS.State(vtx=26,stage=1,t=10),\n",
    "        MultiStageCBS.State(vtx=167,stage=1,t=10),\n",
    "        MultiStageCBS.State(vtx=41,stage=1,t=4)    ],\n",
    "    [   [MultiStageCBS.State(vtx=6),MultiStageCBS.State(vtx=171)],\n",
    "        [MultiStageCBS.State(vtx=5),MultiStageCBS.State(vtx=90)],\n",
    "        [MultiStageCBS.State(vtx=100),MultiStageCBS.State(vtx=175)],\n",
    "        [MultiStageCBS.State(vtx=85)],\n",
    "        [MultiStageCBS.State(vtx=91),MultiStageCBS.State(vtx=1)]    ]\n",
    ")\n",
    "\n",
    "solution, cost = CRCBS.solve!(solver,mapf);"
   ]
  },
  {
   "cell_type": "code",
   "execution_count": null,
   "metadata": {},
   "outputs": [],
   "source": [
    "# j = 1\n",
    "# goal_vtxs = [s.vtx for s in mapf.goals[j]]\n",
    "# path_vtxs = MultiStageCBS.convert_to_vertex_lists(solution[j])\n",
    "# @show goal_vtxs;\n",
    "# @show path_vtxs;"
   ]
  },
  {
   "cell_type": "code",
   "execution_count": null,
   "metadata": {
    "scrolled": false
   },
   "outputs": [],
   "source": [
    "render_grid_graph(G,MultiStageCBS.convert_to_vertex_lists(solution);width=12)"
   ]
  },
  {
   "cell_type": "markdown",
   "metadata": {},
   "source": [
    "# Meta-Agent CBS"
   ]
  },
  {
   "cell_type": "code",
   "execution_count": null,
   "metadata": {},
   "outputs": [],
   "source": [
    "# solver = CBS.CBSsolver()\n",
    "solver = MetaAgentCBS_Solver(1)\n",
    "G = initialize_regular_grid_graph(;n_obstacles_x=1,n_obstacles_y=1)\n",
    "mapf = initialize_mapf(\n",
    "    CBS.LowLevelEnv(graph=G),\n",
    "    [CBS.State(1,0),CBS.State(2,0)],\n",
    "    [CBS.State(vtx=6),CBS.State(vtx=5)]\n",
    ")\n",
    "\n",
    "solution, cost = CRCBS.solve!(solver,mapf);"
   ]
  },
  {
   "cell_type": "code",
   "execution_count": null,
   "metadata": {},
   "outputs": [],
   "source": [
    "render_grid_graph(G,CBS.convert_to_vertex_lists(solution);width=12)"
   ]
  },
  {
   "cell_type": "markdown",
   "metadata": {},
   "source": [
    "# Solve a Task Graphs Assignment and Routing Problem\n",
    "Use the Gurobi MILP solver to get an assignment, then compute the paths using CBS"
   ]
  },
  {
   "cell_type": "code",
   "execution_count": null,
   "metadata": {},
   "outputs": [],
   "source": [
    "# Task Graphs for scheduling real task sequences!\n",
    "using TaskGraphs\n",
    "using GraphPlottingBFS\n",
    "using DataStructures\n",
    "using JuMP, MathOptInterface\n",
    "# using GLPK\n",
    "using Gurobi"
   ]
  },
  {
   "cell_type": "code",
   "execution_count": null,
   "metadata": {},
   "outputs": [],
   "source": [
    "N = 4                  # num robots\n",
    "M = 8                  # num delivery tasks\n",
    "# project_spec = construct_random_project_spec(M;max_parents=3,depth_bias=1.0,Δt_min=0,Δt_max=0)\n",
    "project_spec = construct_random_project_spec(M;max_parents=3,depth_bias=0.25,Δt_min=0,Δt_max=0)\n",
    "delivery_graph = construct_delivery_graph(project_spec,M)\n",
    "r₀,s₀,sₜ,vtxs = initialize_random_2D_task_graph_env(N,M;vtxs=[[get_prop(G,v,:x),get_prop(G,v,:y)] for v in vertices(G)])\n",
    "Drs, Dss = cached_pickup_and_delivery_distances(r₀,s₀,sₜ,(x1,x2)->gdistances(G,x1)[x2])\n",
    "# initialize vector of operation times\n",
    "DG = delivery_graph.graph\n",
    "Δt = zeros(nv(DG)) # Δt[j] = wait time for object j to appear once inputs are satisfied\n",
    "for op in project_spec.operations\n",
    "    for id in get_output_ids(op)\n",
    "        Δt[id] = duration(op)\n",
    "    end\n",
    "end\n",
    "# set initial conditions\n",
    "to0_ = Dict{Int,Float64}()\n",
    "for v in vertices(DG)\n",
    "    if is_leaf_node(DG,v)\n",
    "        to0_[v] = 0.0\n",
    "    end\n",
    "end\n",
    "tr0_ = Dict{Int,Float64}()\n",
    "for i in 1:N\n",
    "    tr0_[i] = 0.0\n",
    "end"
   ]
  },
  {
   "cell_type": "code",
   "execution_count": null,
   "metadata": {},
   "outputs": [],
   "source": [
    "plot_graph_bfs(project_spec.graph;mode=nothing,fillcolor=\"orange\")"
   ]
  },
  {
   "cell_type": "code",
   "execution_count": null,
   "metadata": {},
   "outputs": [],
   "source": [
    "plot_graph_bfs(delivery_graph.graph;mode=nothing)"
   ]
  },
  {
   "cell_type": "code",
   "execution_count": null,
   "metadata": {},
   "outputs": [],
   "source": [
    "# solve task assignment problem\n",
    "model = formulate_JuMP_optimization_problem(DG,Drs,Dss,Δt,to0_,tr0_,Gurobi.Optimizer;OutputFlag=0);\n",
    "start_time = time()\n",
    "optimize!(model)\n",
    "solve_time = time() - start_time\n",
    "optimal = (termination_status(model) == MathOptInterface.TerminationStatusCode(1))\n",
    "@show solve_time\n",
    "@show optimal;\n",
    "assignment_matrix = Matrix{Int}(value.(model[:x]));\n",
    "# process solution\n",
    "spec = TaskGraphProblemSpec(N,M,DG,Drs,Dss,Δt,tr0_,to0_)\n",
    "cache = SearchCache(N,M,to0_,tr0_)\n",
    "for j in 1:M\n",
    "    i = findfirst(assignment_matrix[:,j] .== 1)\n",
    "    cache.x[i,j] = 1\n",
    "end\n",
    "cache = process_solution(model,cache,spec);\n",
    "# construct task sequences\n",
    "task_sequences = Dict{Int,Vector{Int}}()\n",
    "for i in 1:N\n",
    "    robot_id = i\n",
    "    seq = Vector{Int}()\n",
    "    for j in 1:M\n",
    "        if cache.x[i,j] == 1\n",
    "            push!(seq, j)\n",
    "            i = j + N\n",
    "        end\n",
    "    end\n",
    "    task_sequences[robot_id] = seq\n",
    "end"
   ]
  },
  {
   "cell_type": "code",
   "execution_count": null,
   "metadata": {},
   "outputs": [],
   "source": [
    "start_states = Vector{MultiStageCBS.State}()\n",
    "goal_sequences = Vector{Vector{MultiStageCBS.State}}()\n",
    "for i in 1:N\n",
    "    push!(start_states, MultiStageCBS.State(vtx=r₀[i], stage=1, t=Int(cache.tr0[i])))\n",
    "    goals = Vector{MultiStageCBS.State}()\n",
    "    for j in task_sequences[i]\n",
    "        push!(goals, MultiStageCBS.State(vtx=s₀[j])) # object start location \n",
    "        push!(goals, MultiStageCBS.State(vtx=sₜ[j])) # object destination\n",
    "    end\n",
    "    push!(goal_sequences, goals)\n",
    "end\n",
    "mapf = MultiMAPF(G, start_states, goal_sequences)\n",
    "# node = initialize_root_node(mapf)\n",
    "solution, cost = CRCBS.solve!(solver,mapf);"
   ]
  },
  {
   "cell_type": "code",
   "execution_count": null,
   "metadata": {},
   "outputs": [],
   "source": [
    "render_grid_graph(G,MultiStageCBS.convert_to_vertex_lists(solution);width=12)"
   ]
  },
  {
   "cell_type": "markdown",
   "metadata": {},
   "source": [
    "# Priority-based CBS\n",
    "In this situation we care about optimizing the makespan rather than the sum of individual travel times. The structure of the task dependency tree and the assignments means that some deliveries are \"on the critical path\", others are close to the critical path, and others have lots of \"wiggle room\"."
   ]
  },
  {
   "cell_type": "code",
   "execution_count": null,
   "metadata": {},
   "outputs": [],
   "source": []
  }
 ],
 "metadata": {
  "kernelspec": {
   "display_name": "Julia 1.0.2",
   "language": "julia",
   "name": "julia-1.0"
  },
  "language_info": {
   "file_extension": ".jl",
   "mimetype": "application/julia",
   "name": "julia",
   "version": "1.0.2"
  }
 },
 "nbformat": 4,
 "nbformat_minor": 2
}
