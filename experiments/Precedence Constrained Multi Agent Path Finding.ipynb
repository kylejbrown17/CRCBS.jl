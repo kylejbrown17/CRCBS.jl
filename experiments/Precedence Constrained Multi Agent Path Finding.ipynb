{
 "cells": [
  {
   "cell_type": "code",
   "execution_count": null,
   "metadata": {},
   "outputs": [],
   "source": [
    "using LightGraphs, MetaGraphs, GraphUtils\n",
    "using Parameters\n",
    "using LinearAlgebra\n",
    "using Compose\n",
    "using Colors\n",
    "using TaskGraphs\n",
    "using GraphPlottingBFS\n",
    "using DataStructures\n",
    "using JuMP, MathOptInterface\n",
    "using Gurobi\n",
    "using CRCBS\n",
    "using WebotsSim"
   ]
  },
  {
   "cell_type": "code",
   "execution_count": 1,
   "metadata": {},
   "outputs": [
    {
     "ename": "UndefVarError",
     "evalue": "UndefVarError: initialize_regular_grid_graph not defined",
     "output_type": "error",
     "traceback": [
      "UndefVarError: initialize_regular_grid_graph not defined",
      "",
      "Stacktrace:",
      " [1] top-level scope at In[1]:3"
     ]
    }
   ],
   "source": [
    "N = 4                  # num robots\n",
    "M = 6                  # num delivery tasks\n",
    "# project_spec = construct_random_project_spec(M;max_parents=3,depth_bias=1.0,Δt_min=0,Δt_max=0)\n",
    "factory_graph = initialize_regular_grid_graph(;n_obstacles_x=1,n_obstacles_y=1)\n",
    "vtxs = collect(vertices(factory_graph))\n",
    "dist_matrix = get_dist_matrix(factory_graph)\n",
    "r₀,s₀,sₜ,pts = initialize_random_2D_task_graph_env(N,M;vtxs=vtxs,d=[10,10])\n",
    "Drs, Dss = cached_pickup_and_delivery_distances(pts[r₀],pts[s₀],pts[sₜ],(x1,x2)->dist_matrix[x1,x2])\n",
    "object_ICs = Dict{Int,OBJECT_AT}(o => OBJECT_AT(o,s₀[o]) for o in 1:M)\n",
    "object_FCs = Dict{Int,OBJECT_AT}(o => OBJECT_AT(o,sₜ[o]) for o in 1:M)\n",
    "robot_ICs = Dict{Int,ROBOT_AT}(r => ROBOT_AT(r,r₀[r]) for r in 1:N)\n",
    "project_spec = construct_random_project_spec(M,object_ICs,object_FCs;max_parents=3,depth_bias=1.0,Δt_min=0,Δt_max=0)\n",
    "plot_graph_bfs(project_spec.graph;mode=nothing,fillcolor=\"orange\")"
   ]
  },
  {
   "cell_type": "code",
   "execution_count": null,
   "metadata": {},
   "outputs": [],
   "source": [
    "delivery_graph = construct_delivery_graph(project_spec,M)\n",
    "G = delivery_graph.graph\n",
    "# initialize vector of operation times\n",
    "Δt = zeros(nv(G)) # Δt[j] is the wait time for the object j to appear once all inputs have been satisfied\n",
    "for op in project_spec.operations\n",
    "    for id in get_output_ids(op)\n",
    "        Δt[id] = duration(op)\n",
    "    end\n",
    "end\n",
    "# set initial conditions\n",
    "to0_ = Dict{Int,Float64}()\n",
    "for v in vertices(G)\n",
    "    if is_leaf_node(G,v)\n",
    "        to0_[v] = 0.0\n",
    "    end\n",
    "end\n",
    "tr0_ = Dict{Int,Float64}()\n",
    "for i in 1:N\n",
    "    tr0_[i] = 0.0\n",
    "end\n",
    "plot_graph_bfs(delivery_graph.graph;mode=nothing)"
   ]
  },
  {
   "cell_type": "code",
   "execution_count": null,
   "metadata": {},
   "outputs": [],
   "source": [
    "model = formulate_JuMP_optimization_problem(G,Drs,Dss,Δt,to0_,tr0_,Gurobi.Optimizer;OutputFlag=0);\n",
    "start_time = time()\n",
    "optimize!(model)\n",
    "solve_time = time() - start_time\n",
    "optimal = (termination_status(model) == MathOptInterface.TerminationStatusCode(1))\n",
    "@show solve_time\n",
    "@show optimal;\n",
    "assignment = Matrix{Int}(value.(model[:x]));"
   ]
  },
  {
   "cell_type": "code",
   "execution_count": null,
   "metadata": {},
   "outputs": [],
   "source": [
    "spec = TaskGraphProblemSpec(N,M,G,Drs,Dss,Δt,tr0_,to0_)\n",
    "cache = SearchCache(N,M,to0_,tr0_)\n",
    "for j in 1:M\n",
    "    i = findfirst(assignment[:,j] .== 1)\n",
    "    cache.x[i,j] = 1\n",
    "end\n",
    "solution_graph = construct_solution_graph(delivery_graph.graph,assignment)\n",
    "cache = process_solution(model,cache,spec); # process_solution_fast(model,cache,spec)\n",
    "# assignments[j] == i ==> robot i performs task j\n",
    "assignments = map(j->findfirst(cache.x[:,j] .== 1),1:M)\n",
    "@show assignments;\n",
    "for r in N+1:N+M\n",
    "    robot_ICs[r] = ROBOT_AT(r,sₜ[r-N])\n",
    "end\n",
    "project_schedule = construct_project_schedule(project_spec, object_ICs, object_FCs, robot_ICs, assignments);"
   ]
  },
  {
   "cell_type": "code",
   "execution_count": null,
   "metadata": {},
   "outputs": [],
   "source": [
    "rg = get_display_metagraph(project_schedule;verbose=false)\n",
    "plot_graph_bfs(rg)"
   ]
  },
  {
   "cell_type": "code",
   "execution_count": null,
   "metadata": {},
   "outputs": [],
   "source": [
    "task_sequences = Dict{Int,Vector{Int}}()\n",
    "for agent_id in 1:N\n",
    "    i = agent_id\n",
    "    seq = Vector{Int}()\n",
    "    j = 1\n",
    "    while j <= M\n",
    "        if cache.x[i,j] == 1\n",
    "            push!(seq, j)\n",
    "            i = j + N\n",
    "            j = 0\n",
    "        end\n",
    "        j += 1\n",
    "    end\n",
    "    task_sequences[agent_id] = seq\n",
    "end\n",
    "task_sequences"
   ]
  },
  {
   "cell_type": "markdown",
   "metadata": {},
   "source": [
    "Convert `project_schedule` into a format that can be used within a CRCBS path-finding algorithm"
   ]
  },
  {
   "cell_type": "code",
   "execution_count": null,
   "metadata": {},
   "outputs": [],
   "source": [
    "# Add precedence constraint associated with the order in which robots complete tasks\n",
    "task_precedence_graph = deepcopy(delivery_graph.graph)\n",
    "task_to_agent = Dict()\n",
    "for (agent_idx, seq) in task_sequences\n",
    "    for (i,v) in enumerate(seq)\n",
    "        task_to_agent[v] = agent_idx\n",
    "        if i < length(seq)\n",
    "            add_edge!(task_precedence_graph, v, seq[i+1])\n",
    "        end\n",
    "    end\n",
    "end\n",
    "task_precedence_graph"
   ]
  },
  {
   "cell_type": "code",
   "execution_count": null,
   "metadata": {},
   "outputs": [],
   "source": [
    "start_vtxs = r₀\n",
    "goal_vtxs = map(i->map(i->[s₀[i],sₜ[i]],task_sequences[i]),1:N)\n",
    "multi_stage_heuristic = MultiStagePerfectHeuristic(G, goal_vtxs)\n",
    "T = 2*Int(maximum(cache.tof)) # time horizon\n",
    "conflict_table = HardConflictTable(G,T,N)\n",
    "mapf = PC_MAPF(\n",
    "    env = CBS.LowLevelEnv(graph=factory_graph),\n",
    "    task_precedence_graph = task_precedence_graph,\n",
    "    num_agents = N,\n",
    "    agent_ids = map(i->task_to_agent[i], 1:M),\n",
    "    start_times = Int.(cache.to0), # these might be wrong - need start times for each path (including travel between tasks)\n",
    "    deadlines = Int.(cache.tof),\n",
    "    durations = Int.((cache.x .* (Drs))'*ones(N+M) .+ map(j->Dss[j,j],1:M)),\n",
    "    starts = r₀,\n",
    "    goals = goal_vtxs \n",
    ")"
   ]
  },
  {
   "cell_type": "code",
   "execution_count": null,
   "metadata": {},
   "outputs": [],
   "source": [
    "goal_vtxs = Vector{Vector{Int}}()\n",
    "for (agent_id,seq) in task_sequences\n",
    "    for (i,v) in enumerate(seq)\n",
    "        push!(goal_vtxs, [s₀[i],sₜ[i]])\n",
    "        if i < length(seq)\n",
    "            push!(goal_vtxs, [s₀[i+1]])\n",
    "        end\n",
    "    end\n",
    "end\n",
    "goal_vtxs"
   ]
  },
  {
   "cell_type": "code",
   "execution_count": null,
   "metadata": {},
   "outputs": [],
   "source": [
    "adjacency_matrix(task_precedence_graph)"
   ]
  },
  {
   "cell_type": "code",
   "execution_count": null,
   "metadata": {},
   "outputs": [],
   "source": [
    "render_grid_graph(factory_graph,map(i->[mapf.starts[i], vcat(mapf.goals[i]...)...],1:N))"
   ]
  },
  {
   "cell_type": "code",
   "execution_count": null,
   "metadata": {},
   "outputs": [],
   "source": []
  }
 ],
 "metadata": {
  "kernelspec": {
   "display_name": "Julia 1.0.2",
   "language": "julia",
   "name": "julia-1.0"
  },
  "language_info": {
   "file_extension": ".jl",
   "mimetype": "application/julia",
   "name": "julia",
   "version": "1.0.2"
  }
 },
 "nbformat": 4,
 "nbformat_minor": 2
}
