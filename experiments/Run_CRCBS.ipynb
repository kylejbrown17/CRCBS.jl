{
 "cells": [
  {
   "cell_type": "code",
   "execution_count": null,
   "metadata": {},
   "outputs": [],
   "source": [
    "using CRCBS\n",
    "using LightGraphs, MetaGraphs\n",
    "G = initialize_full_grid_graph_CT()\n",
    "starts = [1,5,8,12]\n",
    "goals = [4,1,2,25]\n",
    "lambda = 0.5\n",
    "epsilon = 0.1\n",
    "t_delay = 0.5\n",
    "mapf = MAPF(G,starts,goals,lambda,epsilon,t_delay)"
   ]
  },
  {
   "cell_type": "code",
   "execution_count": null,
   "metadata": {},
   "outputs": [],
   "source": [
    "CTCBS(mapf)"
   ]
  },
  {
   "cell_type": "code",
   "execution_count": null,
   "metadata": {},
   "outputs": [],
   "source": [
    "using JLD\n",
    "jldopen(\"../experiments/5test.jld\",\"w\") do file\n",
    "    addrequire(file,CRCBS)\n",
    "    write(file,\"data\",1)\n",
    "end"
   ]
  },
  {
   "cell_type": "code",
   "execution_count": 1,
   "metadata": {
    "scrolled": true
   },
   "outputs": [
    {
     "name": "stderr",
     "output_type": "stream",
     "text": [
      "┌ Info: Recompiling stale cache file /home/peltzer/.julia/compiled/v1.0/CRCBS/26Ksw.ji for CRCBS [edef75b8-3ac4-11e9-0392-bf149c536ee3]\n",
      "└ @ Base loading.jl:1190\n",
      "┌ Warning: Package CRCBS does not have JLD in its dependencies:\n",
      "│ - If you have CRCBS checked out for development and have\n",
      "│   added JLD as a dependency but haven't updated your primary\n",
      "│   environment's manifest file, try `Pkg.resolve()`.\n",
      "│ - Otherwise you may need to report an issue with CRCBS\n",
      "└ Loading JLD into CRCBS from project dependency, future warnings for CRCBS are suppressed.\n",
      "WARNING: Method definition get_dist_matrix(LightGraphs.AbstractGraph{T} where T) in module CRCBS at /home/peltzer/.julia/dev/CRCBS/src/utils.jl:10 overwritten at /home/peltzer/.julia/dev/CRCBS/src/utils.jl:10.\n",
      "┌ Warning: Replacing docs for `CRCBS.get_dist_matrix :: Tuple{LightGraphs.AbstractGraph}` in module `CRCBS`\n",
      "└ @ Base.Docs docs/Docs.jl:223\n",
      "WARNING: Method definition pad_matrix(Array{T, 2}, Tuple{Int64, Int64}, T) where {T} in module CRCBS at /home/peltzer/.julia/dev/CRCBS/src/utils.jl:21 overwritten at /home/peltzer/.julia/dev/CRCBS/src/utils.jl:21.\n",
      "┌ Warning: Replacing docs for `CRCBS.pad_matrix :: Union{Tuple{T}, Tuple{Array{T,2},Tuple{Int64,Int64},T}} where T` in module `CRCBS`\n",
      "└ @ Base.Docs docs/Docs.jl:223\n",
      "WARNING: Method definition sample_wo_repl(Any, Any) in module CRCBS at /home/peltzer/.julia/dev/CRCBS/src/utils.jl:123 overwritten at /home/peltzer/.julia/dev/CRCBS/src/utils.jl:123.\n"
     ]
    }
   ],
   "source": [
    "using CRCBS\n",
    "using Distributions\n",
    "using HCubature"
   ]
  },
  {
   "cell_type": "code",
   "execution_count": null,
   "metadata": {
    "scrolled": true
   },
   "outputs": [],
   "source": [
    "name = \"Debugging_test\"\n",
    "num_agents = tuple(5)\n",
    "grid_x = tuple(10)\n",
    "grid_y = tuple(10)\n",
    "filling_density = tuple(1.0)\n",
    "lambda = 0.2\n",
    "epsilon = 0.2\n",
    "t_delay = 1.0\n",
    "max_num_experiments = 1\n",
    "num_trials = 2000\n",
    "\n",
    "data = run_experiment_set_CRCBS(name,num_agents,grid_x,grid_y,filling_density,lambda,epsilon,t_delay,max_num_experiments,num_trials)"
   ]
  },
  {
   "cell_type": "code",
   "execution_count": 8,
   "metadata": {},
   "outputs": [],
   "source": [
    "subname = \"Debugging_test_1_lambda1_eps0-001\"\n",
    "plot_optimal_nominal_paths(subname;type=\"CRCBS\",graphfilename = \"Debugging_test_1\")"
   ]
  },
  {
   "cell_type": "code",
   "execution_count": 3,
   "metadata": {},
   "outputs": [],
   "source": [
    "subname = \"Debugging_test_1\"\n",
    "plot_optimal_nominal_paths(subname;type=\"CBS\",graphfilename =\"\")"
   ]
  },
  {
   "cell_type": "code",
   "execution_count": 4,
   "metadata": {},
   "outputs": [
    {
     "name": "stdout",
     "output_type": "stream",
     "text": [
      "ASTAR: 5\n",
      "\n",
      " \n",
      "ASTAR: 1\n",
      "Consequently we found the solutions: \n",
      "Array{LightGraphs.SimpleGraphs.SimpleEdge,1}[[Edge 37 => 48, Edge 48 => 49, Edge 49 => 60, Edge 60 => 61, Edge 61 => 72, Edge 72 => 83, Edge 83 => 94, Edge 94 => 95, Edge 95 => 106, Edge 106 => 117], [Edge 54 => 53, Edge 53 => 42, Edge 42 => 41, Edge 41 => 40, Edge 40 => 39, Edge 39 => 28, Edge 28 => 17, Edge 17 => 6, Edge 6 => 5], [Edge 112 => 113, Edge 113 => 102, Edge 102 => 103, Edge 103 => 104, Edge 104 => 105, Edge 105 => 106, Edge 106 => 107, Edge 107 => 108, Edge 108 => 97, Edge 97 => 86, Edge 86 => 75], [Edge 65 => 76, Edge 76 => 75, Edge 75 => 74, Edge 74 => 85, Edge 85 => 96, Edge 96 => 107, Edge 107 => 118], [Edge 97 => 96, Edge 96 => 95, Edge 95 => 84, Edge 84 => 83, Edge 83 => 82, Edge 82 => 81, Edge 81 => 80, Edge 80 => 79, Edge 79 => 78, Edge 78 => 67, Edge 67 => 56]]\n",
      "Adding new node to priority queue\n",
      "ASTAR: 1\n",
      "Consequently we found the solutions: \n",
      "Array{LightGraphs.SimpleGraphs.SimpleEdge,1}[[Edge 37 => 48, Edge 48 => 49, Edge 49 => 60, Edge 60 => 61, Edge 61 => 72, Edge 72 => 83, Edge 83 => 94, Edge 94 => 95, Edge 95 => 106, Edge 106 => 117], [Edge 54 => 53, Edge 53 => 42, Edge 42 => 41, Edge 41 => 40, Edge 40 => 39, Edge 39 => 28, Edge 28 => 17, Edge 17 => 6, Edge 6 => 5], [Edge 112 => 113, Edge 113 => 102, Edge 102 => 103, Edge 103 => 104, Edge 104 => 93, Edge 93 => 94, Edge 94 => 95, Edge 95 => 96, Edge 96 => 97, Edge 97 => 86, Edge 86 => 75], [Edge 65 => 76, Edge 76 => 75, Edge 75 => 74, Edge 74 => 85, Edge 85 => 96, Edge 96 => 107, Edge 107 => 118], [Edge 97 => 96, Edge 96 => 95, Edge 95 => 84, Edge 84 => 83, Edge 83 => 82, Edge 82 => 81, Edge 81 => 80, Edge 80 => 79, Edge 79 => 78, Edge 78 => 67, Edge 67 => 56]]\n",
      "Adding new node to priority queue\n",
      "\n",
      " \n",
      "Agents 4 and 3 conflict at node 107\n",
      "ASTAR: 1\n",
      "Consequently we found the solutions: \n",
      "Array{LightGraphs.SimpleGraphs.SimpleEdge,1}[[Edge 37 => 48, Edge 48 => 49, Edge 49 => 60, Edge 60 => 61, Edge 61 => 72, Edge 72 => 83, Edge 83 => 94, Edge 94 => 95, Edge 95 => 106, Edge 106 => 117], [Edge 54 => 53, Edge 53 => 42, Edge 42 => 41, Edge 41 => 40, Edge 40 => 39, Edge 39 => 28, Edge 28 => 17, Edge 17 => 6, Edge 6 => 5], [Edge 112 => 113, Edge 113 => 102, Edge 102 => 103, Edge 103 => 104, Edge 104 => 105, Edge 105 => 106, Edge 106 => 107, Edge 107 => 108, Edge 108 => 97, Edge 97 => 86, Edge 86 => 75], [Edge 65 => 64, Edge 64 => 75, Edge 75 => 86, Edge 86 => 97, Edge 97 => 108, Edge 108 => 119, Edge 119 => 118], [Edge 97 => 96, Edge 96 => 95, Edge 95 => 84, Edge 84 => 83, Edge 83 => 82, Edge 82 => 81, Edge 81 => 80, Edge 80 => 79, Edge 79 => 78, Edge 78 => 67, Edge 67 => 56]]\n",
      "Adding new node to priority queue\n",
      "ASTAR: 1\n",
      "Consequently we found the solutions: \n",
      "Array{LightGraphs.SimpleGraphs.SimpleEdge,1}[[Edge 37 => 48, Edge 48 => 49, Edge 49 => 60, Edge 60 => 61, Edge 61 => 72, Edge 72 => 83, Edge 83 => 94, Edge 94 => 95, Edge 95 => 106, Edge 106 => 117], [Edge 54 => 53, Edge 53 => 42, Edge 42 => 41, Edge 41 => 40, Edge 40 => 39, Edge 39 => 28, Edge 28 => 17, Edge 17 => 6, Edge 6 => 5], [Edge 112 => 113, Edge 113 => 102, Edge 102 => 103, Edge 103 => 104, Edge 104 => 105, Edge 105 => 106, Edge 106 => 95, Edge 95 => 96, Edge 96 => 97, Edge 97 => 86, Edge 86 => 75], [Edge 65 => 76, Edge 76 => 75, Edge 75 => 74, Edge 74 => 85, Edge 85 => 96, Edge 96 => 107, Edge 107 => 118], [Edge 97 => 96, Edge 96 => 95, Edge 95 => 84, Edge 84 => 83, Edge 83 => 82, Edge 82 => 81, Edge 81 => 80, Edge 80 => 79, Edge 79 => 78, Edge 78 => 67, Edge 67 => 56]]\n",
      "Adding new node to priority queue\n",
      "\n",
      " \n",
      "ASTAR: 1\n",
      "Consequently we found the solutions: \n",
      "Array{LightGraphs.SimpleGraphs.SimpleEdge,1}[[Edge 37 => 48, Edge 48 => 59, Edge 59 => 70, Edge 70 => 71, Edge 71 => 72, Edge 72 => 83, Edge 83 => 94, Edge 94 => 105, Edge 105 => 116, Edge 116 => 117], [Edge 54 => 53, Edge 53 => 42, Edge 42 => 41, Edge 41 => 40, Edge 40 => 39, Edge 39 => 28, Edge 28 => 17, Edge 17 => 6, Edge 6 => 5], [Edge 112 => 113, Edge 113 => 102, Edge 102 => 103, Edge 103 => 104, Edge 104 => 93, Edge 93 => 94, Edge 94 => 95, Edge 95 => 96, Edge 96 => 97, Edge 97 => 86, Edge 86 => 75], [Edge 65 => 76, Edge 76 => 75, Edge 75 => 74, Edge 74 => 85, Edge 85 => 96, Edge 96 => 107, Edge 107 => 118], [Edge 97 => 96, Edge 96 => 95, Edge 95 => 84, Edge 84 => 83, Edge 83 => 82, Edge 82 => 81, Edge 81 => 80, Edge 80 => 79, Edge 79 => 78, Edge 78 => 67, Edge 67 => 56]]\n",
      "Adding new node to priority queue\n",
      "ASTAR: 1\n",
      "Consequently we found the solutions: \n",
      "Array{LightGraphs.SimpleGraphs.SimpleEdge,1}[[Edge 37 => 48, Edge 48 => 49, Edge 49 => 60, Edge 60 => 61, Edge 61 => 72, Edge 72 => 83, Edge 83 => 94, Edge 94 => 95, Edge 95 => 106, Edge 106 => 117], [Edge 54 => 53, Edge 53 => 42, Edge 42 => 41, Edge 41 => 40, Edge 40 => 39, Edge 39 => 28, Edge 28 => 17, Edge 17 => 6, Edge 6 => 5], [Edge 112 => 113, Edge 113 => 102, Edge 102 => 103, Edge 103 => 104, Edge 104 => 105, Edge 105 => 106, Edge 106 => 95, Edge 95 => 96, Edge 96 => 97, Edge 97 => 86, Edge 86 => 75], [Edge 65 => 76, Edge 76 => 75, Edge 75 => 74, Edge 74 => 85, Edge 85 => 96, Edge 96 => 107, Edge 107 => 118], [Edge 97 => 96, Edge 96 => 95, Edge 95 => 84, Edge 84 => 83, Edge 83 => 82, Edge 82 => 81, Edge 81 => 80, Edge 80 => 79, Edge 79 => 78, Edge 78 => 67, Edge 67 => 56]]\n",
      "Adding new node to priority queue\n",
      "\n",
      " \n",
      "Agents 3 and 1 conflict at node 95\n",
      "Pre existing constraint dict: CRCBS.ConstraintDict\n",
      "  node_constraints: Dict{Int64,Float64}\n",
      "  edge_constraints: Dict{Tuple{Int64,Int64},Float64}\n",
      "  a: Int64 1\n",
      "\n",
      "t_yield2: 8.0\n",
      "ASTAR: 1\n",
      "Consequently we found the solutions: \n",
      "Array{LightGraphs.SimpleGraphs.SimpleEdge,1}[[Edge 37 => 48, Edge 48 => 49, Edge 49 => 60, Edge 60 => 61, Edge 61 => 72, Edge 72 => 83, Edge 83 => 94, Edge 94 => 95, Edge 95 => 106, Edge 106 => 117], [Edge 54 => 53, Edge 53 => 42, Edge 42 => 41, Edge 41 => 40, Edge 40 => 39, Edge 39 => 28, Edge 28 => 17, Edge 17 => 6, Edge 6 => 5], [Edge 112 => 113, Edge 113 => 114, Edge 114 => 115, Edge 115 => 116, Edge 116 => 117, Edge 117 => 118, Edge 118 => 119, Edge 119 => 108, Edge 108 => 97, Edge 97 => 86, Edge 86 => 75], [Edge 65 => 76, Edge 76 => 75, Edge 75 => 74, Edge 74 => 85, Edge 85 => 96, Edge 96 => 107, Edge 107 => 118], [Edge 97 => 96, Edge 96 => 95, Edge 95 => 84, Edge 84 => 83, Edge 83 => 82, Edge 82 => 81, Edge 81 => 80, Edge 80 => 79, Edge 79 => 78, Edge 78 => 67, Edge 67 => 56]]\n",
      "Adding new node to priority queue\n",
      "ASTAR: 1\n",
      "Consequently we found the solutions: \n",
      "Array{LightGraphs.SimpleGraphs.SimpleEdge,1}[[Edge 37 => 48, Edge 48 => 59, Edge 59 => 60, Edge 60 => 71, Edge 71 => 72, Edge 72 => 83, Edge 83 => 94, Edge 94 => 105, Edge 105 => 106, Edge 106 => 117], [Edge 54 => 53, Edge 53 => 42, Edge 42 => 41, Edge 41 => 40, Edge 40 => 39, Edge 39 => 28, Edge 28 => 17, Edge 17 => 6, Edge 6 => 5], [Edge 112 => 113, Edge 113 => 102, Edge 102 => 103, Edge 103 => 104, Edge 104 => 105, Edge 105 => 106, Edge 106 => 95, Edge 95 => 96, Edge 96 => 97, Edge 97 => 86, Edge 86 => 75], [Edge 65 => 76, Edge 76 => 75, Edge 75 => 74, Edge 74 => 85, Edge 85 => 96, Edge 96 => 107, Edge 107 => 118], [Edge 97 => 96, Edge 96 => 95, Edge 95 => 84, Edge 84 => 83, Edge 83 => 82, Edge 82 => 81, Edge 81 => 80, Edge 80 => 79, Edge 79 => 78, Edge 78 => 67, Edge 67 => 56]]\n",
      "Adding new node to priority queue\n",
      "\n",
      " \n",
      "Agents 3 and 1 conflict at node 95\n",
      "Pre existing constraint dict: CRCBS.ConstraintDict\n",
      "  node_constraints: Dict{Int64,Float64}\n",
      "  edge_constraints: Dict{Tuple{Int64,Int64},Float64}\n",
      "  a: Int64 1\n",
      "\n",
      "t_yield2: 9.0\n",
      "ASTAR: 1\n",
      "Consequently we found the solutions: \n",
      "Array{LightGraphs.SimpleGraphs.SimpleEdge,1}[[Edge 37 => 48, Edge 48 => 49, Edge 49 => 60, Edge 60 => 61, Edge 61 => 72, Edge 72 => 83, Edge 83 => 94, Edge 94 => 95, Edge 95 => 106, Edge 106 => 117], [Edge 54 => 53, Edge 53 => 42, Edge 42 => 41, Edge 41 => 40, Edge 40 => 39, Edge 39 => 28, Edge 28 => 17, Edge 17 => 6, Edge 6 => 5], [Edge 112 => 113, Edge 113 => 114, Edge 114 => 115, Edge 115 => 116, Edge 116 => 117, Edge 117 => 118, Edge 118 => 119, Edge 119 => 108, Edge 108 => 97, Edge 97 => 86, Edge 86 => 75], [Edge 65 => 76, Edge 76 => 75, Edge 75 => 74, Edge 74 => 85, Edge 85 => 96, Edge 96 => 107, Edge 107 => 118], [Edge 97 => 96, Edge 96 => 95, Edge 95 => 84, Edge 84 => 83, Edge 83 => 82, Edge 82 => 81, Edge 81 => 80, Edge 80 => 79, Edge 79 => 78, Edge 78 => 67, Edge 67 => 56]]\n",
      "Adding new node to priority queue\n",
      "ASTAR: 1\n"
     ]
    },
    {
     "name": "stdout",
     "output_type": "stream",
     "text": [
      "Consequently we found the solutions: \n",
      "Array{LightGraphs.SimpleGraphs.SimpleEdge,1}[[Edge 37 => 48, Edge 48 => 59, Edge 59 => 70, Edge 70 => 81, Edge 81 => 92, Edge 92 => 103, Edge 103 => 104, Edge 104 => 105, Edge 105 => 116, Edge 116 => 117], [Edge 54 => 53, Edge 53 => 42, Edge 42 => 41, Edge 41 => 40, Edge 40 => 39, Edge 39 => 28, Edge 28 => 17, Edge 17 => 6, Edge 6 => 5], [Edge 112 => 113, Edge 113 => 102, Edge 102 => 103, Edge 103 => 104, Edge 104 => 105, Edge 105 => 106, Edge 106 => 95, Edge 95 => 96, Edge 96 => 97, Edge 97 => 86, Edge 86 => 75], [Edge 65 => 76, Edge 76 => 75, Edge 75 => 74, Edge 74 => 85, Edge 85 => 96, Edge 96 => 107, Edge 107 => 118], [Edge 97 => 96, Edge 96 => 95, Edge 95 => 84, Edge 84 => 83, Edge 83 => 82, Edge 82 => 81, Edge 81 => 80, Edge 80 => 79, Edge 79 => 78, Edge 78 => 67, Edge 67 => 56]]\n",
      "Adding new node to priority queue\n",
      "\n",
      " \n",
      "Agents 5 and 1 conflict at node 83\n",
      "Pre existing constraint dict: CRCBS.ConstraintDict\n",
      "  node_constraints: Dict{Int64,Float64}\n",
      "  edge_constraints: Dict{Tuple{Int64,Int64},Float64}\n",
      "  a: Int64 1\n",
      "\n",
      "t_yield2: 6.0\n",
      "ASTAR: 1\n",
      "Consequently we found the solutions: \n",
      "Array{LightGraphs.SimpleGraphs.SimpleEdge,1}[[Edge 37 => 48, Edge 48 => 59, Edge 59 => 60, Edge 60 => 71, Edge 71 => 72, Edge 72 => 83, Edge 83 => 94, Edge 94 => 105, Edge 105 => 106, Edge 106 => 117], [Edge 54 => 53, Edge 53 => 42, Edge 42 => 41, Edge 41 => 40, Edge 40 => 39, Edge 39 => 28, Edge 28 => 17, Edge 17 => 6, Edge 6 => 5], [Edge 112 => 113, Edge 113 => 102, Edge 102 => 103, Edge 103 => 104, Edge 104 => 105, Edge 105 => 106, Edge 106 => 95, Edge 95 => 96, Edge 96 => 97, Edge 97 => 86, Edge 86 => 75], [Edge 65 => 76, Edge 76 => 75, Edge 75 => 74, Edge 74 => 85, Edge 85 => 96, Edge 96 => 107, Edge 107 => 118], [Edge 97 => 96, Edge 96 => 95, Edge 95 => 94, Edge 94 => 93, Edge 93 => 92, Edge 92 => 91, Edge 91 => 80, Edge 80 => 69, Edge 69 => 68, Edge 68 => 57, Edge 57 => 56]]\n",
      "Adding new node to priority queue\n",
      "ASTAR: 1\n",
      "Consequently we found the solutions: \n",
      "Array{LightGraphs.SimpleGraphs.SimpleEdge,1}[[Edge 37 => 38, Edge 38 => 49, Edge 49 => 60, Edge 60 => 71, Edge 71 => 82, Edge 82 => 93, Edge 93 => 104, Edge 104 => 115, Edge 115 => 116, Edge 116 => 117], [Edge 54 => 53, Edge 53 => 42, Edge 42 => 41, Edge 41 => 40, Edge 40 => 39, Edge 39 => 28, Edge 28 => 17, Edge 17 => 6, Edge 6 => 5], [Edge 112 => 113, Edge 113 => 102, Edge 102 => 103, Edge 103 => 104, Edge 104 => 105, Edge 105 => 106, Edge 106 => 95, Edge 95 => 96, Edge 96 => 97, Edge 97 => 86, Edge 86 => 75], [Edge 65 => 76, Edge 76 => 75, Edge 75 => 74, Edge 74 => 85, Edge 85 => 96, Edge 96 => 107, Edge 107 => 118], [Edge 97 => 96, Edge 96 => 95, Edge 95 => 84, Edge 84 => 83, Edge 83 => 82, Edge 82 => 81, Edge 81 => 80, Edge 80 => 79, Edge 79 => 78, Edge 78 => 67, Edge 67 => 56]]\n",
      "Adding new node to priority queue\n",
      "\n",
      " \n",
      "Agents 5 and 1 conflict at node 81\n",
      "Pre existing constraint dict: CRCBS.ConstraintDict\n",
      "  node_constraints: Dict{Int64,Float64}\n",
      "  edge_constraints: Dict{Tuple{Int64,Int64},Float64}\n",
      "  a: Int64 1\n",
      "\n",
      "t_yield2: 6.0\n",
      "ASTAR: 1\n",
      "Consequently we found the solutions: \n",
      "Array{LightGraphs.SimpleGraphs.SimpleEdge,1}[[Edge 37 => 48, Edge 48 => 59, Edge 59 => 70, Edge 70 => 81, Edge 81 => 92, Edge 92 => 103, Edge 103 => 104, Edge 104 => 105, Edge 105 => 116, Edge 116 => 117], [Edge 54 => 53, Edge 53 => 42, Edge 42 => 41, Edge 41 => 40, Edge 40 => 39, Edge 39 => 28, Edge 28 => 17, Edge 17 => 6, Edge 6 => 5], [Edge 112 => 113, Edge 113 => 102, Edge 102 => 103, Edge 103 => 104, Edge 104 => 105, Edge 105 => 106, Edge 106 => 95, Edge 95 => 96, Edge 96 => 97, Edge 97 => 86, Edge 86 => 75], [Edge 65 => 76, Edge 76 => 75, Edge 75 => 74, Edge 74 => 85, Edge 85 => 96, Edge 96 => 107, Edge 107 => 118], [Edge 97 => 96, Edge 96 => 95, Edge 95 => 84, Edge 84 => 73, Edge 73 => 72, Edge 72 => 71, Edge 71 => 70, Edge 70 => 59, Edge 59 => 58, Edge 58 => 57, Edge 57 => 56]]\n",
      "Adding new node to priority queue\n",
      "ASTAR: 1\n",
      "Consequently we found the solutions: \n",
      "Array{LightGraphs.SimpleGraphs.SimpleEdge,1}[[Edge 37 => 48, Edge 48 => 49, Edge 49 => 60, Edge 60 => 71, Edge 71 => 82, Edge 82 => 93, Edge 93 => 104, Edge 104 => 105, Edge 105 => 106, Edge 106 => 117], [Edge 54 => 53, Edge 53 => 42, Edge 42 => 41, Edge 41 => 40, Edge 40 => 39, Edge 39 => 28, Edge 28 => 17, Edge 17 => 6, Edge 6 => 5], [Edge 112 => 113, Edge 113 => 102, Edge 102 => 103, Edge 103 => 104, Edge 104 => 105, Edge 105 => 106, Edge 106 => 95, Edge 95 => 96, Edge 96 => 97, Edge 97 => 86, Edge 86 => 75], [Edge 65 => 76, Edge 76 => 75, Edge 75 => 74, Edge 74 => 85, Edge 85 => 96, Edge 96 => 107, Edge 107 => 118], [Edge 97 => 96, Edge 96 => 95, Edge 95 => 84, Edge 84 => 83, Edge 83 => 82, Edge 82 => 81, Edge 81 => 80, Edge 80 => 79, Edge 79 => 78, Edge 78 => 67, Edge 67 => 56]]\n",
      "Adding new node to priority queue\n",
      "\n",
      " \n",
      "Agents 5 and 1 conflict at node 82\n",
      "Pre existing constraint dict: CRCBS.ConstraintDict\n",
      "  node_constraints: Dict{Int64,Float64}\n",
      "  edge_constraints: Dict{Tuple{Int64,Int64},Float64}\n",
      "  a: Int64 1\n",
      "\n",
      "t_yield2: 5.0\n",
      "ASTAR: 1\n",
      "Consequently we found the solutions: \n",
      "Array{LightGraphs.SimpleGraphs.SimpleEdge,1}[[Edge 37 => 38, Edge 38 => 49, Edge 49 => 60, Edge 60 => 71, Edge 71 => 82, Edge 82 => 93, Edge 93 => 104, Edge 104 => 115, Edge 115 => 116, Edge 116 => 117], [Edge 54 => 53, Edge 53 => 42, Edge 42 => 41, Edge 41 => 40, Edge 40 => 39, Edge 39 => 28, Edge 28 => 17, Edge 17 => 6, Edge 6 => 5], [Edge 112 => 113, Edge 113 => 102, Edge 102 => 103, Edge 103 => 104, Edge 104 => 105, Edge 105 => 106, Edge 106 => 95, Edge 95 => 96, Edge 96 => 97, Edge 97 => 86, Edge 86 => 75], [Edge 65 => 76, Edge 76 => 75, Edge 75 => 74, Edge 74 => 85, Edge 85 => 96, Edge 96 => 107, Edge 107 => 118], [Edge 97 => 86, Edge 86 => 85, Edge 85 => 84, Edge 84 => 73, Edge 73 => 72, Edge 72 => 71, Edge 71 => 70, Edge 70 => 69, Edge 69 => 68, Edge 68 => 57, Edge 57 => 56]]\n",
      "Adding new node to priority queue\n",
      "ASTAR: 1\n",
      "Consequently we found the solutions: \n",
      "Array{LightGraphs.SimpleGraphs.SimpleEdge,1}[[Edge 37 => 48, Edge 48 => 59, Edge 59 => 60, Edge 60 => 61, Edge 61 => 61, Edge 61 => 72, Edge 72 => 83, Edge 83 => 94, Edge 94 => 105, Edge 105 => 116, Edge 116 => 117], [Edge 54 => 53, Edge 53 => 42, Edge 42 => 41, Edge 41 => 40, Edge 40 => 39, Edge 39 => 28, Edge 28 => 17, Edge 17 => 6, Edge 6 => 5], [Edge 112 => 113, Edge 113 => 102, Edge 102 => 103, Edge 103 => 104, Edge 104 => 105, Edge 105 => 106, Edge 106 => 95, Edge 95 => 96, Edge 96 => 97, Edge 97 => 86, Edge 86 => 75], [Edge 65 => 76, Edge 76 => 75, Edge 75 => 74, Edge 74 => 85, Edge 85 => 96, Edge 96 => 107, Edge 107 => 118], [Edge 97 => 96, Edge 96 => 95, Edge 95 => 84, Edge 84 => 83, Edge 83 => 82, Edge 82 => 81, Edge 81 => 80, Edge 80 => 79, Edge 79 => 78, Edge 78 => 67, Edge 67 => 56]]\n",
      "Adding new node to priority queue\n",
      "\n",
      " \n",
      "Agents 5 and 1 conflict at node 82\n",
      "Pre existing constraint dict: CRCBS.ConstraintDict\n",
      "  node_constraints: Dict{Int64,Float64}\n",
      "  edge_constraints: Dict{Tuple{Int64,Int64},Float64}\n",
      "  a: Int64 1\n",
      "\n",
      "t_yield2: 6.0\n",
      "ASTAR: 1\n",
      "Consequently we found the solutions: \n",
      "Array{LightGraphs.SimpleGraphs.SimpleEdge,1}[[Edge 37 => 48, Edge 48 => 49, Edge 49 => 60, Edge 60 => 71, Edge 71 => 82, Edge 82 => 93, Edge 93 => 104, Edge 104 => 105, Edge 105 => 106, Edge 106 => 117], [Edge 54 => 53, Edge 53 => 42, Edge 42 => 41, Edge 41 => 40, Edge 40 => 39, Edge 39 => 28, Edge 28 => 17, Edge 17 => 6, Edge 6 => 5], [Edge 112 => 113, Edge 113 => 102, Edge 102 => 103, Edge 103 => 104, Edge 104 => 105, Edge 105 => 106, Edge 106 => 95, Edge 95 => 96, Edge 96 => 97, Edge 97 => 86, Edge 86 => 75], [Edge 65 => 76, Edge 76 => 75, Edge 75 => 74, Edge 74 => 85, Edge 85 => 96, Edge 96 => 107, Edge 107 => 118], [Edge 97 => 96, Edge 96 => 85, Edge 85 => 74, Edge 74 => 73, Edge 73 => 72, Edge 72 => 71, Edge 71 => 70, Edge 70 => 69, Edge 69 => 68, Edge 68 => 67, Edge 67 => 56]]\n",
      "Adding new node to priority queue\n",
      "ASTAR: 1\n",
      "Consequently we found the solutions: \n",
      "Array{LightGraphs.SimpleGraphs.SimpleEdge,1}[[Edge 37 => 48, Edge 48 => 59, Edge 59 => 59, Edge 59 => 60, Edge 60 => 71, Edge 71 => 72, Edge 72 => 83, Edge 83 => 94, Edge 94 => 105, Edge 105 => 116, Edge 116 => 117], [Edge 54 => 53, Edge 53 => 42, Edge 42 => 41, Edge 41 => 40, Edge 40 => 39, Edge 39 => 28, Edge 28 => 17, Edge 17 => 6, Edge 6 => 5], [Edge 112 => 113, Edge 113 => 102, Edge 102 => 103, Edge 103 => 104, Edge 104 => 105, Edge 105 => 106, Edge 106 => 95, Edge 95 => 96, Edge 96 => 97, Edge 97 => 86, Edge 86 => 75], [Edge 65 => 76, Edge 76 => 75, Edge 75 => 74, Edge 74 => 85, Edge 85 => 96, Edge 96 => 107, Edge 107 => 118], [Edge 97 => 96, Edge 96 => 95, Edge 95 => 84, Edge 84 => 83, Edge 83 => 82, Edge 82 => 81, Edge 81 => 80, Edge 80 => 79, Edge 79 => 78, Edge 78 => 67, Edge 67 => 56]]\n",
      "Adding new node to priority queue\n",
      "\n",
      " \n"
     ]
    },
    {
     "name": "stdout",
     "output_type": "stream",
     "text": [
      "Agents 3 and 1 conflict at node 94\n",
      "Pre existing constraint dict: CRCBS.ConstraintDict\n",
      "  node_constraints: Dict{Int64,Float64}\n",
      "  edge_constraints: Dict{Tuple{Int64,Int64},Float64}\n",
      "  a: Int64 1\n",
      "\n",
      "t_yield2: 7.0\n",
      "ASTAR: 1\n",
      "Consequently we found the solutions: \n",
      "Array{LightGraphs.SimpleGraphs.SimpleEdge,1}[[Edge 37 => 48, Edge 48 => 59, Edge 59 => 70, Edge 70 => 71, Edge 71 => 72, Edge 72 => 83, Edge 83 => 94, Edge 94 => 105, Edge 105 => 116, Edge 116 => 117], [Edge 54 => 53, Edge 53 => 42, Edge 42 => 41, Edge 41 => 40, Edge 40 => 39, Edge 39 => 28, Edge 28 => 17, Edge 17 => 6, Edge 6 => 5], [Edge 112 => 113, Edge 113 => 114, Edge 114 => 115, Edge 115 => 116, Edge 116 => 117, Edge 117 => 118, Edge 118 => 119, Edge 119 => 108, Edge 108 => 97, Edge 97 => 86, Edge 86 => 75], [Edge 65 => 76, Edge 76 => 75, Edge 75 => 74, Edge 74 => 85, Edge 85 => 96, Edge 96 => 107, Edge 107 => 118], [Edge 97 => 96, Edge 96 => 95, Edge 95 => 84, Edge 84 => 83, Edge 83 => 82, Edge 82 => 81, Edge 81 => 80, Edge 80 => 79, Edge 79 => 78, Edge 78 => 67, Edge 67 => 56]]\n",
      "Adding new node to priority queue\n",
      "ASTAR: 1\n",
      "Consequently we found the solutions: \n",
      "Array{LightGraphs.SimpleGraphs.SimpleEdge,1}[[Edge 37 => 48, Edge 48 => 59, Edge 59 => 59, Edge 59 => 60, Edge 60 => 71, Edge 71 => 72, Edge 72 => 83, Edge 83 => 94, Edge 94 => 105, Edge 105 => 116, Edge 116 => 117], [Edge 54 => 53, Edge 53 => 42, Edge 42 => 41, Edge 41 => 40, Edge 40 => 39, Edge 39 => 28, Edge 28 => 17, Edge 17 => 6, Edge 6 => 5], [Edge 112 => 113, Edge 113 => 102, Edge 102 => 103, Edge 103 => 104, Edge 104 => 93, Edge 93 => 94, Edge 94 => 95, Edge 95 => 96, Edge 96 => 97, Edge 97 => 86, Edge 86 => 75], [Edge 65 => 76, Edge 76 => 75, Edge 75 => 74, Edge 74 => 85, Edge 85 => 96, Edge 96 => 107, Edge 107 => 118], [Edge 97 => 96, Edge 96 => 95, Edge 95 => 84, Edge 84 => 83, Edge 83 => 82, Edge 82 => 81, Edge 81 => 80, Edge 80 => 79, Edge 79 => 78, Edge 78 => 67, Edge 67 => 56]]\n",
      "Adding new node to priority queue\n",
      "\n",
      " \n",
      "ASTAR: 1\n",
      "Consequently we found the solutions: \n",
      "Array{LightGraphs.SimpleGraphs.SimpleEdge,1}[[Edge 37 => 48, Edge 48 => 59, Edge 59 => 70, Edge 70 => 81, Edge 81 => 92, Edge 92 => 103, Edge 103 => 104, Edge 104 => 105, Edge 105 => 116, Edge 116 => 117], [Edge 54 => 53, Edge 53 => 42, Edge 42 => 41, Edge 41 => 40, Edge 40 => 39, Edge 39 => 28, Edge 28 => 17, Edge 17 => 6, Edge 6 => 5], [Edge 112 => 113, Edge 113 => 114, Edge 114 => 115, Edge 115 => 116, Edge 116 => 117, Edge 117 => 118, Edge 118 => 119, Edge 119 => 108, Edge 108 => 97, Edge 97 => 86, Edge 86 => 75], [Edge 65 => 76, Edge 76 => 75, Edge 75 => 74, Edge 74 => 85, Edge 85 => 96, Edge 96 => 107, Edge 107 => 118], [Edge 97 => 96, Edge 96 => 95, Edge 95 => 84, Edge 84 => 73, Edge 73 => 72, Edge 72 => 71, Edge 71 => 70, Edge 70 => 59, Edge 59 => 58, Edge 58 => 57, Edge 57 => 56]]\n",
      "Adding new node to priority queue\n",
      "ASTAR: 1\n",
      "Consequently we found the solutions: \n",
      "Array{LightGraphs.SimpleGraphs.SimpleEdge,1}[[Edge 37 => 48, Edge 48 => 59, Edge 59 => 59, Edge 59 => 60, Edge 60 => 71, Edge 71 => 72, Edge 72 => 83, Edge 83 => 94, Edge 94 => 105, Edge 105 => 116, Edge 116 => 117], [Edge 54 => 53, Edge 53 => 42, Edge 42 => 41, Edge 41 => 40, Edge 40 => 39, Edge 39 => 28, Edge 28 => 17, Edge 17 => 6, Edge 6 => 5], [Edge 112 => 113, Edge 113 => 102, Edge 102 => 103, Edge 103 => 104, Edge 104 => 105, Edge 105 => 106, Edge 106 => 95, Edge 95 => 96, Edge 96 => 97, Edge 97 => 86, Edge 86 => 75], [Edge 65 => 76, Edge 76 => 75, Edge 75 => 74, Edge 74 => 85, Edge 85 => 96, Edge 96 => 107, Edge 107 => 118], [Edge 97 => 96, Edge 96 => 95, Edge 95 => 84, Edge 84 => 73, Edge 73 => 72, Edge 72 => 71, Edge 71 => 70, Edge 70 => 59, Edge 59 => 58, Edge 58 => 57, Edge 57 => 56]]\n",
      "Adding new node to priority queue\n",
      "\n",
      " \n",
      "ASTAR: 1\n",
      "Consequently we found the solutions: \n",
      "Array{LightGraphs.SimpleGraphs.SimpleEdge,1}[[Edge 37 => 48, Edge 48 => 59, Edge 59 => 70, Edge 70 => 70, Edge 70 => 71, Edge 71 => 72, Edge 72 => 83, Edge 83 => 94, Edge 94 => 105, Edge 105 => 116, Edge 116 => 117], [Edge 54 => 53, Edge 53 => 42, Edge 42 => 41, Edge 41 => 40, Edge 40 => 39, Edge 39 => 28, Edge 28 => 17, Edge 17 => 6, Edge 6 => 5], [Edge 112 => 113, Edge 113 => 102, Edge 102 => 103, Edge 103 => 104, Edge 104 => 105, Edge 105 => 106, Edge 106 => 95, Edge 95 => 96, Edge 96 => 97, Edge 97 => 86, Edge 86 => 75], [Edge 65 => 76, Edge 76 => 75, Edge 75 => 74, Edge 74 => 85, Edge 85 => 96, Edge 96 => 107, Edge 107 => 118], [Edge 97 => 96, Edge 96 => 95, Edge 95 => 94, Edge 94 => 93, Edge 93 => 92, Edge 92 => 91, Edge 91 => 80, Edge 80 => 69, Edge 69 => 68, Edge 68 => 57, Edge 57 => 56]]\n",
      "Adding new node to priority queue\n",
      "ASTAR: 1\n",
      "Consequently we found the solutions: \n",
      "Array{LightGraphs.SimpleGraphs.SimpleEdge,1}[[Edge 37 => 48, Edge 48 => 59, Edge 59 => 60, Edge 60 => 71, Edge 71 => 72, Edge 72 => 83, Edge 83 => 94, Edge 94 => 105, Edge 105 => 106, Edge 106 => 117], [Edge 54 => 53, Edge 53 => 42, Edge 42 => 41, Edge 41 => 40, Edge 40 => 39, Edge 39 => 28, Edge 28 => 17, Edge 17 => 6, Edge 6 => 5], [Edge 112 => 113, Edge 113 => 114, Edge 114 => 115, Edge 115 => 116, Edge 116 => 117, Edge 117 => 118, Edge 118 => 119, Edge 119 => 108, Edge 108 => 97, Edge 97 => 86, Edge 86 => 75], [Edge 65 => 76, Edge 76 => 75, Edge 75 => 74, Edge 74 => 85, Edge 85 => 96, Edge 96 => 107, Edge 107 => 118], [Edge 97 => 96, Edge 96 => 95, Edge 95 => 94, Edge 94 => 93, Edge 93 => 92, Edge 92 => 91, Edge 91 => 80, Edge 80 => 69, Edge 69 => 68, Edge 68 => 57, Edge 57 => 56]]\n",
      "Adding new node to priority queue\n",
      "\n",
      " \n",
      "Agents 5 and 1 conflict at node 83\n",
      "Pre existing constraint dict: CRCBS.ConstraintDict\n",
      "  node_constraints: Dict{Int64,Float64}\n",
      "  edge_constraints: Dict{Tuple{Int64,Int64},Float64}\n",
      "  a: Int64 1\n",
      "\n",
      "t_yield2: 7.0\n",
      "ASTAR: 1\n",
      "Consequently we found the solutions: \n",
      "Array{LightGraphs.SimpleGraphs.SimpleEdge,1}[[Edge 37 => 48, Edge 48 => 49, Edge 49 => 60, Edge 60 => 61, Edge 61 => 72, Edge 72 => 83, Edge 83 => 94, Edge 94 => 95, Edge 95 => 106, Edge 106 => 117], [Edge 54 => 53, Edge 53 => 42, Edge 42 => 41, Edge 41 => 40, Edge 40 => 39, Edge 39 => 28, Edge 28 => 17, Edge 17 => 6, Edge 6 => 5], [Edge 112 => 113, Edge 113 => 102, Edge 102 => 103, Edge 103 => 104, Edge 104 => 105, Edge 105 => 106, Edge 106 => 107, Edge 107 => 108, Edge 108 => 97, Edge 97 => 86, Edge 86 => 75], [Edge 65 => 64, Edge 64 => 75, Edge 75 => 86, Edge 86 => 97, Edge 97 => 108, Edge 108 => 119, Edge 119 => 118], [Edge 97 => 96, Edge 96 => 95, Edge 95 => 94, Edge 94 => 93, Edge 93 => 92, Edge 92 => 91, Edge 91 => 80, Edge 80 => 69, Edge 69 => 68, Edge 68 => 67, Edge 67 => 56]]\n",
      "Adding new node to priority queue\n",
      "ASTAR: 1\n",
      "Consequently we found the solutions: \n",
      "Array{LightGraphs.SimpleGraphs.SimpleEdge,1}[[Edge 37 => 36, Edge 36 => 47, Edge 47 => 58, Edge 58 => 69, Edge 69 => 80, Edge 80 => 91, Edge 91 => 92, Edge 92 => 93, Edge 93 => 94, Edge 94 => 105, Edge 105 => 106, Edge 106 => 117], [Edge 54 => 53, Edge 53 => 42, Edge 42 => 41, Edge 41 => 40, Edge 40 => 39, Edge 39 => 28, Edge 28 => 17, Edge 17 => 6, Edge 6 => 5], [Edge 112 => 113, Edge 113 => 102, Edge 102 => 103, Edge 103 => 104, Edge 104 => 105, Edge 105 => 106, Edge 106 => 107, Edge 107 => 108, Edge 108 => 97, Edge 97 => 86, Edge 86 => 75], [Edge 65 => 64, Edge 64 => 75, Edge 75 => 86, Edge 86 => 97, Edge 97 => 108, Edge 108 => 119, Edge 119 => 118], [Edge 97 => 96, Edge 96 => 95, Edge 95 => 84, Edge 84 => 83, Edge 83 => 82, Edge 82 => 81, Edge 81 => 80, Edge 80 => 79, Edge 79 => 78, Edge 78 => 67, Edge 67 => 56]]\n",
      "Adding new node to priority queue\n",
      "\n",
      " \n",
      "Agents 4 and 3 conflict at node 118\n",
      "ASTAR: 1\n",
      "Consequently we found the solutions: \n",
      "Array{LightGraphs.SimpleGraphs.SimpleEdge,1}[[Edge 37 => 48, Edge 48 => 59, Edge 59 => 60, Edge 60 => 71, Edge 71 => 72, Edge 72 => 83, Edge 83 => 94, Edge 94 => 105, Edge 105 => 106, Edge 106 => 117], [Edge 54 => 53, Edge 53 => 42, Edge 42 => 41, Edge 41 => 40, Edge 40 => 39, Edge 39 => 28, Edge 28 => 17, Edge 17 => 6, Edge 6 => 5], [Edge 112 => 101, Edge 101 => 102, Edge 102 => 103, Edge 103 => 92, Edge 92 => 93, Edge 93 => 82, Edge 82 => 83, Edge 83 => 72, Edge 72 => 73, Edge 73 => 74, Edge 74 => 75], [Edge 65 => 76, Edge 76 => 75, Edge 75 => 74, Edge 74 => 85, Edge 85 => 96, Edge 96 => 107, Edge 107 => 118], [Edge 97 => 96, Edge 96 => 95, Edge 95 => 94, Edge 94 => 93, Edge 93 => 92, Edge 92 => 91, Edge 91 => 80, Edge 80 => 69, Edge 69 => 68, Edge 68 => 57, Edge 57 => 56]]\n",
      "Adding new node to priority queue\n",
      "\n",
      " \n"
     ]
    },
    {
     "name": "stdout",
     "output_type": "stream",
     "text": [
      "Agents 3 and 1 conflict at node 106\n",
      "Pre existing constraint dict: CRCBS.ConstraintDict\n",
      "  node_constraints: Dict{Int64,Float64}\n",
      "  edge_constraints: Dict{Tuple{Int64,Int64},Float64}\n",
      "  a: Int64 1\n",
      "\n",
      "t_yield2: 9.0\n",
      "ASTAR: 1\n",
      "Consequently we found the solutions: \n",
      "Array{LightGraphs.SimpleGraphs.SimpleEdge,1}[[Edge 37 => 48, Edge 48 => 49, Edge 49 => 60, Edge 60 => 61, Edge 61 => 72, Edge 72 => 83, Edge 83 => 94, Edge 94 => 95, Edge 95 => 106, Edge 106 => 117], [Edge 54 => 53, Edge 53 => 42, Edge 42 => 41, Edge 41 => 40, Edge 40 => 39, Edge 39 => 28, Edge 28 => 17, Edge 17 => 6, Edge 6 => 5], [Edge 112 => 113, Edge 113 => 102, Edge 102 => 103, Edge 103 => 104, Edge 104 => 93, Edge 93 => 82, Edge 82 => 83, Edge 83 => 84, Edge 84 => 85, Edge 85 => 86, Edge 86 => 75], [Edge 65 => 64, Edge 64 => 75, Edge 75 => 86, Edge 86 => 97, Edge 97 => 108, Edge 108 => 119, Edge 119 => 118], [Edge 97 => 96, Edge 96 => 95, Edge 95 => 94, Edge 94 => 93, Edge 93 => 92, Edge 92 => 91, Edge 91 => 80, Edge 80 => 69, Edge 69 => 68, Edge 68 => 67, Edge 67 => 56]]\n",
      "Adding new node to priority queue\n",
      "ASTAR: 1\n",
      "Consequently we found the solutions: \n",
      "Array{LightGraphs.SimpleGraphs.SimpleEdge,1}[[Edge 37 => 36, Edge 36 => 47, Edge 47 => 58, Edge 58 => 69, Edge 69 => 80, Edge 80 => 91, Edge 91 => 92, Edge 92 => 93, Edge 93 => 94, Edge 94 => 105, Edge 105 => 106, Edge 106 => 117], [Edge 54 => 53, Edge 53 => 42, Edge 42 => 41, Edge 41 => 40, Edge 40 => 39, Edge 39 => 28, Edge 28 => 17, Edge 17 => 6, Edge 6 => 5], [Edge 112 => 113, Edge 113 => 102, Edge 102 => 103, Edge 103 => 104, Edge 104 => 105, Edge 105 => 106, Edge 106 => 107, Edge 107 => 108, Edge 108 => 97, Edge 97 => 86, Edge 86 => 75], [Edge 65 => 64, Edge 64 => 75, Edge 75 => 86, Edge 86 => 97, Edge 97 => 108, Edge 108 => 119, Edge 119 => 118], [Edge 97 => 96, Edge 96 => 95, Edge 95 => 94, Edge 94 => 93, Edge 93 => 92, Edge 92 => 91, Edge 91 => 80, Edge 80 => 69, Edge 69 => 68, Edge 68 => 67, Edge 67 => 56]]\n",
      "Adding new node to priority queue\n",
      "\n",
      " \n",
      "ASTAR: 1\n",
      "Consequently we found the solutions: \n",
      "Array{LightGraphs.SimpleGraphs.SimpleEdge,1}[[Edge 37 => 48, Edge 48 => 59, Edge 59 => 60, Edge 60 => 71, Edge 71 => 72, Edge 72 => 83, Edge 83 => 94, Edge 94 => 105, Edge 105 => 106, Edge 106 => 117], [Edge 54 => 53, Edge 53 => 42, Edge 42 => 41, Edge 41 => 40, Edge 40 => 39, Edge 39 => 28, Edge 28 => 17, Edge 17 => 6, Edge 6 => 5], [Edge 112 => 113, Edge 113 => 102, Edge 102 => 103, Edge 103 => 104, Edge 104 => 93, Edge 93 => 82, Edge 82 => 83, Edge 83 => 84, Edge 84 => 85, Edge 85 => 74, Edge 74 => 75], [Edge 65 => 76, Edge 76 => 75, Edge 75 => 74, Edge 74 => 85, Edge 85 => 96, Edge 96 => 107, Edge 107 => 118], [Edge 97 => 96, Edge 96 => 95, Edge 95 => 94, Edge 94 => 93, Edge 93 => 92, Edge 92 => 91, Edge 91 => 80, Edge 80 => 69, Edge 69 => 68, Edge 68 => 57, Edge 57 => 56]]\n",
      "Adding new node to priority queue\n",
      "ASTAR: 1\n",
      "Consequently we found the solutions: \n",
      "Array{LightGraphs.SimpleGraphs.SimpleEdge,1}[[Edge 37 => 48, Edge 48 => 59, Edge 59 => 60, Edge 60 => 71, Edge 71 => 72, Edge 72 => 83, Edge 83 => 94, Edge 94 => 105, Edge 105 => 106, Edge 106 => 117], [Edge 54 => 53, Edge 53 => 42, Edge 42 => 41, Edge 41 => 40, Edge 40 => 39, Edge 39 => 28, Edge 28 => 17, Edge 17 => 6, Edge 6 => 5], [Edge 112 => 101, Edge 101 => 102, Edge 102 => 103, Edge 103 => 92, Edge 92 => 93, Edge 93 => 82, Edge 82 => 83, Edge 83 => 72, Edge 72 => 73, Edge 73 => 74, Edge 74 => 75], [Edge 65 => 76, Edge 76 => 75, Edge 75 => 74, Edge 74 => 85, Edge 85 => 96, Edge 96 => 107, Edge 107 => 118], [Edge 97 => 96, Edge 96 => 85, Edge 85 => 84, Edge 84 => 73, Edge 73 => 72, Edge 72 => 71, Edge 71 => 60, Edge 60 => 59, Edge 59 => 58, Edge 58 => 57, Edge 57 => 56]]\n",
      "Adding new node to priority queue\n",
      "\n",
      " \n",
      "Agents 3 and 1 conflict at node 83\n",
      "Pre existing constraint dict: CRCBS.ConstraintDict\n",
      "  node_constraints: Dict{Int64,Float64}\n",
      "  edge_constraints: Dict{Tuple{Int64,Int64},Float64}\n",
      "  a: Int64 1\n",
      "\n",
      "t_yield2: 8.0\n",
      "ASTAR: 1\n",
      "Consequently we found the solutions: \n",
      "Array{LightGraphs.SimpleGraphs.SimpleEdge,1}[[Edge 37 => 48, Edge 48 => 49, Edge 49 => 60, Edge 60 => 61, Edge 61 => 72, Edge 72 => 83, Edge 83 => 94, Edge 94 => 95, Edge 95 => 106, Edge 106 => 117], [Edge 54 => 53, Edge 53 => 42, Edge 42 => 41, Edge 41 => 40, Edge 40 => 39, Edge 39 => 28, Edge 28 => 17, Edge 17 => 6, Edge 6 => 5], [Edge 112 => 113, Edge 113 => 102, Edge 102 => 103, Edge 103 => 104, Edge 104 => 93, Edge 93 => 82, Edge 82 => 71, Edge 71 => 72, Edge 72 => 73, Edge 73 => 74, Edge 74 => 75], [Edge 65 => 64, Edge 64 => 75, Edge 75 => 86, Edge 86 => 97, Edge 97 => 108, Edge 108 => 119, Edge 119 => 118], [Edge 97 => 96, Edge 96 => 95, Edge 95 => 94, Edge 94 => 93, Edge 93 => 92, Edge 92 => 91, Edge 91 => 80, Edge 80 => 69, Edge 69 => 68, Edge 68 => 67, Edge 67 => 56]]\n",
      "Adding new node to priority queue\n",
      "ASTAR: 1\n",
      "Consequently we found the solutions: \n",
      "Array{LightGraphs.SimpleGraphs.SimpleEdge,1}[[Edge 37 => 48, Edge 48 => 47, Edge 47 => 58, Edge 58 => 69, Edge 69 => 80, Edge 80 => 91, Edge 91 => 92, Edge 92 => 103, Edge 103 => 104, Edge 104 => 105, Edge 105 => 106, Edge 106 => 117], [Edge 54 => 53, Edge 53 => 42, Edge 42 => 41, Edge 41 => 40, Edge 40 => 39, Edge 39 => 28, Edge 28 => 17, Edge 17 => 6, Edge 6 => 5], [Edge 112 => 113, Edge 113 => 102, Edge 102 => 103, Edge 103 => 104, Edge 104 => 93, Edge 93 => 82, Edge 82 => 83, Edge 83 => 84, Edge 84 => 85, Edge 85 => 86, Edge 86 => 75], [Edge 65 => 64, Edge 64 => 75, Edge 75 => 86, Edge 86 => 97, Edge 97 => 108, Edge 108 => 119, Edge 119 => 118], [Edge 97 => 96, Edge 96 => 95, Edge 95 => 94, Edge 94 => 93, Edge 93 => 92, Edge 92 => 91, Edge 91 => 80, Edge 80 => 69, Edge 69 => 68, Edge 68 => 67, Edge 67 => 56]]\n",
      "Adding new node to priority queue\n",
      "\n",
      " \n",
      "ASTAR: 1\n",
      "Consequently we found the solutions: \n",
      "Array{LightGraphs.SimpleGraphs.SimpleEdge,1}[[Edge 37 => 48, Edge 48 => 59, Edge 59 => 60, Edge 60 => 71, Edge 71 => 72, Edge 72 => 83, Edge 83 => 94, Edge 94 => 105, Edge 105 => 106, Edge 106 => 117], [Edge 54 => 53, Edge 53 => 42, Edge 42 => 41, Edge 41 => 40, Edge 40 => 39, Edge 39 => 28, Edge 28 => 17, Edge 17 => 6, Edge 6 => 5], [Edge 112 => 101, Edge 101 => 102, Edge 102 => 103, Edge 103 => 92, Edge 92 => 93, Edge 93 => 82, Edge 82 => 83, Edge 83 => 72, Edge 72 => 73, Edge 73 => 74, Edge 74 => 75], [Edge 65 => 76, Edge 76 => 75, Edge 75 => 74, Edge 74 => 85, Edge 85 => 96, Edge 96 => 107, Edge 107 => 118], [Edge 97 => 96, Edge 96 => 85, Edge 85 => 84, Edge 84 => 73, Edge 73 => 72, Edge 72 => 71, Edge 71 => 60, Edge 60 => 59, Edge 59 => 58, Edge 58 => 57, Edge 57 => 56]]\n",
      "Adding new node to priority queue\n",
      "ASTAR: 1\n",
      "Consequently we found the solutions: \n",
      "Array{LightGraphs.SimpleGraphs.SimpleEdge,1}[[Edge 37 => 48, Edge 48 => 47, Edge 47 => 58, Edge 58 => 69, Edge 69 => 80, Edge 80 => 91, Edge 91 => 92, Edge 92 => 103, Edge 103 => 104, Edge 104 => 105, Edge 105 => 106, Edge 106 => 117], [Edge 54 => 53, Edge 53 => 42, Edge 42 => 41, Edge 41 => 40, Edge 40 => 39, Edge 39 => 28, Edge 28 => 17, Edge 17 => 6, Edge 6 => 5], [Edge 112 => 101, Edge 101 => 102, Edge 102 => 103, Edge 103 => 92, Edge 92 => 93, Edge 93 => 82, Edge 82 => 83, Edge 83 => 72, Edge 72 => 73, Edge 73 => 74, Edge 74 => 75], [Edge 65 => 76, Edge 76 => 75, Edge 75 => 74, Edge 74 => 85, Edge 85 => 96, Edge 96 => 107, Edge 107 => 118], [Edge 97 => 96, Edge 96 => 85, Edge 85 => 84, Edge 84 => 73, Edge 73 => 72, Edge 72 => 71, Edge 71 => 60, Edge 60 => 59, Edge 59 => 58, Edge 58 => 57, Edge 57 => 56]]\n",
      "Adding new node to priority queue\n",
      "\n",
      " \n",
      "Agents 3 and 1 conflict at node 83\n",
      "Pre existing constraint dict: CRCBS.ConstraintDict\n",
      "  node_constraints: Dict{Int64,Float64}\n",
      "  edge_constraints: Dict{Tuple{Int64,Int64},Float64}\n",
      "  a: Int64 1\n",
      "\n",
      "t_yield2: 9.0\n",
      "ASTAR: 1\n",
      "Consequently we found the solutions: \n",
      "Array{LightGraphs.SimpleGraphs.SimpleEdge,1}[[Edge 37 => 48, Edge 48 => 59, Edge 59 => 60, Edge 60 => 71, Edge 71 => 72, Edge 72 => 83, Edge 83 => 94, Edge 94 => 105, Edge 105 => 106, Edge 106 => 117], [Edge 54 => 53, Edge 53 => 42, Edge 42 => 41, Edge 41 => 40, Edge 40 => 39, Edge 39 => 28, Edge 28 => 17, Edge 17 => 6, Edge 6 => 5], [Edge 112 => 113, Edge 113 => 102, Edge 102 => 103, Edge 103 => 104, Edge 104 => 93, Edge 93 => 82, Edge 82 => 71, Edge 71 => 72, Edge 72 => 73, Edge 73 => 74, Edge 74 => 75], [Edge 65 => 76, Edge 76 => 75, Edge 75 => 74, Edge 74 => 85, Edge 85 => 96, Edge 96 => 107, Edge 107 => 118], [Edge 97 => 96, Edge 96 => 95, Edge 95 => 94, Edge 94 => 93, Edge 93 => 92, Edge 92 => 91, Edge 91 => 80, Edge 80 => 69, Edge 69 => 68, Edge 68 => 57, Edge 57 => 56]]\n",
      "Adding new node to priority queue\n",
      "ASTAR: 1\n"
     ]
    },
    {
     "name": "stdout",
     "output_type": "stream",
     "text": [
      "Consequently we found the solutions: \n",
      "Array{LightGraphs.SimpleGraphs.SimpleEdge,1}[[Edge 37 => 36, Edge 36 => 47, Edge 47 => 58, Edge 58 => 69, Edge 69 => 80, Edge 80 => 91, Edge 91 => 102, Edge 102 => 103, Edge 103 => 114, Edge 114 => 115, Edge 115 => 116, Edge 116 => 117], [Edge 54 => 53, Edge 53 => 42, Edge 42 => 41, Edge 41 => 40, Edge 40 => 39, Edge 39 => 28, Edge 28 => 17, Edge 17 => 6, Edge 6 => 5], [Edge 112 => 113, Edge 113 => 102, Edge 102 => 103, Edge 103 => 104, Edge 104 => 93, Edge 93 => 82, Edge 82 => 83, Edge 83 => 84, Edge 84 => 85, Edge 85 => 74, Edge 74 => 75], [Edge 65 => 76, Edge 76 => 75, Edge 75 => 74, Edge 74 => 85, Edge 85 => 96, Edge 96 => 107, Edge 107 => 118], [Edge 97 => 96, Edge 96 => 95, Edge 95 => 94, Edge 94 => 93, Edge 93 => 92, Edge 92 => 91, Edge 91 => 80, Edge 80 => 69, Edge 69 => 68, Edge 68 => 57, Edge 57 => 56]]\n",
      "Adding new node to priority queue\n",
      "\n",
      " \n",
      "Agents 4 and 3 conflict at node 118\n",
      "ASTAR: 1\n",
      "Consequently we found the solutions: \n",
      "Array{LightGraphs.SimpleGraphs.SimpleEdge,1}[[Edge 37 => 48, Edge 48 => 49, Edge 49 => 60, Edge 60 => 61, Edge 61 => 72, Edge 72 => 83, Edge 83 => 94, Edge 94 => 95, Edge 95 => 106, Edge 106 => 117], [Edge 54 => 53, Edge 53 => 42, Edge 42 => 41, Edge 41 => 40, Edge 40 => 39, Edge 39 => 28, Edge 28 => 17, Edge 17 => 6, Edge 6 => 5], [Edge 112 => 113, Edge 113 => 102, Edge 102 => 103, Edge 103 => 104, Edge 104 => 93, Edge 93 => 82, Edge 82 => 71, Edge 71 => 72, Edge 72 => 73, Edge 73 => 74, Edge 74 => 75], [Edge 65 => 76, Edge 76 => 75, Edge 75 => 74, Edge 74 => 85, Edge 85 => 96, Edge 96 => 107, Edge 107 => 118], [Edge 97 => 96, Edge 96 => 95, Edge 95 => 84, Edge 84 => 83, Edge 83 => 82, Edge 82 => 81, Edge 81 => 80, Edge 80 => 79, Edge 79 => 78, Edge 78 => 67, Edge 67 => 56]]\n",
      "Adding new node to priority queue\n",
      "\n",
      " \n",
      "Agents 4 and 3 conflict at node 118\n",
      "ASTAR: 1\n",
      "Consequently we found the solutions: \n",
      "Array{LightGraphs.SimpleGraphs.SimpleEdge,1}[[Edge 37 => 48, Edge 48 => 59, Edge 59 => 70, Edge 70 => 81, Edge 81 => 92, Edge 92 => 103, Edge 103 => 104, Edge 104 => 105, Edge 105 => 116, Edge 116 => 117], [Edge 54 => 53, Edge 53 => 42, Edge 42 => 41, Edge 41 => 40, Edge 40 => 39, Edge 39 => 28, Edge 28 => 17, Edge 17 => 6, Edge 6 => 5], [Edge 112 => 113, Edge 113 => 102, Edge 102 => 103, Edge 103 => 104, Edge 104 => 93, Edge 93 => 82, Edge 82 => 71, Edge 71 => 72, Edge 72 => 73, Edge 73 => 74, Edge 74 => 75], [Edge 65 => 76, Edge 76 => 75, Edge 75 => 74, Edge 74 => 85, Edge 85 => 96, Edge 96 => 107, Edge 107 => 118], [Edge 97 => 96, Edge 96 => 95, Edge 95 => 84, Edge 84 => 73, Edge 73 => 72, Edge 72 => 71, Edge 71 => 70, Edge 70 => 59, Edge 59 => 58, Edge 58 => 57, Edge 57 => 56]]\n",
      "Adding new node to priority queue\n",
      "\n",
      " \n",
      "Agents 3 and 5 conflict at node 82\n",
      "ASTAR: 1\n",
      "Consequently we found the solutions: \n",
      "Array{LightGraphs.SimpleGraphs.SimpleEdge,1}[[Edge 37 => 48, Edge 48 => 49, Edge 49 => 60, Edge 60 => 61, Edge 61 => 72, Edge 72 => 83, Edge 83 => 94, Edge 94 => 95, Edge 95 => 106, Edge 106 => 117], [Edge 54 => 53, Edge 53 => 42, Edge 42 => 41, Edge 41 => 40, Edge 40 => 39, Edge 39 => 28, Edge 28 => 17, Edge 17 => 6, Edge 6 => 5], [Edge 112 => 113, Edge 113 => 102, Edge 102 => 91, Edge 91 => 92, Edge 92 => 81, Edge 81 => 70, Edge 70 => 71, Edge 71 => 72, Edge 72 => 73, Edge 73 => 74, Edge 74 => 75], [Edge 65 => 76, Edge 76 => 75, Edge 75 => 74, Edge 74 => 85, Edge 85 => 96, Edge 96 => 107, Edge 107 => 118], [Edge 97 => 96, Edge 96 => 95, Edge 95 => 84, Edge 84 => 83, Edge 83 => 82, Edge 82 => 81, Edge 81 => 80, Edge 80 => 79, Edge 79 => 78, Edge 78 => 67, Edge 67 => 56]]\n",
      "Adding new node to priority queue\n",
      "ASTAR: 1\n",
      "Consequently we found the solutions: \n",
      "Array{LightGraphs.SimpleGraphs.SimpleEdge,1}[[Edge 37 => 48, Edge 48 => 49, Edge 49 => 60, Edge 60 => 61, Edge 61 => 72, Edge 72 => 83, Edge 83 => 94, Edge 94 => 95, Edge 95 => 106, Edge 106 => 117], [Edge 54 => 53, Edge 53 => 42, Edge 42 => 41, Edge 41 => 40, Edge 40 => 39, Edge 39 => 28, Edge 28 => 17, Edge 17 => 6, Edge 6 => 5], [Edge 112 => 113, Edge 113 => 102, Edge 102 => 103, Edge 103 => 104, Edge 104 => 93, Edge 93 => 82, Edge 82 => 71, Edge 71 => 72, Edge 72 => 73, Edge 73 => 74, Edge 74 => 75], [Edge 65 => 76, Edge 76 => 75, Edge 75 => 74, Edge 74 => 85, Edge 85 => 96, Edge 96 => 107, Edge 107 => 118], [Edge 97 => 96, Edge 96 => 85, Edge 85 => 84, Edge 84 => 73, Edge 73 => 72, Edge 72 => 71, Edge 71 => 60, Edge 60 => 59, Edge 59 => 58, Edge 58 => 57, Edge 57 => 56]]\n",
      "Adding new node to priority queue\n",
      "\n",
      " \n",
      "Agents 3 and 5 conflict at node 71\n",
      "ASTAR: 1\n",
      "Consequently we found the solutions: \n",
      "Array{LightGraphs.SimpleGraphs.SimpleEdge,1}[[Edge 37 => 48, Edge 48 => 59, Edge 59 => 70, Edge 70 => 81, Edge 81 => 92, Edge 92 => 103, Edge 103 => 104, Edge 104 => 105, Edge 105 => 116, Edge 116 => 117], [Edge 54 => 53, Edge 53 => 42, Edge 42 => 41, Edge 41 => 40, Edge 40 => 39, Edge 39 => 28, Edge 28 => 17, Edge 17 => 6, Edge 6 => 5], [Edge 112 => 101, Edge 101 => 102, Edge 102 => 103, Edge 103 => 103, Edge 103 => 104, Edge 104 => 93, Edge 93 => 82, Edge 82 => 71, Edge 71 => 72, Edge 72 => 73, Edge 73 => 74, Edge 74 => 75], [Edge 65 => 76, Edge 76 => 75, Edge 75 => 74, Edge 74 => 85, Edge 85 => 96, Edge 96 => 107, Edge 107 => 118], [Edge 97 => 96, Edge 96 => 95, Edge 95 => 84, Edge 84 => 73, Edge 73 => 72, Edge 72 => 71, Edge 71 => 70, Edge 70 => 59, Edge 59 => 58, Edge 58 => 57, Edge 57 => 56]]\n",
      "Adding new node to priority queue\n",
      "ASTAR: 1\n",
      "Consequently we found the solutions: \n",
      "Array{LightGraphs.SimpleGraphs.SimpleEdge,1}[[Edge 37 => 48, Edge 48 => 59, Edge 59 => 70, Edge 70 => 81, Edge 81 => 92, Edge 92 => 103, Edge 103 => 104, Edge 104 => 105, Edge 105 => 116, Edge 116 => 117], [Edge 54 => 53, Edge 53 => 42, Edge 42 => 41, Edge 41 => 40, Edge 40 => 39, Edge 39 => 28, Edge 28 => 17, Edge 17 => 6, Edge 6 => 5], [Edge 112 => 113, Edge 113 => 102, Edge 102 => 103, Edge 103 => 104, Edge 104 => 93, Edge 93 => 82, Edge 82 => 71, Edge 71 => 72, Edge 72 => 73, Edge 73 => 74, Edge 74 => 75], [Edge 65 => 76, Edge 76 => 75, Edge 75 => 74, Edge 74 => 85, Edge 85 => 96, Edge 96 => 107, Edge 107 => 118], [Edge 97 => 86, Edge 86 => 85, Edge 85 => 74, Edge 74 => 73, Edge 73 => 62, Edge 62 => 61, Edge 61 => 60, Edge 60 => 59, Edge 59 => 58, Edge 58 => 57, Edge 57 => 56]]\n",
      "Adding new node to priority queue\n",
      "\n",
      " \n",
      "Agents 4 and 3 conflict at node 118\n",
      "ASTAR: 1\n",
      "Consequently we found the solutions: \n",
      "Array{LightGraphs.SimpleGraphs.SimpleEdge,1}[[Edge 37 => 48, Edge 48 => 59, Edge 59 => 70, Edge 70 => 71, Edge 71 => 72, Edge 72 => 83, Edge 83 => 94, Edge 94 => 105, Edge 105 => 116, Edge 116 => 117], [Edge 54 => 53, Edge 53 => 42, Edge 42 => 41, Edge 41 => 40, Edge 40 => 39, Edge 39 => 28, Edge 28 => 17, Edge 17 => 6, Edge 6 => 5], [Edge 112 => 101, Edge 101 => 102, Edge 102 => 103, Edge 103 => 103, Edge 103 => 104, Edge 104 => 93, Edge 93 => 82, Edge 82 => 71, Edge 71 => 72, Edge 72 => 73, Edge 73 => 74, Edge 74 => 75], [Edge 65 => 76, Edge 76 => 75, Edge 75 => 74, Edge 74 => 85, Edge 85 => 96, Edge 96 => 107, Edge 107 => 118], [Edge 97 => 96, Edge 96 => 95, Edge 95 => 84, Edge 84 => 83, Edge 83 => 82, Edge 82 => 81, Edge 81 => 80, Edge 80 => 79, Edge 79 => 78, Edge 78 => 67, Edge 67 => 56]]\n",
      "Adding new node to priority queue\n",
      "\n",
      " \n",
      "Agents 5 and 1 conflict at node 72\n",
      "Pre existing constraint dict: CRCBS.ConstraintDict\n",
      "  node_constraints: Dict{Int64,Float64}\n",
      "  edge_constraints: Dict{Tuple{Int64,Int64},Float64}\n",
      "  a: Int64 1\n",
      "\n",
      "t_yield2: 5.0\n",
      "ASTAR: 1\n",
      "Consequently we found the solutions: \n",
      "Array{LightGraphs.SimpleGraphs.SimpleEdge,1}[[Edge 37 => 48, Edge 48 => 49, Edge 49 => 60, Edge 60 => 61, Edge 61 => 72, Edge 72 => 83, Edge 83 => 94, Edge 94 => 95, Edge 95 => 106, Edge 106 => 117], [Edge 54 => 53, Edge 53 => 42, Edge 42 => 41, Edge 41 => 40, Edge 40 => 39, Edge 39 => 28, Edge 28 => 17, Edge 17 => 6, Edge 6 => 5], [Edge 112 => 113, Edge 113 => 102, Edge 102 => 103, Edge 103 => 104, Edge 104 => 93, Edge 93 => 82, Edge 82 => 71, Edge 71 => 72, Edge 72 => 73, Edge 73 => 74, Edge 74 => 75], [Edge 65 => 76, Edge 76 => 75, Edge 75 => 74, Edge 74 => 85, Edge 85 => 96, Edge 96 => 107, Edge 107 => 118], [Edge 97 => 86, Edge 86 => 85, Edge 85 => 84, Edge 84 => 73, Edge 73 => 62, Edge 62 => 61, Edge 61 => 60, Edge 60 => 59, Edge 59 => 58, Edge 58 => 57, Edge 57 => 56]]\n",
      "Adding new node to priority queue\n",
      "ASTAR: 1\n"
     ]
    },
    {
     "name": "stdout",
     "output_type": "stream",
     "text": [
      "Consequently we found the solutions: \n",
      "Array{LightGraphs.SimpleGraphs.SimpleEdge,1}[[Edge 37 => 48, Edge 48 => 47, Edge 47 => 58, Edge 58 => 69, Edge 69 => 80, Edge 80 => 91, Edge 91 => 92, Edge 92 => 93, Edge 93 => 104, Edge 104 => 105, Edge 105 => 116, Edge 116 => 117], [Edge 54 => 53, Edge 53 => 42, Edge 42 => 41, Edge 41 => 40, Edge 40 => 39, Edge 39 => 28, Edge 28 => 17, Edge 17 => 6, Edge 6 => 5], [Edge 112 => 113, Edge 113 => 102, Edge 102 => 103, Edge 103 => 104, Edge 104 => 93, Edge 93 => 82, Edge 82 => 71, Edge 71 => 72, Edge 72 => 73, Edge 73 => 74, Edge 74 => 75], [Edge 65 => 76, Edge 76 => 75, Edge 75 => 74, Edge 74 => 85, Edge 85 => 96, Edge 96 => 107, Edge 107 => 118], [Edge 97 => 96, Edge 96 => 85, Edge 85 => 84, Edge 84 => 73, Edge 73 => 72, Edge 72 => 71, Edge 71 => 60, Edge 60 => 59, Edge 59 => 58, Edge 58 => 57, Edge 57 => 56]]\n",
      "Adding new node to priority queue\n",
      "\n",
      " \n",
      "ASTAR: 1\n",
      "Consequently we found the solutions: \n",
      "Array{LightGraphs.SimpleGraphs.SimpleEdge,1}[[Edge 37 => 48, Edge 48 => 59, Edge 59 => 70, Edge 70 => 81, Edge 81 => 92, Edge 92 => 103, Edge 103 => 104, Edge 104 => 105, Edge 105 => 116, Edge 116 => 117], [Edge 54 => 53, Edge 53 => 42, Edge 42 => 41, Edge 41 => 40, Edge 40 => 39, Edge 39 => 28, Edge 28 => 17, Edge 17 => 6, Edge 6 => 5], [Edge 112 => 113, Edge 113 => 102, Edge 102 => 103, Edge 103 => 104, Edge 104 => 93, Edge 93 => 82, Edge 82 => 71, Edge 71 => 72, Edge 72 => 73, Edge 73 => 74, Edge 74 => 75], [Edge 65 => 64, Edge 64 => 75, Edge 75 => 86, Edge 86 => 97, Edge 97 => 108, Edge 108 => 119, Edge 119 => 118], [Edge 97 => 86, Edge 86 => 85, Edge 85 => 74, Edge 74 => 73, Edge 73 => 62, Edge 62 => 61, Edge 61 => 60, Edge 60 => 59, Edge 59 => 58, Edge 58 => 57, Edge 57 => 56]]\n",
      "Adding new node to priority queue\n",
      "ASTAR: 1\n",
      "Consequently we found the solutions: \n",
      "Array{LightGraphs.SimpleGraphs.SimpleEdge,1}[[Edge 37 => 48, Edge 48 => 59, Edge 59 => 70, Edge 70 => 81, Edge 81 => 92, Edge 92 => 103, Edge 103 => 104, Edge 104 => 105, Edge 105 => 116, Edge 116 => 117], [Edge 54 => 53, Edge 53 => 42, Edge 42 => 41, Edge 41 => 40, Edge 40 => 39, Edge 39 => 28, Edge 28 => 17, Edge 17 => 6, Edge 6 => 5], [Edge 112 => 113, Edge 113 => 102, Edge 102 => 103, Edge 103 => 104, Edge 104 => 93, Edge 93 => 82, Edge 82 => 71, Edge 71 => 72, Edge 72 => 73, Edge 73 => 74, Edge 74 => 75], [Edge 65 => 76, Edge 76 => 75, Edge 75 => 74, Edge 74 => 85, Edge 85 => 96, Edge 96 => 107, Edge 107 => 118], [Edge 97 => 86, Edge 86 => 75, Edge 75 => 64, Edge 64 => 63, Edge 63 => 62, Edge 62 => 61, Edge 61 => 60, Edge 60 => 59, Edge 59 => 58, Edge 58 => 57, Edge 57 => 56]]\n",
      "Adding new node to priority queue\n",
      "\n",
      " \n",
      "Agents 4 and 3 conflict at node 118\n",
      "ASTAR: 1\n",
      "Consequently we found the solutions: \n",
      "Array{LightGraphs.SimpleGraphs.SimpleEdge,1}[[Edge 37 => 48, Edge 48 => 49, Edge 49 => 60, Edge 60 => 61, Edge 61 => 72, Edge 72 => 83, Edge 83 => 94, Edge 94 => 95, Edge 95 => 106, Edge 106 => 117], [Edge 54 => 53, Edge 53 => 42, Edge 42 => 41, Edge 41 => 40, Edge 40 => 39, Edge 39 => 28, Edge 28 => 17, Edge 17 => 6, Edge 6 => 5], [Edge 112 => 101, Edge 101 => 102, Edge 102 => 103, Edge 103 => 103, Edge 103 => 104, Edge 104 => 93, Edge 93 => 82, Edge 82 => 71, Edge 71 => 72, Edge 72 => 73, Edge 73 => 74, Edge 74 => 75], [Edge 65 => 76, Edge 76 => 75, Edge 75 => 74, Edge 74 => 85, Edge 85 => 96, Edge 96 => 107, Edge 107 => 118], [Edge 97 => 96, Edge 96 => 95, Edge 95 => 84, Edge 84 => 83, Edge 83 => 82, Edge 82 => 81, Edge 81 => 80, Edge 80 => 79, Edge 79 => 78, Edge 78 => 67, Edge 67 => 56]]\n",
      "Adding new node to priority queue\n",
      "\n",
      " \n",
      "Agents 5 and 1 conflict at node 61\n",
      "Pre existing constraint dict: CRCBS.ConstraintDict\n",
      "  node_constraints: Dict{Int64,Float64}\n",
      "  edge_constraints: Dict{Tuple{Int64,Int64},Float64}\n",
      "  a: Int64 1\n",
      "\n",
      "t_yield2: 6.0\n",
      "ASTAR: 1\n",
      "Consequently we found the solutions: \n",
      "Array{LightGraphs.SimpleGraphs.SimpleEdge,1}[[Edge 37 => 48, Edge 48 => 49, Edge 49 => 60, Edge 60 => 61, Edge 61 => 72, Edge 72 => 83, Edge 83 => 94, Edge 94 => 95, Edge 95 => 106, Edge 106 => 117], [Edge 54 => 53, Edge 53 => 42, Edge 42 => 41, Edge 41 => 40, Edge 40 => 39, Edge 39 => 28, Edge 28 => 17, Edge 17 => 6, Edge 6 => 5], [Edge 112 => 113, Edge 113 => 102, Edge 102 => 103, Edge 103 => 104, Edge 104 => 93, Edge 93 => 82, Edge 82 => 71, Edge 71 => 72, Edge 72 => 73, Edge 73 => 74, Edge 74 => 75], [Edge 65 => 76, Edge 76 => 75, Edge 75 => 74, Edge 74 => 85, Edge 85 => 96, Edge 96 => 107, Edge 107 => 118], [Edge 97 => 97, Edge 97 => 86, Edge 86 => 75, Edge 75 => 74, Edge 74 => 73, Edge 73 => 62, Edge 62 => 61, Edge 61 => 60, Edge 60 => 59, Edge 59 => 58, Edge 58 => 57, Edge 57 => 56]]\n",
      "Adding new node to priority queue\n",
      "ASTAR: 1\n",
      "Consequently we found the solutions: \n",
      "Array{LightGraphs.SimpleGraphs.SimpleEdge,1}[[Edge 37 => 36, Edge 36 => 47, Edge 47 => 58, Edge 58 => 69, Edge 69 => 80, Edge 80 => 91, Edge 91 => 92, Edge 92 => 103, Edge 103 => 104, Edge 104 => 105, Edge 105 => 116, Edge 116 => 117], [Edge 54 => 53, Edge 53 => 42, Edge 42 => 41, Edge 41 => 40, Edge 40 => 39, Edge 39 => 28, Edge 28 => 17, Edge 17 => 6, Edge 6 => 5], [Edge 112 => 113, Edge 113 => 102, Edge 102 => 103, Edge 103 => 104, Edge 104 => 93, Edge 93 => 82, Edge 82 => 71, Edge 71 => 72, Edge 72 => 73, Edge 73 => 74, Edge 74 => 75], [Edge 65 => 76, Edge 76 => 75, Edge 75 => 74, Edge 74 => 85, Edge 85 => 96, Edge 96 => 107, Edge 107 => 118], [Edge 97 => 86, Edge 86 => 85, Edge 85 => 84, Edge 84 => 73, Edge 73 => 62, Edge 62 => 61, Edge 61 => 60, Edge 60 => 59, Edge 59 => 58, Edge 58 => 57, Edge 57 => 56]]\n",
      "Adding new node to priority queue\n",
      "\n",
      " \n",
      "ASTAR: 1\n",
      "Consequently we found the solutions: \n",
      "Array{LightGraphs.SimpleGraphs.SimpleEdge,1}[[Edge 37 => 36, Edge 36 => 47, Edge 47 => 58, Edge 58 => 69, Edge 69 => 80, Edge 80 => 91, Edge 91 => 92, Edge 92 => 103, Edge 103 => 104, Edge 104 => 105, Edge 105 => 116, Edge 116 => 117], [Edge 54 => 53, Edge 53 => 42, Edge 42 => 41, Edge 41 => 40, Edge 40 => 39, Edge 39 => 28, Edge 28 => 17, Edge 17 => 6, Edge 6 => 5], [Edge 112 => 113, Edge 113 => 102, Edge 102 => 103, Edge 103 => 104, Edge 104 => 93, Edge 93 => 82, Edge 82 => 71, Edge 71 => 72, Edge 72 => 73, Edge 73 => 74, Edge 74 => 75], [Edge 65 => 64, Edge 64 => 75, Edge 75 => 86, Edge 86 => 97, Edge 97 => 108, Edge 108 => 119, Edge 119 => 118], [Edge 97 => 86, Edge 86 => 85, Edge 85 => 74, Edge 74 => 73, Edge 73 => 62, Edge 62 => 61, Edge 61 => 60, Edge 60 => 59, Edge 59 => 58, Edge 58 => 57, Edge 57 => 56]]\n",
      "Adding new node to priority queue\n",
      "ASTAR: 1\n",
      "Consequently we found the solutions: \n",
      "Array{LightGraphs.SimpleGraphs.SimpleEdge,1}[[Edge 37 => 48, Edge 48 => 59, Edge 59 => 70, Edge 70 => 81, Edge 81 => 92, Edge 92 => 103, Edge 103 => 104, Edge 104 => 105, Edge 105 => 116, Edge 116 => 117], [Edge 54 => 53, Edge 53 => 42, Edge 42 => 41, Edge 41 => 40, Edge 40 => 39, Edge 39 => 28, Edge 28 => 17, Edge 17 => 6, Edge 6 => 5], [Edge 112 => 101, Edge 101 => 102, Edge 102 => 103, Edge 103 => 103, Edge 103 => 104, Edge 104 => 93, Edge 93 => 82, Edge 82 => 71, Edge 71 => 72, Edge 72 => 73, Edge 73 => 74, Edge 74 => 75], [Edge 65 => 64, Edge 64 => 75, Edge 75 => 86, Edge 86 => 97, Edge 97 => 108, Edge 108 => 119, Edge 119 => 118], [Edge 97 => 86, Edge 86 => 85, Edge 85 => 74, Edge 74 => 73, Edge 73 => 62, Edge 62 => 61, Edge 61 => 60, Edge 60 => 59, Edge 59 => 58, Edge 58 => 57, Edge 57 => 56]]\n",
      "Adding new node to priority queue\n",
      "\n",
      " \n",
      "Agents 4 and 5 conflict at node 75\n",
      "ASTAR: 1\n",
      "Consequently we found the solutions: \n",
      "Array{LightGraphs.SimpleGraphs.SimpleEdge,1}[[Edge 37 => 48, Edge 48 => 59, Edge 59 => 70, Edge 70 => 81, Edge 81 => 92, Edge 92 => 103, Edge 103 => 104, Edge 104 => 105, Edge 105 => 116, Edge 116 => 117], [Edge 54 => 53, Edge 53 => 42, Edge 42 => 41, Edge 41 => 40, Edge 40 => 39, Edge 39 => 28, Edge 28 => 17, Edge 17 => 6, Edge 6 => 5], [Edge 112 => 113, Edge 113 => 102, Edge 102 => 103, Edge 103 => 104, Edge 104 => 93, Edge 93 => 82, Edge 82 => 71, Edge 71 => 72, Edge 72 => 73, Edge 73 => 74, Edge 74 => 75], [Edge 65 => 76, Edge 76 => 87, Edge 87 => 98, Edge 98 => 109, Edge 109 => 108, Edge 108 => 119, Edge 119 => 118], [Edge 97 => 86, Edge 86 => 75, Edge 75 => 64, Edge 64 => 63, Edge 63 => 62, Edge 62 => 61, Edge 61 => 60, Edge 60 => 59, Edge 59 => 58, Edge 58 => 57, Edge 57 => 56]]\n",
      "Adding new node to priority queue\n",
      "ASTAR: 1\n"
     ]
    },
    {
     "name": "stdout",
     "output_type": "stream",
     "text": [
      "Consequently we found the solutions: \n",
      "Array{LightGraphs.SimpleGraphs.SimpleEdge,1}[[Edge 37 => 48, Edge 48 => 59, Edge 59 => 70, Edge 70 => 81, Edge 81 => 92, Edge 92 => 103, Edge 103 => 104, Edge 104 => 105, Edge 105 => 116, Edge 116 => 117], [Edge 54 => 53, Edge 53 => 42, Edge 42 => 41, Edge 41 => 40, Edge 40 => 39, Edge 39 => 28, Edge 28 => 17, Edge 17 => 6, Edge 6 => 5], [Edge 112 => 113, Edge 113 => 102, Edge 102 => 103, Edge 103 => 104, Edge 104 => 93, Edge 93 => 82, Edge 82 => 71, Edge 71 => 72, Edge 72 => 73, Edge 73 => 74, Edge 74 => 75], [Edge 65 => 76, Edge 76 => 75, Edge 75 => 74, Edge 74 => 85, Edge 85 => 96, Edge 96 => 107, Edge 107 => 118], [Edge 97 => 96, Edge 96 => 85, Edge 85 => 84, Edge 84 => 84, Edge 84 => 73, Edge 73 => 62, Edge 62 => 61, Edge 61 => 60, Edge 60 => 59, Edge 59 => 58, Edge 58 => 57, Edge 57 => 56]]\n",
      "Adding new node to priority queue\n",
      "\n",
      " \n",
      "ASTAR: 1\n",
      "Consequently we found the solutions: \n",
      "Array{LightGraphs.SimpleGraphs.SimpleEdge,1}[[Edge 37 => 48, Edge 48 => 49, Edge 49 => 60, Edge 60 => 71, Edge 71 => 82, Edge 82 => 93, Edge 93 => 104, Edge 104 => 105, Edge 105 => 106, Edge 106 => 117], [Edge 54 => 53, Edge 53 => 42, Edge 42 => 41, Edge 41 => 40, Edge 40 => 39, Edge 39 => 28, Edge 28 => 17, Edge 17 => 6, Edge 6 => 5], [Edge 112 => 113, Edge 113 => 102, Edge 102 => 103, Edge 103 => 104, Edge 104 => 105, Edge 105 => 106, Edge 106 => 95, Edge 95 => 96, Edge 96 => 97, Edge 97 => 86, Edge 86 => 75], [Edge 65 => 76, Edge 76 => 75, Edge 75 => 74, Edge 74 => 85, Edge 85 => 96, Edge 96 => 107, Edge 107 => 118], [Edge 97 => 96, Edge 96 => 85, Edge 85 => 84, Edge 84 => 84, Edge 84 => 73, Edge 73 => 62, Edge 62 => 61, Edge 61 => 60, Edge 60 => 59, Edge 59 => 58, Edge 58 => 57, Edge 57 => 56]]\n",
      "Adding new node to priority queue\n",
      "ASTAR: 1\n",
      "Consequently we found the solutions: \n",
      "Array{LightGraphs.SimpleGraphs.SimpleEdge,1}[[Edge 37 => 48, Edge 48 => 49, Edge 49 => 60, Edge 60 => 71, Edge 71 => 82, Edge 82 => 93, Edge 93 => 104, Edge 104 => 105, Edge 105 => 106, Edge 106 => 117], [Edge 54 => 53, Edge 53 => 42, Edge 42 => 41, Edge 41 => 40, Edge 40 => 39, Edge 39 => 28, Edge 28 => 17, Edge 17 => 6, Edge 6 => 5], [Edge 112 => 113, Edge 113 => 102, Edge 102 => 103, Edge 103 => 104, Edge 104 => 105, Edge 105 => 106, Edge 106 => 95, Edge 95 => 96, Edge 96 => 97, Edge 97 => 86, Edge 86 => 75], [Edge 65 => 76, Edge 76 => 87, Edge 87 => 98, Edge 98 => 109, Edge 109 => 108, Edge 108 => 119, Edge 119 => 118], [Edge 97 => 96, Edge 96 => 85, Edge 85 => 74, Edge 74 => 73, Edge 73 => 72, Edge 72 => 71, Edge 71 => 70, Edge 70 => 69, Edge 69 => 68, Edge 68 => 67, Edge 67 => 56]]\n",
      "Adding new node to priority queue\n",
      "\n",
      " \n",
      "ASTAR: 1\n",
      "Consequently we found the solutions: \n",
      "Array{LightGraphs.SimpleGraphs.SimpleEdge,1}[[Edge 37 => 48, Edge 48 => 47, Edge 47 => 58, Edge 58 => 69, Edge 69 => 80, Edge 80 => 91, Edge 91 => 92, Edge 92 => 93, Edge 93 => 104, Edge 104 => 115, Edge 115 => 116, Edge 116 => 117], [Edge 54 => 53, Edge 53 => 42, Edge 42 => 41, Edge 41 => 40, Edge 40 => 39, Edge 39 => 28, Edge 28 => 17, Edge 17 => 6, Edge 6 => 5], [Edge 112 => 113, Edge 113 => 102, Edge 102 => 103, Edge 103 => 104, Edge 104 => 93, Edge 93 => 82, Edge 82 => 71, Edge 71 => 72, Edge 72 => 73, Edge 73 => 74, Edge 74 => 75], [Edge 65 => 76, Edge 76 => 87, Edge 87 => 98, Edge 98 => 109, Edge 109 => 108, Edge 108 => 119, Edge 119 => 118], [Edge 97 => 86, Edge 86 => 75, Edge 75 => 64, Edge 64 => 63, Edge 63 => 62, Edge 62 => 61, Edge 61 => 60, Edge 60 => 59, Edge 59 => 58, Edge 58 => 57, Edge 57 => 56]]\n",
      "Adding new node to priority queue\n",
      "ASTAR: 1\n",
      "Consequently we found the solutions: \n",
      "Array{LightGraphs.SimpleGraphs.SimpleEdge,1}[[Edge 37 => 48, Edge 48 => 59, Edge 59 => 70, Edge 70 => 81, Edge 81 => 92, Edge 92 => 103, Edge 103 => 104, Edge 104 => 105, Edge 105 => 116, Edge 116 => 117], [Edge 54 => 53, Edge 53 => 42, Edge 42 => 41, Edge 41 => 40, Edge 40 => 39, Edge 39 => 28, Edge 28 => 17, Edge 17 => 6, Edge 6 => 5], [Edge 112 => 101, Edge 101 => 102, Edge 102 => 103, Edge 103 => 103, Edge 103 => 104, Edge 104 => 93, Edge 93 => 82, Edge 82 => 71, Edge 71 => 72, Edge 72 => 73, Edge 73 => 74, Edge 74 => 75], [Edge 65 => 76, Edge 76 => 87, Edge 87 => 98, Edge 98 => 109, Edge 109 => 108, Edge 108 => 119, Edge 119 => 118], [Edge 97 => 86, Edge 86 => 75, Edge 75 => 64, Edge 64 => 63, Edge 63 => 62, Edge 62 => 61, Edge 61 => 60, Edge 60 => 59, Edge 59 => 58, Edge 58 => 57, Edge 57 => 56]]\n",
      "Adding new node to priority queue\n",
      "\n",
      " \n",
      "Agents 5 and 1 conflict at node 71\n",
      "Pre existing constraint dict: CRCBS.ConstraintDict\n",
      "  node_constraints: Dict{Int64,Float64}\n",
      "  edge_constraints: Dict{Tuple{Int64,Int64},Float64}\n",
      "  a: Int64 1\n",
      "\n",
      "t_yield2: 6.0\n",
      "ASTAR: 1\n",
      "Consequently we found the solutions: \n",
      "Array{LightGraphs.SimpleGraphs.SimpleEdge,1}[[Edge 37 => 48, Edge 48 => 49, Edge 49 => 60, Edge 60 => 71, Edge 71 => 82, Edge 82 => 93, Edge 93 => 104, Edge 104 => 105, Edge 105 => 106, Edge 106 => 117], [Edge 54 => 53, Edge 53 => 42, Edge 42 => 41, Edge 41 => 40, Edge 40 => 39, Edge 39 => 28, Edge 28 => 17, Edge 17 => 6, Edge 6 => 5], [Edge 112 => 113, Edge 113 => 102, Edge 102 => 103, Edge 103 => 104, Edge 104 => 105, Edge 105 => 106, Edge 106 => 95, Edge 95 => 96, Edge 96 => 97, Edge 97 => 86, Edge 86 => 75], [Edge 65 => 76, Edge 76 => 87, Edge 87 => 98, Edge 98 => 109, Edge 109 => 108, Edge 108 => 119, Edge 119 => 118], [Edge 97 => 96, Edge 96 => 85, Edge 85 => 84, Edge 84 => 84, Edge 84 => 73, Edge 73 => 62, Edge 62 => 61, Edge 61 => 60, Edge 60 => 59, Edge 59 => 58, Edge 58 => 57, Edge 57 => 56]]\n",
      "Adding new node to priority queue\n",
      "ASTAR: 1\n",
      "Consequently we found the solutions: \n",
      "Array{LightGraphs.SimpleGraphs.SimpleEdge,1}[[Edge 37 => 36, Edge 36 => 47, Edge 47 => 58, Edge 58 => 69, Edge 69 => 80, Edge 80 => 91, Edge 91 => 92, Edge 92 => 93, Edge 93 => 94, Edge 94 => 105, Edge 105 => 106, Edge 106 => 117], [Edge 54 => 53, Edge 53 => 42, Edge 42 => 41, Edge 41 => 40, Edge 40 => 39, Edge 39 => 28, Edge 28 => 17, Edge 17 => 6, Edge 6 => 5], [Edge 112 => 113, Edge 113 => 102, Edge 102 => 103, Edge 103 => 104, Edge 104 => 105, Edge 105 => 106, Edge 106 => 95, Edge 95 => 96, Edge 96 => 97, Edge 97 => 86, Edge 86 => 75], [Edge 65 => 76, Edge 76 => 87, Edge 87 => 98, Edge 98 => 109, Edge 109 => 108, Edge 108 => 119, Edge 119 => 118], [Edge 97 => 96, Edge 96 => 85, Edge 85 => 74, Edge 74 => 73, Edge 73 => 72, Edge 72 => 71, Edge 71 => 70, Edge 70 => 69, Edge 69 => 68, Edge 68 => 67, Edge 67 => 56]]\n",
      "Adding new node to priority queue\n",
      "\n",
      " \n",
      "Agents 3 and 5 conflict at node 81\n",
      "ASTAR: 1\n",
      "Consequently we found the solutions: \n",
      "Array{LightGraphs.SimpleGraphs.SimpleEdge,1}[[Edge 37 => 48, Edge 48 => 49, Edge 49 => 60, Edge 60 => 61, Edge 61 => 72, Edge 72 => 83, Edge 83 => 94, Edge 94 => 95, Edge 95 => 106, Edge 106 => 117], [Edge 54 => 53, Edge 53 => 42, Edge 42 => 41, Edge 41 => 40, Edge 40 => 39, Edge 39 => 28, Edge 28 => 17, Edge 17 => 6, Edge 6 => 5], [Edge 112 => 112, Edge 112 => 113, Edge 113 => 102, Edge 102 => 103, Edge 103 => 104, Edge 104 => 93, Edge 93 => 82, Edge 82 => 71, Edge 71 => 72, Edge 72 => 73, Edge 73 => 74, Edge 74 => 75], [Edge 65 => 76, Edge 76 => 75, Edge 75 => 74, Edge 74 => 85, Edge 85 => 96, Edge 96 => 107, Edge 107 => 118], [Edge 97 => 96, Edge 96 => 95, Edge 95 => 84, Edge 84 => 83, Edge 83 => 82, Edge 82 => 81, Edge 81 => 80, Edge 80 => 79, Edge 79 => 78, Edge 78 => 67, Edge 67 => 56]]\n",
      "Adding new node to priority queue\n",
      "ASTAR: 1\n",
      "Consequently we found the solutions: \n",
      "Array{LightGraphs.SimpleGraphs.SimpleEdge,1}[[Edge 37 => 48, Edge 48 => 49, Edge 49 => 60, Edge 60 => 61, Edge 61 => 72, Edge 72 => 83, Edge 83 => 94, Edge 94 => 95, Edge 95 => 106, Edge 106 => 117], [Edge 54 => 53, Edge 53 => 42, Edge 42 => 41, Edge 41 => 40, Edge 40 => 39, Edge 39 => 28, Edge 28 => 17, Edge 17 => 6, Edge 6 => 5], [Edge 112 => 113, Edge 113 => 102, Edge 102 => 91, Edge 91 => 92, Edge 92 => 81, Edge 81 => 70, Edge 70 => 71, Edge 71 => 72, Edge 72 => 73, Edge 73 => 74, Edge 74 => 75], [Edge 65 => 76, Edge 76 => 75, Edge 75 => 74, Edge 74 => 85, Edge 85 => 96, Edge 96 => 107, Edge 107 => 118], [Edge 97 => 96, Edge 96 => 85, Edge 85 => 84, Edge 84 => 84, Edge 84 => 73, Edge 73 => 62, Edge 62 => 61, Edge 61 => 60, Edge 60 => 59, Edge 59 => 58, Edge 58 => 57, Edge 57 => 56]]\n",
      "Adding new node to priority queue\n",
      "\n",
      " \n"
     ]
    },
    {
     "name": "stdout",
     "output_type": "stream",
     "text": [
      "Agents 3 and 5 conflict at node 93\n",
      "ASTAR: 1\n",
      "Consequently we found the solutions: \n",
      "Array{LightGraphs.SimpleGraphs.SimpleEdge,1}[[Edge 37 => 48, Edge 48 => 59, Edge 59 => 60, Edge 60 => 71, Edge 71 => 72, Edge 72 => 83, Edge 83 => 94, Edge 94 => 105, Edge 105 => 106, Edge 106 => 117], [Edge 54 => 53, Edge 53 => 42, Edge 42 => 41, Edge 41 => 40, Edge 40 => 39, Edge 39 => 28, Edge 28 => 17, Edge 17 => 6, Edge 6 => 5], [Edge 112 => 112, Edge 112 => 113, Edge 113 => 102, Edge 102 => 103, Edge 103 => 92, Edge 92 => 93, Edge 93 => 82, Edge 82 => 71, Edge 71 => 72, Edge 72 => 73, Edge 73 => 74, Edge 74 => 75], [Edge 65 => 76, Edge 76 => 75, Edge 75 => 74, Edge 74 => 85, Edge 85 => 96, Edge 96 => 107, Edge 107 => 118], [Edge 97 => 96, Edge 96 => 95, Edge 95 => 94, Edge 94 => 93, Edge 93 => 92, Edge 92 => 91, Edge 91 => 80, Edge 80 => 69, Edge 69 => 68, Edge 68 => 57, Edge 57 => 56]]\n",
      "Adding new node to priority queue\n",
      "ASTAR: 1\n",
      "Consequently we found the solutions: \n",
      "Array{LightGraphs.SimpleGraphs.SimpleEdge,1}[[Edge 37 => 48, Edge 48 => 59, Edge 59 => 60, Edge 60 => 71, Edge 71 => 72, Edge 72 => 83, Edge 83 => 94, Edge 94 => 105, Edge 105 => 106, Edge 106 => 117], [Edge 54 => 53, Edge 53 => 42, Edge 42 => 41, Edge 41 => 40, Edge 40 => 39, Edge 39 => 28, Edge 28 => 17, Edge 17 => 6, Edge 6 => 5], [Edge 112 => 113, Edge 113 => 102, Edge 102 => 103, Edge 103 => 104, Edge 104 => 93, Edge 93 => 82, Edge 82 => 71, Edge 71 => 72, Edge 72 => 73, Edge 73 => 74, Edge 74 => 75], [Edge 65 => 76, Edge 76 => 75, Edge 75 => 74, Edge 74 => 85, Edge 85 => 96, Edge 96 => 107, Edge 107 => 118], [Edge 97 => 97, Edge 97 => 96, Edge 96 => 95, Edge 95 => 84, Edge 84 => 73, Edge 73 => 62, Edge 62 => 61, Edge 61 => 60, Edge 60 => 59, Edge 59 => 58, Edge 58 => 57, Edge 57 => 56]]\n",
      "Adding new node to priority queue\n",
      "\n",
      " \n",
      "Agents 5 and 1 conflict at node 71\n",
      "Pre existing constraint dict: CRCBS.ConstraintDict\n",
      "  node_constraints: Dict{Int64,Float64}\n",
      "  edge_constraints: Dict{Tuple{Int64,Int64},Float64}\n",
      "  a: Int64 1\n",
      "\n",
      "t_yield2: 7.0\n",
      "ASTAR: 1\n",
      "Consequently we found the solutions: \n",
      "Array{LightGraphs.SimpleGraphs.SimpleEdge,1}[[Edge 37 => 38, Edge 38 => 49, Edge 49 => 60, Edge 60 => 71, Edge 71 => 82, Edge 82 => 93, Edge 93 => 104, Edge 104 => 115, Edge 115 => 116, Edge 116 => 117], [Edge 54 => 53, Edge 53 => 42, Edge 42 => 41, Edge 41 => 40, Edge 40 => 39, Edge 39 => 28, Edge 28 => 17, Edge 17 => 6, Edge 6 => 5], [Edge 112 => 113, Edge 113 => 102, Edge 102 => 103, Edge 103 => 104, Edge 104 => 105, Edge 105 => 106, Edge 106 => 95, Edge 95 => 96, Edge 96 => 97, Edge 97 => 86, Edge 86 => 75], [Edge 65 => 76, Edge 76 => 75, Edge 75 => 74, Edge 74 => 85, Edge 85 => 96, Edge 96 => 107, Edge 107 => 118], [Edge 97 => 96, Edge 96 => 95, Edge 95 => 95, Edge 95 => 84, Edge 84 => 73, Edge 73 => 62, Edge 62 => 61, Edge 61 => 60, Edge 60 => 59, Edge 59 => 58, Edge 58 => 57, Edge 57 => 56]]\n",
      "Adding new node to priority queue\n",
      "ASTAR: 1\n",
      "Consequently we found the solutions: \n",
      "Array{LightGraphs.SimpleGraphs.SimpleEdge,1}[[Edge 37 => 36, Edge 36 => 47, Edge 47 => 58, Edge 58 => 69, Edge 69 => 80, Edge 80 => 91, Edge 91 => 92, Edge 92 => 93, Edge 93 => 94, Edge 94 => 105, Edge 105 => 106, Edge 106 => 117], [Edge 54 => 53, Edge 53 => 42, Edge 42 => 41, Edge 41 => 40, Edge 40 => 39, Edge 39 => 28, Edge 28 => 17, Edge 17 => 6, Edge 6 => 5], [Edge 112 => 113, Edge 113 => 102, Edge 102 => 103, Edge 103 => 104, Edge 104 => 105, Edge 105 => 106, Edge 106 => 95, Edge 95 => 96, Edge 96 => 97, Edge 97 => 86, Edge 86 => 75], [Edge 65 => 76, Edge 76 => 75, Edge 75 => 74, Edge 74 => 85, Edge 85 => 96, Edge 96 => 107, Edge 107 => 118], [Edge 97 => 86, Edge 86 => 85, Edge 85 => 84, Edge 84 => 73, Edge 73 => 72, Edge 72 => 71, Edge 71 => 70, Edge 70 => 69, Edge 69 => 68, Edge 68 => 57, Edge 57 => 56]]\n",
      "Adding new node to priority queue\n",
      "\n",
      " \n",
      "ASTAR: 1\n",
      "Consequently we found the solutions: \n",
      "Array{LightGraphs.SimpleGraphs.SimpleEdge,1}[[Edge 37 => 48, Edge 48 => 59, Edge 59 => 60, Edge 60 => 71, Edge 71 => 72, Edge 72 => 83, Edge 83 => 94, Edge 94 => 105, Edge 105 => 106, Edge 106 => 117], [Edge 54 => 53, Edge 53 => 42, Edge 42 => 41, Edge 41 => 40, Edge 40 => 39, Edge 39 => 28, Edge 28 => 17, Edge 17 => 6, Edge 6 => 5], [Edge 112 => 101, Edge 101 => 102, Edge 102 => 103, Edge 103 => 92, Edge 92 => 93, Edge 93 => 82, Edge 82 => 83, Edge 83 => 72, Edge 72 => 73, Edge 73 => 74, Edge 74 => 75], [Edge 65 => 76, Edge 76 => 75, Edge 75 => 74, Edge 74 => 85, Edge 85 => 96, Edge 96 => 107, Edge 107 => 118], [Edge 97 => 96, Edge 96 => 95, Edge 95 => 95, Edge 95 => 84, Edge 84 => 73, Edge 73 => 62, Edge 62 => 61, Edge 61 => 60, Edge 60 => 59, Edge 59 => 58, Edge 58 => 57, Edge 57 => 56]]\n",
      "Adding new node to priority queue\n",
      "ASTAR: 1\n",
      "Consequently we found the solutions: \n",
      "Array{LightGraphs.SimpleGraphs.SimpleEdge,1}[[Edge 37 => 36, Edge 36 => 47, Edge 47 => 58, Edge 58 => 69, Edge 69 => 80, Edge 80 => 91, Edge 91 => 92, Edge 92 => 93, Edge 93 => 94, Edge 94 => 105, Edge 105 => 106, Edge 106 => 117], [Edge 54 => 53, Edge 53 => 42, Edge 42 => 41, Edge 41 => 40, Edge 40 => 39, Edge 39 => 28, Edge 28 => 17, Edge 17 => 6, Edge 6 => 5], [Edge 112 => 101, Edge 101 => 102, Edge 102 => 103, Edge 103 => 92, Edge 92 => 93, Edge 93 => 82, Edge 82 => 83, Edge 83 => 72, Edge 72 => 73, Edge 73 => 74, Edge 74 => 75], [Edge 65 => 76, Edge 76 => 75, Edge 75 => 74, Edge 74 => 85, Edge 85 => 96, Edge 96 => 107, Edge 107 => 118], [Edge 97 => 96, Edge 96 => 85, Edge 85 => 84, Edge 84 => 73, Edge 73 => 72, Edge 72 => 71, Edge 71 => 60, Edge 60 => 59, Edge 59 => 58, Edge 58 => 57, Edge 57 => 56]]\n",
      "Adding new node to priority queue\n",
      "\n",
      " \n",
      "Agents 3 and 5 conflict at node 93\n",
      "ASTAR: 1\n",
      "Consequently we found the solutions: \n",
      "Array{LightGraphs.SimpleGraphs.SimpleEdge,1}[[Edge 37 => 48, Edge 48 => 49, Edge 49 => 60, Edge 60 => 61, Edge 61 => 72, Edge 72 => 83, Edge 83 => 94, Edge 94 => 95, Edge 95 => 106, Edge 106 => 117], [Edge 54 => 53, Edge 53 => 42, Edge 42 => 41, Edge 41 => 40, Edge 40 => 39, Edge 39 => 28, Edge 28 => 17, Edge 17 => 6, Edge 6 => 5], [Edge 112 => 101, Edge 101 => 101, Edge 101 => 90, Edge 90 => 79, Edge 79 => 80, Edge 80 => 69, Edge 69 => 70, Edge 70 => 71, Edge 71 => 72, Edge 72 => 73, Edge 73 => 74, Edge 74 => 75], [Edge 65 => 64, Edge 64 => 75, Edge 75 => 86, Edge 86 => 97, Edge 97 => 108, Edge 108 => 119, Edge 119 => 118], [Edge 97 => 96, Edge 96 => 95, Edge 95 => 94, Edge 94 => 93, Edge 93 => 92, Edge 92 => 91, Edge 91 => 80, Edge 80 => 69, Edge 69 => 68, Edge 68 => 67, Edge 67 => 56]]\n",
      "Adding new node to priority queue\n",
      "ASTAR: 1\n",
      "Consequently we found the solutions: \n",
      "Array{LightGraphs.SimpleGraphs.SimpleEdge,1}[[Edge 37 => 48, Edge 48 => 49, Edge 49 => 60, Edge 60 => 61, Edge 61 => 72, Edge 72 => 83, Edge 83 => 94, Edge 94 => 95, Edge 95 => 106, Edge 106 => 117], [Edge 54 => 53, Edge 53 => 42, Edge 42 => 41, Edge 41 => 40, Edge 40 => 39, Edge 39 => 28, Edge 28 => 17, Edge 17 => 6, Edge 6 => 5], [Edge 112 => 113, Edge 113 => 102, Edge 102 => 103, Edge 103 => 104, Edge 104 => 93, Edge 93 => 82, Edge 82 => 71, Edge 71 => 72, Edge 72 => 73, Edge 73 => 74, Edge 74 => 75], [Edge 65 => 64, Edge 64 => 75, Edge 75 => 86, Edge 86 => 97, Edge 97 => 108, Edge 108 => 119, Edge 119 => 118], [Edge 97 => 96, Edge 96 => 95, Edge 95 => 84, Edge 84 => 73, Edge 73 => 62, Edge 62 => 62, Edge 62 => 61, Edge 61 => 60, Edge 60 => 59, Edge 59 => 58, Edge 58 => 57, Edge 57 => 56]]\n",
      "Adding new node to priority queue\n",
      "\n",
      " \n",
      "Agents 3 and 1 conflict at node 94\n",
      "Pre existing constraint dict: CRCBS.ConstraintDict\n",
      "  node_constraints: Dict{Int64,Float64}\n",
      "  edge_constraints: Dict{Tuple{Int64,Int64},Float64}\n",
      "  a: Int64 1\n",
      "\n",
      "t_yield2: 8.0\n",
      "ASTAR: 1\n",
      "Consequently we found the solutions: \n",
      "Array{LightGraphs.SimpleGraphs.SimpleEdge,1}[[Edge 37 => 48, Edge 48 => 59, Edge 59 => 59, Edge 59 => 60, Edge 60 => 71, Edge 71 => 72, Edge 72 => 83, Edge 83 => 94, Edge 94 => 105, Edge 105 => 116, Edge 116 => 117], [Edge 54 => 53, Edge 53 => 42, Edge 42 => 41, Edge 41 => 40, Edge 40 => 39, Edge 39 => 28, Edge 28 => 17, Edge 17 => 6, Edge 6 => 5], [Edge 112 => 101, Edge 101 => 101, Edge 101 => 90, Edge 90 => 79, Edge 79 => 80, Edge 80 => 69, Edge 69 => 70, Edge 70 => 71, Edge 71 => 72, Edge 72 => 73, Edge 73 => 74, Edge 74 => 75], [Edge 65 => 76, Edge 76 => 75, Edge 75 => 74, Edge 74 => 85, Edge 85 => 96, Edge 96 => 107, Edge 107 => 118], [Edge 97 => 96, Edge 96 => 95, Edge 95 => 84, Edge 84 => 83, Edge 83 => 82, Edge 82 => 81, Edge 81 => 80, Edge 80 => 79, Edge 79 => 78, Edge 78 => 67, Edge 67 => 56]]\n",
      "Adding new node to priority queue\n",
      "ASTAR: 1\n"
     ]
    },
    {
     "name": "stdout",
     "output_type": "stream",
     "text": [
      "Consequently we found the solutions: \n",
      "Array{LightGraphs.SimpleGraphs.SimpleEdge,1}[[Edge 37 => 36, Edge 36 => 47, Edge 47 => 58, Edge 58 => 69, Edge 69 => 80, Edge 80 => 91, Edge 91 => 92, Edge 92 => 93, Edge 93 => 94, Edge 94 => 105, Edge 105 => 106, Edge 106 => 117], [Edge 54 => 53, Edge 53 => 42, Edge 42 => 41, Edge 41 => 40, Edge 40 => 39, Edge 39 => 28, Edge 28 => 17, Edge 17 => 6, Edge 6 => 5], [Edge 112 => 113, Edge 113 => 102, Edge 102 => 103, Edge 103 => 104, Edge 104 => 93, Edge 93 => 94, Edge 94 => 95, Edge 95 => 96, Edge 96 => 97, Edge 97 => 86, Edge 86 => 75], [Edge 65 => 76, Edge 76 => 75, Edge 75 => 74, Edge 74 => 85, Edge 85 => 96, Edge 96 => 107, Edge 107 => 118], [Edge 97 => 96, Edge 96 => 95, Edge 95 => 84, Edge 84 => 83, Edge 83 => 82, Edge 82 => 81, Edge 81 => 80, Edge 80 => 79, Edge 79 => 78, Edge 78 => 67, Edge 67 => 56]]\n",
      "Adding new node to priority queue\n",
      "\n",
      " \n",
      "ASTAR: 1\n",
      "Consequently we found the solutions: \n",
      "Array{LightGraphs.SimpleGraphs.SimpleEdge,1}[[Edge 37 => 48, Edge 48 => 59, Edge 59 => 70, Edge 70 => 81, Edge 81 => 92, Edge 92 => 103, Edge 103 => 104, Edge 104 => 105, Edge 105 => 116, Edge 116 => 117], [Edge 54 => 53, Edge 53 => 42, Edge 42 => 41, Edge 41 => 40, Edge 40 => 39, Edge 39 => 28, Edge 28 => 17, Edge 17 => 6, Edge 6 => 5], [Edge 112 => 101, Edge 101 => 101, Edge 101 => 90, Edge 90 => 79, Edge 79 => 80, Edge 80 => 69, Edge 69 => 70, Edge 70 => 71, Edge 71 => 72, Edge 72 => 73, Edge 73 => 74, Edge 74 => 75], [Edge 65 => 76, Edge 76 => 87, Edge 87 => 98, Edge 98 => 109, Edge 109 => 108, Edge 108 => 119, Edge 119 => 118], [Edge 97 => 86, Edge 86 => 75, Edge 75 => 64, Edge 64 => 63, Edge 63 => 62, Edge 62 => 61, Edge 61 => 60, Edge 60 => 59, Edge 59 => 58, Edge 58 => 57, Edge 57 => 56]]\n",
      "Adding new node to priority queue\n",
      "ASTAR: 1\n",
      "Consequently we found the solutions: \n",
      "Array{LightGraphs.SimpleGraphs.SimpleEdge,1}[[Edge 37 => 36, Edge 36 => 47, Edge 47 => 58, Edge 58 => 69, Edge 69 => 80, Edge 80 => 91, Edge 91 => 92, Edge 92 => 93, Edge 93 => 94, Edge 94 => 105, Edge 105 => 106, Edge 106 => 117], [Edge 54 => 53, Edge 53 => 42, Edge 42 => 41, Edge 41 => 40, Edge 40 => 39, Edge 39 => 28, Edge 28 => 17, Edge 17 => 6, Edge 6 => 5], [Edge 112 => 101, Edge 101 => 102, Edge 102 => 103, Edge 103 => 103, Edge 103 => 104, Edge 104 => 93, Edge 93 => 82, Edge 82 => 71, Edge 71 => 72, Edge 72 => 73, Edge 73 => 74, Edge 74 => 75], [Edge 65 => 76, Edge 76 => 87, Edge 87 => 98, Edge 98 => 109, Edge 109 => 108, Edge 108 => 119, Edge 119 => 118], [Edge 97 => 86, Edge 86 => 75, Edge 75 => 64, Edge 64 => 63, Edge 63 => 62, Edge 62 => 61, Edge 61 => 60, Edge 60 => 59, Edge 59 => 58, Edge 58 => 57, Edge 57 => 56]]\n",
      "Adding new node to priority queue\n",
      "\n",
      " \n",
      "Agents 4 and 5 conflict at node 85\n",
      "ASTAR: 1\n",
      "Consequently we found the solutions: \n",
      "Array{LightGraphs.SimpleGraphs.SimpleEdge,1}[[Edge 37 => 48, Edge 48 => 49, Edge 49 => 60, Edge 60 => 61, Edge 61 => 72, Edge 72 => 83, Edge 83 => 94, Edge 94 => 95, Edge 95 => 106, Edge 106 => 117], [Edge 54 => 53, Edge 53 => 42, Edge 42 => 41, Edge 41 => 40, Edge 40 => 39, Edge 39 => 28, Edge 28 => 17, Edge 17 => 6, Edge 6 => 5], [Edge 112 => 113, Edge 113 => 102, Edge 102 => 91, Edge 91 => 92, Edge 92 => 81, Edge 81 => 70, Edge 70 => 71, Edge 71 => 72, Edge 72 => 73, Edge 73 => 74, Edge 74 => 75], [Edge 65 => 76, Edge 76 => 87, Edge 87 => 98, Edge 98 => 109, Edge 109 => 108, Edge 108 => 119, Edge 119 => 118], [Edge 97 => 96, Edge 96 => 85, Edge 85 => 84, Edge 84 => 84, Edge 84 => 73, Edge 73 => 62, Edge 62 => 61, Edge 61 => 60, Edge 60 => 59, Edge 59 => 58, Edge 58 => 57, Edge 57 => 56]]\n",
      "Adding new node to priority queue\n",
      "ASTAR: 1\n",
      "Consequently we found the solutions: \n",
      "Array{LightGraphs.SimpleGraphs.SimpleEdge,1}[[Edge 37 => 48, Edge 48 => 49, Edge 49 => 60, Edge 60 => 61, Edge 61 => 72, Edge 72 => 83, Edge 83 => 94, Edge 94 => 95, Edge 95 => 106, Edge 106 => 117], [Edge 54 => 53, Edge 53 => 42, Edge 42 => 41, Edge 41 => 40, Edge 40 => 39, Edge 39 => 28, Edge 28 => 17, Edge 17 => 6, Edge 6 => 5], [Edge 112 => 113, Edge 113 => 102, Edge 102 => 91, Edge 91 => 92, Edge 92 => 81, Edge 81 => 70, Edge 70 => 71, Edge 71 => 72, Edge 72 => 73, Edge 73 => 74, Edge 74 => 75], [Edge 65 => 76, Edge 76 => 75, Edge 75 => 74, Edge 74 => 85, Edge 85 => 96, Edge 96 => 107, Edge 107 => 118], [Edge 97 => 96, Edge 96 => 96, Edge 96 => 95, Edge 95 => 84, Edge 84 => 73, Edge 73 => 62, Edge 62 => 61, Edge 61 => 60, Edge 60 => 59, Edge 59 => 58, Edge 58 => 57, Edge 57 => 56]]\n",
      "Adding new node to priority queue\n",
      "\n",
      " \n",
      "Agents 3 and 1 conflict at node 104\n",
      "Pre existing constraint dict: CRCBS.ConstraintDict\n",
      "  node_constraints: Dict{Int64,Float64}\n",
      "  edge_constraints: Dict{Tuple{Int64,Int64},Float64}\n",
      "  a: Int64 1\n",
      "\n",
      "t_yield2: 7.0\n",
      "ASTAR: 1\n",
      "Consequently we found the solutions: \n",
      "Array{LightGraphs.SimpleGraphs.SimpleEdge,1}[[Edge 37 => 38, Edge 38 => 49, Edge 49 => 60, Edge 60 => 71, Edge 71 => 82, Edge 82 => 93, Edge 93 => 104, Edge 104 => 115, Edge 115 => 116, Edge 116 => 117], [Edge 54 => 53, Edge 53 => 42, Edge 42 => 41, Edge 41 => 40, Edge 40 => 39, Edge 39 => 28, Edge 28 => 17, Edge 17 => 6, Edge 6 => 5], [Edge 112 => 101, Edge 101 => 90, Edge 90 => 90, Edge 90 => 79, Edge 79 => 80, Edge 80 => 69, Edge 69 => 70, Edge 70 => 71, Edge 71 => 72, Edge 72 => 73, Edge 73 => 74, Edge 74 => 75], [Edge 65 => 76, Edge 76 => 75, Edge 75 => 74, Edge 74 => 85, Edge 85 => 96, Edge 96 => 107, Edge 107 => 118], [Edge 97 => 96, Edge 96 => 95, Edge 95 => 95, Edge 95 => 84, Edge 84 => 73, Edge 73 => 62, Edge 62 => 61, Edge 61 => 60, Edge 60 => 59, Edge 59 => 58, Edge 58 => 57, Edge 57 => 56]]\n",
      "Adding new node to priority queue\n",
      "ASTAR: 1\n",
      "Consequently we found the solutions: \n",
      "Array{LightGraphs.SimpleGraphs.SimpleEdge,1}[[Edge 37 => 48, Edge 48 => 47, Edge 47 => 58, Edge 58 => 69, Edge 69 => 80, Edge 80 => 91, Edge 91 => 92, Edge 92 => 93, Edge 93 => 94, Edge 94 => 105, Edge 105 => 106, Edge 106 => 117], [Edge 54 => 53, Edge 53 => 42, Edge 42 => 41, Edge 41 => 40, Edge 40 => 39, Edge 39 => 28, Edge 28 => 17, Edge 17 => 6, Edge 6 => 5], [Edge 112 => 113, Edge 113 => 102, Edge 102 => 103, Edge 103 => 104, Edge 104 => 105, Edge 105 => 106, Edge 106 => 95, Edge 95 => 96, Edge 96 => 97, Edge 97 => 86, Edge 86 => 75], [Edge 65 => 76, Edge 76 => 75, Edge 75 => 74, Edge 74 => 85, Edge 85 => 96, Edge 96 => 107, Edge 107 => 118], [Edge 97 => 96, Edge 96 => 95, Edge 95 => 95, Edge 95 => 84, Edge 84 => 73, Edge 73 => 62, Edge 62 => 61, Edge 61 => 60, Edge 60 => 59, Edge 59 => 58, Edge 58 => 57, Edge 57 => 56]]\n",
      "Adding new node to priority queue\n",
      "\n",
      " \n",
      "Agents 3 and 1 conflict at node 72\n",
      "Pre existing constraint dict: CRCBS.ConstraintDict\n",
      "  node_constraints: Dict{Int64,Float64}\n",
      "  edge_constraints: Dict{Tuple{Int64,Int64},Float64}\n",
      "  a: Int64 1\n",
      "\n",
      "t_yield2: 6.0\n",
      "ASTAR: 1\n",
      "Consequently we found the solutions: \n",
      "Array{LightGraphs.SimpleGraphs.SimpleEdge,1}[[Edge 37 => 48, Edge 48 => 49, Edge 49 => 60, Edge 60 => 61, Edge 61 => 72, Edge 72 => 83, Edge 83 => 94, Edge 94 => 95, Edge 95 => 106, Edge 106 => 117], [Edge 54 => 53, Edge 53 => 42, Edge 42 => 41, Edge 41 => 40, Edge 40 => 39, Edge 39 => 28, Edge 28 => 17, Edge 17 => 6, Edge 6 => 5], [Edge 112 => 101, Edge 101 => 90, Edge 90 => 90, Edge 90 => 79, Edge 79 => 80, Edge 80 => 69, Edge 69 => 70, Edge 70 => 71, Edge 71 => 72, Edge 72 => 73, Edge 73 => 74, Edge 74 => 75], [Edge 65 => 76, Edge 76 => 75, Edge 75 => 74, Edge 74 => 85, Edge 85 => 96, Edge 96 => 107, Edge 107 => 118], [Edge 97 => 96, Edge 96 => 96, Edge 96 => 95, Edge 95 => 84, Edge 84 => 73, Edge 73 => 62, Edge 62 => 61, Edge 61 => 60, Edge 60 => 59, Edge 59 => 58, Edge 58 => 57, Edge 57 => 56]]\n",
      "Adding new node to priority queue\n",
      "ASTAR: 1\n",
      "Consequently we found the solutions: \n",
      "Array{LightGraphs.SimpleGraphs.SimpleEdge,1}[[Edge 37 => 48, Edge 48 => 47, Edge 47 => 58, Edge 58 => 69, Edge 69 => 80, Edge 80 => 91, Edge 91 => 92, Edge 92 => 93, Edge 93 => 94, Edge 94 => 105, Edge 105 => 106, Edge 106 => 117], [Edge 54 => 53, Edge 53 => 42, Edge 42 => 41, Edge 41 => 40, Edge 40 => 39, Edge 39 => 28, Edge 28 => 17, Edge 17 => 6, Edge 6 => 5], [Edge 112 => 113, Edge 113 => 102, Edge 102 => 91, Edge 91 => 92, Edge 92 => 81, Edge 81 => 70, Edge 70 => 71, Edge 71 => 72, Edge 72 => 73, Edge 73 => 74, Edge 74 => 75], [Edge 65 => 76, Edge 76 => 75, Edge 75 => 74, Edge 74 => 85, Edge 85 => 96, Edge 96 => 107, Edge 107 => 118], [Edge 97 => 96, Edge 96 => 96, Edge 96 => 95, Edge 95 => 84, Edge 84 => 73, Edge 73 => 62, Edge 62 => 61, Edge 61 => 60, Edge 60 => 59, Edge 59 => 58, Edge 58 => 57, Edge 57 => 56]]\n",
      "Adding new node to priority queue\n",
      "\n",
      " \n"
     ]
    },
    {
     "name": "stdout",
     "output_type": "stream",
     "text": [
      "ASTAR: 1\n",
      "Consequently we found the solutions: \n",
      "Array{LightGraphs.SimpleGraphs.SimpleEdge,1}[[Edge 37 => 48, Edge 48 => 59, Edge 59 => 60, Edge 60 => 71, Edge 71 => 72, Edge 72 => 83, Edge 83 => 94, Edge 94 => 105, Edge 105 => 106, Edge 106 => 117], [Edge 54 => 53, Edge 53 => 42, Edge 42 => 41, Edge 41 => 40, Edge 40 => 39, Edge 39 => 28, Edge 28 => 17, Edge 17 => 6, Edge 6 => 5], [Edge 112 => 101, Edge 101 => 90, Edge 90 => 90, Edge 90 => 79, Edge 79 => 80, Edge 80 => 69, Edge 69 => 70, Edge 70 => 71, Edge 71 => 72, Edge 72 => 73, Edge 73 => 74, Edge 74 => 75], [Edge 65 => 76, Edge 76 => 75, Edge 75 => 74, Edge 74 => 85, Edge 85 => 96, Edge 96 => 107, Edge 107 => 118], [Edge 97 => 96, Edge 96 => 95, Edge 95 => 94, Edge 94 => 93, Edge 93 => 92, Edge 92 => 91, Edge 91 => 80, Edge 80 => 69, Edge 69 => 68, Edge 68 => 57, Edge 57 => 56]]\n",
      "Adding new node to priority queue\n",
      "ASTAR: 1\n",
      "Consequently we found the solutions: \n",
      "Array{LightGraphs.SimpleGraphs.SimpleEdge,1}[[Edge 37 => 48, Edge 48 => 59, Edge 59 => 60, Edge 60 => 71, Edge 71 => 72, Edge 72 => 83, Edge 83 => 94, Edge 94 => 105, Edge 105 => 106, Edge 106 => 117], [Edge 54 => 53, Edge 53 => 42, Edge 42 => 41, Edge 41 => 40, Edge 40 => 39, Edge 39 => 28, Edge 28 => 17, Edge 17 => 6, Edge 6 => 5], [Edge 112 => 112, Edge 112 => 113, Edge 113 => 102, Edge 102 => 103, Edge 103 => 92, Edge 92 => 93, Edge 93 => 82, Edge 82 => 71, Edge 71 => 72, Edge 72 => 73, Edge 73 => 74, Edge 74 => 75], [Edge 65 => 76, Edge 76 => 75, Edge 75 => 74, Edge 74 => 85, Edge 85 => 96, Edge 96 => 107, Edge 107 => 118], [Edge 97 => 96, Edge 96 => 96, Edge 96 => 95, Edge 95 => 84, Edge 84 => 73, Edge 73 => 62, Edge 62 => 61, Edge 61 => 60, Edge 60 => 59, Edge 59 => 58, Edge 58 => 57, Edge 57 => 56]]\n",
      "Adding new node to priority queue\n",
      "\n",
      " \n",
      "ASTAR: 1\n",
      "Consequently we found the solutions: \n",
      "Array{LightGraphs.SimpleGraphs.SimpleEdge,1}[[Edge 37 => 48, Edge 48 => 47, Edge 47 => 58, Edge 58 => 69, Edge 69 => 80, Edge 80 => 91, Edge 91 => 92, Edge 92 => 93, Edge 93 => 94, Edge 94 => 105, Edge 105 => 106, Edge 106 => 117], [Edge 54 => 53, Edge 53 => 42, Edge 42 => 41, Edge 41 => 40, Edge 40 => 39, Edge 39 => 28, Edge 28 => 17, Edge 17 => 6, Edge 6 => 5], [Edge 112 => 113, Edge 113 => 102, Edge 102 => 103, Edge 103 => 104, Edge 104 => 105, Edge 105 => 106, Edge 106 => 95, Edge 95 => 96, Edge 96 => 97, Edge 97 => 86, Edge 86 => 75], [Edge 65 => 76, Edge 76 => 87, Edge 87 => 98, Edge 98 => 109, Edge 109 => 108, Edge 108 => 119, Edge 119 => 118], [Edge 97 => 96, Edge 96 => 85, Edge 85 => 84, Edge 84 => 84, Edge 84 => 73, Edge 73 => 62, Edge 62 => 61, Edge 61 => 60, Edge 60 => 59, Edge 59 => 58, Edge 58 => 57, Edge 57 => 56]]\n",
      "Adding new node to priority queue\n",
      "ASTAR: 1\n",
      "Consequently we found the solutions: \n",
      "Array{LightGraphs.SimpleGraphs.SimpleEdge,1}[[Edge 37 => 48, Edge 48 => 49, Edge 49 => 60, Edge 60 => 71, Edge 71 => 82, Edge 82 => 93, Edge 93 => 104, Edge 104 => 105, Edge 105 => 106, Edge 106 => 117], [Edge 54 => 53, Edge 53 => 42, Edge 42 => 41, Edge 41 => 40, Edge 40 => 39, Edge 39 => 28, Edge 28 => 17, Edge 17 => 6, Edge 6 => 5], [Edge 112 => 101, Edge 101 => 90, Edge 90 => 90, Edge 90 => 79, Edge 79 => 80, Edge 80 => 69, Edge 69 => 70, Edge 70 => 71, Edge 71 => 72, Edge 72 => 73, Edge 73 => 74, Edge 74 => 75], [Edge 65 => 76, Edge 76 => 87, Edge 87 => 98, Edge 98 => 109, Edge 109 => 108, Edge 108 => 119, Edge 119 => 118], [Edge 97 => 96, Edge 96 => 85, Edge 85 => 84, Edge 84 => 84, Edge 84 => 73, Edge 73 => 62, Edge 62 => 61, Edge 61 => 60, Edge 60 => 59, Edge 59 => 58, Edge 58 => 57, Edge 57 => 56]]\n",
      "Adding new node to priority queue\n",
      "\n",
      " \n",
      "Agents 3 and 5 conflict at node 82\n",
      "ASTAR: 1\n",
      "Consequently we found the solutions: \n",
      "Array{LightGraphs.SimpleGraphs.SimpleEdge,1}[[Edge 37 => 48, Edge 48 => 49, Edge 49 => 60, Edge 60 => 61, Edge 61 => 72, Edge 72 => 83, Edge 83 => 94, Edge 94 => 95, Edge 95 => 106, Edge 106 => 117], [Edge 54 => 53, Edge 53 => 42, Edge 42 => 41, Edge 41 => 40, Edge 40 => 39, Edge 39 => 28, Edge 28 => 17, Edge 17 => 6, Edge 6 => 5], [Edge 112 => 101, Edge 101 => 90, Edge 90 => 90, Edge 90 => 79, Edge 79 => 80, Edge 80 => 69, Edge 69 => 70, Edge 70 => 71, Edge 71 => 72, Edge 72 => 73, Edge 73 => 74, Edge 74 => 75], [Edge 65 => 76, Edge 76 => 75, Edge 75 => 74, Edge 74 => 85, Edge 85 => 96, Edge 96 => 107, Edge 107 => 118], [Edge 97 => 96, Edge 96 => 95, Edge 95 => 84, Edge 84 => 83, Edge 83 => 82, Edge 82 => 81, Edge 81 => 80, Edge 80 => 79, Edge 79 => 78, Edge 78 => 67, Edge 67 => 56]]\n",
      "Adding new node to priority queue\n",
      "ASTAR: 1\n",
      "Consequently we found the solutions: \n",
      "Array{LightGraphs.SimpleGraphs.SimpleEdge,1}[[Edge 37 => 48, Edge 48 => 49, Edge 49 => 60, Edge 60 => 61, Edge 61 => 72, Edge 72 => 83, Edge 83 => 94, Edge 94 => 95, Edge 95 => 106, Edge 106 => 117], [Edge 54 => 53, Edge 53 => 42, Edge 42 => 41, Edge 41 => 40, Edge 40 => 39, Edge 39 => 28, Edge 28 => 17, Edge 17 => 6, Edge 6 => 5], [Edge 112 => 112, Edge 112 => 113, Edge 113 => 102, Edge 102 => 103, Edge 103 => 104, Edge 104 => 93, Edge 93 => 82, Edge 82 => 71, Edge 71 => 72, Edge 72 => 73, Edge 73 => 74, Edge 74 => 75], [Edge 65 => 76, Edge 76 => 75, Edge 75 => 74, Edge 74 => 85, Edge 85 => 96, Edge 96 => 107, Edge 107 => 118], [Edge 97 => 86, Edge 86 => 86, Edge 86 => 75, Edge 75 => 74, Edge 74 => 73, Edge 73 => 72, Edge 72 => 61, Edge 61 => 60, Edge 60 => 59, Edge 59 => 58, Edge 58 => 57, Edge 57 => 56]]\n",
      "Adding new node to priority queue\n",
      "\n",
      " \n",
      "Agents 4 and 5 conflict at node 85\n",
      "ASTAR: 1\n",
      "Consequently we found the solutions: \n",
      "Array{LightGraphs.SimpleGraphs.SimpleEdge,1}[[Edge 37 => 48, Edge 48 => 59, Edge 59 => 70, Edge 70 => 81, Edge 81 => 92, Edge 92 => 103, Edge 103 => 104, Edge 104 => 105, Edge 105 => 116, Edge 116 => 117], [Edge 54 => 53, Edge 53 => 42, Edge 42 => 41, Edge 41 => 40, Edge 40 => 39, Edge 39 => 28, Edge 28 => 17, Edge 17 => 6, Edge 6 => 5], [Edge 112 => 113, Edge 113 => 102, Edge 102 => 103, Edge 103 => 104, Edge 104 => 93, Edge 93 => 82, Edge 82 => 71, Edge 71 => 72, Edge 72 => 73, Edge 73 => 74, Edge 74 => 75], [Edge 65 => 76, Edge 76 => 87, Edge 87 => 98, Edge 98 => 109, Edge 109 => 120, Edge 120 => 119, Edge 119 => 118], [Edge 97 => 96, Edge 96 => 85, Edge 85 => 84, Edge 84 => 84, Edge 84 => 73, Edge 73 => 62, Edge 62 => 61, Edge 61 => 60, Edge 60 => 59, Edge 59 => 58, Edge 58 => 57, Edge 57 => 56]]\n",
      "Adding new node to priority queue\n",
      "ASTAR: 1\n",
      "Consequently we found the solutions: \n",
      "Array{LightGraphs.SimpleGraphs.SimpleEdge,1}[[Edge 37 => 48, Edge 48 => 59, Edge 59 => 70, Edge 70 => 81, Edge 81 => 92, Edge 92 => 103, Edge 103 => 104, Edge 104 => 105, Edge 105 => 116, Edge 116 => 117], [Edge 54 => 53, Edge 53 => 42, Edge 42 => 41, Edge 41 => 40, Edge 40 => 39, Edge 39 => 28, Edge 28 => 17, Edge 17 => 6, Edge 6 => 5], [Edge 112 => 113, Edge 113 => 102, Edge 102 => 103, Edge 103 => 104, Edge 104 => 93, Edge 93 => 82, Edge 82 => 71, Edge 71 => 72, Edge 72 => 73, Edge 73 => 74, Edge 74 => 75], [Edge 65 => 76, Edge 76 => 75, Edge 75 => 74, Edge 74 => 85, Edge 85 => 96, Edge 96 => 107, Edge 107 => 118], [Edge 97 => 97, Edge 97 => 96, Edge 96 => 95, Edge 95 => 84, Edge 84 => 73, Edge 73 => 72, Edge 72 => 61, Edge 61 => 60, Edge 60 => 59, Edge 59 => 58, Edge 58 => 57, Edge 57 => 56]]\n",
      "Adding new node to priority queue\n",
      "\n",
      " \n",
      "Agents 4 and 3 conflict at node 96\n",
      "ASTAR: 1\n",
      "Consequently we found the solutions: \n",
      "Array{LightGraphs.SimpleGraphs.SimpleEdge,1}[[Edge 37 => 48, Edge 48 => 59, Edge 59 => 60, Edge 60 => 61, Edge 61 => 61, Edge 61 => 72, Edge 72 => 83, Edge 83 => 94, Edge 94 => 105, Edge 105 => 116, Edge 116 => 117], [Edge 54 => 53, Edge 53 => 42, Edge 42 => 41, Edge 41 => 40, Edge 40 => 39, Edge 39 => 28, Edge 28 => 17, Edge 17 => 6, Edge 6 => 5], [Edge 112 => 113, Edge 113 => 102, Edge 102 => 103, Edge 103 => 104, Edge 104 => 105, Edge 105 => 106, Edge 106 => 95, Edge 95 => 96, Edge 96 => 97, Edge 97 => 86, Edge 86 => 75], [Edge 65 => 76, Edge 76 => 87, Edge 87 => 98, Edge 98 => 109, Edge 109 => 108, Edge 108 => 119, Edge 119 => 118], [Edge 97 => 96, Edge 96 => 95, Edge 95 => 84, Edge 84 => 83, Edge 83 => 82, Edge 82 => 81, Edge 81 => 80, Edge 80 => 79, Edge 79 => 78, Edge 78 => 67, Edge 67 => 56]]\n",
      "Adding new node to priority queue\n",
      "ASTAR: 1\n",
      "Consequently we found the solutions: \n",
      "Array{LightGraphs.SimpleGraphs.SimpleEdge,1}[[Edge 37 => 48, Edge 48 => 59, Edge 59 => 60, Edge 60 => 61, Edge 61 => 61, Edge 61 => 72, Edge 72 => 83, Edge 83 => 94, Edge 94 => 105, Edge 105 => 116, Edge 116 => 117], [Edge 54 => 53, Edge 53 => 42, Edge 42 => 41, Edge 41 => 40, Edge 40 => 39, Edge 39 => 28, Edge 28 => 17, Edge 17 => 6, Edge 6 => 5], [Edge 112 => 101, Edge 101 => 90, Edge 90 => 90, Edge 90 => 79, Edge 79 => 80, Edge 80 => 69, Edge 69 => 70, Edge 70 => 71, Edge 71 => 72, Edge 72 => 73, Edge 73 => 74, Edge 74 => 75], [Edge 65 => 76, Edge 76 => 75, Edge 75 => 74, Edge 74 => 85, Edge 85 => 96, Edge 96 => 107, Edge 107 => 118], [Edge 97 => 96, Edge 96 => 95, Edge 95 => 84, Edge 84 => 83, Edge 83 => 82, Edge 82 => 81, Edge 81 => 80, Edge 80 => 79, Edge 79 => 78, Edge 78 => 67, Edge 67 => 56]]\n",
      "Adding new node to priority queue\n",
      "\n",
      " \n"
     ]
    },
    {
     "name": "stdout",
     "output_type": "stream",
     "text": [
      "Agents 3 and 5 conflict at node 72\n",
      "ASTAR: 1\n",
      "Consequently we found the solutions: \n",
      "Array{LightGraphs.SimpleGraphs.SimpleEdge,1}[[Edge 37 => 48, Edge 48 => 59, Edge 59 => 70, Edge 70 => 81, Edge 81 => 92, Edge 92 => 103, Edge 103 => 104, Edge 104 => 105, Edge 105 => 116, Edge 116 => 117], [Edge 54 => 53, Edge 53 => 42, Edge 42 => 41, Edge 41 => 40, Edge 40 => 39, Edge 39 => 28, Edge 28 => 17, Edge 17 => 6, Edge 6 => 5], [Edge 112 => 113, Edge 113 => 102, Edge 102 => 91, Edge 91 => 91, Edge 91 => 80, Edge 80 => 69, Edge 69 => 70, Edge 70 => 71, Edge 71 => 71, Edge 71 => 72, Edge 72 => 73, Edge 73 => 74, Edge 74 => 75], [Edge 65 => 76, Edge 76 => 75, Edge 75 => 74, Edge 74 => 85, Edge 85 => 96, Edge 96 => 107, Edge 107 => 118], [Edge 97 => 97, Edge 97 => 96, Edge 96 => 95, Edge 95 => 84, Edge 84 => 73, Edge 73 => 72, Edge 72 => 61, Edge 61 => 60, Edge 60 => 59, Edge 59 => 58, Edge 58 => 57, Edge 57 => 56]]\n",
      "Adding new node to priority queue\n",
      "ASTAR: 1\n",
      "Consequently we found the solutions: \n",
      "Array{LightGraphs.SimpleGraphs.SimpleEdge,1}[[Edge 37 => 48, Edge 48 => 59, Edge 59 => 70, Edge 70 => 81, Edge 81 => 92, Edge 92 => 103, Edge 103 => 104, Edge 104 => 105, Edge 105 => 116, Edge 116 => 117], [Edge 54 => 53, Edge 53 => 42, Edge 42 => 41, Edge 41 => 40, Edge 40 => 39, Edge 39 => 28, Edge 28 => 17, Edge 17 => 6, Edge 6 => 5], [Edge 112 => 113, Edge 113 => 102, Edge 102 => 103, Edge 103 => 104, Edge 104 => 93, Edge 93 => 82, Edge 82 => 71, Edge 71 => 72, Edge 72 => 73, Edge 73 => 74, Edge 74 => 75], [Edge 65 => 76, Edge 76 => 75, Edge 75 => 74, Edge 74 => 85, Edge 85 => 96, Edge 96 => 107, Edge 107 => 118], [Edge 97 => 97, Edge 97 => 86, Edge 86 => 75, Edge 75 => 74, Edge 74 => 73, Edge 73 => 62, Edge 62 => 61, Edge 61 => 60, Edge 60 => 59, Edge 59 => 58, Edge 58 => 57, Edge 57 => 56]]\n",
      "Adding new node to priority queue\n",
      "\n",
      " \n",
      "ASTAR: 1\n",
      "Consequently we found the solutions: \n",
      "Array{LightGraphs.SimpleGraphs.SimpleEdge,1}[[Edge 37 => 48, Edge 48 => 47, Edge 47 => 58, Edge 58 => 69, Edge 69 => 80, Edge 80 => 91, Edge 91 => 92, Edge 92 => 93, Edge 93 => 94, Edge 94 => 105, Edge 105 => 106, Edge 106 => 117], [Edge 54 => 53, Edge 53 => 42, Edge 42 => 41, Edge 41 => 40, Edge 40 => 39, Edge 39 => 28, Edge 28 => 17, Edge 17 => 6, Edge 6 => 5], [Edge 112 => 113, Edge 113 => 102, Edge 102 => 103, Edge 103 => 104, Edge 104 => 105, Edge 105 => 106, Edge 106 => 95, Edge 95 => 96, Edge 96 => 97, Edge 97 => 86, Edge 86 => 75], [Edge 65 => 76, Edge 76 => 75, Edge 75 => 74, Edge 74 => 85, Edge 85 => 96, Edge 96 => 107, Edge 107 => 118], [Edge 97 => 96, Edge 96 => 85, Edge 85 => 84, Edge 84 => 84, Edge 84 => 73, Edge 73 => 62, Edge 62 => 61, Edge 61 => 60, Edge 60 => 59, Edge 59 => 58, Edge 58 => 57, Edge 57 => 56]]\n",
      "Adding new node to priority queue\n",
      "ASTAR: 1\n",
      "Consequently we found the solutions: \n",
      "Array{LightGraphs.SimpleGraphs.SimpleEdge,1}[[Edge 37 => 48, Edge 48 => 49, Edge 49 => 60, Edge 60 => 71, Edge 71 => 82, Edge 82 => 93, Edge 93 => 104, Edge 104 => 105, Edge 105 => 106, Edge 106 => 117], [Edge 54 => 53, Edge 53 => 42, Edge 42 => 41, Edge 41 => 40, Edge 40 => 39, Edge 39 => 28, Edge 28 => 17, Edge 17 => 6, Edge 6 => 5], [Edge 112 => 113, Edge 113 => 102, Edge 102 => 91, Edge 91 => 91, Edge 91 => 80, Edge 80 => 69, Edge 69 => 70, Edge 70 => 71, Edge 71 => 71, Edge 71 => 72, Edge 72 => 73, Edge 73 => 74, Edge 74 => 75], [Edge 65 => 76, Edge 76 => 75, Edge 75 => 74, Edge 74 => 85, Edge 85 => 96, Edge 96 => 107, Edge 107 => 118], [Edge 97 => 96, Edge 96 => 85, Edge 85 => 84, Edge 84 => 84, Edge 84 => 73, Edge 73 => 62, Edge 62 => 61, Edge 61 => 60, Edge 60 => 59, Edge 59 => 58, Edge 58 => 57, Edge 57 => 56]]\n",
      "Adding new node to priority queue\n",
      "\n",
      " \n",
      "Agents 4 and 3 conflict at node 96\n",
      "ASTAR: 1\n",
      "Consequently we found the solutions: \n",
      "Array{LightGraphs.SimpleGraphs.SimpleEdge,1}[[Edge 37 => 48, Edge 48 => 59, Edge 59 => 59, Edge 59 => 60, Edge 60 => 71, Edge 71 => 72, Edge 72 => 83, Edge 83 => 94, Edge 94 => 105, Edge 105 => 116, Edge 116 => 117], [Edge 54 => 53, Edge 53 => 42, Edge 42 => 41, Edge 41 => 40, Edge 40 => 39, Edge 39 => 28, Edge 28 => 17, Edge 17 => 6, Edge 6 => 5], [Edge 112 => 113, Edge 113 => 102, Edge 102 => 103, Edge 103 => 104, Edge 104 => 105, Edge 105 => 106, Edge 106 => 95, Edge 95 => 96, Edge 96 => 97, Edge 97 => 86, Edge 86 => 75], [Edge 65 => 76, Edge 76 => 87, Edge 87 => 98, Edge 98 => 109, Edge 109 => 108, Edge 108 => 119, Edge 119 => 118], [Edge 97 => 96, Edge 96 => 95, Edge 95 => 84, Edge 84 => 83, Edge 83 => 82, Edge 82 => 81, Edge 81 => 80, Edge 80 => 79, Edge 79 => 78, Edge 78 => 67, Edge 67 => 56]]\n",
      "Adding new node to priority queue\n",
      "ASTAR: 1\n",
      "Consequently we found the solutions: \n",
      "Array{LightGraphs.SimpleGraphs.SimpleEdge,1}[[Edge 37 => 48, Edge 48 => 59, Edge 59 => 59, Edge 59 => 60, Edge 60 => 71, Edge 71 => 72, Edge 72 => 83, Edge 83 => 94, Edge 94 => 105, Edge 105 => 116, Edge 116 => 117], [Edge 54 => 53, Edge 53 => 42, Edge 42 => 41, Edge 41 => 40, Edge 40 => 39, Edge 39 => 28, Edge 28 => 17, Edge 17 => 6, Edge 6 => 5], [Edge 112 => 113, Edge 113 => 102, Edge 102 => 91, Edge 91 => 91, Edge 91 => 80, Edge 80 => 69, Edge 69 => 70, Edge 70 => 71, Edge 71 => 71, Edge 71 => 72, Edge 72 => 73, Edge 73 => 74, Edge 74 => 75], [Edge 65 => 76, Edge 76 => 75, Edge 75 => 74, Edge 74 => 85, Edge 85 => 96, Edge 96 => 107, Edge 107 => 118], [Edge 97 => 96, Edge 96 => 95, Edge 95 => 84, Edge 84 => 83, Edge 83 => 82, Edge 82 => 81, Edge 81 => 80, Edge 80 => 79, Edge 79 => 78, Edge 78 => 67, Edge 67 => 56]]\n",
      "Adding new node to priority queue\n",
      "\n",
      " \n",
      "Agents 4 and 3 conflict at node 96\n",
      "ASTAR: 1\n",
      "Consequently we found the solutions: \n",
      "Array{LightGraphs.SimpleGraphs.SimpleEdge,1}[[Edge 37 => 48, Edge 48 => 59, Edge 59 => 70, Edge 70 => 70, Edge 70 => 71, Edge 71 => 72, Edge 72 => 83, Edge 83 => 94, Edge 94 => 105, Edge 105 => 116, Edge 116 => 117], [Edge 54 => 53, Edge 53 => 42, Edge 42 => 41, Edge 41 => 40, Edge 40 => 39, Edge 39 => 28, Edge 28 => 17, Edge 17 => 6, Edge 6 => 5], [Edge 112 => 113, Edge 113 => 102, Edge 102 => 103, Edge 103 => 104, Edge 104 => 105, Edge 105 => 106, Edge 106 => 95, Edge 95 => 96, Edge 96 => 97, Edge 97 => 86, Edge 86 => 75], [Edge 65 => 76, Edge 76 => 87, Edge 87 => 98, Edge 98 => 109, Edge 109 => 108, Edge 108 => 119, Edge 119 => 118], [Edge 97 => 96, Edge 96 => 95, Edge 95 => 94, Edge 94 => 93, Edge 93 => 92, Edge 92 => 91, Edge 91 => 80, Edge 80 => 69, Edge 69 => 68, Edge 68 => 57, Edge 57 => 56]]\n",
      "Adding new node to priority queue\n",
      "ASTAR: 1\n",
      "Consequently we found the solutions: \n",
      "Array{LightGraphs.SimpleGraphs.SimpleEdge,1}[[Edge 37 => 48, Edge 48 => 59, Edge 59 => 70, Edge 70 => 70, Edge 70 => 71, Edge 71 => 72, Edge 72 => 83, Edge 83 => 94, Edge 94 => 105, Edge 105 => 116, Edge 116 => 117], [Edge 54 => 53, Edge 53 => 42, Edge 42 => 41, Edge 41 => 40, Edge 40 => 39, Edge 39 => 28, Edge 28 => 17, Edge 17 => 6, Edge 6 => 5], [Edge 112 => 113, Edge 113 => 102, Edge 102 => 91, Edge 91 => 91, Edge 91 => 80, Edge 80 => 69, Edge 69 => 70, Edge 70 => 71, Edge 71 => 71, Edge 71 => 72, Edge 72 => 73, Edge 73 => 74, Edge 74 => 75], [Edge 65 => 76, Edge 76 => 75, Edge 75 => 74, Edge 74 => 85, Edge 85 => 96, Edge 96 => 107, Edge 107 => 118], [Edge 97 => 96, Edge 96 => 95, Edge 95 => 94, Edge 94 => 93, Edge 93 => 92, Edge 92 => 91, Edge 91 => 80, Edge 80 => 69, Edge 69 => 68, Edge 68 => 57, Edge 57 => 56]]\n",
      "Adding new node to priority queue\n",
      "\n",
      " \n",
      "Agents 3 and 5 conflict at node 82\n",
      "ASTAR: 1\n",
      "Consequently we found the solutions: \n",
      "Array{LightGraphs.SimpleGraphs.SimpleEdge,1}[[Edge 37 => 48, Edge 48 => 49, Edge 49 => 60, Edge 60 => 61, Edge 61 => 72, Edge 72 => 83, Edge 83 => 94, Edge 94 => 95, Edge 95 => 106, Edge 106 => 117], [Edge 54 => 53, Edge 53 => 42, Edge 42 => 41, Edge 41 => 40, Edge 40 => 39, Edge 39 => 28, Edge 28 => 17, Edge 17 => 6, Edge 6 => 5], [Edge 112 => 112, Edge 112 => 101, Edge 101 => 90, Edge 90 => 91, Edge 91 => 80, Edge 80 => 69, Edge 69 => 70, Edge 70 => 71, Edge 71 => 71, Edge 71 => 72, Edge 72 => 73, Edge 73 => 74, Edge 74 => 75], [Edge 65 => 76, Edge 76 => 75, Edge 75 => 74, Edge 74 => 85, Edge 85 => 96, Edge 96 => 107, Edge 107 => 118], [Edge 97 => 96, Edge 96 => 95, Edge 95 => 84, Edge 84 => 83, Edge 83 => 82, Edge 82 => 81, Edge 81 => 80, Edge 80 => 79, Edge 79 => 78, Edge 78 => 67, Edge 67 => 56]]\n",
      "Adding new node to priority queue\n",
      "ASTAR: 1\n"
     ]
    },
    {
     "name": "stdout",
     "output_type": "stream",
     "text": [
      "Consequently we found the solutions: \n",
      "Array{LightGraphs.SimpleGraphs.SimpleEdge,1}[[Edge 37 => 48, Edge 48 => 49, Edge 49 => 60, Edge 60 => 61, Edge 61 => 72, Edge 72 => 83, Edge 83 => 94, Edge 94 => 95, Edge 95 => 106, Edge 106 => 117], [Edge 54 => 53, Edge 53 => 42, Edge 42 => 41, Edge 41 => 40, Edge 40 => 39, Edge 39 => 28, Edge 28 => 17, Edge 17 => 6, Edge 6 => 5], [Edge 112 => 101, Edge 101 => 102, Edge 102 => 103, Edge 103 => 103, Edge 103 => 104, Edge 104 => 93, Edge 93 => 82, Edge 82 => 71, Edge 71 => 72, Edge 72 => 73, Edge 73 => 74, Edge 74 => 75], [Edge 65 => 76, Edge 76 => 75, Edge 75 => 74, Edge 74 => 85, Edge 85 => 96, Edge 96 => 107, Edge 107 => 118], [Edge 97 => 86, Edge 86 => 86, Edge 86 => 75, Edge 75 => 64, Edge 64 => 63, Edge 63 => 62, Edge 62 => 61, Edge 61 => 60, Edge 60 => 59, Edge 59 => 58, Edge 58 => 57, Edge 57 => 56]]\n",
      "Adding new node to priority queue\n",
      "\n",
      " \n",
      "ASTAR: 1\n",
      "Consequently we found the solutions: \n",
      "Array{LightGraphs.SimpleGraphs.SimpleEdge,1}[[Edge 37 => 48, Edge 48 => 47, Edge 47 => 58, Edge 58 => 69, Edge 69 => 80, Edge 80 => 91, Edge 91 => 92, Edge 92 => 93, Edge 93 => 94, Edge 94 => 105, Edge 105 => 106, Edge 106 => 117], [Edge 54 => 53, Edge 53 => 42, Edge 42 => 41, Edge 41 => 40, Edge 40 => 39, Edge 39 => 28, Edge 28 => 17, Edge 17 => 6, Edge 6 => 5], [Edge 112 => 101, Edge 101 => 102, Edge 102 => 103, Edge 103 => 103, Edge 103 => 104, Edge 104 => 93, Edge 93 => 82, Edge 82 => 71, Edge 71 => 72, Edge 72 => 73, Edge 73 => 74, Edge 74 => 75], [Edge 65 => 76, Edge 76 => 75, Edge 75 => 74, Edge 74 => 85, Edge 85 => 96, Edge 96 => 107, Edge 107 => 118], [Edge 97 => 96, Edge 96 => 95, Edge 95 => 84, Edge 84 => 73, Edge 73 => 72, Edge 72 => 71, Edge 71 => 70, Edge 70 => 59, Edge 59 => 58, Edge 58 => 57, Edge 57 => 56]]\n",
      "Adding new node to priority queue\n",
      "ASTAR: 1\n",
      "Consequently we found the solutions: \n",
      "Array{LightGraphs.SimpleGraphs.SimpleEdge,1}[[Edge 37 => 48, Edge 48 => 59, Edge 59 => 70, Edge 70 => 81, Edge 81 => 92, Edge 92 => 103, Edge 103 => 104, Edge 104 => 105, Edge 105 => 116, Edge 116 => 117], [Edge 54 => 53, Edge 53 => 42, Edge 42 => 41, Edge 41 => 40, Edge 40 => 39, Edge 39 => 28, Edge 28 => 17, Edge 17 => 6, Edge 6 => 5], [Edge 112 => 112, Edge 112 => 101, Edge 101 => 90, Edge 90 => 91, Edge 91 => 80, Edge 80 => 69, Edge 69 => 70, Edge 70 => 71, Edge 71 => 71, Edge 71 => 72, Edge 72 => 73, Edge 73 => 74, Edge 74 => 75], [Edge 65 => 76, Edge 76 => 75, Edge 75 => 74, Edge 74 => 85, Edge 85 => 96, Edge 96 => 107, Edge 107 => 118], [Edge 97 => 96, Edge 96 => 95, Edge 95 => 84, Edge 84 => 73, Edge 73 => 72, Edge 72 => 71, Edge 71 => 70, Edge 70 => 59, Edge 59 => 58, Edge 58 => 57, Edge 57 => 56]]\n",
      "Adding new node to priority queue\n",
      "\n",
      " \n",
      "ASTAR: 1\n",
      "Consequently we found the solutions: \n",
      "Array{LightGraphs.SimpleGraphs.SimpleEdge,1}[[Edge 37 => 48, Edge 48 => 49, Edge 49 => 60, Edge 60 => 61, Edge 61 => 72, Edge 72 => 83, Edge 83 => 94, Edge 94 => 95, Edge 95 => 106, Edge 106 => 117], [Edge 54 => 53, Edge 53 => 42, Edge 42 => 41, Edge 41 => 40, Edge 40 => 39, Edge 39 => 28, Edge 28 => 17, Edge 17 => 6, Edge 6 => 5], [Edge 112 => 113, Edge 113 => 102, Edge 102 => 103, Edge 103 => 104, Edge 104 => 93, Edge 93 => 82, Edge 82 => 71, Edge 71 => 72, Edge 72 => 73, Edge 73 => 74, Edge 74 => 75], [Edge 65 => 76, Edge 76 => 87, Edge 87 => 98, Edge 98 => 109, Edge 109 => 108, Edge 108 => 119, Edge 119 => 118], [Edge 97 => 97, Edge 97 => 86, Edge 86 => 75, Edge 75 => 74, Edge 74 => 73, Edge 73 => 62, Edge 62 => 61, Edge 61 => 60, Edge 60 => 59, Edge 59 => 58, Edge 58 => 57, Edge 57 => 56]]\n",
      "Adding new node to priority queue\n",
      "ASTAR: 1\n",
      "Consequently we found the solutions: \n",
      "Array{LightGraphs.SimpleGraphs.SimpleEdge,1}[[Edge 37 => 48, Edge 48 => 49, Edge 49 => 60, Edge 60 => 61, Edge 61 => 72, Edge 72 => 83, Edge 83 => 94, Edge 94 => 95, Edge 95 => 106, Edge 106 => 117], [Edge 54 => 53, Edge 53 => 42, Edge 42 => 41, Edge 41 => 40, Edge 40 => 39, Edge 39 => 28, Edge 28 => 17, Edge 17 => 6, Edge 6 => 5], [Edge 112 => 113, Edge 113 => 102, Edge 102 => 103, Edge 103 => 104, Edge 104 => 93, Edge 93 => 82, Edge 82 => 71, Edge 71 => 72, Edge 72 => 73, Edge 73 => 74, Edge 74 => 75], [Edge 65 => 76, Edge 76 => 75, Edge 75 => 74, Edge 74 => 85, Edge 85 => 96, Edge 96 => 107, Edge 107 => 118], [Edge 97 => 96, Edge 96 => 95, Edge 95 => 95, Edge 95 => 84, Edge 84 => 73, Edge 73 => 62, Edge 62 => 61, Edge 61 => 60, Edge 60 => 59, Edge 59 => 58, Edge 58 => 57, Edge 57 => 56]]\n",
      "Adding new node to priority queue\n",
      "\n",
      " \n",
      "Optimal Solution Found! Cost = 49\n",
      "Time spent on probability count: 16.999185076 \n",
      "Time spent on path finding: 36.76087298400001 \n"
     ]
    },
    {
     "data": {
      "text/plain": [
       "(Array{LightGraphs.SimpleGraphs.SimpleEdge,1}[[Edge 37 => 48, Edge 48 => 59, Edge 59 => 59, Edge 59 => 60, Edge 60 => 71, Edge 71 => 72, Edge 72 => 83, Edge 83 => 94, Edge 94 => 105, Edge 105 => 116, Edge 116 => 117], [Edge 54 => 53, Edge 53 => 42, Edge 42 => 41, Edge 41 => 40, Edge 40 => 39, Edge 39 => 28, Edge 28 => 17, Edge 17 => 6, Edge 6 => 5], [Edge 112 => 113, Edge 113 => 102, Edge 102 => 103, Edge 103 => 104, Edge 104 => 105, Edge 105 => 106, Edge 106 => 95, Edge 95 => 96, Edge 96 => 97, Edge 97 => 86, Edge 86 => 75], [Edge 65 => 76, Edge 76 => 87, Edge 87 => 98, Edge 98 => 109, Edge 109 => 108, Edge 108 => 119, Edge 119 => 118], [Edge 97 => 96, Edge 96 => 95, Edge 95 => 84, Edge 84 => 83, Edge 83 => 82, Edge 82 => 81, Edge 81 => 80, Edge 80 => 79, Edge 79 => 78, Edge 78 => 67, Edge 67 => 56]], 49, 67.452616823)"
      ]
     },
     "execution_count": 4,
     "metadata": {},
     "output_type": "execute_result"
    }
   ],
   "source": [
    "using CRCBS\n",
    "run_problem(\"Debugging_test_1\")"
   ]
  },
  {
   "cell_type": "code",
   "execution_count": null,
   "metadata": {},
   "outputs": [],
   "source": [
    "using CRCBS\n",
    "using Distributions\n",
    "using HCubature\n",
    "\n",
    "name = \"Convergence_test\"\n",
    "num_agents = (3,8,10)\n",
    "grid_x = tuple(10)\n",
    "grid_y = tuple(10)\n",
    "filling_density = tuple(0.8)\n",
    "lambda = 0.2\n",
    "epsilon = 0.9\n",
    "t_delay = 0.5\n",
    "max_num_experiments = 3\n",
    "num_trials = 1000\n",
    "\n",
    "data2 = run_convergence_tests_CRCBS(name,num_agents,grid_x,grid_y,filling_density,lambda,epsilon,t_delay,max_num_experiments,num_trials)"
   ]
  },
  {
   "cell_type": "code",
   "execution_count": null,
   "metadata": {
    "scrolled": true
   },
   "outputs": [],
   "source": [
    "exp_set.data[2].solving_time"
   ]
  },
  {
   "cell_type": "code",
   "execution_count": null,
   "metadata": {},
   "outputs": [],
   "source": [
    "save_experiment_set(exp_set)"
   ]
  },
  {
   "cell_type": "code",
   "execution_count": null,
   "metadata": {},
   "outputs": [],
   "source": [
    "n1 = 17.0\n",
    "t1 = 17.0\n",
    "n2 = 17.0\n",
    "t2 = 17.0\n",
    "nn = 1.0\n",
    "lambda = 0.2\n",
    "y = 0.0\n",
    "t = 400.0"
   ]
  },
  {
   "cell_type": "code",
   "execution_count": null,
   "metadata": {},
   "outputs": [],
   "source": [
    "get_collision_probability_node2(n1,t1,n2,t2,nn,lambda)"
   ]
  },
  {
   "cell_type": "code",
   "execution_count": null,
   "metadata": {
    "scrolled": true
   },
   "outputs": [],
   "source": [
    "(1-cdf(Gamma(nn,lambda),abs(t2-t1+y)))"
   ]
  },
  {
   "cell_type": "code",
   "execution_count": null,
   "metadata": {},
   "outputs": [],
   "source": [
    "pdf(Gamma(n1,lambda), t+y)"
   ]
  },
  {
   "cell_type": "code",
   "execution_count": null,
   "metadata": {},
   "outputs": [],
   "source": [
    "using HCubature\n",
    "function get_collision_probability_node2(n1,t1,n2,t2,nn,lambda)\n",
    "\n",
    "    function f(x)\n",
    "        y = x[1]\n",
    "        t = x[2]\n",
    "        density = (1-cdf(Gamma(nn,lambda),abs(t2-t1+y))) * pdf(Gamma(n1,lambda), t) * pdf(Gamma(n2,lambda),t-y)\n",
    "        return density\n",
    "    end\n",
    "\n",
    "    function g(x)\n",
    "        y = x[1]\n",
    "        t = x[2]\n",
    "        density = (1-cdf(Gamma(nn,lambda),abs(t2-t1+y))) * pdf(Gamma(n1,lambda), t+y) * pdf(Gamma(n2,lambda),t)\n",
    "        return density\n",
    "    end\n",
    "    \n",
    "    function h(x)\n",
    "        y = x[1]\n",
    "        t = x[2]\n",
    "        density = (1-cdf(Gamma(nn,lambda),abs(t2-t1-y))) * pdf(Gamma(n1,lambda), t) * pdf(Gamma(n2,lambda),t-y)\n",
    "        return density\n",
    "    end\n",
    "\n",
    "    a = [-100.0;0.0]\n",
    "    b = [0.0,100.0]\n",
    "    m = [0.0;0.0]\n",
    "    n = [100.0,100.0]\n",
    "    \n",
    "    bound = max(t1+n1,t2+n2)*lambda + 30.0\n",
    "    #bound = 20.0 \n",
    "    \n",
    "    o = bound.*[-1.0,-1.0]\n",
    "    p = bound.*[1.0,1.0]\n",
    "    # C1,err1 = hcubature(f,a,b,maxevals=10^7)\n",
    "    # C2,err2 = hcubature(g,m,n,maxevals=10^7)\n",
    "    # C = C1 + C2\n",
    "    # err = err1 + err2\n",
    "    C, err = hcubature(h,o,p,maxevals=10^8)\n",
    "    #C, err = hcubature(h,o,p,rtol = 10^(-3))\n",
    "\n",
    "    return C, err\n",
    "end"
   ]
  },
  {
   "cell_type": "code",
   "execution_count": null,
   "metadata": {},
   "outputs": [],
   "source": [
    "using Distributions\n",
    "function count_conflicts(n1,t1,n2,t2,nn,lambda,num_particles)\n",
    "    EA1 = rand(Gamma(n1,lambda),num_particles)\n",
    "    EA2 = rand(Gamma(n2,lambda),num_particles)\n",
    "    ed1 = rand(Gamma(nn,lambda),num_particles)\n",
    "    ed2 = rand(Gamma(nn,lambda),num_particles)\n",
    "    \n",
    "    r1_arrivals = t1 .+ EA1\n",
    "    r1_departures = r1_arrivals + ed1\n",
    "    r2_arrivals = t2 .+ EA2\n",
    "    r2_departures = r2_arrivals + ed2\n",
    "    \n",
    "    num_conflicts =length(findall(((r2_departures-r1_arrivals).>0) .& ((r1_departures-r2_arrivals).>0)   ))\n",
    "    \n",
    "    return num_conflicts/num_particles\n",
    "end"
   ]
  },
  {
   "cell_type": "code",
   "execution_count": null,
   "metadata": {
    "scrolled": false
   },
   "outputs": [],
   "source": [
    "n1 = rand(1:50)\n",
    "t1 = rand()*50\n",
    "n2 = rand(1:50)\n",
    "t2 = rand()*50\n",
    "nn = rand(1:5)\n",
    "lambda = rand()\n",
    "print(\"n1: \", n1, \" t1: \", t1, \" n2: \", n2, \" t2: \", t2, \" nn: \", nn, \" lambda: \", lambda)\n",
    "sleep(1)\n",
    "theoretical_cp = get_collision_probability_node2(n1,t1,n2,t2,nn,lambda)\n",
    "count_conflicts(n1,t1,n2,t2,nn,lambda,10000)"
   ]
  },
  {
   "cell_type": "code",
   "execution_count": null,
   "metadata": {},
   "outputs": [],
   "source": [
    "theoretical_cp"
   ]
  },
  {
   "cell_type": "code",
   "execution_count": null,
   "metadata": {},
   "outputs": [],
   "source": [
    "get_collision_probability_node2(n1,t1,n2,t2,nn,lambda)"
   ]
  },
  {
   "cell_type": "code",
   "execution_count": null,
   "metadata": {},
   "outputs": [],
   "source": [
    "get_collision_probability_node2(n1,t1,n2,t2,nn,lambda)"
   ]
  },
  {
   "cell_type": "code",
   "execution_count": null,
   "metadata": {},
   "outputs": [],
   "source": [
    "n1= 55\n",
    "t1= 6.7\n",
    "n2= 13 \n",
    "t2= 13.23\n",
    "nn= 46\n",
    "lambda= 0.08\n",
    "theoretical_cp = get_collision_probability_node2(n1,t1,n2,t2,nn,lambda)\n",
    "experimental_cp = count_conflicts(n1,t1,n2,t2,nn,lambda,2000000)"
   ]
  },
  {
   "cell_type": "code",
   "execution_count": null,
   "metadata": {},
   "outputs": [],
   "source": [
    "using DataFrames\n",
    "using Statistics\n",
    "using Plots\n",
    "df = DataFrame(num_particles=Int64[],cp=Float64[],experimental_cp=Float64[],etas=Float64[])\n",
    "x_list = [1,2,5,10,20,50,100,200,500,1000,2000,5000,10000,20000,50000,100000]\n",
    "max_attempts = 10000\n",
    "# Defining global variables\n",
    "n1 = 0\n",
    "n2 = 0\n",
    "t1 = 0\n",
    "t2 = 0\n",
    "nn = 0\n",
    "lambda = 0\n",
    "for k in 1:200\n",
    "    #println(\"Next k\")\n",
    "    theoretical_cp = 0.0\n",
    "    attempts = 0\n",
    "    while theoretical_cp < 0.01 && attempts < max_attempts\n",
    "        n1 = rand(1:20)\n",
    "        t1 = rand()*20\n",
    "        n2 = rand(1:20)\n",
    "        t2 = rand()*20\n",
    "        nn = rand(1:5)\n",
    "        lambda = rand()\n",
    "        theoretical_cp = get_collision_probability_node2(n1,t1,n2,t2,nn,lambda)[1]\n",
    "        attempts += 1\n",
    "    end\n",
    "    for x in x_list\n",
    "        experimental_cp = count_conflicts(n1,t1,n2,t2,nn,lambda,x)\n",
    "        ecart_relatif = abs(experimental_cp-theoretical_cp)/theoretical_cp\n",
    "        if abs(ecart_relatif) > 0.5 && x > 2000\n",
    "            println(\"Exception case occured! Returned something really wrong.\")\n",
    "            println(\"n1: \", n1, \" t1: \", t1, \" n2: \", n2, \" t2: \", t2, \" nn: \", nn, \" lambda: \", lambda)\n",
    "        end\n",
    "        push!(df,[x,theoretical_cp,experimental_cp,ecart_relatif])\n",
    "    end\n",
    "end\n",
    "\n",
    "ys = []\n",
    "stds = []\n",
    "for x in x_list\n",
    "    indexes = findall((df[1].==x) .& (df[2] .> 0.01) .& (df[2] .< 1.0) .& (df[3] .> 0.01))\n",
    "    values = df[4][indexes]\n",
    "    y = mean(values)\n",
    "    stdv = std(values)\n",
    "    append!(ys,y)\n",
    "    append!(stds,stdv)\n",
    "end\n",
    "\n",
    "plot(x_list,ys,yerror=stds,xscale = :log10)"
   ]
  },
  {
   "cell_type": "code",
   "execution_count": null,
   "metadata": {},
   "outputs": [],
   "source": [
    "plot(x_list,ys,yerror=stds,xscale = :log10,xlabel=\"Number of particles per simulation\", ylabel=\"Relative error\")"
   ]
  },
  {
   "cell_type": "code",
   "execution_count": null,
   "metadata": {
    "scrolled": true
   },
   "outputs": [],
   "source": [
    "df[4]"
   ]
  },
  {
   "cell_type": "code",
   "execution_count": null,
   "metadata": {},
   "outputs": [],
   "source": [
    "df[4]"
   ]
  },
  {
   "cell_type": "code",
   "execution_count": null,
   "metadata": {},
   "outputs": [],
   "source": [
    "indexes = findall(df[1].==1)\n",
    "df[1][indexes]"
   ]
  },
  {
   "cell_type": "code",
   "execution_count": null,
   "metadata": {},
   "outputs": [],
   "source": [
    "using Random\n",
    "typeof(shuffle(collect((1,2,3)))[1:end])"
   ]
  },
  {
   "cell_type": "code",
   "execution_count": null,
   "metadata": {},
   "outputs": [],
   "source": [
    "using LightGraphs, MetaGraphs\n",
    "#using Iterators\n",
    "\n",
    "v = Vector{Edge}()\n",
    "for k in 1:5\n",
    "    push!(v,Edge(k,k+1))\n",
    "end"
   ]
  },
  {
   "cell_type": "code",
   "execution_count": null,
   "metadata": {},
   "outputs": [],
   "source": [
    "typeof(v)"
   ]
  },
  {
   "cell_type": "code",
   "execution_count": null,
   "metadata": {},
   "outputs": [],
   "source": [
    "eltype(MetaGraph())"
   ]
  },
  {
   "cell_type": "code",
   "execution_count": null,
   "metadata": {},
   "outputs": [],
   "source": [
    "using JLD\n",
    "save_experiment_set(exp_set)"
   ]
  },
  {
   "cell_type": "code",
   "execution_count": null,
   "metadata": {},
   "outputs": [],
   "source": [
    "plot_SVtime_vs_nrobots([\"results/003Experiment_Set_001.jld\"])"
   ]
  },
  {
   "cell_type": "code",
   "execution_count": null,
   "metadata": {},
   "outputs": [],
   "source": [
    "using JLD\n",
    "exp_s = load(\"results/001Experiment_Set_001.jld\")"
   ]
  },
  {
   "cell_type": "code",
   "execution_count": null,
   "metadata": {},
   "outputs": [],
   "source": [
    "data = Vector{}()"
   ]
  },
  {
   "cell_type": "code",
   "execution_count": null,
   "metadata": {},
   "outputs": [],
   "source": [
    "using Pkg\n",
    "Pkg.add(\"DataFrames\")"
   ]
  },
  {
   "cell_type": "code",
   "execution_count": null,
   "metadata": {},
   "outputs": [],
   "source": [
    "using DataFrames\n",
    "thing = DataFrame(A=String[])"
   ]
  },
  {
   "cell_type": "code",
   "execution_count": null,
   "metadata": {},
   "outputs": [],
   "source": [
    "myvector = Vector{}([1.0,2.0])\n",
    "mytuple = (1,2,3)"
   ]
  },
  {
   "cell_type": "code",
   "execution_count": null,
   "metadata": {},
   "outputs": [],
   "source": [
    "thing = DataFrame(a=String[],b=Vector{Float64}[],c = Tuple{Float64,Float64}[])"
   ]
  },
  {
   "cell_type": "code",
   "execution_count": null,
   "metadata": {},
   "outputs": [],
   "source": [
    "push!(thing, [\"M\", myvector,(1.0,3.0)])"
   ]
  },
  {
   "cell_type": "code",
   "execution_count": null,
   "metadata": {},
   "outputs": [],
   "source": [
    "string(name,\"1\")"
   ]
  },
  {
   "cell_type": "code",
   "execution_count": null,
   "metadata": {},
   "outputs": [],
   "source": [
    "string('i',string(1))"
   ]
  },
  {
   "cell_type": "code",
   "execution_count": null,
   "metadata": {},
   "outputs": [],
   "source": [
    "string(1)"
   ]
  },
  {
   "cell_type": "code",
   "execution_count": null,
   "metadata": {},
   "outputs": [],
   "source": [
    "using LightGraphs, MetaGraphs"
   ]
  },
  {
   "cell_type": "code",
   "execution_count": null,
   "metadata": {},
   "outputs": [],
   "source": [
    "rand()"
   ]
  },
  {
   "cell_type": "code",
   "execution_count": null,
   "metadata": {},
   "outputs": [],
   "source": [
    "elt = [v for v in vertices(g)]"
   ]
  },
  {
   "cell_type": "code",
   "execution_count": null,
   "metadata": {},
   "outputs": [],
   "source": [
    "function dostuff!(a,b,c=0)\n",
    "    a[1] = 5\n",
    "    b[1] = 2\n",
    "    c = c+5\n",
    "end"
   ]
  },
  {
   "cell_type": "code",
   "execution_count": null,
   "metadata": {},
   "outputs": [],
   "source": [
    "a = [1,2]\n",
    "b = [-4]\n",
    "c = 13\n",
    "dostuff!(a,b,c)\n",
    "println(a)\n",
    "println(b)\n",
    "println(c)"
   ]
  },
  {
   "cell_type": "code",
   "execution_count": null,
   "metadata": {},
   "outputs": [],
   "source": [
    "using CSV\n",
    "using DataFrames"
   ]
  },
  {
   "cell_type": "code",
   "execution_count": null,
   "metadata": {},
   "outputs": [],
   "source": [
    "CSV.write(\"5test.csv\",data)"
   ]
  },
  {
   "cell_type": "code",
   "execution_count": null,
   "metadata": {},
   "outputs": [],
   "source": [
    "retrieved_data = DataFrame(CSV.File(\"5test.csv\"))"
   ]
  },
  {
   "cell_type": "code",
   "execution_count": null,
   "metadata": {},
   "outputs": [],
   "source": [
    "mylist = retrieved_data.probability_error[1]"
   ]
  },
  {
   "cell_type": "code",
   "execution_count": null,
   "metadata": {},
   "outputs": [],
   "source": [
    "[parse(Float64, ss[1:end-1]) for ss in split(mylist[2:end])]"
   ]
  },
  {
   "cell_type": "code",
   "execution_count": null,
   "metadata": {},
   "outputs": [],
   "source": [
    "num_trials = 100000\n",
    "range(1,stop=num_trials,length=10)"
   ]
  },
  {
   "cell_type": "code",
   "execution_count": null,
   "metadata": {},
   "outputs": [],
   "source": [
    "maximum(data2[1])"
   ]
  },
  {
   "cell_type": "code",
   "execution_count": null,
   "metadata": {},
   "outputs": [],
   "source": [
    "idxs = findall(data2[2].==0.0)"
   ]
  },
  {
   "cell_type": "code",
   "execution_count": null,
   "metadata": {},
   "outputs": [],
   "source": [
    "max(1,2)"
   ]
  },
  {
   "cell_type": "code",
   "execution_count": null,
   "metadata": {},
   "outputs": [],
   "source": [
    "data2[2][idxs]"
   ]
  },
  {
   "cell_type": "code",
   "execution_count": null,
   "metadata": {},
   "outputs": [],
   "source": []
  }
 ],
 "metadata": {
  "@webio": {
   "lastCommId": null,
   "lastKernelId": null
  },
  "kernelspec": {
   "display_name": "Julia 1.0.3",
   "language": "julia",
   "name": "julia-1.0"
  },
  "language_info": {
   "file_extension": ".jl",
   "mimetype": "application/julia",
   "name": "julia",
   "version": "1.0.3"
  }
 },
 "nbformat": 4,
 "nbformat_minor": 2
}
