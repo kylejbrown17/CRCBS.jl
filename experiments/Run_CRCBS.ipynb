{
 "cells": [
  {
   "cell_type": "code",
   "execution_count": 1,
   "metadata": {},
   "outputs": [
    {
     "name": "stderr",
     "output_type": "stream",
     "text": [
      "┌ Info: Recompiling stale cache file /home/peltzer/.julia/compiled/v1.0/CRCBS/26Ksw.ji for CRCBS [edef75b8-3ac4-11e9-0392-bf149c536ee3]\n",
      "└ @ Base loading.jl:1190\n"
     ]
    },
    {
     "data": {
      "text/plain": [
       "MAPF{MetaGraph{Int64,Float64}}({112, 196} undirected Int64 metagraph with Float64 weights defined by :weight (default weight 1.0), [1, 5, 8], [4, 1, 2])"
      ]
     },
     "execution_count": 1,
     "metadata": {},
     "output_type": "execute_result"
    }
   ],
   "source": [
    "using CRCBS\n",
    "using LightGraphs, MetaGraphs\n",
    "G = initialize_full_grid_graph()\n",
    "starts = [1,5,8]\n",
    "goals = [4,1,2]\n",
    "lambda = 0.5\n",
    "epsilon = 0.1\n",
    "t_delay = 0.5\n",
    "mapf = MAPF(G,starts,goals)\n"
   ]
  },
  {
   "cell_type": "code",
   "execution_count": null,
   "metadata": {},
   "outputs": [],
   "source": []
  },
  {
   "cell_type": "code",
   "execution_count": 2,
   "metadata": {},
   "outputs": [
    {
     "name": "stdout",
     "output_type": "stream",
     "text": [
      "Optimal Solution Found! Cost = 15\n"
     ]
    },
    {
     "data": {
      "text/plain": [
       "(Array{LightGraphs.SimpleGraphs.SimpleEdge{Int64},1}[[Edge 1 => 2, Edge 2 => 13, Edge 13 => 14, Edge 14 => 15, Edge 15 => 4], [Edge 5 => 4, Edge 4 => 3, Edge 3 => 2, Edge 2 => 1], [Edge 8 => 7, Edge 7 => 6, Edge 6 => 5, Edge 5 => 4, Edge 4 => 3, Edge 3 => 2]], 15)"
      ]
     },
     "execution_count": 2,
     "metadata": {},
     "output_type": "execute_result"
    }
   ],
   "source": [
    "CBS(mapf)"
   ]
  },
  {
   "cell_type": "code",
   "execution_count": 1,
   "metadata": {},
   "outputs": [
    {
     "ename": "UndefVarError",
     "evalue": "UndefVarError: MetaDiGraph not defined",
     "output_type": "error",
     "traceback": [
      "UndefVarError: MetaDiGraph not defined",
      "",
      "Stacktrace:",
      " [1] top-level scope at In[1]:1"
     ]
    }
   ],
   "source": [
    "mg = MetaDiGraph()\n",
    "add_vertex!(mg,Dict(:x=>1,:n_delay=>1.0))\n",
    "add_vertex!(mg,Dict(:x=>2,:n_delay=>1.0))\n",
    "add_edge!(mg,1,2)\n",
    "set_prop!(mg,Edge(1,2),:foo,5)"
   ]
  },
  {
   "cell_type": "code",
   "execution_count": 5,
   "metadata": {},
   "outputs": [
    {
     "name": "stdout",
     "output_type": "stream",
     "text": [
      "12"
     ]
    }
   ],
   "source": [
    "for v in vertices(mg)\n",
    "    print(v)\n",
    "end"
   ]
  },
  {
   "cell_type": "code",
   "execution_count": 6,
   "metadata": {},
   "outputs": [
    {
     "data": {
      "text/plain": [
       "1"
      ]
     },
     "execution_count": 6,
     "metadata": {},
     "output_type": "execute_result"
    }
   ],
   "source": [
    "Edge(1,2).src"
   ]
  },
  {
   "cell_type": "code",
   "execution_count": 12,
   "metadata": {},
   "outputs": [
    {
     "data": {
      "text/plain": [
       "5"
      ]
     },
     "execution_count": 12,
     "metadata": {},
     "output_type": "execute_result"
    }
   ],
   "source": [
    "get_prop(mg,Edge(2,1),:foo)"
   ]
  },
  {
   "cell_type": "code",
   "execution_count": 3,
   "metadata": {},
   "outputs": [
    {
     "ename": "ArgumentError",
     "evalue": "ArgumentError: Package CBS not found in current path:\n- Run `import Pkg; Pkg.add(\"CBS\")` to install the CBS package.\n",
     "output_type": "error",
     "traceback": [
      "ArgumentError: Package CBS not found in current path:\n- Run `import Pkg; Pkg.add(\"CBS\")` to install the CBS package.\n",
      "",
      "Stacktrace:",
      " [1] require(::Module, ::Symbol) at ./loading.jl:823",
      " [2] top-level scope at In[3]:1"
     ]
    }
   ],
   "source": [
    "using CBS"
   ]
  },
  {
   "cell_type": "code",
   "execution_count": null,
   "metadata": {},
   "outputs": [],
   "source": []
  }
 ],
 "metadata": {
  "kernelspec": {
   "display_name": "Julia 1.0.3",
   "language": "julia",
   "name": "julia-1.0"
  },
  "language_info": {
   "file_extension": ".jl",
   "mimetype": "application/julia",
   "name": "julia",
   "version": "1.0.3"
  }
 },
 "nbformat": 4,
 "nbformat_minor": 2
}
