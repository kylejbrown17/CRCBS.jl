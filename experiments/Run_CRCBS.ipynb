{
 "cells": [
  {
   "cell_type": "code",
   "execution_count": null,
   "metadata": {},
   "outputs": [],
   "source": [
    "using CRCBS\n",
    "using LightGraphs, MetaGraphs\n",
    "G = initialize_full_grid_graph_CT()\n",
    "starts = [1,5,8]\n",
    "goals = [4,1,2]\n",
    "lambda = 0.5\n",
    "epsilon = 0.1\n",
    "t_delay = 0.5\n",
    "mapf = MAPF(G,starts,goals,lambda,epsilon,t_delay)"
   ]
  },
  {
   "cell_type": "code",
   "execution_count": null,
   "metadata": {},
   "outputs": [],
   "source": [
    "CTCBS(mapf)"
   ]
  },
  {
   "cell_type": "code",
   "execution_count": null,
   "metadata": {},
   "outputs": [],
   "source": [
    "using JLD"
   ]
  },
  {
   "cell_type": "code",
   "execution_count": null,
   "metadata": {},
   "outputs": [],
   "source": [
    "jldopen(\"../experiments/001test.jld\",\"w\") do file\n",
    "    addrequire(file,CRCBS)\n",
    "    write(file,\"data\",1)\n",
    "end"
   ]
  },
  {
   "cell_type": "code",
   "execution_count": 1,
   "metadata": {
    "scrolled": true
   },
   "outputs": [
    {
     "name": "stderr",
     "output_type": "stream",
     "text": [
      "┌ Info: Recompiling stale cache file /home/peltzer/.julia/compiled/v1.0/CRCBS/26Ksw.ji for CRCBS [edef75b8-3ac4-11e9-0392-bf149c536ee3]\n",
      "└ @ Base loading.jl:1190\n",
      "┌ Warning: Package CRCBS does not have JLD in its dependencies:\n",
      "│ - If you have CRCBS checked out for development and have\n",
      "│   added JLD as a dependency but haven't updated your primary\n",
      "│   environment's manifest file, try `Pkg.resolve()`.\n",
      "│ - Otherwise you may need to report an issue with CRCBS\n",
      "└ Loading JLD into CRCBS from project dependency, future warnings for CRCBS are suppressed.\n",
      "WARNING: Method definition get_dist_matrix(LightGraphs.AbstractGraph{T} where T) in module CRCBS at /home/peltzer/.julia/dev/CRCBS/src/utils.jl:10 overwritten at /home/peltzer/.julia/dev/CRCBS/src/utils.jl:10.\n",
      "┌ Warning: Replacing docs for `CRCBS.get_dist_matrix :: Tuple{LightGraphs.AbstractGraph}` in module `CRCBS`\n",
      "└ @ Base.Docs docs/Docs.jl:223\n",
      "WARNING: Method definition pad_matrix(Array{T, 2}, Tuple{Int64, Int64}, T) where {T} in module CRCBS at /home/peltzer/.julia/dev/CRCBS/src/utils.jl:21 overwritten at /home/peltzer/.julia/dev/CRCBS/src/utils.jl:21.\n",
      "┌ Warning: Replacing docs for `CRCBS.pad_matrix :: Union{Tuple{T}, Tuple{Array{T,2},Tuple{Int64,Int64},T}} where T` in module `CRCBS`\n",
      "└ @ Base.Docs docs/Docs.jl:223\n",
      "WARNING: Method definition sample_wo_repl(Any, Any) in module CRCBS at /home/peltzer/.julia/dev/CRCBS/src/utils.jl:123 overwritten at /home/peltzer/.julia/dev/CRCBS/src/utils.jl:123.\n"
     ]
    }
   ],
   "source": [
    "using CRCBS\n",
    "using Distributions\n",
    "using HCubature"
   ]
  },
  {
   "cell_type": "code",
   "execution_count": 4,
   "metadata": {
    "scrolled": true
   },
   "outputs": [
    {
     "name": "stdout",
     "output_type": "stream",
     "text": [
      "Started \n",
      "Check1 \n",
      "Check2 \n",
      "Optimal Solution Found! Cost = 12\n",
      "Time spent on integration: 0.0 \n",
      "Time spent on path finding: 0.011363726999999999 \n",
      "Time spent performing optimization: 0.012108096\n",
      "Optimal Solution Found! Cost = 18\n",
      "Time spent on integration: 0.0 \n",
      "Time spent on path finding: 0.00405657 \n",
      "Time spent performing optimization: 0.004590585\n",
      "Optimal Solution Found! Cost = 37\n",
      "Time spent on integration: 0.38334428099999995 \n",
      "Time spent on path finding: 0.25994642599999995 \n",
      "Time spent performing optimization: 0.652920618\n",
      "Interaction!\n",
      "Interaction!\n",
      "Interaction!\n",
      "Interaction!\n",
      "\n",
      " I found77 conflicts at a node!\n",
      "This is out of 1000 trials, and the collision probability is 0.11605689591742291\n",
      "Interaction at edge!\n",
      "Check3 \n"
     ]
    },
    {
     "data": {
      "text/html": [
       "<table class=\"data-frame\"><thead><tr><th></th><th>name</th><th>Id</th><th>CBS</th><th>success</th><th>lambda</th><th>epsilon</th><th>t_delay</th><th>num_trials</th><th>num_agents</th><th>cbs_time_steps</th><th>num_nodes</th><th>num_edges</th><th>solving_time</th><th>integraltime</th><th>time_spent_on_astar</th><th>num_interactions</th><th>solution_cost</th><th>global_cp</th><th>conflict_counts_locally</th><th>probability_error</th></tr><tr><th></th><th>String</th><th>Int64</th><th>Bool</th><th>Bool</th><th>Float64</th><th>Float64</th><th>Float64</th><th>Int64</th><th>Int64</th><th>Int64</th><th>Int64</th><th>Int64</th><th>Float64</th><th>Float64</th><th>Float64</th><th>Int64</th><th>Float64</th><th>Float64</th><th>Array…</th><th>Tuple…</th></tr></thead><tbody><p>3 rows × 20 columns</p><tr><th>1</th><td>First_test_1</td><td>1</td><td>false</td><td>true</td><td>0.2</td><td>0.2</td><td>0.5</td><td>1000</td><td>2</td><td>-1</td><td>95</td><td>131</td><td>0.0121081</td><td>0.0</td><td>0.0113637</td><td>0</td><td>12.0</td><td>0.0</td><td>[]</td><td>(NaN, NaN)</td></tr><tr><th>2</th><td>First_test_2</td><td>2</td><td>false</td><td>true</td><td>0.2</td><td>0.2</td><td>0.5</td><td>1000</td><td>2</td><td>-1</td><td>94</td><td>128</td><td>0.00459059</td><td>0.0</td><td>0.00405657</td><td>0</td><td>18.0</td><td>0.0</td><td>[]</td><td>(NaN, NaN)</td></tr><tr><th>3</th><td>First_test_3</td><td>3</td><td>false</td><td>true</td><td>0.2</td><td>0.2</td><td>0.5</td><td>1000</td><td>3</td><td>-1</td><td>95</td><td>132</td><td>0.652921</td><td>0.383344</td><td>0.259946</td><td>9</td><td>37.0</td><td>0.077</td><td>[77.0]</td><td>(0.0390569, NaN)</td></tr></tbody></table>"
      ],
      "text/latex": [
       "\\begin{tabular}{r|cccccccccccccccccccc}\n",
       "\t& name & Id & CBS & success & lambda & epsilon & t\\_delay & num\\_trials & num\\_agents & cbs\\_time\\_steps & num\\_nodes & num\\_edges & solving\\_time & integraltime & time\\_spent\\_on\\_astar & num\\_interactions & solution\\_cost & global\\_cp & conflict\\_counts\\_locally & probability\\_error\\\\\n",
       "\t\\hline\n",
       "\t& String & Int64 & Bool & Bool & Float64 & Float64 & Float64 & Int64 & Int64 & Int64 & Int64 & Int64 & Float64 & Float64 & Float64 & Int64 & Float64 & Float64 & Array… & Tuple…\\\\\n",
       "\t\\hline\n",
       "\t1 & First\\_test\\_1 & 1 & false & true & 0.2 & 0.2 & 0.5 & 1000 & 2 & -1 & 95 & 131 & 0.0121081 & 0.0 & 0.0113637 & 0 & 12.0 & 0.0 & [] & (NaN, NaN) \\\\\n",
       "\t2 & First\\_test\\_2 & 2 & false & true & 0.2 & 0.2 & 0.5 & 1000 & 2 & -1 & 94 & 128 & 0.00459059 & 0.0 & 0.00405657 & 0 & 18.0 & 0.0 & [] & (NaN, NaN) \\\\\n",
       "\t3 & First\\_test\\_3 & 3 & false & true & 0.2 & 0.2 & 0.5 & 1000 & 3 & -1 & 95 & 132 & 0.652921 & 0.383344 & 0.259946 & 9 & 37.0 & 0.077 & [77.0] & (0.0390569, NaN) \\\\\n",
       "\\end{tabular}\n"
      ],
      "text/plain": [
       "3×20 DataFrames.DataFrame. Omitted printing of 13 columns\n",
       "│ Row │ name         │ Id    │ CBS   │ success │ lambda  │ epsilon │ t_delay │\n",
       "│     │ \u001b[90mString\u001b[39m       │ \u001b[90mInt64\u001b[39m │ \u001b[90mBool\u001b[39m  │ \u001b[90mBool\u001b[39m    │ \u001b[90mFloat64\u001b[39m │ \u001b[90mFloat64\u001b[39m │ \u001b[90mFloat64\u001b[39m │\n",
       "├─────┼──────────────┼───────┼───────┼─────────┼─────────┼─────────┼─────────┤\n",
       "│ 1   │ First_test_1 │ 1     │ false │ true    │ 0.2     │ 0.2     │ 0.5     │\n",
       "│ 2   │ First_test_2 │ 2     │ false │ true    │ 0.2     │ 0.2     │ 0.5     │\n",
       "│ 3   │ First_test_3 │ 3     │ false │ true    │ 0.2     │ 0.2     │ 0.5     │"
      ]
     },
     "execution_count": 4,
     "metadata": {},
     "output_type": "execute_result"
    }
   ],
   "source": [
    "name = \"First_test\"\n",
    "num_agents = (3,2,2)\n",
    "grid_x = tuple(10)\n",
    "grid_y = tuple(10)\n",
    "filling_density = tuple(0.8)\n",
    "lambda = 0.2\n",
    "epsilon = 0.2\n",
    "t_delay = 0.5\n",
    "max_num_experiments = 3\n",
    "num_trials = 1000\n",
    "\n",
    "data = run_experiment_set_CRCBS(name,num_agents,grid_x,grid_y,filling_density,lambda,epsilon,t_delay,max_num_experiments,num_trials)"
   ]
  },
  {
   "cell_type": "code",
   "execution_count": 2,
   "metadata": {},
   "outputs": [
    {
     "name": "stdout",
     "output_type": "stream",
     "text": [
      "Started \n",
      "Check1 \n",
      "Check2 \n",
      "Optimal Solution Found! Cost = 10\n",
      "Time spent on integration: 0.015079315 \n",
      "Time spent on path finding: 0.0010923039999999999 \n",
      "Time spent performing optimization: 0.016874525\n",
      "Optimal Solution Found! Cost = 77\n",
      "Time spent on integration: 0.9953651430000001 \n",
      "Time spent on path finding: 0.25675118500000005 \n",
      "Time spent performing optimization: 1.253370067\n",
      "Optimal Solution Found! Cost = 65\n",
      "Time spent on integration: 0.8662044660000001 \n",
      "Time spent on path finding: 0.085143462 \n",
      "Time spent performing optimization: 0.952501228\n",
      "Check3 \n"
     ]
    },
    {
     "data": {
      "text/html": [
       "<table class=\"data-frame\"><thead><tr><th></th><th>theoretical_probability</th><th>experimental_probability</th><th>num_samples</th></tr><tr><th></th><th>Float64</th><th>Float64</th><th>Int64</th></tr></thead><tbody><p>930 rows × 3 columns</p><tr><th>1</th><td>0.00857042</td><td>0.0</td><td>1</td></tr><tr><th>2</th><td>0.00857042</td><td>0.0</td><td>5</td></tr><tr><th>3</th><td>0.00857042</td><td>0.0</td><td>10</td></tr><tr><th>4</th><td>0.00857042</td><td>0.0</td><td>20</td></tr><tr><th>5</th><td>0.00857042</td><td>0.0</td><td>50</td></tr><tr><th>6</th><td>0.00857042</td><td>0.0</td><td>100</td></tr><tr><th>7</th><td>0.00857042</td><td>0.0</td><td>200</td></tr><tr><th>8</th><td>0.00857042</td><td>0.0</td><td>500</td></tr><tr><th>9</th><td>0.00857042</td><td>0.0</td><td>1000</td></tr><tr><th>10</th><td>0.00857042</td><td>0.0</td><td>2000</td></tr><tr><th>11</th><td>0.00857042</td><td>0.0</td><td>5000</td></tr><tr><th>12</th><td>0.00857042</td><td>0.0001</td><td>10000</td></tr><tr><th>13</th><td>0.00857042</td><td>0.0001</td><td>20000</td></tr><tr><th>14</th><td>0.00857042</td><td>0.0003</td><td>50000</td></tr><tr><th>15</th><td>0.00857042</td><td>0.00023</td><td>100000</td></tr><tr><th>16</th><td>0.00135476</td><td>0.0</td><td>1</td></tr><tr><th>17</th><td>0.00135476</td><td>0.0</td><td>5</td></tr><tr><th>18</th><td>0.00135476</td><td>0.0</td><td>10</td></tr><tr><th>19</th><td>0.00135476</td><td>0.0</td><td>20</td></tr><tr><th>20</th><td>0.00135476</td><td>0.0</td><td>50</td></tr><tr><th>21</th><td>0.00135476</td><td>0.0</td><td>100</td></tr><tr><th>22</th><td>0.00135476</td><td>0.0</td><td>200</td></tr><tr><th>23</th><td>0.00135476</td><td>0.0</td><td>500</td></tr><tr><th>24</th><td>0.00135476</td><td>0.0</td><td>1000</td></tr><tr><th>25</th><td>0.00135476</td><td>0.0</td><td>2000</td></tr><tr><th>26</th><td>0.00135476</td><td>0.0</td><td>5000</td></tr><tr><th>27</th><td>0.00135476</td><td>0.0</td><td>10000</td></tr><tr><th>28</th><td>0.00135476</td><td>0.0</td><td>20000</td></tr><tr><th>29</th><td>0.00135476</td><td>0.0</td><td>50000</td></tr><tr><th>30</th><td>0.00135476</td><td>1.0e-5</td><td>100000</td></tr><tr><th>&vellip;</th><td>&vellip;</td><td>&vellip;</td><td>&vellip;</td></tr></tbody></table>"
      ],
      "text/latex": [
       "\\begin{tabular}{r|ccc}\n",
       "\t& theoretical\\_probability & experimental\\_probability & num\\_samples\\\\\n",
       "\t\\hline\n",
       "\t& Float64 & Float64 & Int64\\\\\n",
       "\t\\hline\n",
       "\t1 & 0.00857042 & 0.0 & 1 \\\\\n",
       "\t2 & 0.00857042 & 0.0 & 5 \\\\\n",
       "\t3 & 0.00857042 & 0.0 & 10 \\\\\n",
       "\t4 & 0.00857042 & 0.0 & 20 \\\\\n",
       "\t5 & 0.00857042 & 0.0 & 50 \\\\\n",
       "\t6 & 0.00857042 & 0.0 & 100 \\\\\n",
       "\t7 & 0.00857042 & 0.0 & 200 \\\\\n",
       "\t8 & 0.00857042 & 0.0 & 500 \\\\\n",
       "\t9 & 0.00857042 & 0.0 & 1000 \\\\\n",
       "\t10 & 0.00857042 & 0.0 & 2000 \\\\\n",
       "\t11 & 0.00857042 & 0.0 & 5000 \\\\\n",
       "\t12 & 0.00857042 & 0.0001 & 10000 \\\\\n",
       "\t13 & 0.00857042 & 0.0001 & 20000 \\\\\n",
       "\t14 & 0.00857042 & 0.0003 & 50000 \\\\\n",
       "\t15 & 0.00857042 & 0.00023 & 100000 \\\\\n",
       "\t16 & 0.00135476 & 0.0 & 1 \\\\\n",
       "\t17 & 0.00135476 & 0.0 & 5 \\\\\n",
       "\t18 & 0.00135476 & 0.0 & 10 \\\\\n",
       "\t19 & 0.00135476 & 0.0 & 20 \\\\\n",
       "\t20 & 0.00135476 & 0.0 & 50 \\\\\n",
       "\t21 & 0.00135476 & 0.0 & 100 \\\\\n",
       "\t22 & 0.00135476 & 0.0 & 200 \\\\\n",
       "\t23 & 0.00135476 & 0.0 & 500 \\\\\n",
       "\t24 & 0.00135476 & 0.0 & 1000 \\\\\n",
       "\t25 & 0.00135476 & 0.0 & 2000 \\\\\n",
       "\t26 & 0.00135476 & 0.0 & 5000 \\\\\n",
       "\t27 & 0.00135476 & 0.0 & 10000 \\\\\n",
       "\t28 & 0.00135476 & 0.0 & 20000 \\\\\n",
       "\t29 & 0.00135476 & 0.0 & 50000 \\\\\n",
       "\t30 & 0.00135476 & 1.0e-5 & 100000 \\\\\n",
       "\t$\\dots$ & $\\dots$ & $\\dots$ & $\\dots$ \\\\\n",
       "\\end{tabular}\n"
      ],
      "text/plain": [
       "930×3 DataFrames.DataFrame\n",
       "│ Row │ theoretical_probability │ experimental_probability │ num_samples │\n",
       "│     │ \u001b[90mFloat64\u001b[39m                 │ \u001b[90mFloat64\u001b[39m                  │ \u001b[90mInt64\u001b[39m       │\n",
       "├─────┼─────────────────────────┼──────────────────────────┼─────────────┤\n",
       "│ 1   │ 0.00857042              │ 0.0                      │ 1           │\n",
       "│ 2   │ 0.00857042              │ 0.0                      │ 5           │\n",
       "│ 3   │ 0.00857042              │ 0.0                      │ 10          │\n",
       "│ 4   │ 0.00857042              │ 0.0                      │ 20          │\n",
       "│ 5   │ 0.00857042              │ 0.0                      │ 50          │\n",
       "│ 6   │ 0.00857042              │ 0.0                      │ 100         │\n",
       "│ 7   │ 0.00857042              │ 0.0                      │ 200         │\n",
       "│ 8   │ 0.00857042              │ 0.0                      │ 500         │\n",
       "│ 9   │ 0.00857042              │ 0.0                      │ 1000        │\n",
       "│ 10  │ 0.00857042              │ 0.0                      │ 2000        │\n",
       "⋮\n",
       "│ 920 │ 0.00592392              │ 0.0                      │ 50          │\n",
       "│ 921 │ 0.00592392              │ 0.0                      │ 100         │\n",
       "│ 922 │ 0.00592392              │ 0.0                      │ 200         │\n",
       "│ 923 │ 0.00592392              │ 0.0                      │ 500         │\n",
       "│ 924 │ 0.00592392              │ 0.0                      │ 1000        │\n",
       "│ 925 │ 0.00592392              │ 0.0                      │ 2000        │\n",
       "│ 926 │ 0.00592392              │ 0.0                      │ 5000        │\n",
       "│ 927 │ 0.00592392              │ 0.0                      │ 10000       │\n",
       "│ 928 │ 0.00592392              │ 0.0                      │ 20000       │\n",
       "│ 929 │ 0.00592392              │ 2.0e-5                   │ 50000       │\n",
       "│ 930 │ 0.00592392              │ 1.0e-5                   │ 100000      │"
      ]
     },
     "execution_count": 2,
     "metadata": {},
     "output_type": "execute_result"
    }
   ],
   "source": [
    "using CRCBS\n",
    "using Distributions\n",
    "using HCubature\n",
    "\n",
    "name = \"Convergence_test\"\n",
    "num_agents = (3,8,10)\n",
    "grid_x = tuple(10)\n",
    "grid_y = tuple(10)\n",
    "filling_density = tuple(0.8)\n",
    "lambda = 0.2\n",
    "epsilon = 0.9\n",
    "t_delay = 0.5\n",
    "max_num_experiments = 3\n",
    "num_trials = 1000\n",
    "\n",
    "data2 = run_convergence_tests_CRCBS(name,num_agents,grid_x,grid_y,filling_density,lambda,epsilon,t_delay,max_num_experiments,num_trials)"
   ]
  },
  {
   "cell_type": "code",
   "execution_count": null,
   "metadata": {
    "scrolled": true
   },
   "outputs": [],
   "source": [
    "exp_set.data[2].solving_time"
   ]
  },
  {
   "cell_type": "code",
   "execution_count": null,
   "metadata": {},
   "outputs": [],
   "source": [
    "save_experiment_set(exp_set)"
   ]
  },
  {
   "cell_type": "code",
   "execution_count": 14,
   "metadata": {},
   "outputs": [
    {
     "data": {
      "text/plain": [
       "400.0"
      ]
     },
     "execution_count": 14,
     "metadata": {},
     "output_type": "execute_result"
    }
   ],
   "source": [
    "n1 = 17.0\n",
    "t1 = 17.0\n",
    "n2 = 17.0\n",
    "t2 = 17.0\n",
    "nn = 1.0\n",
    "lambda = 0.2\n",
    "y = 0.0\n",
    "t = 400.0"
   ]
  },
  {
   "cell_type": "code",
   "execution_count": null,
   "metadata": {},
   "outputs": [],
   "source": [
    "get_collision_probability_node2(n1,t1,n2,t2,nn,lambda)"
   ]
  },
  {
   "cell_type": "code",
   "execution_count": null,
   "metadata": {
    "scrolled": true
   },
   "outputs": [],
   "source": [
    "(1-cdf(Gamma(nn,lambda),abs(t2-t1+y)))"
   ]
  },
  {
   "cell_type": "code",
   "execution_count": null,
   "metadata": {},
   "outputs": [],
   "source": [
    "pdf(Gamma(n1,lambda), t+y)"
   ]
  },
  {
   "cell_type": "code",
   "execution_count": 11,
   "metadata": {},
   "outputs": [
    {
     "data": {
      "text/plain": [
       "get_collision_probability_node2 (generic function with 1 method)"
      ]
     },
     "execution_count": 11,
     "metadata": {},
     "output_type": "execute_result"
    }
   ],
   "source": [
    "using HCubature\n",
    "function get_collision_probability_node2(n1,t1,n2,t2,nn,lambda)\n",
    "\n",
    "    function f(x)\n",
    "        y = x[1]\n",
    "        t = x[2]\n",
    "        density = (1-cdf(Gamma(nn,lambda),abs(t2-t1+y))) * pdf(Gamma(n1,lambda), t) * pdf(Gamma(n2,lambda),t-y)\n",
    "        return density\n",
    "    end\n",
    "\n",
    "    function g(x)\n",
    "        y = x[1]\n",
    "        t = x[2]\n",
    "        density = (1-cdf(Gamma(nn,lambda),abs(t2-t1+y))) * pdf(Gamma(n1,lambda), t+y) * pdf(Gamma(n2,lambda),t)\n",
    "        return density\n",
    "    end\n",
    "    \n",
    "    function h(x)\n",
    "        y = x[1]\n",
    "        t = x[2]\n",
    "        density = (1-cdf(Gamma(nn,lambda),abs(t2-t1-y))) * pdf(Gamma(n1,lambda), t) * pdf(Gamma(n2,lambda),t-y)\n",
    "        return density\n",
    "    end\n",
    "\n",
    "    a = [-100.0;0.0]\n",
    "    b = [0.0,100.0]\n",
    "    m = [0.0;0.0]\n",
    "    n = [100.0,100.0]\n",
    "    \n",
    "    bound = max(t1+n1,t2+n2)*lambda + 30.0\n",
    "    #bound = 20.0 \n",
    "    \n",
    "    o = bound.*[-1.0,-1.0]\n",
    "    p = bound.*[1.0,1.0]\n",
    "    # C1,err1 = hcubature(f,a,b,maxevals=10^7)\n",
    "    # C2,err2 = hcubature(g,m,n,maxevals=10^7)\n",
    "    # C = C1 + C2\n",
    "    # err = err1 + err2\n",
    "    C, err = hcubature(h,o,p,maxevals=10^8)\n",
    "    #C, err = hcubature(h,o,p,rtol = 10^(-3))\n",
    "\n",
    "    return C, err\n",
    "end"
   ]
  },
  {
   "cell_type": "code",
   "execution_count": 2,
   "metadata": {},
   "outputs": [
    {
     "data": {
      "text/plain": [
       "count_conflicts (generic function with 1 method)"
      ]
     },
     "execution_count": 2,
     "metadata": {},
     "output_type": "execute_result"
    }
   ],
   "source": [
    "using Distributions\n",
    "function count_conflicts(n1,t1,n2,t2,nn,lambda,num_particles)\n",
    "    EA1 = rand(Gamma(n1,lambda),num_particles)\n",
    "    EA2 = rand(Gamma(n2,lambda),num_particles)\n",
    "    ed1 = rand(Gamma(nn,lambda),num_particles)\n",
    "    ed2 = rand(Gamma(nn,lambda),num_particles)\n",
    "    \n",
    "    r1_arrivals = t1 .+ EA1\n",
    "    r1_departures = r1_arrivals + ed1\n",
    "    r2_arrivals = t2 .+ EA2\n",
    "    r2_departures = r2_arrivals + ed2\n",
    "    \n",
    "    num_conflicts =length(findall(((r2_departures-r1_arrivals).>0) .& ((r1_departures-r2_arrivals).>0)   ))\n",
    "    \n",
    "    return num_conflicts/num_particles\n",
    "end"
   ]
  },
  {
   "cell_type": "code",
   "execution_count": 141,
   "metadata": {
    "scrolled": false
   },
   "outputs": [
    {
     "name": "stdout",
     "output_type": "stream",
     "text": [
      "n1: 47 t1: 32.52773060893689 n2: 8 t2: 45.123319656058136 nn: 5 lambda: 0.9606529693509342"
     ]
    },
    {
     "data": {
      "text/plain": [
       "0.0025"
      ]
     },
     "execution_count": 141,
     "metadata": {},
     "output_type": "execute_result"
    }
   ],
   "source": [
    "n1 = rand(1:50)\n",
    "t1 = rand()*50\n",
    "n2 = rand(1:50)\n",
    "t2 = rand()*50\n",
    "nn = rand(1:5)\n",
    "lambda = rand()\n",
    "print(\"n1: \", n1, \" t1: \", t1, \" n2: \", n2, \" t2: \", t2, \" nn: \", nn, \" lambda: \", lambda)\n",
    "sleep(1)\n",
    "theoretical_cp = get_collision_probability_node2(n1,t1,n2,t2,nn,lambda)\n",
    "count_conflicts(n1,t1,n2,t2,nn,lambda,10000)"
   ]
  },
  {
   "cell_type": "code",
   "execution_count": 12,
   "metadata": {},
   "outputs": [
    {
     "data": {
      "text/plain": [
       "(0.7200849830504366, 1.0729414332852146e-8)"
      ]
     },
     "execution_count": 12,
     "metadata": {},
     "output_type": "execute_result"
    }
   ],
   "source": [
    "theoretical_cp"
   ]
  },
  {
   "cell_type": "code",
   "execution_count": 21,
   "metadata": {},
   "outputs": [
    {
     "data": {
      "text/plain": [
       "(0.0, 0.0)"
      ]
     },
     "execution_count": 21,
     "metadata": {},
     "output_type": "execute_result"
    }
   ],
   "source": [
    "get_collision_probability_node2(n1,t1,n2,t2,nn,lambda)"
   ]
  },
  {
   "cell_type": "code",
   "execution_count": 4,
   "metadata": {},
   "outputs": [
    {
     "ename": "UndefVarError",
     "evalue": "UndefVarError: n1 not defined",
     "output_type": "error",
     "traceback": [
      "UndefVarError: n1 not defined",
      "",
      "Stacktrace:",
      " [1] top-level scope at In[4]:1"
     ]
    }
   ],
   "source": [
    "get_collision_probability_node2(n1,t1,n2,t2,nn,lambda)"
   ]
  },
  {
   "cell_type": "code",
   "execution_count": 13,
   "metadata": {},
   "outputs": [
    {
     "data": {
      "text/plain": [
       "0.719987"
      ]
     },
     "execution_count": 13,
     "metadata": {},
     "output_type": "execute_result"
    }
   ],
   "source": [
    "n1= 55\n",
    "t1= 6.7\n",
    "n2= 13 \n",
    "t2= 13.23\n",
    "nn= 46\n",
    "lambda= 0.08\n",
    "theoretical_cp = get_collision_probability_node2(n1,t1,n2,t2,nn,lambda)\n",
    "experimental_cp = count_conflicts(n1,t1,n2,t2,nn,lambda,2000000)"
   ]
  },
  {
   "cell_type": "code",
   "execution_count": 14,
   "metadata": {},
   "outputs": [
    {
     "data": {
      "text/plain": [
       "(0.25723244115721056, 3.831866400505209e-9)"
      ]
     },
     "execution_count": 14,
     "metadata": {},
     "output_type": "execute_result"
    }
   ],
   "source": [
    "theoretical_cp"
   ]
  },
  {
   "cell_type": "code",
   "execution_count": 154,
   "metadata": {},
   "outputs": [
    {
     "name": "stdout",
     "output_type": "stream",
     "text": [
      "Exception case occured! Returned something really wrong.\n",
      "n1: 1 t1: 10.996013160592968 n2: 2 t2: 17.64763311607456 nn: 5 lambda: 0.73098971222112\n",
      "Exception case occured! Returned something really wrong.\n",
      "n1: 1 t1: 10.996013160592968 n2: 2 t2: 17.64763311607456 nn: 5 lambda: 0.73098971222112\n",
      "Exception case occured! Returned something really wrong.\n",
      "n1: 1 t1: 10.996013160592968 n2: 2 t2: 17.64763311607456 nn: 5 lambda: 0.73098971222112\n",
      "Exception case occured! Returned something really wrong.\n",
      "n1: 1 t1: 10.996013160592968 n2: 2 t2: 17.64763311607456 nn: 5 lambda: 0.73098971222112\n",
      "Exception case occured! Returned something really wrong.\n",
      "n1: 1 t1: 10.996013160592968 n2: 2 t2: 17.64763311607456 nn: 5 lambda: 0.73098971222112\n",
      "Exception case occured! Returned something really wrong.\n",
      "n1: 1 t1: 9.547614466396436 n2: 2 t2: 11.440191208030779 nn: 3 lambda: 0.6890037898550796\n",
      "Exception case occured! Returned something really wrong.\n",
      "n1: 1 t1: 9.547614466396436 n2: 2 t2: 11.440191208030779 nn: 3 lambda: 0.6890037898550796\n",
      "Exception case occured! Returned something really wrong.\n",
      "n1: 1 t1: 9.547614466396436 n2: 2 t2: 11.440191208030779 nn: 3 lambda: 0.6890037898550796\n",
      "Exception case occured! Returned something really wrong.\n",
      "n1: 1 t1: 9.547614466396436 n2: 2 t2: 11.440191208030779 nn: 3 lambda: 0.6890037898550796\n",
      "Exception case occured! Returned something really wrong.\n",
      "n1: 1 t1: 9.547614466396436 n2: 2 t2: 11.440191208030779 nn: 3 lambda: 0.6890037898550796\n",
      "Exception case occured! Returned something really wrong.\n",
      "n1: 1 t1: 10.388646677054973 n2: 1 t2: 10.161218453242311 nn: 2 lambda: 0.9718606499407438\n",
      "Exception case occured! Returned something really wrong.\n",
      "n1: 1 t1: 10.388646677054973 n2: 1 t2: 10.161218453242311 nn: 2 lambda: 0.9718606499407438\n",
      "Exception case occured! Returned something really wrong.\n",
      "n1: 1 t1: 10.388646677054973 n2: 1 t2: 10.161218453242311 nn: 2 lambda: 0.9718606499407438\n",
      "Exception case occured! Returned something really wrong.\n",
      "n1: 1 t1: 10.388646677054973 n2: 1 t2: 10.161218453242311 nn: 2 lambda: 0.9718606499407438\n",
      "Exception case occured! Returned something really wrong.\n",
      "n1: 1 t1: 10.388646677054973 n2: 1 t2: 10.161218453242311 nn: 2 lambda: 0.9718606499407438\n"
     ]
    },
    {
     "data": {
      "image/svg+xml": [
       "<?xml version=\"1.0\" encoding=\"utf-8\"?>\n",
       "<svg xmlns=\"http://www.w3.org/2000/svg\" xmlns:xlink=\"http://www.w3.org/1999/xlink\" width=\"600\" height=\"400\" viewBox=\"0 0 2400 1600\">\n",
       "<defs>\n",
       "  <clipPath id=\"clip1200\">\n",
       "    <rect x=\"0\" y=\"0\" width=\"2400\" height=\"1600\"/>\n",
       "  </clipPath>\n",
       "</defs>\n",
       "<polygon clip-path=\"url(#clip1200)\" points=\"\n",
       "0,1600 2400,1600 2400,0 0,0 \n",
       "  \" fill=\"#ffffff\" fill-rule=\"evenodd\" fill-opacity=\"1\"/>\n",
       "<defs>\n",
       "  <clipPath id=\"clip1201\">\n",
       "    <rect x=\"480\" y=\"0\" width=\"1681\" height=\"1600\"/>\n",
       "  </clipPath>\n",
       "</defs>\n",
       "<polygon clip-path=\"url(#clip1200)\" points=\"\n",
       "189.504,1503.47 2321.26,1503.47 2321.26,47.2441 189.504,47.2441 \n",
       "  \" fill=\"#ffffff\" fill-rule=\"evenodd\" fill-opacity=\"1\"/>\n",
       "<defs>\n",
       "  <clipPath id=\"clip1202\">\n",
       "    <rect x=\"189\" y=\"47\" width=\"2133\" height=\"1457\"/>\n",
       "  </clipPath>\n",
       "</defs>\n",
       "<polyline clip-path=\"url(#clip1202)\" style=\"stroke:#000000; stroke-width:2; stroke-opacity:0.1; fill:none\" points=\"\n",
       "  249.837,1503.47 249.837,47.2441 \n",
       "  \"/>\n",
       "<polyline clip-path=\"url(#clip1202)\" style=\"stroke:#000000; stroke-width:2; stroke-opacity:0.1; fill:none\" points=\"\n",
       "  652.055,1503.47 652.055,47.2441 \n",
       "  \"/>\n",
       "<polyline clip-path=\"url(#clip1202)\" style=\"stroke:#000000; stroke-width:2; stroke-opacity:0.1; fill:none\" points=\"\n",
       "  1054.27,1503.47 1054.27,47.2441 \n",
       "  \"/>\n",
       "<polyline clip-path=\"url(#clip1202)\" style=\"stroke:#000000; stroke-width:2; stroke-opacity:0.1; fill:none\" points=\"\n",
       "  1456.49,1503.47 1456.49,47.2441 \n",
       "  \"/>\n",
       "<polyline clip-path=\"url(#clip1202)\" style=\"stroke:#000000; stroke-width:2; stroke-opacity:0.1; fill:none\" points=\"\n",
       "  1858.71,1503.47 1858.71,47.2441 \n",
       "  \"/>\n",
       "<polyline clip-path=\"url(#clip1202)\" style=\"stroke:#000000; stroke-width:2; stroke-opacity:0.1; fill:none\" points=\"\n",
       "  2260.93,1503.47 2260.93,47.2441 \n",
       "  \"/>\n",
       "<polyline clip-path=\"url(#clip1202)\" style=\"stroke:#000000; stroke-width:2; stroke-opacity:0.1; fill:none\" points=\"\n",
       "  189.504,1385.15 2321.26,1385.15 \n",
       "  \"/>\n",
       "<polyline clip-path=\"url(#clip1202)\" style=\"stroke:#000000; stroke-width:2; stroke-opacity:0.1; fill:none\" points=\"\n",
       "  189.504,1081.59 2321.26,1081.59 \n",
       "  \"/>\n",
       "<polyline clip-path=\"url(#clip1202)\" style=\"stroke:#000000; stroke-width:2; stroke-opacity:0.1; fill:none\" points=\"\n",
       "  189.504,778.037 2321.26,778.037 \n",
       "  \"/>\n",
       "<polyline clip-path=\"url(#clip1202)\" style=\"stroke:#000000; stroke-width:2; stroke-opacity:0.1; fill:none\" points=\"\n",
       "  189.504,474.48 2321.26,474.48 \n",
       "  \"/>\n",
       "<polyline clip-path=\"url(#clip1202)\" style=\"stroke:#000000; stroke-width:2; stroke-opacity:0.1; fill:none\" points=\"\n",
       "  189.504,170.924 2321.26,170.924 \n",
       "  \"/>\n",
       "<polyline clip-path=\"url(#clip1200)\" style=\"stroke:#000000; stroke-width:4; stroke-opacity:1; fill:none\" points=\"\n",
       "  189.504,1503.47 2321.26,1503.47 \n",
       "  \"/>\n",
       "<polyline clip-path=\"url(#clip1200)\" style=\"stroke:#000000; stroke-width:4; stroke-opacity:1; fill:none\" points=\"\n",
       "  189.504,1503.47 189.504,47.2441 \n",
       "  \"/>\n",
       "<polyline clip-path=\"url(#clip1200)\" style=\"stroke:#000000; stroke-width:4; stroke-opacity:1; fill:none\" points=\"\n",
       "  249.837,1503.47 249.837,1481.63 \n",
       "  \"/>\n",
       "<polyline clip-path=\"url(#clip1200)\" style=\"stroke:#000000; stroke-width:4; stroke-opacity:1; fill:none\" points=\"\n",
       "  652.055,1503.47 652.055,1481.63 \n",
       "  \"/>\n",
       "<polyline clip-path=\"url(#clip1200)\" style=\"stroke:#000000; stroke-width:4; stroke-opacity:1; fill:none\" points=\"\n",
       "  1054.27,1503.47 1054.27,1481.63 \n",
       "  \"/>\n",
       "<polyline clip-path=\"url(#clip1200)\" style=\"stroke:#000000; stroke-width:4; stroke-opacity:1; fill:none\" points=\"\n",
       "  1456.49,1503.47 1456.49,1481.63 \n",
       "  \"/>\n",
       "<polyline clip-path=\"url(#clip1200)\" style=\"stroke:#000000; stroke-width:4; stroke-opacity:1; fill:none\" points=\"\n",
       "  1858.71,1503.47 1858.71,1481.63 \n",
       "  \"/>\n",
       "<polyline clip-path=\"url(#clip1200)\" style=\"stroke:#000000; stroke-width:4; stroke-opacity:1; fill:none\" points=\"\n",
       "  2260.93,1503.47 2260.93,1481.63 \n",
       "  \"/>\n",
       "<polyline clip-path=\"url(#clip1200)\" style=\"stroke:#000000; stroke-width:4; stroke-opacity:1; fill:none\" points=\"\n",
       "  189.504,1385.15 221.48,1385.15 \n",
       "  \"/>\n",
       "<polyline clip-path=\"url(#clip1200)\" style=\"stroke:#000000; stroke-width:4; stroke-opacity:1; fill:none\" points=\"\n",
       "  189.504,1081.59 221.48,1081.59 \n",
       "  \"/>\n",
       "<polyline clip-path=\"url(#clip1200)\" style=\"stroke:#000000; stroke-width:4; stroke-opacity:1; fill:none\" points=\"\n",
       "  189.504,778.037 221.48,778.037 \n",
       "  \"/>\n",
       "<polyline clip-path=\"url(#clip1200)\" style=\"stroke:#000000; stroke-width:4; stroke-opacity:1; fill:none\" points=\"\n",
       "  189.504,474.48 221.48,474.48 \n",
       "  \"/>\n",
       "<polyline clip-path=\"url(#clip1200)\" style=\"stroke:#000000; stroke-width:4; stroke-opacity:1; fill:none\" points=\"\n",
       "  189.504,170.924 221.48,170.924 \n",
       "  \"/>\n",
       "<g clip-path=\"url(#clip1200)\">\n",
       "<text style=\"fill:#000000; fill-opacity:1; font-family:Arial,Helvetica Neue,Helvetica,sans-serif; font-size:48px; text-anchor:start;\" transform=\"rotate(0, 206.766, 1578.48)\" x=\"206.766\" y=\"1578.48\">10</text>\n",
       "</g>\n",
       "<g clip-path=\"url(#clip1200)\">\n",
       "<text style=\"fill:#000000; fill-opacity:1; font-family:Arial,Helvetica Neue,Helvetica,sans-serif; font-size:38px; text-anchor:start;\" transform=\"rotate(0, 260.291, 1551.07)\" x=\"260.291\" y=\"1551.07\">0 </text>\n",
       "</g>\n",
       "<g clip-path=\"url(#clip1200)\">\n",
       "<text style=\"fill:#000000; fill-opacity:1; font-family:Arial,Helvetica Neue,Helvetica,sans-serif; font-size:48px; text-anchor:start;\" transform=\"rotate(0, 608.984, 1578.48)\" x=\"608.984\" y=\"1578.48\">10</text>\n",
       "</g>\n",
       "<g clip-path=\"url(#clip1200)\">\n",
       "<text style=\"fill:#000000; fill-opacity:1; font-family:Arial,Helvetica Neue,Helvetica,sans-serif; font-size:38px; text-anchor:start;\" transform=\"rotate(0, 662.509, 1551.07)\" x=\"662.509\" y=\"1551.07\">1 </text>\n",
       "</g>\n",
       "<g clip-path=\"url(#clip1200)\">\n",
       "<text style=\"fill:#000000; fill-opacity:1; font-family:Arial,Helvetica Neue,Helvetica,sans-serif; font-size:48px; text-anchor:start;\" transform=\"rotate(0, 1011.2, 1578.48)\" x=\"1011.2\" y=\"1578.48\">10</text>\n",
       "</g>\n",
       "<g clip-path=\"url(#clip1200)\">\n",
       "<text style=\"fill:#000000; fill-opacity:1; font-family:Arial,Helvetica Neue,Helvetica,sans-serif; font-size:38px; text-anchor:start;\" transform=\"rotate(0, 1064.73, 1551.07)\" x=\"1064.73\" y=\"1551.07\">2 </text>\n",
       "</g>\n",
       "<g clip-path=\"url(#clip1200)\">\n",
       "<text style=\"fill:#000000; fill-opacity:1; font-family:Arial,Helvetica Neue,Helvetica,sans-serif; font-size:48px; text-anchor:start;\" transform=\"rotate(0, 1413.42, 1578.48)\" x=\"1413.42\" y=\"1578.48\">10</text>\n",
       "</g>\n",
       "<g clip-path=\"url(#clip1200)\">\n",
       "<text style=\"fill:#000000; fill-opacity:1; font-family:Arial,Helvetica Neue,Helvetica,sans-serif; font-size:38px; text-anchor:start;\" transform=\"rotate(0, 1466.95, 1551.07)\" x=\"1466.95\" y=\"1551.07\">3 </text>\n",
       "</g>\n",
       "<g clip-path=\"url(#clip1200)\">\n",
       "<text style=\"fill:#000000; fill-opacity:1; font-family:Arial,Helvetica Neue,Helvetica,sans-serif; font-size:48px; text-anchor:start;\" transform=\"rotate(0, 1815.64, 1578.48)\" x=\"1815.64\" y=\"1578.48\">10</text>\n",
       "</g>\n",
       "<g clip-path=\"url(#clip1200)\">\n",
       "<text style=\"fill:#000000; fill-opacity:1; font-family:Arial,Helvetica Neue,Helvetica,sans-serif; font-size:38px; text-anchor:start;\" transform=\"rotate(0, 1869.16, 1551.07)\" x=\"1869.16\" y=\"1551.07\">4 </text>\n",
       "</g>\n",
       "<g clip-path=\"url(#clip1200)\">\n",
       "<text style=\"fill:#000000; fill-opacity:1; font-family:Arial,Helvetica Neue,Helvetica,sans-serif; font-size:48px; text-anchor:start;\" transform=\"rotate(0, 2217.86, 1578.48)\" x=\"2217.86\" y=\"1578.48\">10</text>\n",
       "</g>\n",
       "<g clip-path=\"url(#clip1200)\">\n",
       "<text style=\"fill:#000000; fill-opacity:1; font-family:Arial,Helvetica Neue,Helvetica,sans-serif; font-size:38px; text-anchor:start;\" transform=\"rotate(0, 2271.38, 1551.07)\" x=\"2271.38\" y=\"1551.07\">5 </text>\n",
       "</g>\n",
       "<g clip-path=\"url(#clip1200)\">\n",
       "<text style=\"fill:#000000; fill-opacity:1; font-family:Arial,Helvetica Neue,Helvetica,sans-serif; font-size:48px; text-anchor:end;\" transform=\"rotate(0, 165.504, 1402.65)\" x=\"165.504\" y=\"1402.65\">-2.5</text>\n",
       "</g>\n",
       "<g clip-path=\"url(#clip1200)\">\n",
       "<text style=\"fill:#000000; fill-opacity:1; font-family:Arial,Helvetica Neue,Helvetica,sans-serif; font-size:48px; text-anchor:end;\" transform=\"rotate(0, 165.504, 1099.09)\" x=\"165.504\" y=\"1099.09\">0.0</text>\n",
       "</g>\n",
       "<g clip-path=\"url(#clip1200)\">\n",
       "<text style=\"fill:#000000; fill-opacity:1; font-family:Arial,Helvetica Neue,Helvetica,sans-serif; font-size:48px; text-anchor:end;\" transform=\"rotate(0, 165.504, 795.537)\" x=\"165.504\" y=\"795.537\">2.5</text>\n",
       "</g>\n",
       "<g clip-path=\"url(#clip1200)\">\n",
       "<text style=\"fill:#000000; fill-opacity:1; font-family:Arial,Helvetica Neue,Helvetica,sans-serif; font-size:48px; text-anchor:end;\" transform=\"rotate(0, 165.504, 491.98)\" x=\"165.504\" y=\"491.98\">5.0</text>\n",
       "</g>\n",
       "<g clip-path=\"url(#clip1200)\">\n",
       "<text style=\"fill:#000000; fill-opacity:1; font-family:Arial,Helvetica Neue,Helvetica,sans-serif; font-size:48px; text-anchor:end;\" transform=\"rotate(0, 165.504, 188.424)\" x=\"165.504\" y=\"188.424\">7.5</text>\n",
       "</g>\n",
       "<polyline clip-path=\"url(#clip1202)\" style=\"stroke:#009af9; stroke-width:4; stroke-opacity:1; fill:none\" points=\"\n",
       "  249.837,775.359 370.917,865.777 530.975,966.393 652.055,1002.31 773.135,1031.32 933.193,1043.1 1054.27,1056.93 1175.35,1057.98 1335.41,1068.11 1456.49,1070.21 \n",
       "  1577.57,1073.49 1737.63,1075.93 1858.71,1076.41 1979.79,1077.35 2139.85,1078.25 2260.93,1078.48 \n",
       "  \"/>\n",
       "<polyline clip-path=\"url(#clip1202)\" style=\"stroke:#009af9; stroke-width:4; stroke-opacity:1; fill:none\" points=\"\n",
       "  249.837,1462.26 249.837,88.4582 \n",
       "  \"/>\n",
       "<polyline clip-path=\"url(#clip1202)\" style=\"stroke:#009af9; stroke-width:4; stroke-opacity:1; fill:none\" points=\"\n",
       "  370.917,1274.49 370.917,457.064 \n",
       "  \"/>\n",
       "<polyline clip-path=\"url(#clip1202)\" style=\"stroke:#009af9; stroke-width:4; stroke-opacity:1; fill:none\" points=\"\n",
       "  530.975,1166.35 530.975,766.433 \n",
       "  \"/>\n",
       "<polyline clip-path=\"url(#clip1202)\" style=\"stroke:#009af9; stroke-width:4; stroke-opacity:1; fill:none\" points=\"\n",
       "  652.055,1117.11 652.055,887.517 \n",
       "  \"/>\n",
       "<polyline clip-path=\"url(#clip1202)\" style=\"stroke:#009af9; stroke-width:4; stroke-opacity:1; fill:none\" points=\"\n",
       "  773.135,1095.91 773.135,966.725 \n",
       "  \"/>\n",
       "<polyline clip-path=\"url(#clip1202)\" style=\"stroke:#009af9; stroke-width:4; stroke-opacity:1; fill:none\" points=\"\n",
       "  933.193,1099.91 933.193,986.3 \n",
       "  \"/>\n",
       "<polyline clip-path=\"url(#clip1202)\" style=\"stroke:#009af9; stroke-width:4; stroke-opacity:1; fill:none\" points=\"\n",
       "  1054.27,1088.55 1054.27,1025.31 \n",
       "  \"/>\n",
       "<polyline clip-path=\"url(#clip1202)\" style=\"stroke:#009af9; stroke-width:4; stroke-opacity:1; fill:none\" points=\"\n",
       "  1175.35,1097.69 1175.35,1018.28 \n",
       "  \"/>\n",
       "<polyline clip-path=\"url(#clip1202)\" style=\"stroke:#009af9; stroke-width:4; stroke-opacity:1; fill:none\" points=\"\n",
       "  1335.41,1088.49 1335.41,1047.74 \n",
       "  \"/>\n",
       "<polyline clip-path=\"url(#clip1202)\" style=\"stroke:#009af9; stroke-width:4; stroke-opacity:1; fill:none\" points=\"\n",
       "  1456.49,1089.52 1456.49,1050.91 \n",
       "  \"/>\n",
       "<polyline clip-path=\"url(#clip1202)\" style=\"stroke:#009af9; stroke-width:4; stroke-opacity:1; fill:none\" points=\"\n",
       "  1577.57,1093.66 1577.57,1053.32 \n",
       "  \"/>\n",
       "<polyline clip-path=\"url(#clip1202)\" style=\"stroke:#009af9; stroke-width:4; stroke-opacity:1; fill:none\" points=\"\n",
       "  1737.63,1092.55 1737.63,1059.31 \n",
       "  \"/>\n",
       "<polyline clip-path=\"url(#clip1202)\" style=\"stroke:#009af9; stroke-width:4; stroke-opacity:1; fill:none\" points=\"\n",
       "  1858.71,1095 1858.71,1057.81 \n",
       "  \"/>\n",
       "<polyline clip-path=\"url(#clip1202)\" style=\"stroke:#009af9; stroke-width:4; stroke-opacity:1; fill:none\" points=\"\n",
       "  1979.79,1094.35 1979.79,1060.36 \n",
       "  \"/>\n",
       "<polyline clip-path=\"url(#clip1202)\" style=\"stroke:#009af9; stroke-width:4; stroke-opacity:1; fill:none\" points=\"\n",
       "  2139.85,1096.14 2139.85,1060.37 \n",
       "  \"/>\n",
       "<polyline clip-path=\"url(#clip1202)\" style=\"stroke:#009af9; stroke-width:4; stroke-opacity:1; fill:none\" points=\"\n",
       "  2260.93,1096.19 2260.93,1060.77 \n",
       "  \"/>\n",
       "<line clip-path=\"url(#clip1202)\" x1=\"269.837\" y1=\"1462.26\" x2=\"229.837\" y2=\"1462.26\" style=\"stroke:#000000; stroke-width:4; stroke-opacity:1\"/>\n",
       "<line clip-path=\"url(#clip1202)\" x1=\"269.837\" y1=\"88.4582\" x2=\"229.837\" y2=\"88.4582\" style=\"stroke:#000000; stroke-width:4; stroke-opacity:1\"/>\n",
       "<line clip-path=\"url(#clip1202)\" x1=\"390.917\" y1=\"1274.49\" x2=\"350.917\" y2=\"1274.49\" style=\"stroke:#000000; stroke-width:4; stroke-opacity:1\"/>\n",
       "<line clip-path=\"url(#clip1202)\" x1=\"390.917\" y1=\"457.064\" x2=\"350.917\" y2=\"457.064\" style=\"stroke:#000000; stroke-width:4; stroke-opacity:1\"/>\n",
       "<line clip-path=\"url(#clip1202)\" x1=\"550.975\" y1=\"1166.35\" x2=\"510.975\" y2=\"1166.35\" style=\"stroke:#000000; stroke-width:4; stroke-opacity:1\"/>\n",
       "<line clip-path=\"url(#clip1202)\" x1=\"550.975\" y1=\"766.433\" x2=\"510.975\" y2=\"766.433\" style=\"stroke:#000000; stroke-width:4; stroke-opacity:1\"/>\n",
       "<line clip-path=\"url(#clip1202)\" x1=\"672.055\" y1=\"1117.11\" x2=\"632.055\" y2=\"1117.11\" style=\"stroke:#000000; stroke-width:4; stroke-opacity:1\"/>\n",
       "<line clip-path=\"url(#clip1202)\" x1=\"672.055\" y1=\"887.517\" x2=\"632.055\" y2=\"887.517\" style=\"stroke:#000000; stroke-width:4; stroke-opacity:1\"/>\n",
       "<line clip-path=\"url(#clip1202)\" x1=\"793.135\" y1=\"1095.91\" x2=\"753.135\" y2=\"1095.91\" style=\"stroke:#000000; stroke-width:4; stroke-opacity:1\"/>\n",
       "<line clip-path=\"url(#clip1202)\" x1=\"793.135\" y1=\"966.725\" x2=\"753.135\" y2=\"966.725\" style=\"stroke:#000000; stroke-width:4; stroke-opacity:1\"/>\n",
       "<line clip-path=\"url(#clip1202)\" x1=\"953.193\" y1=\"1099.91\" x2=\"913.193\" y2=\"1099.91\" style=\"stroke:#000000; stroke-width:4; stroke-opacity:1\"/>\n",
       "<line clip-path=\"url(#clip1202)\" x1=\"953.193\" y1=\"986.3\" x2=\"913.193\" y2=\"986.3\" style=\"stroke:#000000; stroke-width:4; stroke-opacity:1\"/>\n",
       "<line clip-path=\"url(#clip1202)\" x1=\"1074.27\" y1=\"1088.55\" x2=\"1034.27\" y2=\"1088.55\" style=\"stroke:#000000; stroke-width:4; stroke-opacity:1\"/>\n",
       "<line clip-path=\"url(#clip1202)\" x1=\"1074.27\" y1=\"1025.31\" x2=\"1034.27\" y2=\"1025.31\" style=\"stroke:#000000; stroke-width:4; stroke-opacity:1\"/>\n",
       "<line clip-path=\"url(#clip1202)\" x1=\"1195.35\" y1=\"1097.69\" x2=\"1155.35\" y2=\"1097.69\" style=\"stroke:#000000; stroke-width:4; stroke-opacity:1\"/>\n",
       "<line clip-path=\"url(#clip1202)\" x1=\"1195.35\" y1=\"1018.28\" x2=\"1155.35\" y2=\"1018.28\" style=\"stroke:#000000; stroke-width:4; stroke-opacity:1\"/>\n",
       "<line clip-path=\"url(#clip1202)\" x1=\"1355.41\" y1=\"1088.49\" x2=\"1315.41\" y2=\"1088.49\" style=\"stroke:#000000; stroke-width:4; stroke-opacity:1\"/>\n",
       "<line clip-path=\"url(#clip1202)\" x1=\"1355.41\" y1=\"1047.74\" x2=\"1315.41\" y2=\"1047.74\" style=\"stroke:#000000; stroke-width:4; stroke-opacity:1\"/>\n",
       "<line clip-path=\"url(#clip1202)\" x1=\"1476.49\" y1=\"1089.52\" x2=\"1436.49\" y2=\"1089.52\" style=\"stroke:#000000; stroke-width:4; stroke-opacity:1\"/>\n",
       "<line clip-path=\"url(#clip1202)\" x1=\"1476.49\" y1=\"1050.91\" x2=\"1436.49\" y2=\"1050.91\" style=\"stroke:#000000; stroke-width:4; stroke-opacity:1\"/>\n",
       "<line clip-path=\"url(#clip1202)\" x1=\"1597.57\" y1=\"1093.66\" x2=\"1557.57\" y2=\"1093.66\" style=\"stroke:#000000; stroke-width:4; stroke-opacity:1\"/>\n",
       "<line clip-path=\"url(#clip1202)\" x1=\"1597.57\" y1=\"1053.32\" x2=\"1557.57\" y2=\"1053.32\" style=\"stroke:#000000; stroke-width:4; stroke-opacity:1\"/>\n",
       "<line clip-path=\"url(#clip1202)\" x1=\"1757.63\" y1=\"1092.55\" x2=\"1717.63\" y2=\"1092.55\" style=\"stroke:#000000; stroke-width:4; stroke-opacity:1\"/>\n",
       "<line clip-path=\"url(#clip1202)\" x1=\"1757.63\" y1=\"1059.31\" x2=\"1717.63\" y2=\"1059.31\" style=\"stroke:#000000; stroke-width:4; stroke-opacity:1\"/>\n",
       "<line clip-path=\"url(#clip1202)\" x1=\"1878.71\" y1=\"1095\" x2=\"1838.71\" y2=\"1095\" style=\"stroke:#000000; stroke-width:4; stroke-opacity:1\"/>\n",
       "<line clip-path=\"url(#clip1202)\" x1=\"1878.71\" y1=\"1057.81\" x2=\"1838.71\" y2=\"1057.81\" style=\"stroke:#000000; stroke-width:4; stroke-opacity:1\"/>\n",
       "<line clip-path=\"url(#clip1202)\" x1=\"1999.79\" y1=\"1094.35\" x2=\"1959.79\" y2=\"1094.35\" style=\"stroke:#000000; stroke-width:4; stroke-opacity:1\"/>\n",
       "<line clip-path=\"url(#clip1202)\" x1=\"1999.79\" y1=\"1060.36\" x2=\"1959.79\" y2=\"1060.36\" style=\"stroke:#000000; stroke-width:4; stroke-opacity:1\"/>\n",
       "<line clip-path=\"url(#clip1202)\" x1=\"2159.85\" y1=\"1096.14\" x2=\"2119.85\" y2=\"1096.14\" style=\"stroke:#000000; stroke-width:4; stroke-opacity:1\"/>\n",
       "<line clip-path=\"url(#clip1202)\" x1=\"2159.85\" y1=\"1060.37\" x2=\"2119.85\" y2=\"1060.37\" style=\"stroke:#000000; stroke-width:4; stroke-opacity:1\"/>\n",
       "<line clip-path=\"url(#clip1202)\" x1=\"2280.93\" y1=\"1096.19\" x2=\"2240.93\" y2=\"1096.19\" style=\"stroke:#000000; stroke-width:4; stroke-opacity:1\"/>\n",
       "<line clip-path=\"url(#clip1202)\" x1=\"2280.93\" y1=\"1060.77\" x2=\"2240.93\" y2=\"1060.77\" style=\"stroke:#000000; stroke-width:4; stroke-opacity:1\"/>\n",
       "<polygon clip-path=\"url(#clip1200)\" points=\"\n",
       "1958.43,251.724 2249.26,251.724 2249.26,130.764 1958.43,130.764 \n",
       "  \" fill=\"#ffffff\" fill-rule=\"evenodd\" fill-opacity=\"1\"/>\n",
       "<polyline clip-path=\"url(#clip1200)\" style=\"stroke:#000000; stroke-width:4; stroke-opacity:1; fill:none\" points=\"\n",
       "  1958.43,251.724 2249.26,251.724 2249.26,130.764 1958.43,130.764 1958.43,251.724 \n",
       "  \"/>\n",
       "<polyline clip-path=\"url(#clip1200)\" style=\"stroke:#009af9; stroke-width:4; stroke-opacity:1; fill:none\" points=\"\n",
       "  1982.43,191.244 2126.43,191.244 \n",
       "  \"/>\n",
       "<g clip-path=\"url(#clip1200)\">\n",
       "<text style=\"fill:#000000; fill-opacity:1; font-family:Arial,Helvetica Neue,Helvetica,sans-serif; font-size:48px; text-anchor:start;\" transform=\"rotate(0, 2150.43, 208.744)\" x=\"2150.43\" y=\"208.744\">y1</text>\n",
       "</g>\n",
       "</svg>\n"
      ]
     },
     "execution_count": 154,
     "metadata": {},
     "output_type": "execute_result"
    }
   ],
   "source": [
    "using DataFrames\n",
    "using Statistics\n",
    "using Plots\n",
    "df = DataFrame(num_particles=Int64[],cp=Float64[],experimental_cp=Float64[],etas=Float64[])\n",
    "x_list = [1,2,5,10,20,50,100,200,500,1000,2000,5000,10000,20000,50000,100000]\n",
    "max_attempts = 10000\n",
    "# Defining global variables\n",
    "n1 = 0\n",
    "n2 = 0\n",
    "t1 = 0\n",
    "t2 = 0\n",
    "nn = 0\n",
    "lambda = 0\n",
    "for k in 1:200\n",
    "    #println(\"Next k\")\n",
    "    theoretical_cp = 0.0\n",
    "    attempts = 0\n",
    "    while theoretical_cp < 0.01 && attempts < max_attempts\n",
    "        n1 = rand(1:20)\n",
    "        t1 = rand()*20\n",
    "        n2 = rand(1:20)\n",
    "        t2 = rand()*20\n",
    "        nn = rand(1:5)\n",
    "        lambda = rand()\n",
    "        theoretical_cp = get_collision_probability_node2(n1,t1,n2,t2,nn,lambda)[1]\n",
    "        attempts += 1\n",
    "    end\n",
    "    for x in x_list\n",
    "        experimental_cp = count_conflicts(n1,t1,n2,t2,nn,lambda,x)\n",
    "        ecart_relatif = abs(experimental_cp-theoretical_cp)/theoretical_cp\n",
    "        if abs(ecart_relatif) > 0.5 && x > 2000\n",
    "            println(\"Exception case occured! Returned something really wrong.\")\n",
    "            println(\"n1: \", n1, \" t1: \", t1, \" n2: \", n2, \" t2: \", t2, \" nn: \", nn, \" lambda: \", lambda)\n",
    "        end\n",
    "        push!(df,[x,theoretical_cp,experimental_cp,ecart_relatif])\n",
    "    end\n",
    "end\n",
    "\n",
    "ys = []\n",
    "stds = []\n",
    "for x in x_list\n",
    "    indexes = findall((df[1].==x) .& (df[2] .> 0.01) .& (df[2] .< 1.0) .& (df[3] .> 0.01))\n",
    "    values = df[4][indexes]\n",
    "    y = mean(values)\n",
    "    stdv = std(values)\n",
    "    append!(ys,y)\n",
    "    append!(stds,stdv)\n",
    "end\n",
    "\n",
    "plot(x_list,ys,yerror=stds,xscale = :log10)"
   ]
  },
  {
   "cell_type": "code",
   "execution_count": 159,
   "metadata": {},
   "outputs": [
    {
     "data": {
      "image/svg+xml": [
       "<?xml version=\"1.0\" encoding=\"utf-8\"?>\n",
       "<svg xmlns=\"http://www.w3.org/2000/svg\" xmlns:xlink=\"http://www.w3.org/1999/xlink\" width=\"600\" height=\"400\" viewBox=\"0 0 2400 1600\">\n",
       "<defs>\n",
       "  <clipPath id=\"clip2400\">\n",
       "    <rect x=\"0\" y=\"0\" width=\"2400\" height=\"1600\"/>\n",
       "  </clipPath>\n",
       "</defs>\n",
       "<polygon clip-path=\"url(#clip2400)\" points=\"\n",
       "0,1600 2400,1600 2400,0 0,0 \n",
       "  \" fill=\"#ffffff\" fill-rule=\"evenodd\" fill-opacity=\"1\"/>\n",
       "<defs>\n",
       "  <clipPath id=\"clip2401\">\n",
       "    <rect x=\"480\" y=\"0\" width=\"1681\" height=\"1600\"/>\n",
       "  </clipPath>\n",
       "</defs>\n",
       "<polygon clip-path=\"url(#clip2400)\" points=\"\n",
       "252.496,1440.48 2321.26,1440.48 2321.26,47.2441 252.496,47.2441 \n",
       "  \" fill=\"#ffffff\" fill-rule=\"evenodd\" fill-opacity=\"1\"/>\n",
       "<defs>\n",
       "  <clipPath id=\"clip2402\">\n",
       "    <rect x=\"252\" y=\"47\" width=\"2070\" height=\"1394\"/>\n",
       "  </clipPath>\n",
       "</defs>\n",
       "<polyline clip-path=\"url(#clip2402)\" style=\"stroke:#000000; stroke-width:2; stroke-opacity:0.1; fill:none\" points=\"\n",
       "  311.046,1440.48 311.046,47.2441 \n",
       "  \"/>\n",
       "<polyline clip-path=\"url(#clip2402)\" style=\"stroke:#000000; stroke-width:2; stroke-opacity:0.1; fill:none\" points=\"\n",
       "  701.379,1440.48 701.379,47.2441 \n",
       "  \"/>\n",
       "<polyline clip-path=\"url(#clip2402)\" style=\"stroke:#000000; stroke-width:2; stroke-opacity:0.1; fill:none\" points=\"\n",
       "  1091.71,1440.48 1091.71,47.2441 \n",
       "  \"/>\n",
       "<polyline clip-path=\"url(#clip2402)\" style=\"stroke:#000000; stroke-width:2; stroke-opacity:0.1; fill:none\" points=\"\n",
       "  1482.04,1440.48 1482.04,47.2441 \n",
       "  \"/>\n",
       "<polyline clip-path=\"url(#clip2402)\" style=\"stroke:#000000; stroke-width:2; stroke-opacity:0.1; fill:none\" points=\"\n",
       "  1872.38,1440.48 1872.38,47.2441 \n",
       "  \"/>\n",
       "<polyline clip-path=\"url(#clip2402)\" style=\"stroke:#000000; stroke-width:2; stroke-opacity:0.1; fill:none\" points=\"\n",
       "  2262.71,1440.48 2262.71,47.2441 \n",
       "  \"/>\n",
       "<polyline clip-path=\"url(#clip2402)\" style=\"stroke:#000000; stroke-width:2; stroke-opacity:0.1; fill:none\" points=\"\n",
       "  252.496,1327.28 2321.26,1327.28 \n",
       "  \"/>\n",
       "<polyline clip-path=\"url(#clip2402)\" style=\"stroke:#000000; stroke-width:2; stroke-opacity:0.1; fill:none\" points=\"\n",
       "  252.496,1036.85 2321.26,1036.85 \n",
       "  \"/>\n",
       "<polyline clip-path=\"url(#clip2402)\" style=\"stroke:#000000; stroke-width:2; stroke-opacity:0.1; fill:none\" points=\"\n",
       "  252.496,746.425 2321.26,746.425 \n",
       "  \"/>\n",
       "<polyline clip-path=\"url(#clip2402)\" style=\"stroke:#000000; stroke-width:2; stroke-opacity:0.1; fill:none\" points=\"\n",
       "  252.496,455.999 2321.26,455.999 \n",
       "  \"/>\n",
       "<polyline clip-path=\"url(#clip2402)\" style=\"stroke:#000000; stroke-width:2; stroke-opacity:0.1; fill:none\" points=\"\n",
       "  252.496,165.574 2321.26,165.574 \n",
       "  \"/>\n",
       "<polyline clip-path=\"url(#clip2400)\" style=\"stroke:#000000; stroke-width:4; stroke-opacity:1; fill:none\" points=\"\n",
       "  252.496,1440.48 2321.26,1440.48 \n",
       "  \"/>\n",
       "<polyline clip-path=\"url(#clip2400)\" style=\"stroke:#000000; stroke-width:4; stroke-opacity:1; fill:none\" points=\"\n",
       "  252.496,1440.48 252.496,47.2441 \n",
       "  \"/>\n",
       "<polyline clip-path=\"url(#clip2400)\" style=\"stroke:#000000; stroke-width:4; stroke-opacity:1; fill:none\" points=\"\n",
       "  311.046,1440.48 311.046,1419.58 \n",
       "  \"/>\n",
       "<polyline clip-path=\"url(#clip2400)\" style=\"stroke:#000000; stroke-width:4; stroke-opacity:1; fill:none\" points=\"\n",
       "  701.379,1440.48 701.379,1419.58 \n",
       "  \"/>\n",
       "<polyline clip-path=\"url(#clip2400)\" style=\"stroke:#000000; stroke-width:4; stroke-opacity:1; fill:none\" points=\"\n",
       "  1091.71,1440.48 1091.71,1419.58 \n",
       "  \"/>\n",
       "<polyline clip-path=\"url(#clip2400)\" style=\"stroke:#000000; stroke-width:4; stroke-opacity:1; fill:none\" points=\"\n",
       "  1482.04,1440.48 1482.04,1419.58 \n",
       "  \"/>\n",
       "<polyline clip-path=\"url(#clip2400)\" style=\"stroke:#000000; stroke-width:4; stroke-opacity:1; fill:none\" points=\"\n",
       "  1872.38,1440.48 1872.38,1419.58 \n",
       "  \"/>\n",
       "<polyline clip-path=\"url(#clip2400)\" style=\"stroke:#000000; stroke-width:4; stroke-opacity:1; fill:none\" points=\"\n",
       "  2262.71,1440.48 2262.71,1419.58 \n",
       "  \"/>\n",
       "<polyline clip-path=\"url(#clip2400)\" style=\"stroke:#000000; stroke-width:4; stroke-opacity:1; fill:none\" points=\"\n",
       "  252.496,1327.28 283.528,1327.28 \n",
       "  \"/>\n",
       "<polyline clip-path=\"url(#clip2400)\" style=\"stroke:#000000; stroke-width:4; stroke-opacity:1; fill:none\" points=\"\n",
       "  252.496,1036.85 283.528,1036.85 \n",
       "  \"/>\n",
       "<polyline clip-path=\"url(#clip2400)\" style=\"stroke:#000000; stroke-width:4; stroke-opacity:1; fill:none\" points=\"\n",
       "  252.496,746.425 283.528,746.425 \n",
       "  \"/>\n",
       "<polyline clip-path=\"url(#clip2400)\" style=\"stroke:#000000; stroke-width:4; stroke-opacity:1; fill:none\" points=\"\n",
       "  252.496,455.999 283.528,455.999 \n",
       "  \"/>\n",
       "<polyline clip-path=\"url(#clip2400)\" style=\"stroke:#000000; stroke-width:4; stroke-opacity:1; fill:none\" points=\"\n",
       "  252.496,165.574 283.528,165.574 \n",
       "  \"/>\n",
       "<g clip-path=\"url(#clip2400)\">\n",
       "<text style=\"fill:#000000; fill-opacity:1; font-family:Arial,Helvetica Neue,Helvetica,sans-serif; font-size:48px; text-anchor:start;\" transform=\"rotate(0, 267.976, 1515.49)\" x=\"267.976\" y=\"1515.49\">10</text>\n",
       "</g>\n",
       "<g clip-path=\"url(#clip2400)\">\n",
       "<text style=\"fill:#000000; fill-opacity:1; font-family:Arial,Helvetica Neue,Helvetica,sans-serif; font-size:38px; text-anchor:start;\" transform=\"rotate(0, 321.5, 1488.08)\" x=\"321.5\" y=\"1488.08\">0 </text>\n",
       "</g>\n",
       "<g clip-path=\"url(#clip2400)\">\n",
       "<text style=\"fill:#000000; fill-opacity:1; font-family:Arial,Helvetica Neue,Helvetica,sans-serif; font-size:48px; text-anchor:start;\" transform=\"rotate(0, 658.308, 1515.49)\" x=\"658.308\" y=\"1515.49\">10</text>\n",
       "</g>\n",
       "<g clip-path=\"url(#clip2400)\">\n",
       "<text style=\"fill:#000000; fill-opacity:1; font-family:Arial,Helvetica Neue,Helvetica,sans-serif; font-size:38px; text-anchor:start;\" transform=\"rotate(0, 711.833, 1488.08)\" x=\"711.833\" y=\"1488.08\">1 </text>\n",
       "</g>\n",
       "<g clip-path=\"url(#clip2400)\">\n",
       "<text style=\"fill:#000000; fill-opacity:1; font-family:Arial,Helvetica Neue,Helvetica,sans-serif; font-size:48px; text-anchor:start;\" transform=\"rotate(0, 1048.64, 1515.49)\" x=\"1048.64\" y=\"1515.49\">10</text>\n",
       "</g>\n",
       "<g clip-path=\"url(#clip2400)\">\n",
       "<text style=\"fill:#000000; fill-opacity:1; font-family:Arial,Helvetica Neue,Helvetica,sans-serif; font-size:38px; text-anchor:start;\" transform=\"rotate(0, 1102.17, 1488.08)\" x=\"1102.17\" y=\"1488.08\">2 </text>\n",
       "</g>\n",
       "<g clip-path=\"url(#clip2400)\">\n",
       "<text style=\"fill:#000000; fill-opacity:1; font-family:Arial,Helvetica Neue,Helvetica,sans-serif; font-size:48px; text-anchor:start;\" transform=\"rotate(0, 1438.97, 1515.49)\" x=\"1438.97\" y=\"1515.49\">10</text>\n",
       "</g>\n",
       "<g clip-path=\"url(#clip2400)\">\n",
       "<text style=\"fill:#000000; fill-opacity:1; font-family:Arial,Helvetica Neue,Helvetica,sans-serif; font-size:38px; text-anchor:start;\" transform=\"rotate(0, 1492.5, 1488.08)\" x=\"1492.5\" y=\"1488.08\">3 </text>\n",
       "</g>\n",
       "<g clip-path=\"url(#clip2400)\">\n",
       "<text style=\"fill:#000000; fill-opacity:1; font-family:Arial,Helvetica Neue,Helvetica,sans-serif; font-size:48px; text-anchor:start;\" transform=\"rotate(0, 1829.31, 1515.49)\" x=\"1829.31\" y=\"1515.49\">10</text>\n",
       "</g>\n",
       "<g clip-path=\"url(#clip2400)\">\n",
       "<text style=\"fill:#000000; fill-opacity:1; font-family:Arial,Helvetica Neue,Helvetica,sans-serif; font-size:38px; text-anchor:start;\" transform=\"rotate(0, 1882.83, 1488.08)\" x=\"1882.83\" y=\"1488.08\">4 </text>\n",
       "</g>\n",
       "<g clip-path=\"url(#clip2400)\">\n",
       "<text style=\"fill:#000000; fill-opacity:1; font-family:Arial,Helvetica Neue,Helvetica,sans-serif; font-size:48px; text-anchor:start;\" transform=\"rotate(0, 2219.64, 1515.49)\" x=\"2219.64\" y=\"1515.49\">10</text>\n",
       "</g>\n",
       "<g clip-path=\"url(#clip2400)\">\n",
       "<text style=\"fill:#000000; fill-opacity:1; font-family:Arial,Helvetica Neue,Helvetica,sans-serif; font-size:38px; text-anchor:start;\" transform=\"rotate(0, 2273.16, 1488.08)\" x=\"2273.16\" y=\"1488.08\">5 </text>\n",
       "</g>\n",
       "<g clip-path=\"url(#clip2400)\">\n",
       "<text style=\"fill:#000000; fill-opacity:1; font-family:Arial,Helvetica Neue,Helvetica,sans-serif; font-size:48px; text-anchor:end;\" transform=\"rotate(0, 228.496, 1344.78)\" x=\"228.496\" y=\"1344.78\">-2.5</text>\n",
       "</g>\n",
       "<g clip-path=\"url(#clip2400)\">\n",
       "<text style=\"fill:#000000; fill-opacity:1; font-family:Arial,Helvetica Neue,Helvetica,sans-serif; font-size:48px; text-anchor:end;\" transform=\"rotate(0, 228.496, 1054.35)\" x=\"228.496\" y=\"1054.35\">0.0</text>\n",
       "</g>\n",
       "<g clip-path=\"url(#clip2400)\">\n",
       "<text style=\"fill:#000000; fill-opacity:1; font-family:Arial,Helvetica Neue,Helvetica,sans-serif; font-size:48px; text-anchor:end;\" transform=\"rotate(0, 228.496, 763.925)\" x=\"228.496\" y=\"763.925\">2.5</text>\n",
       "</g>\n",
       "<g clip-path=\"url(#clip2400)\">\n",
       "<text style=\"fill:#000000; fill-opacity:1; font-family:Arial,Helvetica Neue,Helvetica,sans-serif; font-size:48px; text-anchor:end;\" transform=\"rotate(0, 228.496, 473.499)\" x=\"228.496\" y=\"473.499\">5.0</text>\n",
       "</g>\n",
       "<g clip-path=\"url(#clip2400)\">\n",
       "<text style=\"fill:#000000; fill-opacity:1; font-family:Arial,Helvetica Neue,Helvetica,sans-serif; font-size:48px; text-anchor:end;\" transform=\"rotate(0, 228.496, 183.074)\" x=\"228.496\" y=\"183.074\">7.5</text>\n",
       "</g>\n",
       "<g clip-path=\"url(#clip2400)\">\n",
       "<text style=\"fill:#000000; fill-opacity:1; font-family:Arial,Helvetica Neue,Helvetica,sans-serif; font-size:66px; text-anchor:middle;\" transform=\"rotate(0, 1286.88, 1590.4)\" x=\"1286.88\" y=\"1590.4\">Number of particles per simulation</text>\n",
       "</g>\n",
       "<g clip-path=\"url(#clip2400)\">\n",
       "<text style=\"fill:#000000; fill-opacity:1; font-family:Arial,Helvetica Neue,Helvetica,sans-serif; font-size:66px; text-anchor:middle;\" transform=\"rotate(-90, 57.6, 743.863)\" x=\"57.6\" y=\"743.863\">Relative error</text>\n",
       "</g>\n",
       "<polyline clip-path=\"url(#clip2402)\" style=\"stroke:#009af9; stroke-width:4; stroke-opacity:1; fill:none\" points=\"\n",
       "  311.046,743.863 428.548,830.37 583.877,926.634 701.379,961 818.881,988.747 974.21,1000.03 1091.71,1013.25 1209.21,1014.26 1364.54,1023.96 1482.04,1025.96 \n",
       "  1599.55,1029.1 1754.88,1031.43 1872.38,1031.89 1989.88,1032.8 2145.21,1033.65 2262.71,1033.87 \n",
       "  \"/>\n",
       "<polyline clip-path=\"url(#clip2402)\" style=\"stroke:#009af9; stroke-width:4; stroke-opacity:1; fill:none\" points=\"\n",
       "  311.046,1401.05 311.046,86.6754 \n",
       "  \"/>\n",
       "<polyline clip-path=\"url(#clip2402)\" style=\"stroke:#009af9; stroke-width:4; stroke-opacity:1; fill:none\" points=\"\n",
       "  428.548,1221.4 428.548,439.336 \n",
       "  \"/>\n",
       "<polyline clip-path=\"url(#clip2402)\" style=\"stroke:#009af9; stroke-width:4; stroke-opacity:1; fill:none\" points=\"\n",
       "  583.877,1117.94 583.877,735.323 \n",
       "  \"/>\n",
       "<polyline clip-path=\"url(#clip2402)\" style=\"stroke:#009af9; stroke-width:4; stroke-opacity:1; fill:none\" points=\"\n",
       "  701.379,1070.83 701.379,851.169 \n",
       "  \"/>\n",
       "<polyline clip-path=\"url(#clip2402)\" style=\"stroke:#009af9; stroke-width:4; stroke-opacity:1; fill:none\" points=\"\n",
       "  818.881,1050.54 818.881,926.951 \n",
       "  \"/>\n",
       "<polyline clip-path=\"url(#clip2402)\" style=\"stroke:#009af9; stroke-width:4; stroke-opacity:1; fill:none\" points=\"\n",
       "  974.21,1054.37 974.21,945.679 \n",
       "  \"/>\n",
       "<polyline clip-path=\"url(#clip2402)\" style=\"stroke:#009af9; stroke-width:4; stroke-opacity:1; fill:none\" points=\"\n",
       "  1091.71,1043.51 1091.71,983.001 \n",
       "  \"/>\n",
       "<polyline clip-path=\"url(#clip2402)\" style=\"stroke:#009af9; stroke-width:4; stroke-opacity:1; fill:none\" points=\"\n",
       "  1209.21,1052.25 1209.21,976.273 \n",
       "  \"/>\n",
       "<polyline clip-path=\"url(#clip2402)\" style=\"stroke:#009af9; stroke-width:4; stroke-opacity:1; fill:none\" points=\"\n",
       "  1364.54,1043.45 1364.54,1004.47 \n",
       "  \"/>\n",
       "<polyline clip-path=\"url(#clip2402)\" style=\"stroke:#009af9; stroke-width:4; stroke-opacity:1; fill:none\" points=\"\n",
       "  1482.04,1044.43 1482.04,1007.5 \n",
       "  \"/>\n",
       "<polyline clip-path=\"url(#clip2402)\" style=\"stroke:#009af9; stroke-width:4; stroke-opacity:1; fill:none\" points=\"\n",
       "  1599.55,1048.39 1599.55,1009.8 \n",
       "  \"/>\n",
       "<polyline clip-path=\"url(#clip2402)\" style=\"stroke:#009af9; stroke-width:4; stroke-opacity:1; fill:none\" points=\"\n",
       "  1754.88,1047.34 1754.88,1015.53 \n",
       "  \"/>\n",
       "<polyline clip-path=\"url(#clip2402)\" style=\"stroke:#009af9; stroke-width:4; stroke-opacity:1; fill:none\" points=\"\n",
       "  1872.38,1049.68 1872.38,1014.1 \n",
       "  \"/>\n",
       "<polyline clip-path=\"url(#clip2402)\" style=\"stroke:#009af9; stroke-width:4; stroke-opacity:1; fill:none\" points=\"\n",
       "  1989.88,1049.05 1989.88,1016.54 \n",
       "  \"/>\n",
       "<polyline clip-path=\"url(#clip2402)\" style=\"stroke:#009af9; stroke-width:4; stroke-opacity:1; fill:none\" points=\"\n",
       "  2145.21,1050.77 2145.21,1016.54 \n",
       "  \"/>\n",
       "<polyline clip-path=\"url(#clip2402)\" style=\"stroke:#009af9; stroke-width:4; stroke-opacity:1; fill:none\" points=\"\n",
       "  2262.71,1050.82 2262.71,1016.93 \n",
       "  \"/>\n",
       "<line clip-path=\"url(#clip2402)\" x1=\"331.046\" y1=\"1401.05\" x2=\"291.046\" y2=\"1401.05\" style=\"stroke:#000000; stroke-width:4; stroke-opacity:1\"/>\n",
       "<line clip-path=\"url(#clip2402)\" x1=\"331.046\" y1=\"86.6754\" x2=\"291.046\" y2=\"86.6754\" style=\"stroke:#000000; stroke-width:4; stroke-opacity:1\"/>\n",
       "<line clip-path=\"url(#clip2402)\" x1=\"448.548\" y1=\"1221.4\" x2=\"408.548\" y2=\"1221.4\" style=\"stroke:#000000; stroke-width:4; stroke-opacity:1\"/>\n",
       "<line clip-path=\"url(#clip2402)\" x1=\"448.548\" y1=\"439.336\" x2=\"408.548\" y2=\"439.336\" style=\"stroke:#000000; stroke-width:4; stroke-opacity:1\"/>\n",
       "<line clip-path=\"url(#clip2402)\" x1=\"603.877\" y1=\"1117.94\" x2=\"563.877\" y2=\"1117.94\" style=\"stroke:#000000; stroke-width:4; stroke-opacity:1\"/>\n",
       "<line clip-path=\"url(#clip2402)\" x1=\"603.877\" y1=\"735.323\" x2=\"563.877\" y2=\"735.323\" style=\"stroke:#000000; stroke-width:4; stroke-opacity:1\"/>\n",
       "<line clip-path=\"url(#clip2402)\" x1=\"721.379\" y1=\"1070.83\" x2=\"681.379\" y2=\"1070.83\" style=\"stroke:#000000; stroke-width:4; stroke-opacity:1\"/>\n",
       "<line clip-path=\"url(#clip2402)\" x1=\"721.379\" y1=\"851.169\" x2=\"681.379\" y2=\"851.169\" style=\"stroke:#000000; stroke-width:4; stroke-opacity:1\"/>\n",
       "<line clip-path=\"url(#clip2402)\" x1=\"838.881\" y1=\"1050.54\" x2=\"798.881\" y2=\"1050.54\" style=\"stroke:#000000; stroke-width:4; stroke-opacity:1\"/>\n",
       "<line clip-path=\"url(#clip2402)\" x1=\"838.881\" y1=\"926.951\" x2=\"798.881\" y2=\"926.951\" style=\"stroke:#000000; stroke-width:4; stroke-opacity:1\"/>\n",
       "<line clip-path=\"url(#clip2402)\" x1=\"994.21\" y1=\"1054.37\" x2=\"954.21\" y2=\"1054.37\" style=\"stroke:#000000; stroke-width:4; stroke-opacity:1\"/>\n",
       "<line clip-path=\"url(#clip2402)\" x1=\"994.21\" y1=\"945.679\" x2=\"954.21\" y2=\"945.679\" style=\"stroke:#000000; stroke-width:4; stroke-opacity:1\"/>\n",
       "<line clip-path=\"url(#clip2402)\" x1=\"1111.71\" y1=\"1043.51\" x2=\"1071.71\" y2=\"1043.51\" style=\"stroke:#000000; stroke-width:4; stroke-opacity:1\"/>\n",
       "<line clip-path=\"url(#clip2402)\" x1=\"1111.71\" y1=\"983.001\" x2=\"1071.71\" y2=\"983.001\" style=\"stroke:#000000; stroke-width:4; stroke-opacity:1\"/>\n",
       "<line clip-path=\"url(#clip2402)\" x1=\"1229.21\" y1=\"1052.25\" x2=\"1189.21\" y2=\"1052.25\" style=\"stroke:#000000; stroke-width:4; stroke-opacity:1\"/>\n",
       "<line clip-path=\"url(#clip2402)\" x1=\"1229.21\" y1=\"976.273\" x2=\"1189.21\" y2=\"976.273\" style=\"stroke:#000000; stroke-width:4; stroke-opacity:1\"/>\n",
       "<line clip-path=\"url(#clip2402)\" x1=\"1384.54\" y1=\"1043.45\" x2=\"1344.54\" y2=\"1043.45\" style=\"stroke:#000000; stroke-width:4; stroke-opacity:1\"/>\n",
       "<line clip-path=\"url(#clip2402)\" x1=\"1384.54\" y1=\"1004.47\" x2=\"1344.54\" y2=\"1004.47\" style=\"stroke:#000000; stroke-width:4; stroke-opacity:1\"/>\n",
       "<line clip-path=\"url(#clip2402)\" x1=\"1502.04\" y1=\"1044.43\" x2=\"1462.04\" y2=\"1044.43\" style=\"stroke:#000000; stroke-width:4; stroke-opacity:1\"/>\n",
       "<line clip-path=\"url(#clip2402)\" x1=\"1502.04\" y1=\"1007.5\" x2=\"1462.04\" y2=\"1007.5\" style=\"stroke:#000000; stroke-width:4; stroke-opacity:1\"/>\n",
       "<line clip-path=\"url(#clip2402)\" x1=\"1619.55\" y1=\"1048.39\" x2=\"1579.55\" y2=\"1048.39\" style=\"stroke:#000000; stroke-width:4; stroke-opacity:1\"/>\n",
       "<line clip-path=\"url(#clip2402)\" x1=\"1619.55\" y1=\"1009.8\" x2=\"1579.55\" y2=\"1009.8\" style=\"stroke:#000000; stroke-width:4; stroke-opacity:1\"/>\n",
       "<line clip-path=\"url(#clip2402)\" x1=\"1774.88\" y1=\"1047.34\" x2=\"1734.88\" y2=\"1047.34\" style=\"stroke:#000000; stroke-width:4; stroke-opacity:1\"/>\n",
       "<line clip-path=\"url(#clip2402)\" x1=\"1774.88\" y1=\"1015.53\" x2=\"1734.88\" y2=\"1015.53\" style=\"stroke:#000000; stroke-width:4; stroke-opacity:1\"/>\n",
       "<line clip-path=\"url(#clip2402)\" x1=\"1892.38\" y1=\"1049.68\" x2=\"1852.38\" y2=\"1049.68\" style=\"stroke:#000000; stroke-width:4; stroke-opacity:1\"/>\n",
       "<line clip-path=\"url(#clip2402)\" x1=\"1892.38\" y1=\"1014.1\" x2=\"1852.38\" y2=\"1014.1\" style=\"stroke:#000000; stroke-width:4; stroke-opacity:1\"/>\n",
       "<line clip-path=\"url(#clip2402)\" x1=\"2009.88\" y1=\"1049.05\" x2=\"1969.88\" y2=\"1049.05\" style=\"stroke:#000000; stroke-width:4; stroke-opacity:1\"/>\n",
       "<line clip-path=\"url(#clip2402)\" x1=\"2009.88\" y1=\"1016.54\" x2=\"1969.88\" y2=\"1016.54\" style=\"stroke:#000000; stroke-width:4; stroke-opacity:1\"/>\n",
       "<line clip-path=\"url(#clip2402)\" x1=\"2165.21\" y1=\"1050.77\" x2=\"2125.21\" y2=\"1050.77\" style=\"stroke:#000000; stroke-width:4; stroke-opacity:1\"/>\n",
       "<line clip-path=\"url(#clip2402)\" x1=\"2165.21\" y1=\"1016.54\" x2=\"2125.21\" y2=\"1016.54\" style=\"stroke:#000000; stroke-width:4; stroke-opacity:1\"/>\n",
       "<line clip-path=\"url(#clip2402)\" x1=\"2282.71\" y1=\"1050.82\" x2=\"2242.71\" y2=\"1050.82\" style=\"stroke:#000000; stroke-width:4; stroke-opacity:1\"/>\n",
       "<line clip-path=\"url(#clip2402)\" x1=\"2282.71\" y1=\"1016.93\" x2=\"2242.71\" y2=\"1016.93\" style=\"stroke:#000000; stroke-width:4; stroke-opacity:1\"/>\n",
       "<polygon clip-path=\"url(#clip2400)\" points=\"\n",
       "1958.43,251.724 2249.26,251.724 2249.26,130.764 1958.43,130.764 \n",
       "  \" fill=\"#ffffff\" fill-rule=\"evenodd\" fill-opacity=\"1\"/>\n",
       "<polyline clip-path=\"url(#clip2400)\" style=\"stroke:#000000; stroke-width:4; stroke-opacity:1; fill:none\" points=\"\n",
       "  1958.43,251.724 2249.26,251.724 2249.26,130.764 1958.43,130.764 1958.43,251.724 \n",
       "  \"/>\n",
       "<polyline clip-path=\"url(#clip2400)\" style=\"stroke:#009af9; stroke-width:4; stroke-opacity:1; fill:none\" points=\"\n",
       "  1982.43,191.244 2126.43,191.244 \n",
       "  \"/>\n",
       "<g clip-path=\"url(#clip2400)\">\n",
       "<text style=\"fill:#000000; fill-opacity:1; font-family:Arial,Helvetica Neue,Helvetica,sans-serif; font-size:48px; text-anchor:start;\" transform=\"rotate(0, 2150.43, 208.744)\" x=\"2150.43\" y=\"208.744\">y1</text>\n",
       "</g>\n",
       "</svg>\n"
      ]
     },
     "execution_count": 159,
     "metadata": {},
     "output_type": "execute_result"
    }
   ],
   "source": [
    "plot(x_list,ys,yerror=stds,xscale = :log10,xlabel=\"Number of particles per simulation\", ylabel=\"Relative error\")"
   ]
  },
  {
   "cell_type": "code",
   "execution_count": 66,
   "metadata": {
    "scrolled": true
   },
   "outputs": [
    {
     "data": {
      "text/plain": [
       "1300-element Array{Float64,1}:\n",
       " 0.0                  \n",
       " 0.0                  \n",
       " 0.0                  \n",
       " 0.0                  \n",
       " 0.0                  \n",
       " 0.0                  \n",
       " 0.0                  \n",
       " 2.62440777194742e12  \n",
       " 2.0995262175579358e12\n",
       " 7.87322331584226e11  \n",
       " 1.4434242745710808e12\n",
       " 1.6271328186074001e12\n",
       " 1.207227575095813e12 \n",
       " ⋮                    \n",
       " 0.0                  \n",
       " 0.0                  \n",
       " 0.0                  \n",
       " 0.0                  \n",
       " 0.0                  \n",
       " 0.0                  \n",
       " 0.0                  \n",
       " 0.0                  \n",
       " 0.0                  \n",
       " 0.0                  \n",
       " 0.0                  \n",
       " 0.0                  "
      ]
     },
     "execution_count": 66,
     "metadata": {},
     "output_type": "execute_result"
    }
   ],
   "source": [
    "df[4]"
   ]
  },
  {
   "cell_type": "code",
   "execution_count": 54,
   "metadata": {},
   "outputs": [
    {
     "data": {
      "text/plain": [
       "70-element Array{Float64,1}:\n",
       " NaN                 \n",
       " NaN                 \n",
       " NaN                 \n",
       " NaN                 \n",
       " NaN                 \n",
       " NaN                 \n",
       " NaN                 \n",
       "   0.0               \n",
       "   0.0               \n",
       "   0.0               \n",
       "   0.0               \n",
       "   0.0               \n",
       "   0.0               \n",
       "   ⋮                 \n",
       "   0.0               \n",
       "  13.837496095790588 \n",
       "  10.37812207184294  \n",
       "  12.453746486211527 \n",
       "   9.686247267053412 \n",
       "   0.0               \n",
       "   0.0               \n",
       "   2.4815753161133696\n",
       "   2.4815753161133696\n",
       "   2.4815753161133696\n",
       "   1.9852602528906955\n",
       "   1.9852602528906955"
      ]
     },
     "execution_count": 54,
     "metadata": {},
     "output_type": "execute_result"
    }
   ],
   "source": [
    "df[4]"
   ]
  },
  {
   "cell_type": "code",
   "execution_count": 46,
   "metadata": {},
   "outputs": [
    {
     "data": {
      "text/plain": [
       "10-element Array{Int64,1}:\n",
       " 1\n",
       " 1\n",
       " 1\n",
       " 1\n",
       " 1\n",
       " 1\n",
       " 1\n",
       " 1\n",
       " 1\n",
       " 1"
      ]
     },
     "execution_count": 46,
     "metadata": {},
     "output_type": "execute_result"
    }
   ],
   "source": [
    "indexes = findall(df[1].==1)\n",
    "df[1][indexes]"
   ]
  },
  {
   "cell_type": "code",
   "execution_count": null,
   "metadata": {},
   "outputs": [],
   "source": [
    "using Random\n",
    "typeof(shuffle(collect((1,2,3)))[1:end])"
   ]
  },
  {
   "cell_type": "code",
   "execution_count": null,
   "metadata": {},
   "outputs": [],
   "source": [
    "using LightGraphs, MetaGraphs\n",
    "#using Iterators\n",
    "\n",
    "v = Vector{Edge}()\n",
    "for k in 1:5\n",
    "    push!(v,Edge(k,k+1))\n",
    "end"
   ]
  },
  {
   "cell_type": "code",
   "execution_count": null,
   "metadata": {},
   "outputs": [],
   "source": [
    "typeof(v)"
   ]
  },
  {
   "cell_type": "code",
   "execution_count": null,
   "metadata": {},
   "outputs": [],
   "source": [
    "eltype(MetaGraph())"
   ]
  },
  {
   "cell_type": "code",
   "execution_count": null,
   "metadata": {},
   "outputs": [],
   "source": [
    "using JLD\n",
    "save_experiment_set(exp_set)"
   ]
  },
  {
   "cell_type": "code",
   "execution_count": null,
   "metadata": {},
   "outputs": [],
   "source": [
    "plot_SVtime_vs_nrobots([\"results/003Experiment_Set_001.jld\"])"
   ]
  },
  {
   "cell_type": "code",
   "execution_count": null,
   "metadata": {},
   "outputs": [],
   "source": [
    "using JLD\n",
    "exp_s = load(\"results/001Experiment_Set_001.jld\")"
   ]
  },
  {
   "cell_type": "code",
   "execution_count": null,
   "metadata": {},
   "outputs": [],
   "source": [
    "data = Vector{}()"
   ]
  },
  {
   "cell_type": "code",
   "execution_count": null,
   "metadata": {},
   "outputs": [],
   "source": [
    "using Pkg\n",
    "Pkg.add(\"DataFrames\")"
   ]
  },
  {
   "cell_type": "code",
   "execution_count": null,
   "metadata": {},
   "outputs": [],
   "source": [
    "using DataFrames\n",
    "thing = DataFrame(A=String[])"
   ]
  },
  {
   "cell_type": "code",
   "execution_count": null,
   "metadata": {},
   "outputs": [],
   "source": [
    "myvector = Vector{}([1.0,2.0])\n",
    "mytuple = (1,2,3)"
   ]
  },
  {
   "cell_type": "code",
   "execution_count": null,
   "metadata": {},
   "outputs": [],
   "source": [
    "thing = DataFrame(a=String[],b=Vector{Float64}[],c = Tuple{Float64,Float64}[])"
   ]
  },
  {
   "cell_type": "code",
   "execution_count": null,
   "metadata": {},
   "outputs": [],
   "source": [
    "push!(thing, [\"M\", myvector,(1.0,3.0)])"
   ]
  },
  {
   "cell_type": "code",
   "execution_count": 15,
   "metadata": {},
   "outputs": [
    {
     "data": {
      "text/plain": [
       "\"First_test1\""
      ]
     },
     "execution_count": 15,
     "metadata": {},
     "output_type": "execute_result"
    }
   ],
   "source": [
    "string(name,\"1\")"
   ]
  },
  {
   "cell_type": "code",
   "execution_count": 16,
   "metadata": {},
   "outputs": [
    {
     "data": {
      "text/plain": [
       "\"i1\""
      ]
     },
     "execution_count": 16,
     "metadata": {},
     "output_type": "execute_result"
    }
   ],
   "source": [
    "string('i',string(1))"
   ]
  },
  {
   "cell_type": "code",
   "execution_count": 9,
   "metadata": {},
   "outputs": [
    {
     "data": {
      "text/plain": [
       "\"1\""
      ]
     },
     "execution_count": 9,
     "metadata": {},
     "output_type": "execute_result"
    }
   ],
   "source": [
    "string(1)"
   ]
  },
  {
   "cell_type": "code",
   "execution_count": 6,
   "metadata": {},
   "outputs": [],
   "source": [
    "using LightGraphs, MetaGraphs"
   ]
  },
  {
   "cell_type": "code",
   "execution_count": 30,
   "metadata": {},
   "outputs": [
    {
     "data": {
      "text/plain": [
       "0.1731189722661175"
      ]
     },
     "execution_count": 30,
     "metadata": {},
     "output_type": "execute_result"
    }
   ],
   "source": [
    "rand()"
   ]
  },
  {
   "cell_type": "code",
   "execution_count": 9,
   "metadata": {},
   "outputs": [
    {
     "data": {
      "text/plain": [
       "0-element Array{Int64,1}"
      ]
     },
     "execution_count": 9,
     "metadata": {},
     "output_type": "execute_result"
    }
   ],
   "source": [
    "elt = [v for v in vertices(g)]"
   ]
  },
  {
   "cell_type": "code",
   "execution_count": 3,
   "metadata": {},
   "outputs": [
    {
     "data": {
      "text/plain": [
       "dostuff! (generic function with 2 methods)"
      ]
     },
     "execution_count": 3,
     "metadata": {},
     "output_type": "execute_result"
    }
   ],
   "source": [
    "function dostuff!(a,b,c=0)\n",
    "    a[1] = 5\n",
    "    b[1] = 2\n",
    "    c = c+5\n",
    "end"
   ]
  },
  {
   "cell_type": "code",
   "execution_count": 4,
   "metadata": {},
   "outputs": [
    {
     "name": "stdout",
     "output_type": "stream",
     "text": [
      "[5, 2]\n",
      "[2]\n",
      "13\n"
     ]
    }
   ],
   "source": [
    "a = [1,2]\n",
    "b = [-4]\n",
    "c = 13\n",
    "dostuff!(a,b,c)\n",
    "println(a)\n",
    "println(b)\n",
    "println(c)"
   ]
  },
  {
   "cell_type": "code",
   "execution_count": 4,
   "metadata": {},
   "outputs": [],
   "source": [
    "using CSV\n",
    "using DataFrames"
   ]
  },
  {
   "cell_type": "code",
   "execution_count": 5,
   "metadata": {},
   "outputs": [
    {
     "data": {
      "text/plain": [
       "\"First_test.csv\""
      ]
     },
     "execution_count": 5,
     "metadata": {},
     "output_type": "execute_result"
    }
   ],
   "source": [
    "CSV.write(\"First_test.csv\",data)"
   ]
  },
  {
   "cell_type": "code",
   "execution_count": 7,
   "metadata": {},
   "outputs": [
    {
     "data": {
      "text/html": [
       "<table class=\"data-frame\"><thead><tr><th></th><th>name</th><th>Id</th><th>CBS</th><th>success</th><th>lambda</th><th>epsilon</th><th>t_delay</th><th>num_trials</th><th>num_agents</th><th>cbs_time_steps</th><th>solving_time</th><th>integraltime</th><th>time_spent_on_astar</th><th>num_interactions</th><th>solution_cost</th><th>global_cp</th><th>conflict_counts_locally</th><th>probability_error</th></tr><tr><th></th><th>String⍰</th><th>Int64⍰</th><th>Bool⍰</th><th>Bool⍰</th><th>Float64⍰</th><th>Float64⍰</th><th>Float64⍰</th><th>Int64⍰</th><th>Int64⍰</th><th>Int64⍰</th><th>Float64⍰</th><th>Float64⍰</th><th>Float64⍰</th><th>Int64⍰</th><th>Float64⍰</th><th>Float64⍰</th><th>String⍰</th><th>String⍰</th></tr></thead><tbody><p>3 rows × 18 columns</p><tr><th>1</th><td>First_test_1</td><td>1</td><td>false</td><td>true</td><td>0.2</td><td>0.2</td><td>0.5</td><td>1000</td><td>4</td><td>-1</td><td>4.26739</td><td>1.51339</td><td>1.85985</td><td>5</td><td>37.0</td><td>0.004994</td><td>[3.0, 2.0]</td><td>(0.02129724712950696, 0.002395470255599463)</td></tr><tr><th>2</th><td>First_test_2</td><td>2</td><td>false</td><td>true</td><td>0.2</td><td>0.2</td><td>0.5</td><td>1000</td><td>3</td><td>-1</td><td>1.20385</td><td>0.18226</td><td>0.875366</td><td>10</td><td>29.0</td><td>0.0</td><td>Float64[]</td><td>(NaN, NaN)</td></tr><tr><th>3</th><td>First_test_3</td><td>3</td><td>false</td><td>false</td><td>0.2</td><td>0.2</td><td>0.5</td><td>1000</td><td>6</td><td>-1</td><td>545.611</td><td>198.366</td><td>345.576</td><td>10</td><td>9.22337e18</td><td>0.0</td><td>Float64[]</td><td>(NaN, NaN)</td></tr></tbody></table>"
      ],
      "text/latex": [
       "\\begin{tabular}{r|cccccccccccccccccc}\n",
       "\t& name & Id & CBS & success & lambda & epsilon & t\\_delay & num\\_trials & num\\_agents & cbs\\_time\\_steps & solving\\_time & integraltime & time\\_spent\\_on\\_astar & num\\_interactions & solution\\_cost & global\\_cp & conflict\\_counts\\_locally & probability\\_error\\\\\n",
       "\t\\hline\n",
       "\t& String⍰ & Int64⍰ & Bool⍰ & Bool⍰ & Float64⍰ & Float64⍰ & Float64⍰ & Int64⍰ & Int64⍰ & Int64⍰ & Float64⍰ & Float64⍰ & Float64⍰ & Int64⍰ & Float64⍰ & Float64⍰ & String⍰ & String⍰\\\\\n",
       "\t\\hline\n",
       "\t1 & First\\_test\\_1 & 1 & false & true & 0.2 & 0.2 & 0.5 & 1000 & 4 & -1 & 4.26739 & 1.51339 & 1.85985 & 5 & 37.0 & 0.004994 & [3.0, 2.0] & (0.02129724712950696, 0.002395470255599463) \\\\\n",
       "\t2 & First\\_test\\_2 & 2 & false & true & 0.2 & 0.2 & 0.5 & 1000 & 3 & -1 & 1.20385 & 0.18226 & 0.875366 & 10 & 29.0 & 0.0 & Float64[] & (NaN, NaN) \\\\\n",
       "\t3 & First\\_test\\_3 & 3 & false & false & 0.2 & 0.2 & 0.5 & 1000 & 6 & -1 & 545.611 & 198.366 & 345.576 & 10 & 9.22337e18 & 0.0 & Float64[] & (NaN, NaN) \\\\\n",
       "\\end{tabular}\n"
      ],
      "text/plain": [
       "3×18 DataFrame. Omitted printing of 12 columns\n",
       "│ Row │ name         │ Id     │ CBS   │ success │ lambda   │ epsilon  │\n",
       "│     │ \u001b[90mString⍰\u001b[39m      │ \u001b[90mInt64⍰\u001b[39m │ \u001b[90mBool⍰\u001b[39m │ \u001b[90mBool⍰\u001b[39m   │ \u001b[90mFloat64⍰\u001b[39m │ \u001b[90mFloat64⍰\u001b[39m │\n",
       "├─────┼──────────────┼────────┼───────┼─────────┼──────────┼──────────┤\n",
       "│ 1   │ First_test_1 │ 1      │ false │ true    │ 0.2      │ 0.2      │\n",
       "│ 2   │ First_test_2 │ 2      │ false │ true    │ 0.2      │ 0.2      │\n",
       "│ 3   │ First_test_3 │ 3      │ false │ false   │ 0.2      │ 0.2      │"
      ]
     },
     "execution_count": 7,
     "metadata": {},
     "output_type": "execute_result"
    }
   ],
   "source": [
    "retrieved_data = DataFrame(CSV.File(\"First_test.csv\"))"
   ]
  },
  {
   "cell_type": "code",
   "execution_count": 43,
   "metadata": {},
   "outputs": [
    {
     "data": {
      "text/plain": [
       "\"(NaN, NaN)\""
      ]
     },
     "execution_count": 43,
     "metadata": {},
     "output_type": "execute_result"
    }
   ],
   "source": [
    "mylist = retrieved_data.probability_error[1]"
   ]
  },
  {
   "cell_type": "code",
   "execution_count": 44,
   "metadata": {},
   "outputs": [
    {
     "data": {
      "text/plain": [
       "2-element Array{Float64,1}:\n",
       " NaN\n",
       " NaN"
      ]
     },
     "execution_count": 44,
     "metadata": {},
     "output_type": "execute_result"
    }
   ],
   "source": [
    "[parse(Float64, ss[1:end-1]) for ss in split(mylist[2:end])]"
   ]
  },
  {
   "cell_type": "code",
   "execution_count": 17,
   "metadata": {},
   "outputs": [
    {
     "data": {
      "text/plain": [
       "1.0:11111.0:100000.0"
      ]
     },
     "execution_count": 17,
     "metadata": {},
     "output_type": "execute_result"
    }
   ],
   "source": [
    "num_trials = 100000\n",
    "range(1,stop=num_trials,length=10)"
   ]
  },
  {
   "cell_type": "code",
   "execution_count": 11,
   "metadata": {},
   "outputs": [
    {
     "data": {
      "text/plain": [
       "0.7977942753134999"
      ]
     },
     "execution_count": 11,
     "metadata": {},
     "output_type": "execute_result"
    }
   ],
   "source": [
    "maximum(data2[1])"
   ]
  },
  {
   "cell_type": "code",
   "execution_count": null,
   "metadata": {},
   "outputs": [],
   "source": [
    "idxs = findall(data2[2].==0.0)"
   ]
  },
  {
   "cell_type": "code",
   "execution_count": 10,
   "metadata": {},
   "outputs": [
    {
     "data": {
      "text/plain": [
       "2"
      ]
     },
     "execution_count": 10,
     "metadata": {},
     "output_type": "execute_result"
    }
   ],
   "source": [
    "max(1,2)"
   ]
  },
  {
   "cell_type": "code",
   "execution_count": null,
   "metadata": {},
   "outputs": [],
   "source": [
    "data2[2][idxs]"
   ]
  },
  {
   "cell_type": "code",
   "execution_count": null,
   "metadata": {},
   "outputs": [],
   "source": []
  }
 ],
 "metadata": {
  "kernelspec": {
   "display_name": "Julia 1.0.3",
   "language": "julia",
   "name": "julia-1.0"
  },
  "language_info": {
   "file_extension": ".jl",
   "mimetype": "application/julia",
   "name": "julia",
   "version": "1.0.3"
  }
 },
 "nbformat": 4,
 "nbformat_minor": 2
}
