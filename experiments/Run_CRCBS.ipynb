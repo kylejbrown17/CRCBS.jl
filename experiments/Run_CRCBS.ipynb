{
 "cells": [
  {
   "cell_type": "code",
   "execution_count": 1,
   "metadata": {},
   "outputs": [
    {
     "name": "stderr",
     "output_type": "stream",
     "text": [
      "┌ Info: Recompiling stale cache file /home/peltzer/.julia/compiled/v1.0/CRCBS/26Ksw.ji for CRCBS [edef75b8-3ac4-11e9-0392-bf149c536ee3]\n",
      "└ @ Base loading.jl:1190\n",
      "┌ Warning: Package CRCBS does not have JLD in its dependencies:\n",
      "│ - If you have CRCBS checked out for development and have\n",
      "│   added JLD as a dependency but haven't updated your primary\n",
      "│   environment's manifest file, try `Pkg.resolve()`.\n",
      "│ - Otherwise you may need to report an issue with CRCBS\n",
      "└ Loading JLD into CRCBS from project dependency, future warnings for CRCBS are suppressed.\n",
      "WARNING: Method definition get_dist_matrix(LightGraphs.AbstractGraph{T} where T) in module CRCBS at /home/peltzer/.julia/dev/CRCBS/src/utils.jl:10 overwritten at /home/peltzer/.julia/dev/CRCBS/src/utils.jl:10.\n",
      "┌ Warning: Replacing docs for `CRCBS.get_dist_matrix :: Tuple{LightGraphs.AbstractGraph}` in module `CRCBS`\n",
      "└ @ Base.Docs docs/Docs.jl:223\n",
      "WARNING: Method definition pad_matrix(Array{T, 2}, Tuple{Int64, Int64}, T) where {T} in module CRCBS at /home/peltzer/.julia/dev/CRCBS/src/utils.jl:21 overwritten at /home/peltzer/.julia/dev/CRCBS/src/utils.jl:21.\n",
      "┌ Warning: Replacing docs for `CRCBS.pad_matrix :: Union{Tuple{T}, Tuple{Array{T,2},Tuple{Int64,Int64},T}} where T` in module `CRCBS`\n",
      "└ @ Base.Docs docs/Docs.jl:223\n",
      "WARNING: Method definition sample_wo_repl(Any, Any) in module CRCBS at /home/peltzer/.julia/dev/CRCBS/src/utils.jl:123 overwritten at /home/peltzer/.julia/dev/CRCBS/src/utils.jl:123.\n"
     ]
    },
    {
     "data": {
      "text/plain": [
       "MAPF{MetaDiGraph{Int64,Float64}}({121, 561} directed Int64 metagraph with Float64 weights defined by :weight (default weight 1.0), [1, 5, 8, 12], [4, 1, 2, 25], 0.5, 0.1, 0.5)"
      ]
     },
     "execution_count": 1,
     "metadata": {},
     "output_type": "execute_result"
    }
   ],
   "source": [
    "using CRCBS\n",
    "using LightGraphs, MetaGraphs\n",
    "G = initialize_full_grid_graph_CT()\n",
    "starts = [1,5,8,12]\n",
    "goals = [4,1,2,25]\n",
    "lambda = 0.5\n",
    "epsilon = 0.1\n",
    "t_delay = 0.5\n",
    "mapf = MAPF(G,starts,goals,lambda,epsilon,t_delay)"
   ]
  },
  {
   "cell_type": "code",
   "execution_count": 2,
   "metadata": {},
   "outputs": [
    {
     "name": "stdout",
     "output_type": "stream",
     "text": [
      "ASTAR: 4\n",
      "Handling special case\n",
      "Handling special case\n",
      "Handling special case\n",
      "Handling special case\n",
      "Handling special case\n",
      "Handling special case\n",
      "Handling special case\n",
      "\n",
      " \n",
      "Agents 2 and 1 conflict at node 3\n",
      "Pre existing constraint dict: CRCBS.ConstraintDict\n",
      "  node_constraints: Dict{Int64,Float64}\n",
      "  edge_constraints: Dict{Tuple{Int64,Int64},Float64}\n",
      "  a: Int64 1\n",
      "\n",
      "t_yield2: 2.0\n",
      "ASTAR: 1\n",
      "Consequently we found the solutions: \n",
      "Array{LightGraphs.SimpleGraphs.SimpleEdge,1}[[Edge 1 => 2, Edge 2 => 3, Edge 3 => 4], [Edge 5 => 5, Edge 5 => 4, Edge 4 => 3, Edge 3 => 2, Edge 2 => 1], [Edge 8 => 7, Edge 7 => 6, Edge 6 => 5, Edge 5 => 4, Edge 4 => 3, Edge 3 => 2], [Edge 12 => 13, Edge 13 => 14, Edge 14 => 25]]\n",
      "Adding new node to priority queue\n",
      "ASTAR: 1\n",
      "Handling special case\n",
      "Handling special case\n",
      "Handling special case\n",
      "Handling special case\n",
      "Handling special case\n",
      "Handling special case\n",
      "Handling special case\n",
      "Handling special case\n",
      "Handling special case\n",
      "Handling special case\n",
      "Handling special case\n",
      "Consequently we found the solutions: \n",
      "Array{LightGraphs.SimpleGraphs.SimpleEdge,1}[[Edge 1 => 2, Edge 2 => 2, Edge 2 => 3, Edge 3 => 4], [Edge 5 => 4, Edge 4 => 3, Edge 3 => 2, Edge 2 => 1], [Edge 8 => 7, Edge 7 => 6, Edge 6 => 5, Edge 5 => 4, Edge 4 => 3, Edge 3 => 2], [Edge 12 => 13, Edge 13 => 14, Edge 14 => 25]]\n",
      "Adding new node to priority queue\n",
      "\n",
      " \n",
      "ASTAR: 1\n",
      "Handling special case\n",
      "Handling special case\n",
      "Handling special case\n",
      "Handling special case\n",
      "Handling special case\n",
      "Handling special case\n",
      "Handling special case\n",
      "Handling special case\n",
      "Handling special case\n",
      "Handling special case\n",
      "Handling special case\n",
      "Handling special case\n",
      "Handling special case\n",
      "Handling special case\n",
      "Handling special case\n",
      "Handling special case\n",
      "Consequently we found the solutions: \n",
      "Array{LightGraphs.SimpleGraphs.SimpleEdge,1}[[Edge 1 => 1, Edge 1 => 2, Edge 2 => 3, Edge 3 => 3, Edge 3 => 4], [Edge 5 => 5, Edge 5 => 4, Edge 4 => 3, Edge 3 => 2, Edge 2 => 1], [Edge 8 => 7, Edge 7 => 6, Edge 6 => 5, Edge 5 => 4, Edge 4 => 3, Edge 3 => 2], [Edge 12 => 13, Edge 13 => 14, Edge 14 => 25]]\n",
      "Adding new node to priority queue\n",
      "ASTAR: 1\n",
      "Consequently we found the solutions: \n",
      "Array{LightGraphs.SimpleGraphs.SimpleEdge,1}[[Edge 1 => 2, Edge 2 => 3, Edge 3 => 4], [Edge 5 => 5, Edge 5 => 4, Edge 4 => 3, Edge 3 => 2, Edge 2 => 1], [Edge 8 => 7, Edge 7 => 6, Edge 6 => 5, Edge 5 => 4, Edge 4 => 3, Edge 3 => 2], [Edge 12 => 13, Edge 13 => 14, Edge 14 => 25]]\n",
      "Adding new node to priority queue\n",
      "\n",
      " \n",
      "ASTAR: 1\n",
      "Handling special case\n",
      "Handling special case\n",
      "Handling special case\n",
      "Handling special case\n",
      "Handling special case\n",
      "Handling special case\n",
      "Handling special case\n",
      "Handling special case\n",
      "Handling special case\n",
      "Handling special case\n",
      "Handling special case\n",
      "Handling special case\n",
      "Handling special case\n",
      "Handling special case\n",
      "Handling special case\n",
      "Handling special case\n",
      "Consequently we found the solutions: \n",
      "Array{LightGraphs.SimpleGraphs.SimpleEdge,1}[[Edge 1 => 1, Edge 1 => 2, Edge 2 => 3, Edge 3 => 3, Edge 3 => 4], [Edge 5 => 4, Edge 4 => 3, Edge 3 => 2, Edge 2 => 1], [Edge 8 => 7, Edge 7 => 6, Edge 6 => 5, Edge 5 => 4, Edge 4 => 3, Edge 3 => 2], [Edge 12 => 13, Edge 13 => 14, Edge 14 => 25]]\n",
      "Adding new node to priority queue\n",
      "ASTAR: 1\n",
      "Consequently we found the solutions: \n",
      "Array{LightGraphs.SimpleGraphs.SimpleEdge,1}[[Edge 1 => 2, Edge 2 => 2, Edge 2 => 3, Edge 3 => 4], [Edge 5 => 5, Edge 5 => 4, Edge 4 => 3, Edge 3 => 3, Edge 3 => 2, Edge 2 => 1], [Edge 8 => 7, Edge 7 => 6, Edge 6 => 5, Edge 5 => 4, Edge 4 => 3, Edge 3 => 2], [Edge 12 => 13, Edge 13 => 14, Edge 14 => 25]]\n",
      "Adding new node to priority queue\n",
      "\n",
      " \n",
      "ASTAR: 1\n",
      "Handling special case\n",
      "Handling special case\n",
      "Handling special case\n",
      "Handling special case\n",
      "Handling special case\n",
      "Handling special case\n",
      "Handling special case\n",
      "Handling special case\n",
      "Handling special case\n",
      "Handling special case\n",
      "Handling special case\n",
      "Handling special case\n",
      "Handling special case\n",
      "Handling special case\n",
      "Handling special case\n",
      "Handling special case\n",
      "Consequently we found the solutions: \n",
      "Array{LightGraphs.SimpleGraphs.SimpleEdge,1}[[Edge 1 => 1, Edge 1 => 2, Edge 2 => 3, Edge 3 => 3, Edge 3 => 4], [Edge 5 => 5, Edge 5 => 4, Edge 4 => 3, Edge 3 => 2, Edge 2 => 1], [Edge 8 => 7, Edge 7 => 6, Edge 6 => 5, Edge 5 => 4, Edge 4 => 3, Edge 3 => 2], [Edge 12 => 13, Edge 13 => 14, Edge 14 => 25]]\n",
      "Adding new node to priority queue\n",
      "ASTAR: 1\n",
      "Consequently we found the solutions: \n",
      "Array{LightGraphs.SimpleGraphs.SimpleEdge,1}[[Edge 1 => 2, Edge 2 => 3, Edge 3 => 4], [Edge 5 => 5, Edge 5 => 4, Edge 4 => 3, Edge 3 => 3, Edge 3 => 2, Edge 2 => 1], [Edge 8 => 7, Edge 7 => 6, Edge 6 => 5, Edge 5 => 4, Edge 4 => 3, Edge 3 => 2], [Edge 12 => 13, Edge 13 => 14, Edge 14 => 25]]\n",
      "Adding new node to priority queue\n",
      "\n",
      " \n",
      "ASTAR: 1\n",
      "Handling special case\n",
      "Handling special case\n",
      "Handling special case\n",
      "Handling special case\n",
      "Handling special case\n",
      "Handling special case\n",
      "Handling special case\n",
      "Handling special case\n",
      "Handling special case\n",
      "Handling special case\n",
      "Handling special case\n",
      "Handling special case\n",
      "Handling special case\n",
      "Handling special case\n",
      "Handling special case\n",
      "Handling special case\n",
      "Consequently we found the solutions: \n",
      "Array{LightGraphs.SimpleGraphs.SimpleEdge,1}[[Edge 1 => 1, Edge 1 => 2, Edge 2 => 3, Edge 3 => 3, Edge 3 => 4], [Edge 5 => 4, Edge 4 => 3, Edge 3 => 2, Edge 2 => 1], [Edge 8 => 7, Edge 7 => 6, Edge 6 => 5, Edge 5 => 4, Edge 4 => 3, Edge 3 => 2], [Edge 12 => 13, Edge 13 => 14, Edge 14 => 25]]\n",
      "Adding new node to priority queue\n",
      "ASTAR: 1\n",
      "Consequently we found the solutions: \n",
      "Array{LightGraphs.SimpleGraphs.SimpleEdge,1}[[Edge 1 => 1, Edge 1 => 2, Edge 2 => 3, Edge 3 => 3, Edge 3 => 4], [Edge 5 => 5, Edge 5 => 4, Edge 4 => 3, Edge 3 => 3, Edge 3 => 2, Edge 2 => 1], [Edge 8 => 7, Edge 7 => 6, Edge 6 => 5, Edge 5 => 4, Edge 4 => 3, Edge 3 => 2], [Edge 12 => 13, Edge 13 => 14, Edge 14 => 25]]\n",
      "Adding new node to priority queue\n",
      "\n",
      " \n",
      "ASTAR: 1\n",
      "Handling special case\n",
      "Handling special case\n",
      "Handling special case\n",
      "Handling special case\n",
      "Handling special case\n",
      "Handling special case\n",
      "Handling special case\n",
      "Handling special case\n",
      "Handling special case\n",
      "Handling special case\n",
      "Handling special case\n",
      "Handling special case\n",
      "Handling special case\n",
      "Handling special case\n",
      "Handling special case\n",
      "Handling special case\n",
      "Consequently we found the solutions: \n",
      "Array{LightGraphs.SimpleGraphs.SimpleEdge,1}[[Edge 1 => 12, Edge 12 => 13, Edge 13 => 14, Edge 14 => 15, Edge 15 => 4], [Edge 5 => 5, Edge 5 => 4, Edge 4 => 3, Edge 3 => 3, Edge 3 => 2, Edge 2 => 1], [Edge 8 => 7, Edge 7 => 6, Edge 6 => 5, Edge 5 => 4, Edge 4 => 3, Edge 3 => 2], [Edge 12 => 13, Edge 13 => 14, Edge 14 => 25]]\n",
      "Adding new node to priority queue\n",
      "ASTAR: 1\n",
      "Consequently we found the solutions: \n",
      "Array{LightGraphs.SimpleGraphs.SimpleEdge,1}[[Edge 1 => 2, Edge 2 => 3, Edge 3 => 4], [Edge 5 => 5, Edge 5 => 4, Edge 4 => 3, Edge 3 => 3, Edge 3 => 2, Edge 2 => 1], [Edge 8 => 7, Edge 7 => 6, Edge 6 => 5, Edge 5 => 4, Edge 4 => 3, Edge 3 => 2], [Edge 12 => 13, Edge 13 => 14, Edge 14 => 25]]\n",
      "Adding new node to priority queue\n",
      "\n",
      " \n",
      "ASTAR: 1\n",
      "Handling special case\n",
      "Handling special case\n",
      "Handling special case\n",
      "Handling special case\n",
      "Handling special case\n",
      "Handling special case\n",
      "Handling special case\n",
      "Handling special case\n",
      "Handling special case\n",
      "Handling special case\n",
      "Handling special case\n",
      "Handling special case\n",
      "Handling special case\n",
      "Handling special case\n",
      "Handling special case\n",
      "Handling special case\n",
      "Consequently we found the solutions: \n",
      "Array{LightGraphs.SimpleGraphs.SimpleEdge,1}[[Edge 1 => 12, Edge 12 => 13, Edge 13 => 14, Edge 14 => 15, Edge 15 => 4], [Edge 5 => 4, Edge 4 => 3, Edge 3 => 2, Edge 2 => 1], [Edge 8 => 7, Edge 7 => 6, Edge 6 => 5, Edge 5 => 4, Edge 4 => 3, Edge 3 => 2], [Edge 12 => 13, Edge 13 => 14, Edge 14 => 25]]\n",
      "Adding new node to priority queue\n",
      "ASTAR: 1\n",
      "Consequently we found the solutions: \n",
      "Array{LightGraphs.SimpleGraphs.SimpleEdge,1}[[Edge 1 => 1, Edge 1 => 2, Edge 2 => 3, Edge 3 => 3, Edge 3 => 4], [Edge 5 => 5, Edge 5 => 4, Edge 4 => 3, Edge 3 => 3, Edge 3 => 2, Edge 2 => 1], [Edge 8 => 7, Edge 7 => 6, Edge 6 => 5, Edge 5 => 4, Edge 4 => 3, Edge 3 => 2], [Edge 12 => 13, Edge 13 => 14, Edge 14 => 25]]\n",
      "Adding new node to priority queue\n",
      "\n",
      " \n",
      "ASTAR: 1\n",
      "Handling special case\n",
      "Handling special case\n",
      "Handling special case\n",
      "Handling special case\n",
      "Handling special case\n",
      "Handling special case\n",
      "Handling special case\n",
      "Handling special case\n",
      "Handling special case\n",
      "Handling special case\n",
      "Handling special case\n",
      "Handling special case\n",
      "Handling special case\n",
      "Handling special case\n",
      "Handling special case\n",
      "Handling special case\n"
     ]
    },
    {
     "name": "stdout",
     "output_type": "stream",
     "text": [
      "Consequently we found the solutions: \n",
      "Array{LightGraphs.SimpleGraphs.SimpleEdge,1}[[Edge 1 => 12, Edge 12 => 13, Edge 13 => 14, Edge 14 => 15, Edge 15 => 4], [Edge 5 => 5, Edge 5 => 4, Edge 4 => 3, Edge 3 => 3, Edge 3 => 2, Edge 2 => 1], [Edge 8 => 7, Edge 7 => 6, Edge 6 => 5, Edge 5 => 4, Edge 4 => 3, Edge 3 => 2], [Edge 12 => 13, Edge 13 => 14, Edge 14 => 25]]\n",
      "Adding new node to priority queue\n",
      "ASTAR: 1\n",
      "Consequently we found the solutions: \n",
      "Array{LightGraphs.SimpleGraphs.SimpleEdge,1}[[Edge 1 => 2, Edge 2 => 3, Edge 3 => 4], [Edge 5 => 5, Edge 5 => 4, Edge 4 => 3, Edge 3 => 3, Edge 3 => 2, Edge 2 => 1], [Edge 8 => 7, Edge 7 => 6, Edge 6 => 5, Edge 5 => 4, Edge 4 => 3, Edge 3 => 2], [Edge 12 => 13, Edge 13 => 14, Edge 14 => 25]]\n",
      "Adding new node to priority queue\n",
      "\n",
      " \n",
      "Agents 4 and 1 conflict at node 12\n",
      "Pre existing constraint dict: CRCBS.ConstraintDict\n",
      "  node_constraints: Dict{Int64,Float64}\n",
      "  edge_constraints: Dict{Tuple{Int64,Int64},Float64}\n",
      "  a: Int64 1\n",
      "\n",
      "t_yield2: 1.0\n",
      "ASTAR: 1\n"
     ]
    },
    {
     "ename": "MethodError",
     "evalue": "MethodError: no method matching zero(::Type{Any})\nClosest candidates are:\n  zero(::Type{Union{Missing, T}}) where T at missing.jl:83\n  zero(!Matched::Type{LibGit2.GitHash}) at /buildworker/worker/package_linux64/build/usr/share/julia/stdlib/v1.0/LibGit2/src/oid.jl:220\n  zero(!Matched::Type{Pkg.Resolve.VersionWeights.VersionWeight}) at /buildworker/worker/package_linux64/build/usr/share/julia/stdlib/v1.0/Pkg/src/resolve/VersionWeights.jl:19\n  ...",
     "output_type": "error",
     "traceback": [
      "MethodError: no method matching zero(::Type{Any})\nClosest candidates are:\n  zero(::Type{Union{Missing, T}}) where T at missing.jl:83\n  zero(!Matched::Type{LibGit2.GitHash}) at /buildworker/worker/package_linux64/build/usr/share/julia/stdlib/v1.0/LibGit2/src/oid.jl:220\n  zero(!Matched::Type{Pkg.Resolve.VersionWeights.VersionWeight}) at /buildworker/worker/package_linux64/build/usr/share/julia/stdlib/v1.0/Pkg/src/resolve/VersionWeights.jl:19\n  ...",
      "",
      "Stacktrace:",
      " [1] zero(::Type{Any}) at ./missing.jl:83",
      " [2] reduce_empty(::typeof(+), ::Type) at ./reduce.jl:225",
      " [3] reduce_empty(::typeof(Base.add_sum), ::Type) at ./reduce.jl:232",
      " [4] mapreduce_empty(::typeof(identity), ::Function, ::Type) at ./reduce.jl:249",
      " [5] _mapreduce(::typeof(identity), ::typeof(Base.add_sum), ::IndexLinear, ::Array{Any,1}) at ./reduce.jl:303",
      " [6] _mapreduce_dim at ./reducedim.jl:305 [inlined]",
      " [7] #mapreduce#536 at ./reducedim.jl:301 [inlined]",
      " [8] mapreduce at ./reducedim.jl:301 [inlined]",
      " [9] _sum at ./reducedim.jl:650 [inlined]",
      " [10] _sum at ./reducedim.jl:649 [inlined]",
      " [11] #sum#538 at ./reducedim.jl:645 [inlined]",
      " [12] sum(::Array{Any,1}) at ./reducedim.jl:645",
      " [13] (::getfield(CRCBS, Symbol(\"##14#16\")){MAPF{MetaDiGraph{Int64,Float64}}})(::Array{LightGraphs.SimpleGraphs.SimpleEdge,1}) at ./none:0",
      " [14] collect_to!(::Array{Float64,1}, ::Base.Generator{Array{Array{LightGraphs.SimpleGraphs.SimpleEdge,1},1},getfield(CRCBS, Symbol(\"##14#16\")){MAPF{MetaDiGraph{Int64,Float64}}}}, ::Int64, ::Int64) at ./generator.jl:47",
      " [15] collect_to_with_first!(::Array{Float64,1}, ::Float64, ::Base.Generator{Array{Array{LightGraphs.SimpleGraphs.SimpleEdge,1},1},getfield(CRCBS, Symbol(\"##14#16\")){MAPF{MetaDiGraph{Int64,Float64}}}}, ::Int64) at ./array.jl:643",
      " [16] collect(::Base.Generator{Array{Array{LightGraphs.SimpleGraphs.SimpleEdge,1},1},getfield(CRCBS, Symbol(\"##14#16\")){MAPF{MetaDiGraph{Int64,Float64}}}}) at ./array.jl:624",
      " [17] get_cost(::Array{Array{LightGraphs.SimpleGraphs.SimpleEdge,1},1}, ::MAPF{MetaDiGraph{Int64,Float64}}) at /home/peltzer/.julia/dev/CRCBS/src/CRCBS.jl:345",
      " [18] low_level_search!(::MAPF{MetaDiGraph{Int64,Float64}}, ::CRCBS.ConstraintTreeNode, ::Array{Float64,2}, ::Array{Int64,1}, ::typeof(a_star)) at /home/peltzer/.julia/dev/CRCBS/src/CRCBS.jl:890",
      " [19] low_level_search! at /home/peltzer/.julia/dev/CRCBS/src/CRCBS.jl:874 [inlined]",
      " [20] CTCBS(::MAPF{MetaDiGraph{Int64,Float64}}, ::Function) at /home/peltzer/.julia/dev/CRCBS/src/CRCBS.jl:957",
      " [21] CTCBS(::MAPF{MetaDiGraph{Int64,Float64}}) at /home/peltzer/.julia/dev/CRCBS/src/CRCBS.jl:905",
      " [22] top-level scope at In[2]:1"
     ]
    }
   ],
   "source": [
    "CTCBS(mapf)"
   ]
  },
  {
   "cell_type": "code",
   "execution_count": null,
   "metadata": {},
   "outputs": [],
   "source": [
    "using JLD\n",
    "jldopen(\"../experiments/5test.jld\",\"w\") do file\n",
    "    addrequire(file,CRCBS)\n",
    "    write(file,\"data\",1)\n",
    "end"
   ]
  },
  {
   "cell_type": "code",
   "execution_count": 1,
   "metadata": {
    "scrolled": true
   },
   "outputs": [
    {
     "name": "stderr",
     "output_type": "stream",
     "text": [
      "┌ Info: Precompiling CRCBS [edef75b8-3ac4-11e9-0392-bf149c536ee3]\n",
      "└ @ Base loading.jl:1192\n",
      "┌ Warning: Package CRCBS does not have JLD in its dependencies:\n",
      "│ - If you have CRCBS checked out for development and have\n",
      "│   added JLD as a dependency but haven't updated your primary\n",
      "│   environment's manifest file, try `Pkg.resolve()`.\n",
      "│ - Otherwise you may need to report an issue with CRCBS\n",
      "└ Loading JLD into CRCBS from project dependency, future warnings for CRCBS are suppressed.\n",
      "WARNING: Method definition get_dist_matrix(LightGraphs.AbstractGraph{T} where T) in module CRCBS at /home/peltzer/.julia/dev/CRCBS/src/utils.jl:10 overwritten at /home/peltzer/.julia/dev/CRCBS/src/utils.jl:10.\n",
      "┌ Warning: Replacing docs for `CRCBS.get_dist_matrix :: Tuple{LightGraphs.AbstractGraph}` in module `CRCBS`\n",
      "└ @ Base.Docs docs/Docs.jl:223\n",
      "WARNING: Method definition pad_matrix(Array{T, 2}, Tuple{Int64, Int64}, T) where {T} in module CRCBS at /home/peltzer/.julia/dev/CRCBS/src/utils.jl:21 overwritten at /home/peltzer/.julia/dev/CRCBS/src/utils.jl:21.\n",
      "┌ Warning: Replacing docs for `CRCBS.pad_matrix :: Union{Tuple{T}, Tuple{Array{T,2},Tuple{Int64,Int64},T}} where T` in module `CRCBS`\n",
      "└ @ Base.Docs docs/Docs.jl:223\n",
      "WARNING: Method definition sample_wo_repl(Any, Any) in module CRCBS at /home/peltzer/.julia/dev/CRCBS/src/utils.jl:123 overwritten at /home/peltzer/.julia/dev/CRCBS/src/utils.jl:123.\n"
     ]
    }
   ],
   "source": [
    "using CRCBS\n",
    "using Distributions\n",
    "using HCubature"
   ]
  },
  {
   "cell_type": "code",
   "execution_count": 2,
   "metadata": {
    "scrolled": true
   },
   "outputs": [
    {
     "name": "stdout",
     "output_type": "stream",
     "text": [
      "Started \n",
      "Check1 \n",
      "Check2 \n",
      "ASTAR: 5\n",
      "Handling special case\n",
      "Handling special case\n",
      "Handling special case\n",
      "Handling special case\n",
      "Handling special case\n",
      "Handling special case\n",
      "Handling special case\n",
      "Handling special case\n",
      "Handling special case\n",
      "Handling special case\n",
      "Handling special case\n",
      "Handling special case\n",
      "Handling special case\n",
      "Handling special case\n",
      "Handling special case\n",
      "Handling special case\n",
      "Handling special case\n",
      "Handling special case\n",
      "Handling special case\n",
      "Handling special case\n",
      "Handling special case\n",
      "Handling special case\n",
      "Handling special case\n",
      "Handling special case\n",
      "Handling special case\n",
      "Handling special case\n",
      "Handling special case\n",
      "Handling special case\n",
      "Handling special case\n",
      "Handling special case\n",
      "Handling special case\n",
      "Handling special case\n",
      "Handling special case\n",
      "Handling special case\n",
      "Handling special case\n",
      "Handling special case\n",
      "Handling special case\n",
      "Handling special case\n",
      "Handling special case\n",
      "Handling special case\n",
      "Handling special case\n",
      "Handling special case\n",
      "Handling special case\n",
      "Handling special case\n",
      "Handling special case\n",
      "Handling special case\n",
      "Handling special case\n",
      "Handling special case\n",
      "Handling special case\n",
      "Handling special case\n",
      "Handling special case\n",
      "Handling special case\n",
      "Handling special case\n",
      "Handling special case\n",
      "Handling special case\n",
      "Handling special case\n",
      "Handling special case\n",
      "Handling special case\n",
      "Handling special case\n",
      "Handling special case\n",
      "Handling special case\n",
      "Handling special case\n",
      "Handling special case\n",
      "Handling special case\n",
      "Handling special case\n",
      "Handling special case\n",
      "Handling special case\n",
      "Handling special case\n",
      "Handling special case\n",
      "Handling special case\n",
      "Handling special case\n",
      "Handling special case\n",
      "Handling special case\n",
      "Handling special case\n",
      "Handling special case\n",
      "Handling special case\n",
      "Handling special case\n",
      "Handling special case\n",
      "Handling special case\n",
      "\n",
      " \n",
      "Optimal Solution Found! Cost = 48\n",
      "Time spent on probability count: 0.401097448 \n",
      "Time spent on path finding: 1.745675958 \n",
      "Time spent performing optimization: 3.060199445\n",
      "Possible interactions\n",
      "Possible interactions\n",
      "Possible interactions\n",
      "\n",
      " I found122 conflicts at a node!\n",
      "This is out of 2000 trials, and the collision probability is 0.0569102649225131\n",
      "Possible interactions\n",
      "Possible interactions\n",
      "Possible interactions\n",
      "\n",
      " I found76 conflicts at a node!\n",
      "This is out of 2000 trials, and the collision probability is 0.0013182995642461043\n",
      "Possible interactions\n",
      "Possible interactions\n",
      "Possible interactions\n",
      "Possible interactions\n",
      "Interaction at edge!\n",
      "\n",
      " I found44 conflicts!\n",
      "This is out of 2000 trials, and the collision probability is 0.16038908453136527\n",
      "Interaction at edge!\n",
      "\n",
      " I found50 conflicts!\n",
      "This is out of 2000 trials, and the collision probability is 0.20014220690841478\n",
      "Interaction at edge!\n",
      "Interaction at edge!\n",
      "Check3 \n"
     ]
    },
    {
     "data": {
      "text/html": [
       "<table class=\"data-frame\"><thead><tr><th></th><th>name</th><th>Id</th><th>CBS</th><th>success</th><th>lambda</th><th>epsilon</th><th>t_delay</th><th>num_trials</th><th>num_agents</th><th>cbs_time_steps</th><th>num_nodes</th><th>num_edges</th><th>solving_time</th><th>counting_time</th><th>time_spent_on_astar</th><th>num_interactions</th><th>solution_cost</th><th>global_cp</th><th>conflict_counts_locally</th><th>probability_error</th></tr><tr><th></th><th>String</th><th>Int64</th><th>Bool</th><th>Bool</th><th>Float64</th><th>Float64</th><th>Float64</th><th>Int64</th><th>Int64</th><th>Int64</th><th>Int64</th><th>Int64</th><th>Float64</th><th>Float64</th><th>Float64</th><th>Int64</th><th>Float64</th><th>Float64</th><th>Array…</th><th>Tuple…</th></tr></thead><tbody><p>1 rows × 20 columns</p><tr><th>1</th><td>Debugging_test_1</td><td>1</td><td>false</td><td>true</td><td>0.2</td><td>0.2</td><td>1.0</td><td>2000</td><td>5</td><td>-1</td><td>121</td><td>280</td><td>3.0602</td><td>0.401097</td><td>1.74568</td><td>14</td><td>48.0</td><td>0.138641</td><td>[122.0, 76.0, 44.0, 50.0]</td><td>(0.0885757, 0.0812527)</td></tr></tbody></table>"
      ],
      "text/latex": [
       "\\begin{tabular}{r|cccccccccccccccccccc}\n",
       "\t& name & Id & CBS & success & lambda & epsilon & t\\_delay & num\\_trials & num\\_agents & cbs\\_time\\_steps & num\\_nodes & num\\_edges & solving\\_time & counting\\_time & time\\_spent\\_on\\_astar & num\\_interactions & solution\\_cost & global\\_cp & conflict\\_counts\\_locally & probability\\_error\\\\\n",
       "\t\\hline\n",
       "\t& String & Int64 & Bool & Bool & Float64 & Float64 & Float64 & Int64 & Int64 & Int64 & Int64 & Int64 & Float64 & Float64 & Float64 & Int64 & Float64 & Float64 & Array… & Tuple…\\\\\n",
       "\t\\hline\n",
       "\t1 & Debugging\\_test\\_1 & 1 & false & true & 0.2 & 0.2 & 1.0 & 2000 & 5 & -1 & 121 & 280 & 3.0602 & 0.401097 & 1.74568 & 14 & 48.0 & 0.138641 & [122.0, 76.0, 44.0, 50.0] & (0.0885757, 0.0812527) \\\\\n",
       "\\end{tabular}\n"
      ],
      "text/plain": [
       "1×20 DataFrames.DataFrame. Omitted printing of 14 columns\n",
       "│ Row │ name             │ Id    │ CBS   │ success │ lambda  │ epsilon │\n",
       "│     │ \u001b[90mString\u001b[39m           │ \u001b[90mInt64\u001b[39m │ \u001b[90mBool\u001b[39m  │ \u001b[90mBool\u001b[39m    │ \u001b[90mFloat64\u001b[39m │ \u001b[90mFloat64\u001b[39m │\n",
       "├─────┼──────────────────┼───────┼───────┼─────────┼─────────┼─────────┤\n",
       "│ 1   │ Debugging_test_1 │ 1     │ false │ true    │ 0.2     │ 0.2     │"
      ]
     },
     "execution_count": 2,
     "metadata": {},
     "output_type": "execute_result"
    }
   ],
   "source": [
    "name = \"Debugging_test\"\n",
    "num_agents = tuple(5)\n",
    "grid_x = tuple(10)\n",
    "grid_y = tuple(10)\n",
    "filling_density = tuple(1.0)\n",
    "lambda = 0.2\n",
    "epsilon = 0.2\n",
    "t_delay = 1.0\n",
    "max_num_experiments = 1\n",
    "num_trials = 2000\n",
    "\n",
    "data = run_experiment_set_CRCBS(name,num_agents,grid_x,grid_y,filling_density,lambda,epsilon,t_delay,max_num_experiments,num_trials)"
   ]
  },
  {
   "cell_type": "code",
   "execution_count": 3,
   "metadata": {},
   "outputs": [],
   "source": [
    "subname = \"Debugging_test_1\"\n",
    "plot_optimal_nominal_paths(subname)"
   ]
  },
  {
   "cell_type": "code",
   "execution_count": null,
   "metadata": {},
   "outputs": [],
   "source": [
    "using CRCBS\n",
    "using Distributions\n",
    "using HCubature\n",
    "\n",
    "name = \"Convergence_test\"\n",
    "num_agents = (3,8,10)\n",
    "grid_x = tuple(10)\n",
    "grid_y = tuple(10)\n",
    "filling_density = tuple(0.8)\n",
    "lambda = 0.2\n",
    "epsilon = 0.9\n",
    "t_delay = 0.5\n",
    "max_num_experiments = 3\n",
    "num_trials = 1000\n",
    "\n",
    "data2 = run_convergence_tests_CRCBS(name,num_agents,grid_x,grid_y,filling_density,lambda,epsilon,t_delay,max_num_experiments,num_trials)"
   ]
  },
  {
   "cell_type": "code",
   "execution_count": null,
   "metadata": {
    "scrolled": true
   },
   "outputs": [],
   "source": [
    "exp_set.data[2].solving_time"
   ]
  },
  {
   "cell_type": "code",
   "execution_count": null,
   "metadata": {},
   "outputs": [],
   "source": [
    "save_experiment_set(exp_set)"
   ]
  },
  {
   "cell_type": "code",
   "execution_count": null,
   "metadata": {},
   "outputs": [],
   "source": [
    "n1 = 17.0\n",
    "t1 = 17.0\n",
    "n2 = 17.0\n",
    "t2 = 17.0\n",
    "nn = 1.0\n",
    "lambda = 0.2\n",
    "y = 0.0\n",
    "t = 400.0"
   ]
  },
  {
   "cell_type": "code",
   "execution_count": null,
   "metadata": {},
   "outputs": [],
   "source": [
    "get_collision_probability_node2(n1,t1,n2,t2,nn,lambda)"
   ]
  },
  {
   "cell_type": "code",
   "execution_count": null,
   "metadata": {
    "scrolled": true
   },
   "outputs": [],
   "source": [
    "(1-cdf(Gamma(nn,lambda),abs(t2-t1+y)))"
   ]
  },
  {
   "cell_type": "code",
   "execution_count": null,
   "metadata": {},
   "outputs": [],
   "source": [
    "pdf(Gamma(n1,lambda), t+y)"
   ]
  },
  {
   "cell_type": "code",
   "execution_count": null,
   "metadata": {},
   "outputs": [],
   "source": [
    "using HCubature\n",
    "function get_collision_probability_node2(n1,t1,n2,t2,nn,lambda)\n",
    "\n",
    "    function f(x)\n",
    "        y = x[1]\n",
    "        t = x[2]\n",
    "        density = (1-cdf(Gamma(nn,lambda),abs(t2-t1+y))) * pdf(Gamma(n1,lambda), t) * pdf(Gamma(n2,lambda),t-y)\n",
    "        return density\n",
    "    end\n",
    "\n",
    "    function g(x)\n",
    "        y = x[1]\n",
    "        t = x[2]\n",
    "        density = (1-cdf(Gamma(nn,lambda),abs(t2-t1+y))) * pdf(Gamma(n1,lambda), t+y) * pdf(Gamma(n2,lambda),t)\n",
    "        return density\n",
    "    end\n",
    "    \n",
    "    function h(x)\n",
    "        y = x[1]\n",
    "        t = x[2]\n",
    "        density = (1-cdf(Gamma(nn,lambda),abs(t2-t1-y))) * pdf(Gamma(n1,lambda), t) * pdf(Gamma(n2,lambda),t-y)\n",
    "        return density\n",
    "    end\n",
    "\n",
    "    a = [-100.0;0.0]\n",
    "    b = [0.0,100.0]\n",
    "    m = [0.0;0.0]\n",
    "    n = [100.0,100.0]\n",
    "    \n",
    "    bound = max(t1+n1,t2+n2)*lambda + 30.0\n",
    "    #bound = 20.0 \n",
    "    \n",
    "    o = bound.*[-1.0,-1.0]\n",
    "    p = bound.*[1.0,1.0]\n",
    "    # C1,err1 = hcubature(f,a,b,maxevals=10^7)\n",
    "    # C2,err2 = hcubature(g,m,n,maxevals=10^7)\n",
    "    # C = C1 + C2\n",
    "    # err = err1 + err2\n",
    "    C, err = hcubature(h,o,p,maxevals=10^8)\n",
    "    #C, err = hcubature(h,o,p,rtol = 10^(-3))\n",
    "\n",
    "    return C, err\n",
    "end"
   ]
  },
  {
   "cell_type": "code",
   "execution_count": null,
   "metadata": {},
   "outputs": [],
   "source": [
    "using Distributions\n",
    "function count_conflicts(n1,t1,n2,t2,nn,lambda,num_particles)\n",
    "    EA1 = rand(Gamma(n1,lambda),num_particles)\n",
    "    EA2 = rand(Gamma(n2,lambda),num_particles)\n",
    "    ed1 = rand(Gamma(nn,lambda),num_particles)\n",
    "    ed2 = rand(Gamma(nn,lambda),num_particles)\n",
    "    \n",
    "    r1_arrivals = t1 .+ EA1\n",
    "    r1_departures = r1_arrivals + ed1\n",
    "    r2_arrivals = t2 .+ EA2\n",
    "    r2_departures = r2_arrivals + ed2\n",
    "    \n",
    "    num_conflicts =length(findall(((r2_departures-r1_arrivals).>0) .& ((r1_departures-r2_arrivals).>0)   ))\n",
    "    \n",
    "    return num_conflicts/num_particles\n",
    "end"
   ]
  },
  {
   "cell_type": "code",
   "execution_count": null,
   "metadata": {
    "scrolled": false
   },
   "outputs": [],
   "source": [
    "n1 = rand(1:50)\n",
    "t1 = rand()*50\n",
    "n2 = rand(1:50)\n",
    "t2 = rand()*50\n",
    "nn = rand(1:5)\n",
    "lambda = rand()\n",
    "print(\"n1: \", n1, \" t1: \", t1, \" n2: \", n2, \" t2: \", t2, \" nn: \", nn, \" lambda: \", lambda)\n",
    "sleep(1)\n",
    "theoretical_cp = get_collision_probability_node2(n1,t1,n2,t2,nn,lambda)\n",
    "count_conflicts(n1,t1,n2,t2,nn,lambda,10000)"
   ]
  },
  {
   "cell_type": "code",
   "execution_count": null,
   "metadata": {},
   "outputs": [],
   "source": [
    "theoretical_cp"
   ]
  },
  {
   "cell_type": "code",
   "execution_count": null,
   "metadata": {},
   "outputs": [],
   "source": [
    "get_collision_probability_node2(n1,t1,n2,t2,nn,lambda)"
   ]
  },
  {
   "cell_type": "code",
   "execution_count": null,
   "metadata": {},
   "outputs": [],
   "source": [
    "get_collision_probability_node2(n1,t1,n2,t2,nn,lambda)"
   ]
  },
  {
   "cell_type": "code",
   "execution_count": null,
   "metadata": {},
   "outputs": [],
   "source": [
    "n1= 55\n",
    "t1= 6.7\n",
    "n2= 13 \n",
    "t2= 13.23\n",
    "nn= 46\n",
    "lambda= 0.08\n",
    "theoretical_cp = get_collision_probability_node2(n1,t1,n2,t2,nn,lambda)\n",
    "experimental_cp = count_conflicts(n1,t1,n2,t2,nn,lambda,2000000)"
   ]
  },
  {
   "cell_type": "code",
   "execution_count": null,
   "metadata": {},
   "outputs": [],
   "source": [
    "using DataFrames\n",
    "using Statistics\n",
    "using Plots\n",
    "df = DataFrame(num_particles=Int64[],cp=Float64[],experimental_cp=Float64[],etas=Float64[])\n",
    "x_list = [1,2,5,10,20,50,100,200,500,1000,2000,5000,10000,20000,50000,100000]\n",
    "max_attempts = 10000\n",
    "# Defining global variables\n",
    "n1 = 0\n",
    "n2 = 0\n",
    "t1 = 0\n",
    "t2 = 0\n",
    "nn = 0\n",
    "lambda = 0\n",
    "for k in 1:200\n",
    "    #println(\"Next k\")\n",
    "    theoretical_cp = 0.0\n",
    "    attempts = 0\n",
    "    while theoretical_cp < 0.01 && attempts < max_attempts\n",
    "        n1 = rand(1:20)\n",
    "        t1 = rand()*20\n",
    "        n2 = rand(1:20)\n",
    "        t2 = rand()*20\n",
    "        nn = rand(1:5)\n",
    "        lambda = rand()\n",
    "        theoretical_cp = get_collision_probability_node2(n1,t1,n2,t2,nn,lambda)[1]\n",
    "        attempts += 1\n",
    "    end\n",
    "    for x in x_list\n",
    "        experimental_cp = count_conflicts(n1,t1,n2,t2,nn,lambda,x)\n",
    "        ecart_relatif = abs(experimental_cp-theoretical_cp)/theoretical_cp\n",
    "        if abs(ecart_relatif) > 0.5 && x > 2000\n",
    "            println(\"Exception case occured! Returned something really wrong.\")\n",
    "            println(\"n1: \", n1, \" t1: \", t1, \" n2: \", n2, \" t2: \", t2, \" nn: \", nn, \" lambda: \", lambda)\n",
    "        end\n",
    "        push!(df,[x,theoretical_cp,experimental_cp,ecart_relatif])\n",
    "    end\n",
    "end\n",
    "\n",
    "ys = []\n",
    "stds = []\n",
    "for x in x_list\n",
    "    indexes = findall((df[1].==x) .& (df[2] .> 0.01) .& (df[2] .< 1.0) .& (df[3] .> 0.01))\n",
    "    values = df[4][indexes]\n",
    "    y = mean(values)\n",
    "    stdv = std(values)\n",
    "    append!(ys,y)\n",
    "    append!(stds,stdv)\n",
    "end\n",
    "\n",
    "plot(x_list,ys,yerror=stds,xscale = :log10)"
   ]
  },
  {
   "cell_type": "code",
   "execution_count": null,
   "metadata": {},
   "outputs": [],
   "source": [
    "plot(x_list,ys,yerror=stds,xscale = :log10,xlabel=\"Number of particles per simulation\", ylabel=\"Relative error\")"
   ]
  },
  {
   "cell_type": "code",
   "execution_count": null,
   "metadata": {
    "scrolled": true
   },
   "outputs": [],
   "source": [
    "df[4]"
   ]
  },
  {
   "cell_type": "code",
   "execution_count": null,
   "metadata": {},
   "outputs": [],
   "source": [
    "df[4]"
   ]
  },
  {
   "cell_type": "code",
   "execution_count": null,
   "metadata": {},
   "outputs": [],
   "source": [
    "indexes = findall(df[1].==1)\n",
    "df[1][indexes]"
   ]
  },
  {
   "cell_type": "code",
   "execution_count": null,
   "metadata": {},
   "outputs": [],
   "source": [
    "using Random\n",
    "typeof(shuffle(collect((1,2,3)))[1:end])"
   ]
  },
  {
   "cell_type": "code",
   "execution_count": null,
   "metadata": {},
   "outputs": [],
   "source": [
    "using LightGraphs, MetaGraphs\n",
    "#using Iterators\n",
    "\n",
    "v = Vector{Edge}()\n",
    "for k in 1:5\n",
    "    push!(v,Edge(k,k+1))\n",
    "end"
   ]
  },
  {
   "cell_type": "code",
   "execution_count": null,
   "metadata": {},
   "outputs": [],
   "source": [
    "typeof(v)"
   ]
  },
  {
   "cell_type": "code",
   "execution_count": null,
   "metadata": {},
   "outputs": [],
   "source": [
    "eltype(MetaGraph())"
   ]
  },
  {
   "cell_type": "code",
   "execution_count": null,
   "metadata": {},
   "outputs": [],
   "source": [
    "using JLD\n",
    "save_experiment_set(exp_set)"
   ]
  },
  {
   "cell_type": "code",
   "execution_count": null,
   "metadata": {},
   "outputs": [],
   "source": [
    "plot_SVtime_vs_nrobots([\"results/003Experiment_Set_001.jld\"])"
   ]
  },
  {
   "cell_type": "code",
   "execution_count": null,
   "metadata": {},
   "outputs": [],
   "source": [
    "using JLD\n",
    "exp_s = load(\"results/001Experiment_Set_001.jld\")"
   ]
  },
  {
   "cell_type": "code",
   "execution_count": null,
   "metadata": {},
   "outputs": [],
   "source": [
    "data = Vector{}()"
   ]
  },
  {
   "cell_type": "code",
   "execution_count": null,
   "metadata": {},
   "outputs": [],
   "source": [
    "using Pkg\n",
    "Pkg.add(\"DataFrames\")"
   ]
  },
  {
   "cell_type": "code",
   "execution_count": null,
   "metadata": {},
   "outputs": [],
   "source": [
    "using DataFrames\n",
    "thing = DataFrame(A=String[])"
   ]
  },
  {
   "cell_type": "code",
   "execution_count": null,
   "metadata": {},
   "outputs": [],
   "source": [
    "myvector = Vector{}([1.0,2.0])\n",
    "mytuple = (1,2,3)"
   ]
  },
  {
   "cell_type": "code",
   "execution_count": null,
   "metadata": {},
   "outputs": [],
   "source": [
    "thing = DataFrame(a=String[],b=Vector{Float64}[],c = Tuple{Float64,Float64}[])"
   ]
  },
  {
   "cell_type": "code",
   "execution_count": null,
   "metadata": {},
   "outputs": [],
   "source": [
    "push!(thing, [\"M\", myvector,(1.0,3.0)])"
   ]
  },
  {
   "cell_type": "code",
   "execution_count": null,
   "metadata": {},
   "outputs": [],
   "source": [
    "string(name,\"1\")"
   ]
  },
  {
   "cell_type": "code",
   "execution_count": null,
   "metadata": {},
   "outputs": [],
   "source": [
    "string('i',string(1))"
   ]
  },
  {
   "cell_type": "code",
   "execution_count": null,
   "metadata": {},
   "outputs": [],
   "source": [
    "string(1)"
   ]
  },
  {
   "cell_type": "code",
   "execution_count": null,
   "metadata": {},
   "outputs": [],
   "source": [
    "using LightGraphs, MetaGraphs"
   ]
  },
  {
   "cell_type": "code",
   "execution_count": null,
   "metadata": {},
   "outputs": [],
   "source": [
    "rand()"
   ]
  },
  {
   "cell_type": "code",
   "execution_count": null,
   "metadata": {},
   "outputs": [],
   "source": [
    "elt = [v for v in vertices(g)]"
   ]
  },
  {
   "cell_type": "code",
   "execution_count": null,
   "metadata": {},
   "outputs": [],
   "source": [
    "function dostuff!(a,b,c=0)\n",
    "    a[1] = 5\n",
    "    b[1] = 2\n",
    "    c = c+5\n",
    "end"
   ]
  },
  {
   "cell_type": "code",
   "execution_count": null,
   "metadata": {},
   "outputs": [],
   "source": [
    "a = [1,2]\n",
    "b = [-4]\n",
    "c = 13\n",
    "dostuff!(a,b,c)\n",
    "println(a)\n",
    "println(b)\n",
    "println(c)"
   ]
  },
  {
   "cell_type": "code",
   "execution_count": null,
   "metadata": {},
   "outputs": [],
   "source": [
    "using CSV\n",
    "using DataFrames"
   ]
  },
  {
   "cell_type": "code",
   "execution_count": null,
   "metadata": {},
   "outputs": [],
   "source": [
    "CSV.write(\"5test.csv\",data)"
   ]
  },
  {
   "cell_type": "code",
   "execution_count": null,
   "metadata": {},
   "outputs": [],
   "source": [
    "retrieved_data = DataFrame(CSV.File(\"5test.csv\"))"
   ]
  },
  {
   "cell_type": "code",
   "execution_count": null,
   "metadata": {},
   "outputs": [],
   "source": [
    "mylist = retrieved_data.probability_error[1]"
   ]
  },
  {
   "cell_type": "code",
   "execution_count": null,
   "metadata": {},
   "outputs": [],
   "source": [
    "[parse(Float64, ss[1:end-1]) for ss in split(mylist[2:end])]"
   ]
  },
  {
   "cell_type": "code",
   "execution_count": null,
   "metadata": {},
   "outputs": [],
   "source": [
    "num_trials = 100000\n",
    "range(1,stop=num_trials,length=10)"
   ]
  },
  {
   "cell_type": "code",
   "execution_count": null,
   "metadata": {},
   "outputs": [],
   "source": [
    "maximum(data2[1])"
   ]
  },
  {
   "cell_type": "code",
   "execution_count": null,
   "metadata": {},
   "outputs": [],
   "source": [
    "idxs = findall(data2[2].==0.0)"
   ]
  },
  {
   "cell_type": "code",
   "execution_count": null,
   "metadata": {},
   "outputs": [],
   "source": [
    "max(1,2)"
   ]
  },
  {
   "cell_type": "code",
   "execution_count": null,
   "metadata": {},
   "outputs": [],
   "source": [
    "data2[2][idxs]"
   ]
  },
  {
   "cell_type": "code",
   "execution_count": null,
   "metadata": {},
   "outputs": [],
   "source": []
  }
 ],
 "metadata": {
  "@webio": {
   "lastCommId": null,
   "lastKernelId": null
  },
  "kernelspec": {
   "display_name": "Julia 1.0.3",
   "language": "julia",
   "name": "julia-1.0"
  },
  "language_info": {
   "file_extension": ".jl",
   "mimetype": "application/julia",
   "name": "julia",
   "version": "1.0.3"
  }
 },
 "nbformat": 4,
 "nbformat_minor": 2
}
