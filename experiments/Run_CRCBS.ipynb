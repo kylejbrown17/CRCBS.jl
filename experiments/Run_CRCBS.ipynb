{
 "cells": [
  {
   "cell_type": "code",
   "execution_count": 1,
   "metadata": {},
   "outputs": [
    {
     "name": "stderr",
     "output_type": "stream",
     "text": [
      "┌ Info: Precompiling CRCBS [edef75b8-3ac4-11e9-0392-bf149c536ee3]\n",
      "└ @ Base loading.jl:1186\n",
      "┌ Warning: Package CRCBS does not have HCubature in its dependencies:\n",
      "│ - If you have CRCBS checked out for development and have\n",
      "│   added HCubature as a dependency but haven't updated your primary\n",
      "│   environment's manifest file, try `Pkg.resolve()`.\n",
      "│ - Otherwise you may need to report an issue with CRCBS\n",
      "└ Loading HCubature into CRCBS from project dependency, future warnings for CRCBS are suppressed.\n",
      "ERROR: LoadError: ArgumentError: Package CRCBS does not have Combinatorics in its dependencies:\n",
      "- If you have CRCBS checked out for development and have\n",
      "  added Combinatorics as a dependency but haven't updated your primary\n",
      "  environment's manifest file, try `Pkg.resolve()`.\n",
      "- Otherwise you may need to report an issue with CRCBS\n",
      "Stacktrace:\n",
      " [1] require(::Module, ::Symbol) at .\\loading.jl:836\n",
      " [2] include at .\\boot.jl:326 [inlined]\n",
      " [3] include_relative(::Module, ::String) at .\\loading.jl:1038\n",
      " [4] include(::Module, ::String) at .\\sysimg.jl:29\n",
      " [5] top-level scope at none:2\n",
      " [6] eval at .\\boot.jl:328 [inlined]\n",
      " [7] eval(::Expr) at .\\client.jl:404\n",
      " [8] top-level scope at .\\none:3\n",
      "in expression starting at C:\\Users\\orian\\.julia\\dev\\CRCBS\\src\\CRCBS.jl:11\n"
     ]
    },
    {
     "ename": "ErrorException",
     "evalue": "Failed to precompile CRCBS [edef75b8-3ac4-11e9-0392-bf149c536ee3] to C:\\Users\\orian\\.julia\\compiled\\v1.1\\CRCBS\\26Ksw.ji.",
     "output_type": "error",
     "traceback": [
      "Failed to precompile CRCBS [edef75b8-3ac4-11e9-0392-bf149c536ee3] to C:\\Users\\orian\\.julia\\compiled\\v1.1\\CRCBS\\26Ksw.ji.",
      "",
      "Stacktrace:",
      " [1] error(::String) at .\\error.jl:33",
      " [2] compilecache(::Base.PkgId, ::String) at .\\loading.jl:1197",
      " [3] _require(::Base.PkgId) at .\\loading.jl:960",
      " [4] require(::Base.PkgId) at .\\loading.jl:858",
      " [5] require(::Module, ::Symbol) at .\\loading.jl:853",
      " [6] top-level scope at In[1]:1"
     ]
    }
   ],
   "source": [
    "using CRCBS"
   ]
  },
  {
   "cell_type": "code",
   "execution_count": 6,
   "metadata": {},
   "outputs": [
    {
     "data": {
      "text/plain": [
       "{112, 196} undirected Int64 metagraph with Float64 weights defined by :weight (default weight 1.0)"
      ]
     },
     "execution_count": 6,
     "metadata": {},
     "output_type": "execute_result"
    }
   ],
   "source": [
    "G = initialize_full_grid_graph()"
   ]
  },
  {
   "cell_type": "code",
   "execution_count": 7,
   "metadata": {},
   "outputs": [
    {
     "ename": "MethodError",
     "evalue": "MethodError: no method matching MAPF(::MetaGraphs.MetaGraph{Int64,Float64}, ::Array{Int64,1}, ::Array{Int64,1}, ::Int64, ::Float64, ::Float64)\nClosest candidates are:\n  MAPF(::G<:LightGraphs.AbstractGraph, ::Array{Int64,1}, ::Array{Int64,1}) where G<:LightGraphs.AbstractGraph at C:\\Users\\orian\\.julia\\dev\\CRCBS\\src\\CRCBS.jl:51",
     "output_type": "error",
     "traceback": [
      "MethodError: no method matching MAPF(::MetaGraphs.MetaGraph{Int64,Float64}, ::Array{Int64,1}, ::Array{Int64,1}, ::Int64, ::Float64, ::Float64)\nClosest candidates are:\n  MAPF(::G<:LightGraphs.AbstractGraph, ::Array{Int64,1}, ::Array{Int64,1}) where G<:LightGraphs.AbstractGraph at C:\\Users\\orian\\.julia\\dev\\CRCBS\\src\\CRCBS.jl:51",
      "",
      "Stacktrace:",
      " [1] top-level scope at In[7]:6"
     ]
    }
   ],
   "source": [
    "starts = [1,5,8]\n",
    "goals = [4,1,2]\n",
    "lambda = 1\n",
    "epsilon = 0.1\n",
    "t_delay = 0.5\n",
    "mapf = MAPF(G,starts,goals,lambda,epsilon,t_delay)"
   ]
  },
  {
   "cell_type": "code",
   "execution_count": null,
   "metadata": {
    "collapsed": true
   },
   "outputs": [],
   "source": []
  }
 ],
 "metadata": {
  "kernelspec": {
   "display_name": "Julia 1.1.0",
   "language": "julia",
   "name": "julia-1.1"
  },
  "language_info": {
   "file_extension": ".jl",
   "mimetype": "application/julia",
   "name": "julia",
   "version": "1.1.0"
  }
 },
 "nbformat": 4,
 "nbformat_minor": 2
}
