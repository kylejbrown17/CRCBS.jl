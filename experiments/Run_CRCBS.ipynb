{
 "cells": [
  {
   "cell_type": "code",
   "execution_count": 1,
   "metadata": {},
   "outputs": [
    {
     "name": "stderr",
     "output_type": "stream",
     "text": [
      "┌ Info: Recompiling stale cache file /home/peltzer/.julia/compiled/v1.0/CRCBS/26Ksw.ji for CRCBS [edef75b8-3ac4-11e9-0392-bf149c536ee3]\n",
      "└ @ Base loading.jl:1190\n",
      "WARNING: Method definition get_dist_matrix(LightGraphs.AbstractGraph{T} where T) in module CRCBS at /home/peltzer/.julia/dev/CRCBS/src/utils.jl:11 overwritten at /home/peltzer/.julia/dev/CRCBS/src/utils.jl:11.\n",
      "┌ Warning: Replacing docs for `CRCBS.get_dist_matrix :: Tuple{LightGraphs.AbstractGraph}` in module `CRCBS`\n",
      "└ @ Base.Docs docs/Docs.jl:223\n",
      "WARNING: Method definition pad_matrix(Array{T, 2}, Tuple{Int64, Int64}, T) where {T} in module CRCBS at /home/peltzer/.julia/dev/CRCBS/src/utils.jl:22 overwritten at /home/peltzer/.julia/dev/CRCBS/src/utils.jl:22.\n",
      "┌ Warning: Replacing docs for `CRCBS.pad_matrix :: Union{Tuple{T}, Tuple{Array{T,2},Tuple{Int64,Int64},T}} where T` in module `CRCBS`\n",
      "└ @ Base.Docs docs/Docs.jl:223\n",
      "WARNING: Method definition initialize_full_grid_graph() in module CRCBS at /home/peltzer/.julia/dev/CRCBS/src/utils.jl:37 overwritten at /home/peltzer/.julia/dev/CRCBS/src/utils.jl:37.\n",
      "┌ Warning: Replacing docs for `CRCBS.initialize_full_grid_graph :: Tuple{}` in module `CRCBS`\n",
      "└ @ Base.Docs docs/Docs.jl:223\n",
      "WARNING: Method definition initialize_regular_grid_graph() in module CRCBS at /home/peltzer/.julia/dev/CRCBS/src/utils.jl:81 overwritten at /home/peltzer/.julia/dev/CRCBS/src/utils.jl:81.\n",
      "WARNING: Method definition #initialize_regular_grid_graph(Any, typeof(CRCBS.initialize_regular_grid_graph)) in module CRCBS overwritten.\n",
      "┌ Warning: Replacing docs for `CRCBS.initialize_regular_grid_graph :: Tuple{}` in module `CRCBS`\n",
      "└ @ Base.Docs docs/Docs.jl:223\n",
      "WARNING: Method definition initialize_full_grid_graph() in module CRCBS at /home/peltzer/.julia/dev/CRCBS/src/utils.jl:37 overwritten at /home/peltzer/.julia/dev/CRCBS/src/CT_graph.jl:15.\n"
     ]
    },
    {
     "data": {
      "text/plain": [
       "MAPF{MetaDiGraph{Int64,Float64}}({121, 440} directed Int64 metagraph with Float64 weights defined by :weight (default weight 1.0), [1, 5, 8], [4, 1, 2], 0.5, 0.1, 0.5)"
      ]
     },
     "execution_count": 1,
     "metadata": {},
     "output_type": "execute_result"
    }
   ],
   "source": [
    "using CRCBS\n",
    "using LightGraphs, MetaGraphs\n",
    "G = initialize_full_grid_graph_CT()\n",
    "starts = [1,5,8]\n",
    "goals = [4,1,2]\n",
    "lambda = 0.5\n",
    "epsilon = 0.1\n",
    "t_delay = 0.5\n",
    "mapf = MAPF(G,starts,goals,lambda,epsilon,t_delay)\n"
   ]
  },
  {
   "cell_type": "code",
   "execution_count": null,
   "metadata": {},
   "outputs": [],
   "source": []
  },
  {
   "cell_type": "code",
   "execution_count": 2,
   "metadata": {},
   "outputs": [
    {
     "name": "stdout",
     "output_type": "stream",
     "text": [
      "-------------empty path sent --------------------Concerned node: 2\n",
      "-------------empty path sent --------------------Concerned node: 12\n",
      "-------------empty path sent --------------------Concerned node: 4\n",
      "-------------empty path sent --------------------Concerned node: 6\n",
      "-------------empty path sent --------------------Concerned node: 16\n",
      "-------------empty path sent --------------------Concerned node: 7\n",
      "-------------empty path sent --------------------Concerned node: 9\n",
      "-------------empty path sent --------------------Concerned node: 19\n",
      "\n",
      " \n",
      "Trying to get the most likely conflict from solution: \n",
      "Array{LightGraphs.SimpleGraphs.SimpleEdge,1}[[Edge 1 => 2, Edge 2 => 3, Edge 3 => 4], [Edge 5 => 4, Edge 4 => 3, Edge 3 => 2, Edge 2 => 1], [Edge 8 => 7, Edge 7 => 6, Edge 6 => 5, Edge 5 => 4, Edge 4 => 3, Edge 3 => 2]]\n",
      "occupancy test 1 \n",
      "Dict(1=>(2, 1.0))\n",
      "occupancy test 2\n",
      "Dict{Int64,Tuple{Int64,Float64}}()\n",
      " \n",
      "Found edge conflict: \n",
      "Agents: 1 and 2\n",
      "Edge: 2 => 3\n",
      "Collision Probability: 0.6016454427090591\n",
      " \n",
      "Generated the following constraint(s): \n",
      "Agent: 1\n",
      "Node 1: 2\n",
      "Node 2: 3\n",
      "Authorized time: 3.5\n",
      " \n",
      "Agent: 2\n",
      "Node 1: 3\n",
      "Node 2: 2\n",
      "Authorized time: 3.5\n",
      " \n",
      "-------------empty path sent --------------------Concerned node: 2\n",
      "-------------empty path sent --------------------Concerned node: 12\n",
      "Consequently we found the solutions: \n",
      "Array{LightGraphs.SimpleGraphs.SimpleEdge,1}[[Edge 1 => 2, Edge 2 => 13, Edge 13 => 14, Edge 14 => 3, Edge 3 => 4], [Edge 5 => 4, Edge 4 => 3, Edge 3 => 2, Edge 2 => 1], [Edge 8 => 7, Edge 7 => 6, Edge 6 => 5, Edge 5 => 4, Edge 4 => 3, Edge 3 => 2]]\n",
      "Adding new node to priority queue\n",
      "-------------empty path sent --------------------Concerned node: 4\n",
      "-------------empty path sent --------------------Concerned node: 6\n",
      "-------------empty path sent --------------------Concerned node: 16\n",
      "Consequently we found the solutions: \n",
      "Array{LightGraphs.SimpleGraphs.SimpleEdge,1}[[Edge 1 => 2, Edge 2 => 3, Edge 3 => 4], [Edge 5 => 16, Edge 16 => 15, Edge 15 => 14, Edge 14 => 13, Edge 13 => 2, Edge 2 => 1], [Edge 8 => 7, Edge 7 => 6, Edge 6 => 5, Edge 5 => 4, Edge 4 => 3, Edge 3 => 2]]\n",
      "Adding new node to priority queue\n",
      "\n",
      " \n",
      "Trying to get the most likely conflict from solution: \n",
      "Array{LightGraphs.SimpleGraphs.SimpleEdge,1}[[Edge 1 => 2, Edge 2 => 13, Edge 13 => 14, Edge 14 => 3, Edge 3 => 4], [Edge 5 => 4, Edge 4 => 3, Edge 3 => 2, Edge 2 => 1], [Edge 8 => 7, Edge 7 => 6, Edge 6 => 5, Edge 5 => 4, Edge 4 => 3, Edge 3 => 2]]\n",
      "occupancy test 1 \n",
      "Dict{Int64,Tuple{Int64,Float64}}()\n",
      "occupancy test 2\n",
      "Dict{Int64,Tuple{Int64,Float64}}()\n",
      " \n",
      "Found edge conflict: \n",
      "Agents: 1 and 3\n",
      "Edge: 3 => 4\n",
      "Collision Probability: 0.5002462717996774\n",
      " \n",
      "Generated the following constraint(s): \n",
      "Agent: 1\n",
      "Node 1: 3\n",
      "Node 2: 4\n",
      "Authorized time: 5.5\n",
      " \n",
      "Agent: 3\n",
      "Node 1: 4\n",
      "Node 2: 3\n",
      "Authorized time: 5.5\n",
      " \n",
      "-------------empty path sent --------------------Concerned node: 2\n",
      "-------------empty path sent --------------------Concerned node: 12\n",
      "Consequently we found the solutions: \n",
      "Array{LightGraphs.SimpleGraphs.SimpleEdge,1}[[Edge 1 => 2, Edge 2 => 13, Edge 13 => 14, Edge 14 => 15, Edge 15 => 4], [Edge 5 => 4, Edge 4 => 3, Edge 3 => 2, Edge 2 => 1], [Edge 8 => 7, Edge 7 => 6, Edge 6 => 5, Edge 5 => 4, Edge 4 => 3, Edge 3 => 2]]\n",
      "Adding new node to priority queue\n",
      "-------------empty path sent --------------------Concerned node: 7\n",
      "-------------empty path sent --------------------Concerned node: 9\n",
      "-------------empty path sent --------------------Concerned node: 19\n",
      "Consequently we found the solutions: \n",
      "Array{LightGraphs.SimpleGraphs.SimpleEdge,1}[[Edge 1 => 2, Edge 2 => 13, Edge 13 => 14, Edge 14 => 3, Edge 3 => 4], [Edge 5 => 4, Edge 4 => 3, Edge 3 => 2, Edge 2 => 1], [Edge 8 => 7, Edge 7 => 6, Edge 6 => 5, Edge 5 => 4, Edge 4 => 15, Edge 15 => 14, Edge 14 => 13, Edge 13 => 2]]\n",
      "Adding new node to priority queue\n",
      "\n",
      " \n",
      "Trying to get the most likely conflict from solution: \n",
      "Array{LightGraphs.SimpleGraphs.SimpleEdge,1}[[Edge 1 => 2, Edge 2 => 3, Edge 3 => 4], [Edge 5 => 16, Edge 16 => 15, Edge 15 => 14, Edge 14 => 13, Edge 13 => 2, Edge 2 => 1], [Edge 8 => 7, Edge 7 => 6, Edge 6 => 5, Edge 5 => 4, Edge 4 => 3, Edge 3 => 2]]\n",
      "occupancy test 1 \n",
      "Dict(1=>(2, 1.0))\n",
      "occupancy test 2\n",
      "Dict{Int64,Tuple{Int64,Float64}}()\n",
      " \n",
      "Found edge conflict: \n",
      "Agents: 1 and 3\n",
      "Edge: 3 => 4\n",
      "Collision Probability: 0.4067003118836141\n",
      " \n",
      "Generated the following constraint(s): \n",
      "Agent: 1\n",
      "Node 1: 3\n",
      "Node 2: 4\n",
      "Authorized time: 6.0\n",
      " \n",
      "Agent: 3\n",
      "Node 1: 4\n",
      "Node 2: 3\n",
      "Authorized time: 5.5\n",
      " \n",
      "-------------empty path sent --------------------Concerned node: 2\n",
      "-------------empty path sent --------------------Concerned node: 12\n",
      "Consequently we found the solutions: \n",
      "Array{LightGraphs.SimpleGraphs.SimpleEdge,1}[[Edge 1 => 2, Edge 2 => 13, Edge 13 => 14, Edge 14 => 15, Edge 15 => 4], [Edge 5 => 16, Edge 16 => 15, Edge 15 => 14, Edge 14 => 13, Edge 13 => 2, Edge 2 => 1], [Edge 8 => 7, Edge 7 => 6, Edge 6 => 5, Edge 5 => 4, Edge 4 => 3, Edge 3 => 2]]\n",
      "Adding new node to priority queue\n",
      "-------------empty path sent --------------------Concerned node: 7\n",
      "-------------empty path sent --------------------Concerned node: 9\n",
      "-------------empty path sent --------------------Concerned node: 19\n",
      "Consequently we found the solutions: \n",
      "Array{LightGraphs.SimpleGraphs.SimpleEdge,1}[[Edge 1 => 2, Edge 2 => 3, Edge 3 => 4], [Edge 5 => 16, Edge 16 => 15, Edge 15 => 14, Edge 14 => 13, Edge 13 => 2, Edge 2 => 1], [Edge 8 => 7, Edge 7 => 6, Edge 6 => 5, Edge 5 => 4, Edge 4 => 15, Edge 15 => 14, Edge 14 => 13, Edge 13 => 2]]\n",
      "Adding new node to priority queue\n",
      "\n",
      " \n",
      "Trying to get the most likely conflict from solution: \n",
      "Array{LightGraphs.SimpleGraphs.SimpleEdge,1}[[Edge 1 => 2, Edge 2 => 13, Edge 13 => 14, Edge 14 => 15, Edge 15 => 4], [Edge 5 => 4, Edge 4 => 3, Edge 3 => 2, Edge 2 => 1], [Edge 8 => 7, Edge 7 => 6, Edge 6 => 5, Edge 5 => 4, Edge 4 => 3, Edge 3 => 2]]\n",
      "occupancy test 1 \n",
      "Dict{Int64,Tuple{Int64,Float64}}()\n",
      "occupancy test 2\n",
      "Dict{Int64,Tuple{Int64,Float64}}()\n",
      " \n",
      "Found edge conflict: \n",
      "Agents: 1 and 2\n",
      "Edge: 1 => 2\n",
      "Collision Probability: 0.26382597850525946\n",
      " \n",
      "Generated the following constraint(s): \n",
      "Agent: 1\n",
      "Node 1: 1\n",
      "Node 2: 2\n",
      "Authorized time: 4.5\n",
      " \n",
      "Agent: 2\n",
      "Node 1: 2\n",
      "Node 2: 1\n",
      "Authorized time: 4.5\n",
      " \n",
      "-------------empty path sent --------------------Concerned node: 2\n",
      "-------------empty path sent --------------------Concerned node: 12\n",
      "Consequently we found the solutions: \n",
      "Array{LightGraphs.SimpleGraphs.SimpleEdge,1}[[Edge 1 => 12, Edge 12 => 13, Edge 13 => 14, Edge 14 => 15, Edge 15 => 4], [Edge 5 => 4, Edge 4 => 3, Edge 3 => 2, Edge 2 => 1], [Edge 8 => 7, Edge 7 => 6, Edge 6 => 5, Edge 5 => 4, Edge 4 => 3, Edge 3 => 2]]\n",
      "Adding new node to priority queue\n",
      "-------------empty path sent --------------------Concerned node: 4\n",
      "-------------empty path sent --------------------Concerned node: 6\n",
      "-------------empty path sent --------------------Concerned node: 16\n",
      "Consequently we found the solutions: \n",
      "Array{LightGraphs.SimpleGraphs.SimpleEdge,1}[[Edge 1 => 2, Edge 2 => 13, Edge 13 => 14, Edge 14 => 15, Edge 15 => 4], [Edge 5 => 16, Edge 16 => 15, Edge 15 => 14, Edge 14 => 13, Edge 13 => 2, Edge 2 => 1], [Edge 8 => 7, Edge 7 => 6, Edge 6 => 5, Edge 5 => 4, Edge 4 => 3, Edge 3 => 2]]\n",
      "Adding new node to priority queue\n",
      "\n",
      " \n",
      "Trying to get the most likely conflict from solution: \n",
      "Array{LightGraphs.SimpleGraphs.SimpleEdge,1}[[Edge 1 => 12, Edge 12 => 13, Edge 13 => 14, Edge 14 => 15, Edge 15 => 4], [Edge 5 => 4, Edge 4 => 3, Edge 3 => 2, Edge 2 => 1], [Edge 8 => 7, Edge 7 => 6, Edge 6 => 5, Edge 5 => 4, Edge 4 => 3, Edge 3 => 2]]\n",
      "occupancy test 1 \n",
      "Dict{Int64,Tuple{Int64,Float64}}()\n",
      "occupancy test 2\n",
      "Dict{Int64,Tuple{Int64,Float64}}()\n",
      " \n",
      "Optimal Solution Found! Cost = 15\n"
     ]
    },
    {
     "data": {
      "text/plain": [
       "(Array{LightGraphs.SimpleGraphs.SimpleEdge,1}[[Edge 1 => 12, Edge 12 => 13, Edge 13 => 14, Edge 14 => 15, Edge 15 => 4], [Edge 5 => 4, Edge 4 => 3, Edge 3 => 2, Edge 2 => 1], [Edge 8 => 7, Edge 7 => 6, Edge 6 => 5, Edge 5 => 4, Edge 4 => 3, Edge 3 => 2]], 15)"
      ]
     },
     "execution_count": 2,
     "metadata": {},
     "output_type": "execute_result"
    }
   ],
   "source": [
    "CTCBS(mapf)"
   ]
  },
  {
   "cell_type": "code",
   "execution_count": 1,
   "metadata": {},
   "outputs": [
    {
     "ename": "UndefVarError",
     "evalue": "UndefVarError: MetaDiGraph not defined",
     "output_type": "error",
     "traceback": [
      "UndefVarError: MetaDiGraph not defined",
      "",
      "Stacktrace:",
      " [1] top-level scope at In[1]:1"
     ]
    }
   ],
   "source": [
    "mg = MetaDiGraph()\n",
    "add_vertex!(mg,Dict(:x=>1,:n_delay=>1.0))\n",
    "add_vertex!(mg,Dict(:x=>2,:n_delay=>1.0))\n",
    "add_edge!(mg,1,2)\n",
    "set_prop!(mg,Edge(1,2),:foo,5)"
   ]
  },
  {
   "cell_type": "code",
   "execution_count": 5,
   "metadata": {},
   "outputs": [
    {
     "name": "stdout",
     "output_type": "stream",
     "text": [
      "12"
     ]
    }
   ],
   "source": [
    "for v in vertices(mg)\n",
    "    print(v)\n",
    "end"
   ]
  },
  {
   "cell_type": "code",
   "execution_count": 6,
   "metadata": {},
   "outputs": [
    {
     "data": {
      "text/plain": [
       "1"
      ]
     },
     "execution_count": 6,
     "metadata": {},
     "output_type": "execute_result"
    }
   ],
   "source": [
    "Edge(1,2).src"
   ]
  },
  {
   "cell_type": "code",
   "execution_count": 12,
   "metadata": {},
   "outputs": [
    {
     "data": {
      "text/plain": [
       "5"
      ]
     },
     "execution_count": 12,
     "metadata": {},
     "output_type": "execute_result"
    }
   ],
   "source": [
    "get_prop(mg,Edge(2,1),:foo)"
   ]
  },
  {
   "cell_type": "code",
   "execution_count": 3,
   "metadata": {},
   "outputs": [
    {
     "ename": "ArgumentError",
     "evalue": "ArgumentError: Package CBS not found in current path:\n- Run `import Pkg; Pkg.add(\"CBS\")` to install the CBS package.\n",
     "output_type": "error",
     "traceback": [
      "ArgumentError: Package CBS not found in current path:\n- Run `import Pkg; Pkg.add(\"CBS\")` to install the CBS package.\n",
      "",
      "Stacktrace:",
      " [1] require(::Module, ::Symbol) at ./loading.jl:823",
      " [2] top-level scope at In[3]:1"
     ]
    }
   ],
   "source": [
    "using CBS"
   ]
  },
  {
   "cell_type": "code",
   "execution_count": null,
   "metadata": {},
   "outputs": [],
   "source": []
  }
 ],
 "metadata": {
  "kernelspec": {
   "display_name": "Julia 1.0.3",
   "language": "julia",
   "name": "julia-1.0"
  },
  "language_info": {
   "file_extension": ".jl",
   "mimetype": "application/julia",
   "name": "julia",
   "version": "1.0.3"
  }
 },
 "nbformat": 4,
 "nbformat_minor": 2
}
