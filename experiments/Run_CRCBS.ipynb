{
 "cells": [
  {
   "cell_type": "code",
   "execution_count": null,
   "metadata": {},
   "outputs": [],
   "source": [
    "using CRCBS\n",
    "using LightGraphs, MetaGraphs\n",
    "G = initialize_full_grid_graph_CT()\n",
    "starts = [1,5,8]\n",
    "goals = [4,1,2]\n",
    "lambda = 0.5\n",
    "epsilon = 0.1\n",
    "t_delay = 0.5\n",
    "mapf = MAPF(G,starts,goals,lambda,epsilon,t_delay)\n"
   ]
  },
  {
   "cell_type": "code",
   "execution_count": null,
   "metadata": {},
   "outputs": [],
   "source": []
  },
  {
   "cell_type": "code",
   "execution_count": null,
   "metadata": {},
   "outputs": [],
   "source": [
    "CTCBS(mapf)"
   ]
  },
  {
   "cell_type": "code",
   "execution_count": null,
   "metadata": {},
   "outputs": [],
   "source": [
    "mg = MetaDiGraph()\n",
    "add_vertex!(mg,Dict(:x=>1,:n_delay=>1.0))\n",
    "add_vertex!(mg,Dict(:x=>2,:n_delay=>1.0))\n",
    "add_edge!(mg,1,2)\n",
    "set_prop!(mg,Edge(1,2),:foo,5)"
   ]
  },
  {
   "cell_type": "code",
   "execution_count": null,
   "metadata": {},
   "outputs": [],
   "source": [
    "for v in vertices(mg)\n",
    "    print(v)\n",
    "end"
   ]
  },
  {
   "cell_type": "code",
   "execution_count": null,
   "metadata": {},
   "outputs": [],
   "source": [
    "Edge(1,2).src"
   ]
  },
  {
   "cell_type": "code",
   "execution_count": null,
   "metadata": {},
   "outputs": [],
   "source": [
    "get_prop(mg,Edge(2,1),:foo)"
   ]
  },
  {
   "cell_type": "code",
   "execution_count": null,
   "metadata": {},
   "outputs": [],
   "source": [
    "using JLD"
   ]
  },
  {
   "cell_type": "code",
   "execution_count": null,
   "metadata": {},
   "outputs": [],
   "source": [
    "jldopen(\"../experiments/001test.jld\",\"w\") do file\n",
    "    addrequire(file,CRCBS)\n",
    "    write(file,\"data\",1)\n",
    "end"
   ]
  },
  {
   "cell_type": "code",
   "execution_count": 1,
   "metadata": {},
   "outputs": [
    {
     "name": "stderr",
     "output_type": "stream",
     "text": [
      "┌ Info: Recompiling stale cache file /home/peltzer/.julia/compiled/v1.0/CRCBS/26Ksw.ji for CRCBS [edef75b8-3ac4-11e9-0392-bf149c536ee3]\n",
      "└ @ Base loading.jl:1190\n",
      "┌ Warning: Package CRCBS does not have JLD in its dependencies:\n",
      "│ - If you have CRCBS checked out for development and have\n",
      "│   added JLD as a dependency but haven't updated your primary\n",
      "│   environment's manifest file, try `Pkg.resolve()`.\n",
      "│ - Otherwise you may need to report an issue with CRCBS\n",
      "└ Loading JLD into CRCBS from project dependency, future warnings for CRCBS are suppressed.\n",
      "WARNING: Method definition get_dist_matrix(LightGraphs.AbstractGraph{T} where T) in module CRCBS at /home/peltzer/.julia/dev/CRCBS/src/utils.jl:10 overwritten at /home/peltzer/.julia/dev/CRCBS/src/utils.jl:10.\n",
      "┌ Warning: Replacing docs for `CRCBS.get_dist_matrix :: Tuple{LightGraphs.AbstractGraph}` in module `CRCBS`\n",
      "└ @ Base.Docs docs/Docs.jl:223\n",
      "WARNING: Method definition pad_matrix(Array{T, 2}, Tuple{Int64, Int64}, T) where {T} in module CRCBS at /home/peltzer/.julia/dev/CRCBS/src/utils.jl:21 overwritten at /home/peltzer/.julia/dev/CRCBS/src/utils.jl:21.\n",
      "┌ Warning: Replacing docs for `CRCBS.pad_matrix :: Union{Tuple{T}, Tuple{Array{T,2},Tuple{Int64,Int64},T}} where T` in module `CRCBS`\n",
      "└ @ Base.Docs docs/Docs.jl:223\n",
      "WARNING: Method definition sample_wo_repl(Any, Any) in module CRCBS at /home/peltzer/.julia/dev/CRCBS/src/utils.jl:123 overwritten at /home/peltzer/.julia/dev/CRCBS/src/utils.jl:123.\n"
     ]
    }
   ],
   "source": [
    "using CRCBS"
   ]
  },
  {
   "cell_type": "code",
   "execution_count": 2,
   "metadata": {},
   "outputs": [
    {
     "name": "stdout",
     "output_type": "stream",
     "text": [
      "Started \n",
      "Check1 \n",
      "Check2 \n",
      "\n",
      " \n",
      "Trying to get the most likely conflict from solution: \n",
      "Array{LightGraphs.SimpleGraphs.SimpleEdge,1}[[Edge 37 => 48, Edge 48 => 59, Edge 59 => 58, Edge 58 => 69, Edge 69 => 68, Edge 68 => 67, Edge 67 => 78, Edge 78 => 89], [Edge 40 => 51, Edge 51 => 62, Edge 62 => 73, Edge 73 => 84], [Edge 41 => 52, Edge 52 => 63, Edge 63 => 62, Edge 62 => 73]]\n",
      "Optimal Solution Found! Cost = 16\n",
      "\n",
      "LightGraphs.SimpleGraphs.SimpleEdge[Edge 40 => 51, Edge 51 => 62, Edge 62 => 73, Edge 73 => 84]\n",
      "Base.Iterators.Flatten{Array{LightGraphs.SimpleGraphs.SimpleEdge,1}}\n"
     ]
    },
    {
     "ename": "MethodError",
     "evalue": "MethodError: no method matching iterate(::LightGraphs.SimpleGraphs.SimpleEdge{Int64})\nClosest candidates are:\n  iterate(!Matched::Core.SimpleVector) at essentials.jl:589\n  iterate(!Matched::Core.SimpleVector, !Matched::Any) at essentials.jl:589\n  iterate(!Matched::ExponentialBackOff) at error.jl:171\n  ...",
     "output_type": "error",
     "traceback": [
      "MethodError: no method matching iterate(::LightGraphs.SimpleGraphs.SimpleEdge{Int64})\nClosest candidates are:\n  iterate(!Matched::Core.SimpleVector) at essentials.jl:589\n  iterate(!Matched::Core.SimpleVector, !Matched::Any) at essentials.jl:589\n  iterate(!Matched::ExponentialBackOff) at error.jl:171\n  ...",
      "",
      "Stacktrace:",
      " [1] iterate at ./iterators.jl:909 [inlined]",
      " [2] iterate at ./iterators.jl:903 [inlined]",
      " [3] _collect(::UnitRange{Int64}, ::Base.Iterators.Flatten{Array{LightGraphs.SimpleGraphs.SimpleEdge,1}}, ::Base.HasEltype, ::Base.SizeUnknown) at ./array.jl:568",
      " [4] collect(::Base.Iterators.Flatten{Array{LightGraphs.SimpleGraphs.SimpleEdge,1}}) at ./array.jl:557",
      " [5] get_conflict_stats(::MAPF{MetaGraphs.MetaDiGraph{Int64,Float64}}, ::Array{Array{LightGraphs.SimpleGraphs.SimpleEdge,1},1}, ::Array{Array{Float64,3},1}, ::Int64) at /home/peltzer/.julia/dev/CRCBS/src/simulations.jl:172",
      " [6] run_experiment_set_CRCBS(::String, ::Tuple{Int64,Int64}, ::Tuple{Int64}, ::Tuple{Int64}, ::Tuple{Float64}, ::Float64, ::Float64, ::Float64, ::Int64, ::Int64) at /home/peltzer/.julia/dev/CRCBS/src/simulations.jl:349",
      " [7] top-level scope at In[2]:11"
     ]
    }
   ],
   "source": [
    "name = \"First_test\"\n",
    "num_agents = (3,4)\n",
    "grid_x = tuple(10)\n",
    "grid_y = tuple(10)\n",
    "filling_density = tuple(1.0)\n",
    "lambda = 0.5\n",
    "epsilon = 0.1\n",
    "t_delay = 0.5\n",
    "max_num_experiments = 2\n",
    "num_trials = 30\n",
    "\n",
    "run_experiment_set_CRCBS(name,num_agents,grid_x,grid_y,filling_density,lambda,epsilon,t_delay,max_num_experiments,num_trials)"
   ]
  },
  {
   "cell_type": "code",
   "execution_count": null,
   "metadata": {},
   "outputs": [],
   "source": [
    "typeof(DataType)"
   ]
  },
  {
   "cell_type": "code",
   "execution_count": null,
   "metadata": {},
   "outputs": [],
   "source": [
    "myarray = (1,2)\n",
    "eltype(myarray)\n",
    "Array{eltype(myarray)}(5)"
   ]
  },
  {
   "cell_type": "code",
   "execution_count": null,
   "metadata": {},
   "outputs": [],
   "source": [
    "using Random\n",
    "shuffle([(2,4),5])"
   ]
  },
  {
   "cell_type": "code",
   "execution_count": null,
   "metadata": {},
   "outputs": [],
   "source": [
    "using Random\n",
    "typeof(shuffle(collect((1,2,3)))[1:end])"
   ]
  },
  {
   "cell_type": "code",
   "execution_count": 6,
   "metadata": {},
   "outputs": [],
   "source": [
    "using LightGraphs, MetaGraphs\n",
    "#using Iterators\n",
    "\n",
    "v = Vector{Edge}()\n",
    "for k in 1:5\n",
    "    push!(v,Edge(k,k+1))\n",
    "end"
   ]
  },
  {
   "cell_type": "code",
   "execution_count": 11,
   "metadata": {},
   "outputs": [
    {
     "data": {
      "text/plain": [
       "Array{LightGraphs.SimpleGraphs.SimpleEdge,1}"
      ]
     },
     "execution_count": 11,
     "metadata": {},
     "output_type": "execute_result"
    }
   ],
   "source": [
    "typeof(v)"
   ]
  },
  {
   "cell_type": "code",
   "execution_count": 8,
   "metadata": {},
   "outputs": [
    {
     "data": {
      "text/plain": [
       "Int64"
      ]
     },
     "execution_count": 8,
     "metadata": {},
     "output_type": "execute_result"
    }
   ],
   "source": [
    "eltype(MetaGraph())"
   ]
  },
  {
   "cell_type": "code",
   "execution_count": null,
   "metadata": {},
   "outputs": [],
   "source": []
  }
 ],
 "metadata": {
  "kernelspec": {
   "display_name": "Julia 1.0.3",
   "language": "julia",
   "name": "julia-1.0"
  },
  "language_info": {
   "file_extension": ".jl",
   "mimetype": "application/julia",
   "name": "julia",
   "version": "1.0.3"
  }
 },
 "nbformat": 4,
 "nbformat_minor": 2
}
