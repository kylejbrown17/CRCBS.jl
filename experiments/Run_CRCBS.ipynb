{
 "cells": [
  {
   "cell_type": "code",
   "execution_count": null,
   "metadata": {},
   "outputs": [],
   "source": [
    "using CRCBS\n",
    "using LightGraphs, MetaGraphs\n",
    "G = initialize_full_grid_graph_CT()\n",
    "starts = [1,5,8]\n",
    "goals = [4,1,2]\n",
    "lambda = 0.5\n",
    "epsilon = 0.1\n",
    "t_delay = 0.5\n",
    "mapf = MAPF(G,starts,goals,lambda,epsilon,t_delay)"
   ]
  },
  {
   "cell_type": "code",
   "execution_count": null,
   "metadata": {},
   "outputs": [],
   "source": [
    "CTCBS(mapf)"
   ]
  },
  {
   "cell_type": "code",
   "execution_count": null,
   "metadata": {},
   "outputs": [],
   "source": [
    "using JLD\n",
    "jldopen(\"../experiments/5test.jld\",\"w\") do file\n",
    "    addrequire(file,CRCBS)\n",
    "    write(file,\"data\",1)\n",
    "end"
   ]
  },
  {
   "cell_type": "code",
   "execution_count": 1,
   "metadata": {
    "scrolled": true
   },
   "outputs": [
    {
     "name": "stderr",
     "output_type": "stream",
     "text": [
      "┌ Info: Recompiling stale cache file /home/peltzer/.julia/compiled/v1.0/CRCBS/26Ksw.ji for CRCBS [edef75b8-3ac4-11e9-0392-bf149c536ee3]\n",
      "└ @ Base loading.jl:1190\n",
      "┌ Warning: Package CRCBS does not have JLD in its dependencies:\n",
      "│ - If you have CRCBS checked out for development and have\n",
      "│   added JLD as a dependency but haven't updated your primary\n",
      "│   environment's manifest file, try `Pkg.resolve()`.\n",
      "│ - Otherwise you may need to report an issue with CRCBS\n",
      "└ Loading JLD into CRCBS from project dependency, future warnings for CRCBS are suppressed.\n",
      "WARNING: Method definition get_dist_matrix(LightGraphs.AbstractGraph{T} where T) in module CRCBS at /home/peltzer/.julia/dev/CRCBS/src/utils.jl:10 overwritten at /home/peltzer/.julia/dev/CRCBS/src/utils.jl:10.\n",
      "┌ Warning: Replacing docs for `CRCBS.get_dist_matrix :: Tuple{LightGraphs.AbstractGraph}` in module `CRCBS`\n",
      "└ @ Base.Docs docs/Docs.jl:223\n",
      "WARNING: Method definition pad_matrix(Array{T, 2}, Tuple{Int64, Int64}, T) where {T} in module CRCBS at /home/peltzer/.julia/dev/CRCBS/src/utils.jl:21 overwritten at /home/peltzer/.julia/dev/CRCBS/src/utils.jl:21.\n",
      "┌ Warning: Replacing docs for `CRCBS.pad_matrix :: Union{Tuple{T}, Tuple{Array{T,2},Tuple{Int64,Int64},T}} where T` in module `CRCBS`\n",
      "└ @ Base.Docs docs/Docs.jl:223\n",
      "WARNING: Method definition sample_wo_repl(Any, Any) in module CRCBS at /home/peltzer/.julia/dev/CRCBS/src/utils.jl:123 overwritten at /home/peltzer/.julia/dev/CRCBS/src/utils.jl:123.\n"
     ]
    }
   ],
   "source": [
    "using CRCBS\n",
    "using Distributions\n",
    "using HCubature"
   ]
  },
  {
   "cell_type": "code",
   "execution_count": null,
   "metadata": {},
   "outputs": [
    {
     "name": "stdout",
     "output_type": "stream",
     "text": [
      "Started \n",
      "Check1 \n",
      "Check2 \n",
      "ASTAR: 30\n"
     ]
    }
   ],
   "source": [
    "name = \"First_test\"\n",
    "num_agents = (3,2,7,12,18,20,30,50)\n",
    "grid_x = tuple(20,40,10)\n",
    "grid_y = tuple(20,30,50)\n",
    "filling_density = tuple(0.8)\n",
    "lambda = 0.2\n",
    "epsilon = 0.2\n",
    "t_delay = 1.0\n",
    "max_num_experiments = 20\n",
    "num_trials = 2000\n",
    "\n",
    "data = run_experiment_set_CRCBS(name,num_agents,grid_x,grid_y,filling_density,lambda,epsilon,t_delay,max_num_experiments,num_trials)"
   ]
  },
  {
   "cell_type": "code",
   "execution_count": null,
   "metadata": {},
   "outputs": [],
   "source": [
    "using CRCBS\n",
    "using Distributions\n",
    "using HCubature\n",
    "\n",
    "name = \"Convergence_test\"\n",
    "num_agents = (3,8,10)\n",
    "grid_x = tuple(10)\n",
    "grid_y = tuple(10)\n",
    "filling_density = tuple(0.8)\n",
    "lambda = 0.2\n",
    "epsilon = 0.9\n",
    "t_delay = 0.5\n",
    "max_num_experiments = 3\n",
    "num_trials = 1000\n",
    "\n",
    "data2 = run_convergence_tests_CRCBS(name,num_agents,grid_x,grid_y,filling_density,lambda,epsilon,t_delay,max_num_experiments,num_trials)"
   ]
  },
  {
   "cell_type": "code",
   "execution_count": null,
   "metadata": {
    "scrolled": true
   },
   "outputs": [],
   "source": [
    "exp_set.data[2].solving_time"
   ]
  },
  {
   "cell_type": "code",
   "execution_count": null,
   "metadata": {},
   "outputs": [],
   "source": [
    "save_experiment_set(exp_set)"
   ]
  },
  {
   "cell_type": "code",
   "execution_count": null,
   "metadata": {},
   "outputs": [],
   "source": [
    "n1 = 17.0\n",
    "t1 = 17.0\n",
    "n2 = 17.0\n",
    "t2 = 17.0\n",
    "nn = 1.0\n",
    "lambda = 0.2\n",
    "y = 0.0\n",
    "t = 400.0"
   ]
  },
  {
   "cell_type": "code",
   "execution_count": null,
   "metadata": {},
   "outputs": [],
   "source": [
    "get_collision_probability_node2(n1,t1,n2,t2,nn,lambda)"
   ]
  },
  {
   "cell_type": "code",
   "execution_count": null,
   "metadata": {
    "scrolled": true
   },
   "outputs": [],
   "source": [
    "(1-cdf(Gamma(nn,lambda),abs(t2-t1+y)))"
   ]
  },
  {
   "cell_type": "code",
   "execution_count": null,
   "metadata": {},
   "outputs": [],
   "source": [
    "pdf(Gamma(n1,lambda), t+y)"
   ]
  },
  {
   "cell_type": "code",
   "execution_count": null,
   "metadata": {},
   "outputs": [],
   "source": [
    "using HCubature\n",
    "function get_collision_probability_node2(n1,t1,n2,t2,nn,lambda)\n",
    "\n",
    "    function f(x)\n",
    "        y = x[1]\n",
    "        t = x[2]\n",
    "        density = (1-cdf(Gamma(nn,lambda),abs(t2-t1+y))) * pdf(Gamma(n1,lambda), t) * pdf(Gamma(n2,lambda),t-y)\n",
    "        return density\n",
    "    end\n",
    "\n",
    "    function g(x)\n",
    "        y = x[1]\n",
    "        t = x[2]\n",
    "        density = (1-cdf(Gamma(nn,lambda),abs(t2-t1+y))) * pdf(Gamma(n1,lambda), t+y) * pdf(Gamma(n2,lambda),t)\n",
    "        return density\n",
    "    end\n",
    "    \n",
    "    function h(x)\n",
    "        y = x[1]\n",
    "        t = x[2]\n",
    "        density = (1-cdf(Gamma(nn,lambda),abs(t2-t1-y))) * pdf(Gamma(n1,lambda), t) * pdf(Gamma(n2,lambda),t-y)\n",
    "        return density\n",
    "    end\n",
    "\n",
    "    a = [-100.0;0.0]\n",
    "    b = [0.0,100.0]\n",
    "    m = [0.0;0.0]\n",
    "    n = [100.0,100.0]\n",
    "    \n",
    "    bound = max(t1+n1,t2+n2)*lambda + 30.0\n",
    "    #bound = 20.0 \n",
    "    \n",
    "    o = bound.*[-1.0,-1.0]\n",
    "    p = bound.*[1.0,1.0]\n",
    "    # C1,err1 = hcubature(f,a,b,maxevals=10^7)\n",
    "    # C2,err2 = hcubature(g,m,n,maxevals=10^7)\n",
    "    # C = C1 + C2\n",
    "    # err = err1 + err2\n",
    "    C, err = hcubature(h,o,p,maxevals=10^8)\n",
    "    #C, err = hcubature(h,o,p,rtol = 10^(-3))\n",
    "\n",
    "    return C, err\n",
    "end"
   ]
  },
  {
   "cell_type": "code",
   "execution_count": null,
   "metadata": {},
   "outputs": [],
   "source": [
    "using Distributions\n",
    "function count_conflicts(n1,t1,n2,t2,nn,lambda,num_particles)\n",
    "    EA1 = rand(Gamma(n1,lambda),num_particles)\n",
    "    EA2 = rand(Gamma(n2,lambda),num_particles)\n",
    "    ed1 = rand(Gamma(nn,lambda),num_particles)\n",
    "    ed2 = rand(Gamma(nn,lambda),num_particles)\n",
    "    \n",
    "    r1_arrivals = t1 .+ EA1\n",
    "    r1_departures = r1_arrivals + ed1\n",
    "    r2_arrivals = t2 .+ EA2\n",
    "    r2_departures = r2_arrivals + ed2\n",
    "    \n",
    "    num_conflicts =length(findall(((r2_departures-r1_arrivals).>0) .& ((r1_departures-r2_arrivals).>0)   ))\n",
    "    \n",
    "    return num_conflicts/num_particles\n",
    "end"
   ]
  },
  {
   "cell_type": "code",
   "execution_count": null,
   "metadata": {
    "scrolled": false
   },
   "outputs": [],
   "source": [
    "n1 = rand(1:50)\n",
    "t1 = rand()*50\n",
    "n2 = rand(1:50)\n",
    "t2 = rand()*50\n",
    "nn = rand(1:5)\n",
    "lambda = rand()\n",
    "print(\"n1: \", n1, \" t1: \", t1, \" n2: \", n2, \" t2: \", t2, \" nn: \", nn, \" lambda: \", lambda)\n",
    "sleep(1)\n",
    "theoretical_cp = get_collision_probability_node2(n1,t1,n2,t2,nn,lambda)\n",
    "count_conflicts(n1,t1,n2,t2,nn,lambda,10000)"
   ]
  },
  {
   "cell_type": "code",
   "execution_count": null,
   "metadata": {},
   "outputs": [],
   "source": [
    "theoretical_cp"
   ]
  },
  {
   "cell_type": "code",
   "execution_count": null,
   "metadata": {},
   "outputs": [],
   "source": [
    "get_collision_probability_node2(n1,t1,n2,t2,nn,lambda)"
   ]
  },
  {
   "cell_type": "code",
   "execution_count": null,
   "metadata": {},
   "outputs": [],
   "source": [
    "get_collision_probability_node2(n1,t1,n2,t2,nn,lambda)"
   ]
  },
  {
   "cell_type": "code",
   "execution_count": null,
   "metadata": {},
   "outputs": [],
   "source": [
    "n1= 55\n",
    "t1= 6.7\n",
    "n2= 13 \n",
    "t2= 13.23\n",
    "nn= 46\n",
    "lambda= 0.08\n",
    "theoretical_cp = get_collision_probability_node2(n1,t1,n2,t2,nn,lambda)\n",
    "experimental_cp = count_conflicts(n1,t1,n2,t2,nn,lambda,2000000)"
   ]
  },
  {
   "cell_type": "code",
   "execution_count": null,
   "metadata": {},
   "outputs": [],
   "source": [
    "using DataFrames\n",
    "using Statistics\n",
    "using Plots\n",
    "df = DataFrame(num_particles=Int64[],cp=Float64[],experimental_cp=Float64[],etas=Float64[])\n",
    "x_list = [1,2,5,10,20,50,100,200,500,1000,2000,5000,10000,20000,50000,100000]\n",
    "max_attempts = 10000\n",
    "# Defining global variables\n",
    "n1 = 0\n",
    "n2 = 0\n",
    "t1 = 0\n",
    "t2 = 0\n",
    "nn = 0\n",
    "lambda = 0\n",
    "for k in 1:200\n",
    "    #println(\"Next k\")\n",
    "    theoretical_cp = 0.0\n",
    "    attempts = 0\n",
    "    while theoretical_cp < 0.01 && attempts < max_attempts\n",
    "        n1 = rand(1:20)\n",
    "        t1 = rand()*20\n",
    "        n2 = rand(1:20)\n",
    "        t2 = rand()*20\n",
    "        nn = rand(1:5)\n",
    "        lambda = rand()\n",
    "        theoretical_cp = get_collision_probability_node2(n1,t1,n2,t2,nn,lambda)[1]\n",
    "        attempts += 1\n",
    "    end\n",
    "    for x in x_list\n",
    "        experimental_cp = count_conflicts(n1,t1,n2,t2,nn,lambda,x)\n",
    "        ecart_relatif = abs(experimental_cp-theoretical_cp)/theoretical_cp\n",
    "        if abs(ecart_relatif) > 0.5 && x > 2000\n",
    "            println(\"Exception case occured! Returned something really wrong.\")\n",
    "            println(\"n1: \", n1, \" t1: \", t1, \" n2: \", n2, \" t2: \", t2, \" nn: \", nn, \" lambda: \", lambda)\n",
    "        end\n",
    "        push!(df,[x,theoretical_cp,experimental_cp,ecart_relatif])\n",
    "    end\n",
    "end\n",
    "\n",
    "ys = []\n",
    "stds = []\n",
    "for x in x_list\n",
    "    indexes = findall((df[1].==x) .& (df[2] .> 0.01) .& (df[2] .< 1.0) .& (df[3] .> 0.01))\n",
    "    values = df[4][indexes]\n",
    "    y = mean(values)\n",
    "    stdv = std(values)\n",
    "    append!(ys,y)\n",
    "    append!(stds,stdv)\n",
    "end\n",
    "\n",
    "plot(x_list,ys,yerror=stds,xscale = :log10)"
   ]
  },
  {
   "cell_type": "code",
   "execution_count": null,
   "metadata": {},
   "outputs": [],
   "source": [
    "plot(x_list,ys,yerror=stds,xscale = :log10,xlabel=\"Number of particles per simulation\", ylabel=\"Relative error\")"
   ]
  },
  {
   "cell_type": "code",
   "execution_count": null,
   "metadata": {
    "scrolled": true
   },
   "outputs": [],
   "source": [
    "df[4]"
   ]
  },
  {
   "cell_type": "code",
   "execution_count": null,
   "metadata": {},
   "outputs": [],
   "source": [
    "df[4]"
   ]
  },
  {
   "cell_type": "code",
   "execution_count": null,
   "metadata": {},
   "outputs": [],
   "source": [
    "indexes = findall(df[1].==1)\n",
    "df[1][indexes]"
   ]
  },
  {
   "cell_type": "code",
   "execution_count": null,
   "metadata": {},
   "outputs": [],
   "source": [
    "using Random\n",
    "typeof(shuffle(collect((1,2,3)))[1:end])"
   ]
  },
  {
   "cell_type": "code",
   "execution_count": null,
   "metadata": {},
   "outputs": [],
   "source": [
    "using LightGraphs, MetaGraphs\n",
    "#using Iterators\n",
    "\n",
    "v = Vector{Edge}()\n",
    "for k in 1:5\n",
    "    push!(v,Edge(k,k+1))\n",
    "end"
   ]
  },
  {
   "cell_type": "code",
   "execution_count": null,
   "metadata": {},
   "outputs": [],
   "source": [
    "typeof(v)"
   ]
  },
  {
   "cell_type": "code",
   "execution_count": null,
   "metadata": {},
   "outputs": [],
   "source": [
    "eltype(MetaGraph())"
   ]
  },
  {
   "cell_type": "code",
   "execution_count": null,
   "metadata": {},
   "outputs": [],
   "source": [
    "using JLD\n",
    "save_experiment_set(exp_set)"
   ]
  },
  {
   "cell_type": "code",
   "execution_count": null,
   "metadata": {},
   "outputs": [],
   "source": [
    "plot_SVtime_vs_nrobots([\"results/003Experiment_Set_001.jld\"])"
   ]
  },
  {
   "cell_type": "code",
   "execution_count": null,
   "metadata": {},
   "outputs": [],
   "source": [
    "using JLD\n",
    "exp_s = load(\"results/001Experiment_Set_001.jld\")"
   ]
  },
  {
   "cell_type": "code",
   "execution_count": null,
   "metadata": {},
   "outputs": [],
   "source": [
    "data = Vector{}()"
   ]
  },
  {
   "cell_type": "code",
   "execution_count": null,
   "metadata": {},
   "outputs": [],
   "source": [
    "using Pkg\n",
    "Pkg.add(\"DataFrames\")"
   ]
  },
  {
   "cell_type": "code",
   "execution_count": null,
   "metadata": {},
   "outputs": [],
   "source": [
    "using DataFrames\n",
    "thing = DataFrame(A=String[])"
   ]
  },
  {
   "cell_type": "code",
   "execution_count": null,
   "metadata": {},
   "outputs": [],
   "source": [
    "myvector = Vector{}([1.0,2.0])\n",
    "mytuple = (1,2,3)"
   ]
  },
  {
   "cell_type": "code",
   "execution_count": null,
   "metadata": {},
   "outputs": [],
   "source": [
    "thing = DataFrame(a=String[],b=Vector{Float64}[],c = Tuple{Float64,Float64}[])"
   ]
  },
  {
   "cell_type": "code",
   "execution_count": null,
   "metadata": {},
   "outputs": [],
   "source": [
    "push!(thing, [\"M\", myvector,(1.0,3.0)])"
   ]
  },
  {
   "cell_type": "code",
   "execution_count": null,
   "metadata": {},
   "outputs": [],
   "source": [
    "string(name,\"1\")"
   ]
  },
  {
   "cell_type": "code",
   "execution_count": null,
   "metadata": {},
   "outputs": [],
   "source": [
    "string('i',string(1))"
   ]
  },
  {
   "cell_type": "code",
   "execution_count": null,
   "metadata": {},
   "outputs": [],
   "source": [
    "string(1)"
   ]
  },
  {
   "cell_type": "code",
   "execution_count": null,
   "metadata": {},
   "outputs": [],
   "source": [
    "using LightGraphs, MetaGraphs"
   ]
  },
  {
   "cell_type": "code",
   "execution_count": null,
   "metadata": {},
   "outputs": [],
   "source": [
    "rand()"
   ]
  },
  {
   "cell_type": "code",
   "execution_count": null,
   "metadata": {},
   "outputs": [],
   "source": [
    "elt = [v for v in vertices(g)]"
   ]
  },
  {
   "cell_type": "code",
   "execution_count": null,
   "metadata": {},
   "outputs": [],
   "source": [
    "function dostuff!(a,b,c=0)\n",
    "    a[1] = 5\n",
    "    b[1] = 2\n",
    "    c = c+5\n",
    "end"
   ]
  },
  {
   "cell_type": "code",
   "execution_count": null,
   "metadata": {},
   "outputs": [],
   "source": [
    "a = [1,2]\n",
    "b = [-4]\n",
    "c = 13\n",
    "dostuff!(a,b,c)\n",
    "println(a)\n",
    "println(b)\n",
    "println(c)"
   ]
  },
  {
   "cell_type": "code",
   "execution_count": 4,
   "metadata": {},
   "outputs": [],
   "source": [
    "using CSV\n",
    "using DataFrames"
   ]
  },
  {
   "cell_type": "code",
   "execution_count": 5,
   "metadata": {},
   "outputs": [
    {
     "data": {
      "text/plain": [
       "\"5test.csv\""
      ]
     },
     "execution_count": 5,
     "metadata": {},
     "output_type": "execute_result"
    }
   ],
   "source": [
    "CSV.write(\"5test.csv\",data)"
   ]
  },
  {
   "cell_type": "code",
   "execution_count": 7,
   "metadata": {},
   "outputs": [
    {
     "data": {
      "text/html": [
       "<table class=\"data-frame\"><thead><tr><th></th><th>name</th><th>Id</th><th>CBS</th><th>success</th><th>lambda</th><th>epsilon</th><th>t_delay</th><th>num_trials</th><th>num_agents</th><th>cbs_time_steps</th><th>num_nodes</th><th>num_edges</th><th>solving_time</th><th>counting_time</th><th>time_spent_on_astar</th><th>num_interactions</th><th>solution_cost</th><th>global_cp</th><th>conflict_counts_locally</th><th>probability_error</th></tr><tr><th></th><th>String⍰</th><th>Int64⍰</th><th>Bool⍰</th><th>Bool⍰</th><th>Float64⍰</th><th>Float64⍰</th><th>Float64⍰</th><th>Int64⍰</th><th>Int64⍰</th><th>Int64⍰</th><th>Int64⍰</th><th>Int64⍰</th><th>Float64⍰</th><th>Float64⍰</th><th>Float64⍰</th><th>Int64⍰</th><th>Float64⍰</th><th>Float64⍰</th><th>String⍰</th><th>String⍰</th></tr></thead><tbody><p>5 rows × 20 columns</p><tr><th>1</th><td>First_test_1</td><td>1</td><td>false</td><td>true</td><td>0.2</td><td>0.2</td><td>0.5</td><td>1000</td><td>7</td><td>-1</td><td>276</td><td>418</td><td>369.652</td><td>1.56981</td><td>364.687</td><td>108</td><td>128.0</td><td>0.0149242</td><td>[7.0, 2.0, 4.0, 2.0]</td><td>(0.016265749622401394, 0.030108580273874024)</td></tr><tr><th>2</th><td>First_test_2</td><td>2</td><td>false</td><td>true</td><td>0.2</td><td>0.2</td><td>0.5</td><td>1000</td><td>3</td><td>-1</td><td>679</td><td>1029</td><td>1.35442</td><td>0.0</td><td>1.23368</td><td>0</td><td>50.0</td><td>0.0</td><td>Float64[]</td><td>(NaN, NaN)</td></tr><tr><th>3</th><td>First_test_3</td><td>3</td><td>false</td><td>true</td><td>0.2</td><td>0.2</td><td>0.5</td><td>1000</td><td>2</td><td>-1</td><td>514</td><td>781</td><td>2.31963</td><td>0.00296402</td><td>2.19876</td><td>1</td><td>37.0</td><td>0.0</td><td>Float64[]</td><td>(NaN, NaN)</td></tr><tr><th>4</th><td>First_test_4</td><td>4</td><td>false</td><td>true</td><td>0.2</td><td>0.2</td><td>0.5</td><td>1000</td><td>7</td><td>-1</td><td>521</td><td>797</td><td>1756.28</td><td>0.0160569</td><td>1756.14</td><td>14</td><td>129.0</td><td>0.0</td><td>Float64[]</td><td>(NaN, NaN)</td></tr><tr><th>5</th><td>First_test_5</td><td>5</td><td>false</td><td>true</td><td>0.2</td><td>0.2</td><td>0.5</td><td>1000</td><td>2</td><td>-1</td><td>272</td><td>408</td><td>2.5496</td><td>0.0</td><td>2.43308</td><td>0</td><td>40.0</td><td>0.0</td><td>Float64[]</td><td>(NaN, NaN)</td></tr></tbody></table>"
      ],
      "text/latex": [
       "\\begin{tabular}{r|cccccccccccccccccccc}\n",
       "\t& name & Id & CBS & success & lambda & epsilon & t\\_delay & num\\_trials & num\\_agents & cbs\\_time\\_steps & num\\_nodes & num\\_edges & solving\\_time & counting\\_time & time\\_spent\\_on\\_astar & num\\_interactions & solution\\_cost & global\\_cp & conflict\\_counts\\_locally & probability\\_error\\\\\n",
       "\t\\hline\n",
       "\t& String⍰ & Int64⍰ & Bool⍰ & Bool⍰ & Float64⍰ & Float64⍰ & Float64⍰ & Int64⍰ & Int64⍰ & Int64⍰ & Int64⍰ & Int64⍰ & Float64⍰ & Float64⍰ & Float64⍰ & Int64⍰ & Float64⍰ & Float64⍰ & String⍰ & String⍰\\\\\n",
       "\t\\hline\n",
       "\t1 & First\\_test\\_1 & 1 & false & true & 0.2 & 0.2 & 0.5 & 1000 & 7 & -1 & 276 & 418 & 369.652 & 1.56981 & 364.687 & 108 & 128.0 & 0.0149242 & [7.0, 2.0, 4.0, 2.0] & (0.016265749622401394, 0.030108580273874024) \\\\\n",
       "\t2 & First\\_test\\_2 & 2 & false & true & 0.2 & 0.2 & 0.5 & 1000 & 3 & -1 & 679 & 1029 & 1.35442 & 0.0 & 1.23368 & 0 & 50.0 & 0.0 & Float64[] & (NaN, NaN) \\\\\n",
       "\t3 & First\\_test\\_3 & 3 & false & true & 0.2 & 0.2 & 0.5 & 1000 & 2 & -1 & 514 & 781 & 2.31963 & 0.00296402 & 2.19876 & 1 & 37.0 & 0.0 & Float64[] & (NaN, NaN) \\\\\n",
       "\t4 & First\\_test\\_4 & 4 & false & true & 0.2 & 0.2 & 0.5 & 1000 & 7 & -1 & 521 & 797 & 1756.28 & 0.0160569 & 1756.14 & 14 & 129.0 & 0.0 & Float64[] & (NaN, NaN) \\\\\n",
       "\t5 & First\\_test\\_5 & 5 & false & true & 0.2 & 0.2 & 0.5 & 1000 & 2 & -1 & 272 & 408 & 2.5496 & 0.0 & 2.43308 & 0 & 40.0 & 0.0 & Float64[] & (NaN, NaN) \\\\\n",
       "\\end{tabular}\n"
      ],
      "text/plain": [
       "5×20 DataFrame. Omitted printing of 14 columns\n",
       "│ Row │ name         │ Id     │ CBS   │ success │ lambda   │ epsilon  │\n",
       "│     │ \u001b[90mString⍰\u001b[39m      │ \u001b[90mInt64⍰\u001b[39m │ \u001b[90mBool⍰\u001b[39m │ \u001b[90mBool⍰\u001b[39m   │ \u001b[90mFloat64⍰\u001b[39m │ \u001b[90mFloat64⍰\u001b[39m │\n",
       "├─────┼──────────────┼────────┼───────┼─────────┼──────────┼──────────┤\n",
       "│ 1   │ First_test_1 │ 1      │ false │ true    │ 0.2      │ 0.2      │\n",
       "│ 2   │ First_test_2 │ 2      │ false │ true    │ 0.2      │ 0.2      │\n",
       "│ 3   │ First_test_3 │ 3      │ false │ true    │ 0.2      │ 0.2      │\n",
       "│ 4   │ First_test_4 │ 4      │ false │ true    │ 0.2      │ 0.2      │\n",
       "│ 5   │ First_test_5 │ 5      │ false │ true    │ 0.2      │ 0.2      │"
      ]
     },
     "execution_count": 7,
     "metadata": {},
     "output_type": "execute_result"
    }
   ],
   "source": [
    "retrieved_data = DataFrame(CSV.File(\"5test.csv\"))"
   ]
  },
  {
   "cell_type": "code",
   "execution_count": 8,
   "metadata": {},
   "outputs": [
    {
     "data": {
      "text/plain": [
       "\"(0.016265749622401394, 0.030108580273874024)\""
      ]
     },
     "execution_count": 8,
     "metadata": {},
     "output_type": "execute_result"
    }
   ],
   "source": [
    "mylist = retrieved_data.probability_error[1]"
   ]
  },
  {
   "cell_type": "code",
   "execution_count": 9,
   "metadata": {},
   "outputs": [
    {
     "data": {
      "text/plain": [
       "2-element Array{Float64,1}:\n",
       " 0.016265749622401394\n",
       " 0.030108580273874024"
      ]
     },
     "execution_count": 9,
     "metadata": {},
     "output_type": "execute_result"
    }
   ],
   "source": [
    "[parse(Float64, ss[1:end-1]) for ss in split(mylist[2:end])]"
   ]
  },
  {
   "cell_type": "code",
   "execution_count": null,
   "metadata": {},
   "outputs": [],
   "source": [
    "num_trials = 100000\n",
    "range(1,stop=num_trials,length=10)"
   ]
  },
  {
   "cell_type": "code",
   "execution_count": null,
   "metadata": {},
   "outputs": [],
   "source": [
    "maximum(data2[1])"
   ]
  },
  {
   "cell_type": "code",
   "execution_count": null,
   "metadata": {},
   "outputs": [],
   "source": [
    "idxs = findall(data2[2].==0.0)"
   ]
  },
  {
   "cell_type": "code",
   "execution_count": null,
   "metadata": {},
   "outputs": [],
   "source": [
    "max(1,2)"
   ]
  },
  {
   "cell_type": "code",
   "execution_count": null,
   "metadata": {},
   "outputs": [],
   "source": [
    "data2[2][idxs]"
   ]
  },
  {
   "cell_type": "code",
   "execution_count": null,
   "metadata": {},
   "outputs": [],
   "source": []
  }
 ],
 "metadata": {
  "kernelspec": {
   "display_name": "Julia 1.0.3",
   "language": "julia",
   "name": "julia-1.0"
  },
  "language_info": {
   "file_extension": ".jl",
   "mimetype": "application/julia",
   "name": "julia",
   "version": "1.0.3"
  }
 },
 "nbformat": 4,
 "nbformat_minor": 2
}
