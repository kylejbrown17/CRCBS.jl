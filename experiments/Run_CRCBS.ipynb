{
 "cells": [
  {
   "cell_type": "code",
   "execution_count": 1,
   "metadata": {},
   "outputs": [
    {
     "name": "stderr",
     "output_type": "stream",
     "text": [
      "┌ Info: Recompiling stale cache file /home/peltzer/.julia/compiled/v1.0/CRCBS/26Ksw.ji for CRCBS [edef75b8-3ac4-11e9-0392-bf149c536ee3]\n",
      "└ @ Base loading.jl:1190\n",
      "WARNING: Method definition get_dist_matrix(LightGraphs.AbstractGraph{T} where T) in module CRCBS at /home/peltzer/.julia/dev/CRCBS/src/utils.jl:11 overwritten at /home/peltzer/.julia/dev/CRCBS/src/utils.jl:11.\n",
      "┌ Warning: Replacing docs for `CRCBS.get_dist_matrix :: Tuple{LightGraphs.AbstractGraph}` in module `CRCBS`\n",
      "└ @ Base.Docs docs/Docs.jl:223\n",
      "WARNING: Method definition pad_matrix(Array{T, 2}, Tuple{Int64, Int64}, T) where {T} in module CRCBS at /home/peltzer/.julia/dev/CRCBS/src/utils.jl:22 overwritten at /home/peltzer/.julia/dev/CRCBS/src/utils.jl:22.\n",
      "┌ Warning: Replacing docs for `CRCBS.pad_matrix :: Union{Tuple{T}, Tuple{Array{T,2},Tuple{Int64,Int64},T}} where T` in module `CRCBS`\n",
      "└ @ Base.Docs docs/Docs.jl:223\n",
      "WARNING: Method definition initialize_full_grid_graph() in module CRCBS at /home/peltzer/.julia/dev/CRCBS/src/utils.jl:37 overwritten at /home/peltzer/.julia/dev/CRCBS/src/utils.jl:37.\n",
      "┌ Warning: Replacing docs for `CRCBS.initialize_full_grid_graph :: Tuple{}` in module `CRCBS`\n",
      "└ @ Base.Docs docs/Docs.jl:223\n",
      "WARNING: Method definition initialize_regular_grid_graph() in module CRCBS at /home/peltzer/.julia/dev/CRCBS/src/utils.jl:81 overwritten at /home/peltzer/.julia/dev/CRCBS/src/utils.jl:81.\n",
      "WARNING: Method definition #initialize_regular_grid_graph(Any, typeof(CRCBS.initialize_regular_grid_graph)) in module CRCBS overwritten.\n",
      "┌ Warning: Replacing docs for `CRCBS.initialize_regular_grid_graph :: Tuple{}` in module `CRCBS`\n",
      "└ @ Base.Docs docs/Docs.jl:223\n",
      "WARNING: Method definition initialize_full_grid_graph() in module CRCBS at /home/peltzer/.julia/dev/CRCBS/src/utils.jl:37 overwritten at /home/peltzer/.julia/dev/CRCBS/src/CT_graph.jl:15.\n"
     ]
    },
    {
     "ename": "MethodError",
     "evalue": "MethodError: no method matching setindex!(::Tuple{Int64,Float64,Int64}, ::Tuple{Float64,Float64}, ::Int64)",
     "output_type": "error",
     "traceback": [
      "MethodError: no method matching setindex!(::Tuple{Int64,Float64,Int64}, ::Tuple{Float64,Float64}, ::Int64)",
      "",
      "Stacktrace:",
      " [1] fill_graph_with_path(::Int64, ::Array{LightGraphs.SimpleGraphs.SimpleEdge,1}, ::MAPF{MetaGraph{Int64,Float64}}) at /home/peltzer/.julia/dev/CRCBS/src/CRCBS.jl:445",
      " [2] get_most_likely_conflicts(::MAPF{MetaGraph{Int64,Float64}}, ::Array{Array{LightGraphs.SimpleGraphs.SimpleEdge,1},1}) at /home/peltzer/.julia/dev/CRCBS/src/CRCBS.jl:478",
      " [3] CTCBS(::MAPF{MetaGraph{Int64,Float64}}, ::Function) at /home/peltzer/.julia/dev/CRCBS/src/CRCBS.jl:718",
      " [4] CTCBS(::MAPF{MetaGraph{Int64,Float64}}) at /home/peltzer/.julia/dev/CRCBS/src/CRCBS.jl:707",
      " [5] top-level scope at In[1]:10"
     ]
    }
   ],
   "source": [
    "using CRCBS\n",
    "using LightGraphs, MetaGraphs\n",
    "G = initialize_full_grid_graph_CT()\n",
    "starts = [1,5,8]\n",
    "goals = [4,1,2]\n",
    "lambda = 1.0\n",
    "epsilon = 0.1\n",
    "t_delay = 0.5\n",
    "mapf = MAPF(G,starts,goals,lambda,epsilon,t_delay)\n",
    "CTCBS(mapf)"
   ]
  },
  {
   "cell_type": "code",
   "execution_count": null,
   "metadata": {},
   "outputs": [],
   "source": []
  },
  {
   "cell_type": "code",
   "execution_count": null,
   "metadata": {},
   "outputs": [],
   "source": [
    "CBS(mapf)"
   ]
  },
  {
   "cell_type": "code",
   "execution_count": null,
   "metadata": {},
   "outputs": [],
   "source": [
    "using MetaGraphs\n",
    "e = Edge(1,2)"
   ]
  },
  {
   "cell_type": "code",
   "execution_count": null,
   "metadata": {},
   "outputs": [],
   "source": []
  },
  {
   "cell_type": "code",
   "execution_count": null,
   "metadata": {},
   "outputs": [],
   "source": []
  }
 ],
 "metadata": {
  "kernelspec": {
   "display_name": "Julia 1.0.3",
   "language": "julia",
   "name": "julia-1.0"
  },
  "language_info": {
   "file_extension": ".jl",
   "mimetype": "application/julia",
   "name": "julia",
   "version": "1.0.3"
  }
 },
 "nbformat": 4,
 "nbformat_minor": 2
}
