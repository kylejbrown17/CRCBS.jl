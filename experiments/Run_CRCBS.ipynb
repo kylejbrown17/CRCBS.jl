{
 "cells": [
  {
   "cell_type": "code",
   "execution_count": null,
   "metadata": {},
   "outputs": [],
   "source": [
    "using CRCBS\n",
    "using LightGraphs, MetaGraphs\n",
    "G = initialize_full_grid_graph_CT()\n",
    "starts = [1,5,8,12]\n",
    "goals = [4,1,2,25]\n",
    "lambda = 0.5\n",
    "epsilon = 0.1\n",
    "t_delay = 0.5\n",
    "mapf = MAPF(G,starts,goals,lambda,epsilon,t_delay)"
   ]
  },
  {
   "cell_type": "code",
   "execution_count": null,
   "metadata": {},
   "outputs": [],
   "source": [
    "CTCBS(mapf)"
   ]
  },
  {
   "cell_type": "code",
   "execution_count": null,
   "metadata": {},
   "outputs": [],
   "source": [
    "using JLD\n",
    "jldopen(\"../experiments/5test.jld\",\"w\") do file\n",
    "    addrequire(file,CRCBS)\n",
    "    write(file,\"data\",1)\n",
    "end"
   ]
  },
  {
   "cell_type": "code",
   "execution_count": 1,
   "metadata": {
    "scrolled": true
   },
   "outputs": [
    {
     "name": "stderr",
     "output_type": "stream",
     "text": [
      "┌ Info: Recompiling stale cache file /home/peltzer/.julia/compiled/v1.0/CRCBS/26Ksw.ji for CRCBS [edef75b8-3ac4-11e9-0392-bf149c536ee3]\n",
      "└ @ Base loading.jl:1190\n",
      "┌ Warning: Package CRCBS does not have JLD in its dependencies:\n",
      "│ - If you have CRCBS checked out for development and have\n",
      "│   added JLD as a dependency but haven't updated your primary\n",
      "│   environment's manifest file, try `Pkg.resolve()`.\n",
      "│ - Otherwise you may need to report an issue with CRCBS\n",
      "└ Loading JLD into CRCBS from project dependency, future warnings for CRCBS are suppressed.\n",
      "WARNING: Method definition get_dist_matrix(LightGraphs.AbstractGraph{T} where T) in module CRCBS at /home/peltzer/.julia/dev/CRCBS/src/utils.jl:11 overwritten at /home/peltzer/.julia/dev/CRCBS/src/utils.jl:11.\n",
      "┌ Warning: Replacing docs for `CRCBS.get_dist_matrix :: Tuple{LightGraphs.AbstractGraph}` in module `CRCBS`\n",
      "└ @ Base.Docs docs/Docs.jl:223\n",
      "WARNING: Method definition pad_matrix(Array{T, 2}, Tuple{Int64, Int64}, T) where {T} in module CRCBS at /home/peltzer/.julia/dev/CRCBS/src/utils.jl:22 overwritten at /home/peltzer/.julia/dev/CRCBS/src/utils.jl:22.\n",
      "┌ Warning: Replacing docs for `CRCBS.pad_matrix :: Union{Tuple{T}, Tuple{Array{T,2},Tuple{Int64,Int64},T}} where T` in module `CRCBS`\n",
      "└ @ Base.Docs docs/Docs.jl:223\n",
      "WARNING: Method definition compute_distance_matrix(Any, Any) in module CRCBS at /home/peltzer/.julia/dev/CRCBS/src/utils.jl:32 overwritten at /home/peltzer/.julia/dev/CRCBS/src/utils.jl:32.\n",
      "WARNING: Method definition sample_wo_repl(Any, Any) in module CRCBS at /home/peltzer/.julia/dev/CRCBS/src/utils.jl:135 overwritten at /home/peltzer/.julia/dev/CRCBS/src/utils.jl:135.\n"
     ]
    }
   ],
   "source": [
    "using CRCBS\n",
    "using Distributions\n",
    "using HCubature\n",
    "using CSV"
   ]
  },
  {
   "cell_type": "code",
   "execution_count": null,
   "metadata": {},
   "outputs": [],
   "source": [
    "name = \"Timing_test_5\"\n",
    "sub_name=\"Debugging_test_1_CBS\"\n",
    "st = run_cbs_particles(name; type=\"CBS\", sub_name=\"\", save_simulation=true)"
   ]
  },
  {
   "cell_type": "code",
   "execution_count": null,
   "metadata": {
    "scrolled": true
   },
   "outputs": [
    {
     "name": "stdout",
     "output_type": "stream",
     "text": [
      "Started \n",
      "Check1 \n",
      "Check2 \n",
      "ASTAR: 10\n",
      "\n",
      " \n",
      "ASTAR: 1\n",
      "ASTAR: 1\n",
      "\n",
      " \n",
      "ASTAR: 1\n",
      "ASTAR: 1\n",
      "\n",
      " \n",
      "Agents 4 and 1 conflict at node 108\n",
      "ASTAR: 1\n",
      "ASTAR: 1\n",
      "\n",
      " \n",
      "Agents 4 and 1 conflict at node 108\n",
      "ASTAR: 1\n",
      "ASTAR: 1\n",
      "\n",
      " \n",
      "ASTAR: 1\n",
      "ASTAR: 1\n",
      "\n",
      " \n",
      "Agents 7 and 10 conflict at node 50\n",
      "ASTAR: 1\n",
      "ASTAR: 1\n",
      "\n",
      " \n",
      "ASTAR: 1\n",
      "ASTAR: 1\n",
      "\n",
      " \n",
      "ASTAR: 1\n",
      "ASTAR: 1\n",
      "\n",
      " \n",
      "ASTAR: 1\n",
      "ASTAR: 1\n",
      "\n",
      " \n",
      "Agents 7 and 10 conflict at node 39\n",
      "ASTAR: 1\n",
      "ASTAR: 1\n",
      "\n",
      " \n",
      "ASTAR: 1\n",
      "ASTAR: 1\n",
      "\n",
      " \n",
      "Optimal Solution Found! Cost = 67\n",
      "Time spent on probability count: 1.7855172110000002 \n",
      "Time spent on path finding: 0.415369694 \n",
      "Time spent performing optimization: 6.028037988\n",
      "Possible interactions\n",
      "Possible interactions\n",
      "Possible interactions\n",
      "Possible interactions\n",
      "Possible interactions\n",
      "\n",
      " I found2 conflicts at a node!\n",
      "This is out of 2000 trials, and the collision probability is 0.0010358666510541421\n",
      "\n",
      " I found4 conflicts at a node!\n",
      "This is out of 2000 trials, and the collision probability is 0.002706238964847269\n",
      "Possible interactions\n",
      "\n",
      " I found4 conflicts at a node!\n",
      "This is out of 2000 trials, and the collision probability is 0.0017666957036404226\n",
      "\n",
      " I found81 conflicts at a node!\n",
      "This is out of 2000 trials, and the collision probability is 0.0013182995642461043\n",
      "Possible interactions\n",
      "\n",
      " I found2 conflicts at a node!\n",
      "This is out of 2000 trials, and the collision probability is 0.0004928513831348739\n",
      "Possible interactions\n",
      "Possible interactions\n",
      "\n",
      " I found4 conflicts at a node!\n",
      "This is out of 2000 trials, and the collision probability is 0.002706071438775745\n",
      "\n",
      " I found108 conflicts at a node!\n",
      "This is out of 2000 trials, and the collision probability is 0.0025510910106438293\n",
      "Possible interactions\n",
      "\n",
      " I found100 conflicts at a node!\n",
      "This is out of 2000 trials, and the collision probability is 0.0025510910106438293\n",
      "Possible interactions\n",
      "Possible interactions\n",
      "\n",
      " I found110 conflicts at a node!\n",
      "This is out of 2000 trials, and the collision probability is 0.0569102649225131\n",
      "Possible interactions\n",
      "Possible interactions\n",
      "Possible interactions\n",
      "\n",
      " I found36 conflicts at a node!\n",
      "This is out of 2000 trials, and the collision probability is 0.019792719256640372\n",
      "Possible interactions\n",
      "\n",
      " I found24 conflicts at a node!\n",
      "This is out of 2000 trials, and the collision probability is 0.009263718008829159\n",
      "Possible interactions\n",
      "\n",
      " I found4 conflicts at a node!\n",
      "This is out of 2000 trials, and the collision probability is 0.01852327903878487\n",
      "Possible interactions\n",
      "Possible interactions\n",
      "Possible interactions\n",
      "Possible interactions\n",
      "Possible interactions\n",
      "Interaction at edge!\n",
      "Interaction at edge!\n",
      "Interaction at edge!\n",
      "\n",
      " I found2 conflicts!\n",
      "This is out of 2000 trials, and the collision probability is 0.038671390081970916\n",
      "Interaction at edge!\n",
      "Interaction at edge!\n",
      "Interaction at edge!\n",
      "Interaction at edge!\n",
      "\n",
      " I found48 conflicts!\n",
      "This is out of 2000 trials, and the collision probability is 0.1819101988074162\n",
      "Interaction at edge!\n",
      "\n",
      " I found2 conflicts!\n",
      "This is out of 2000 trials, and the collision probability is 0.038671390081970854\n",
      "Interaction at edge!\n",
      "ASTAR: 10\n",
      "\n",
      " \n",
      "ASTAR: 1\n",
      "ASTAR: 1\n",
      "\n",
      " \n",
      "Agents 7 and 6 conflict at node 90\n",
      "ASTAR: 1\n",
      "ASTAR: 1\n",
      "\n",
      " \n",
      "Agents 7 and 6 conflict at node 90\n",
      "ASTAR: 1\n",
      "ASTAR: 1\n",
      "\n",
      " \n",
      "ASTAR: 1\n",
      "ASTAR: 1\n",
      "\n",
      " \n",
      "Agents 7 and 6 conflict at node 91\n",
      "ASTAR: 1\n",
      "ASTAR: 1\n",
      "\n",
      " \n",
      "Agents 7 and 6 conflict at node 91\n",
      "ASTAR: 1\n",
      "ASTAR: 1\n",
      "\n",
      " \n",
      "ASTAR: 1\n",
      "ASTAR: 1\n",
      "\n",
      " \n",
      "ASTAR: 1\n",
      "ASTAR: 1\n",
      "\n",
      " \n",
      "Agents 2 and 5 conflict at node 39\n",
      "ASTAR: 1\n",
      "ASTAR: 1\n",
      "\n",
      " \n",
      "Agents 2 and 5 conflict at node 39\n",
      "ASTAR: 1\n",
      "ASTAR: 1\n",
      "\n",
      " \n",
      "Agents 2 and 5 conflict at node 27\n",
      "ASTAR: 1\n",
      "ASTAR: 1\n",
      "\n",
      " \n",
      "ASTAR: 1\n",
      "ASTAR: 1\n",
      "\n",
      " \n",
      "Agents 2 and 5 conflict at node 39\n",
      "ASTAR: 1\n",
      "ASTAR: 1\n",
      "\n",
      " \n",
      "Agents 2 and 5 conflict at node 27\n",
      "ASTAR: 1\n",
      "ASTAR: 1\n",
      "\n",
      " \n",
      "Agents 2 and 5 conflict at node 50\n",
      "ASTAR: 1\n",
      "ASTAR: 1\n",
      "\n",
      " \n",
      "Agents 2 and 5 conflict at node 49\n",
      "ASTAR: 1\n",
      "ASTAR: 1\n",
      "\n",
      " \n",
      "ASTAR: 1\n",
      "ASTAR: 1\n",
      "\n",
      " \n",
      "Agents 2 and 5 conflict at node 50\n",
      "ASTAR: 1\n",
      "ASTAR: 1\n",
      "\n",
      " \n",
      "Agents 2 and 5 conflict at node 61\n",
      "ASTAR: 1\n",
      "ASTAR: 1\n",
      "\n",
      " \n",
      "Agents 2 and 5 conflict at node 49\n",
      "ASTAR: 1\n",
      "ASTAR: 1\n",
      "\n",
      " \n",
      "ASTAR: 1\n",
      "ASTAR: 1\n",
      "\n",
      " \n",
      "Agents 2 and 5 conflict at node 50\n",
      "ASTAR: 1\n",
      "ASTAR: 1\n",
      "\n",
      " \n",
      "Agents 2 and 5 conflict at node 16\n",
      "ASTAR: 1\n",
      "\n",
      " \n",
      "Agents 2 and 5 conflict at node 27\n",
      "ASTAR: 1\n",
      "ASTAR: 1\n",
      "\n",
      " \n",
      "Agents 2 and 5 conflict at node 28\n",
      "ASTAR: 1\n",
      "ASTAR: 1\n",
      "\n",
      " \n",
      "Agents 2 and 8 conflict at node 73\n",
      "ASTAR: 1\n",
      "ASTAR: 1\n",
      "\n",
      " \n",
      "Agents 2 and 8 conflict at node 73\n",
      "ASTAR: 1\n",
      "ASTAR: 1\n",
      "\n",
      " \n",
      "ASTAR: 1\n",
      "ASTAR: 1\n",
      "\n",
      " \n",
      "ASTAR: 1\n",
      "ASTAR: 1\n",
      "\n",
      " \n",
      "Agents 5 and 8 conflict at node 72\n",
      "ASTAR: 1\n",
      "ASTAR: 1\n",
      "\n",
      " \n",
      "Agents 2 and 5 conflict at node 72\n",
      "ASTAR: 1\n",
      "ASTAR: 1\n",
      "\n",
      " \n",
      "Agents 2 and 5 conflict at node 72\n",
      "ASTAR: 1\n",
      "ASTAR: 1\n",
      "\n",
      " \n",
      "Agents 2 and 5 conflict at node 72\n",
      "ASTAR: 1\n",
      "ASTAR: 1\n",
      "\n",
      " \n",
      "Agents 2 and 5 conflict at node 72\n",
      "ASTAR: 1\n",
      "ASTAR: 1\n",
      "\n",
      " \n",
      "Agents 2 and 8 conflict at node 73\n",
      "ASTAR: 1\n",
      "ASTAR: 1\n",
      "\n",
      " \n",
      "Agents 2 and 5 conflict at node 61\n",
      "ASTAR: 1\n",
      "ASTAR: 1\n",
      "\n",
      " \n",
      "Agents 2 and 5 conflict at node 28\n",
      "ASTAR: 1\n",
      "ASTAR: 1\n",
      "\n",
      " \n",
      "Agents 2 and 5 conflict at node 27\n",
      "ASTAR: 1\n",
      "ASTAR: 1\n",
      "\n",
      " \n",
      "Agents 2 and 5 conflict at node 17\n",
      "ASTAR: 1\n",
      "ASTAR: 1\n",
      "\n",
      " \n",
      "Agents 2 and 5 conflict at node 72\n",
      "ASTAR: 1\n",
      "ASTAR: 1\n",
      "\n",
      " \n",
      "ASTAR: 1\n",
      "ASTAR: 1\n",
      "\n",
      " \n",
      "Optimal Solution Found! Cost = 75\n",
      "Time spent on probability count: 5.263857958 \n",
      "Time spent on path finding: 0.31649163900000005 \n",
      "Time spent performing optimization: 15.333324422\n",
      "Possible interactions\n",
      "Possible interactions\n",
      "Possible interactions\n",
      "\n",
      " I found380 conflicts at a node!\n",
      "This is out of 2000 trials, and the collision probability is 0.19635069882303346\n",
      "Possible interactions\n",
      "Possible interactions\n",
      "Possible interactions\n",
      "Possible interactions\n",
      "\n",
      " I found110 conflicts at a node!\n",
      "This is out of 2000 trials, and the collision probability is 0.056910281596655767\n",
      "Possible interactions\n",
      "Possible interactions\n",
      "\n",
      " I found115 conflicts at a node!\n",
      "This is out of 2000 trials, and the collision probability is 0.056910281596655767\n",
      "Possible interactions\n",
      "\n",
      " I found40 conflicts at a node!\n",
      "This is out of 2000 trials, and the collision probability is 0.019792719256640372\n",
      "Possible interactions\n",
      "\n",
      " I found4 conflicts at a node!\n",
      "This is out of 2000 trials, and the collision probability is 0.01852327903878487\n",
      "Possible interactions\n",
      "\n",
      " I found25 conflicts at a node!\n",
      "This is out of 2000 trials, and the collision probability is 0.009263718008829159\n",
      "Possible interactions\n",
      "\n",
      " I found87 conflicts at a node!\n",
      "This is out of 2000 trials, and the collision probability is 0.0013182995642461043\n",
      "Possible interactions\n",
      "\n",
      " I found67 conflicts at a node!\n",
      "This is out of 2000 trials, and the collision probability is 0.0011105413983559234\n",
      "Possible interactions\n",
      "\n",
      " I found26 conflicts at a node!\n",
      "This is out of 2000 trials, and the collision probability is 0.001681290111466449\n",
      "Possible interactions\n",
      "\n",
      " I found24 conflicts at a node!\n",
      "This is out of 2000 trials, and the collision probability is 0.009263718008829159\n",
      "Possible interactions\n",
      "\n",
      " I found13 conflicts at a node!\n",
      "This is out of 2000 trials, and the collision probability is 0.009263718008829159\n",
      "Possible interactions\n",
      "\n",
      " I found82 conflicts at a node!\n",
      "This is out of 2000 trials, and the collision probability is 0.0013182995642461043\n",
      "Possible interactions\n",
      "Interaction at edge!\n",
      "\n",
      " I found56 conflicts!\n",
      "This is out of 2000 trials, and the collision probability is 0.20014220690841494\n",
      "Interaction at edge!\n",
      "\n",
      " I found3 conflicts!\n",
      "This is out of 2000 trials, and the collision probability is 0.07325425754406274\n",
      "Interaction at edge!\n",
      "\n",
      " I found24 conflicts!\n",
      "This is out of 2000 trials, and the collision probability is 0.16038908453136516\n",
      "ASTAR: 10\n",
      "\n",
      " \n",
      "ASTAR: 1\n",
      "ASTAR: 1\n",
      "\n",
      " \n",
      "Agents 7 and 8 conflict at node 38\n",
      "ASTAR: 1\n",
      "ASTAR: 1\n",
      "\n",
      " \n",
      "Agents 7 and 8 conflict at node 38\n",
      "ASTAR: 1\n",
      "ASTAR: 1\n",
      "\n",
      " \n",
      "ASTAR: 1\n",
      "ASTAR: 1\n",
      "\n",
      " \n",
      "ASTAR: 1\n",
      "ASTAR: 1\n",
      "\n",
      " \n",
      "Agents 7 and 8 conflict at node 49\n",
      "ASTAR: 1\n",
      "ASTAR: 1\n",
      "\n",
      " \n",
      "Agents 7 and 8 conflict at node 49\n",
      "ASTAR: 1\n",
      "ASTAR: 1\n",
      "\n",
      " \n",
      "ASTAR: 1\n",
      "ASTAR: 1\n",
      "\n",
      " \n",
      "ASTAR: 1\n",
      "ASTAR: 1\n",
      "\n",
      " \n",
      "Agents 7 and 8 conflict at node 51\n",
      "ASTAR: 1\n",
      "\n",
      " \n",
      "Agents 7 and 8 conflict at node 51\n",
      "ASTAR: 1\n",
      "\n",
      " \n",
      "Agents 7 and 8 conflict at node 51\n",
      "ASTAR: 1\n",
      "\n",
      " \n",
      "Agents 7 and 8 conflict at node 39\n",
      "ASTAR: 1\n",
      "ASTAR: 1\n",
      "\n",
      " \n",
      "Agents 7 and 8 conflict at node 39\n",
      "ASTAR: 1\n",
      "ASTAR: 1\n",
      "\n",
      " \n",
      "Agents 7 and 8 conflict at node 50\n",
      "ASTAR: 1\n",
      "ASTAR: 1\n",
      "\n",
      " \n",
      "Agents 7 and 8 conflict at node 51\n",
      "ASTAR: 1\n",
      "\n",
      " \n",
      "Agents 9 and 8 conflict at node 73\n",
      "ASTAR: 1\n",
      "ASTAR: 1\n",
      "\n",
      " \n",
      "ASTAR: 1\n",
      "ASTAR: 1\n",
      "\n",
      " \n",
      "Optimal Solution Found! Cost = 79\n",
      "Time spent on probability count: 1.996472256 \n",
      "Time spent on path finding: 0.12504543299999996 \n",
      "Time spent performing optimization: 6.046413626\n",
      "Possible interactions\n",
      "Possible interactions\n"
     ]
    },
    {
     "name": "stdout",
     "output_type": "stream",
     "text": [
      "Possible interactions\n",
      "Possible interactions\n",
      "Possible interactions\n",
      "Possible interactions\n",
      "\n",
      " I found98 conflicts at a node!\n",
      "This is out of 2000 trials, and the collision probability is 0.0491101674589569\n",
      "Possible interactions\n",
      "Possible interactions\n",
      "Possible interactions\n",
      "Possible interactions\n",
      "\n",
      " I found76 conflicts at a node!\n",
      "This is out of 2000 trials, and the collision probability is 0.0306190341393485\n",
      "Possible interactions\n",
      "Possible interactions\n",
      "\n",
      " I found133 conflicts at a node!\n",
      "This is out of 2000 trials, and the collision probability is 0.06696095002048477\n",
      "Possible interactions\n",
      "\n",
      " I found9 conflicts at a node!\n",
      "This is out of 2000 trials, and the collision probability is 0.002706071438775745\n",
      "Possible interactions\n",
      "Possible interactions\n",
      "Possible interactions\n",
      "Possible interactions\n",
      "Possible interactions\n",
      "Possible interactions\n",
      "Possible interactions\n",
      "Interaction at edge!\n",
      "Interaction at edge!\n",
      "Interaction at edge!\n",
      "\n",
      " I found95 conflicts!\n",
      "This is out of 2000 trials, and the collision probability is 0.22878057224012666\n",
      "Interaction at edge!\n",
      "\n",
      " I found3 conflicts!\n",
      "This is out of 2000 trials, and the collision probability is 0.038671390081970916\n",
      "Interaction at edge!\n",
      "ASTAR: 10\n",
      "\n",
      " \n",
      "ASTAR: 1\n",
      "ASTAR: 1\n",
      "\n",
      " \n",
      "ASTAR: 1\n",
      "ASTAR: 1\n",
      "\n",
      " \n",
      "ASTAR: 1\n",
      "ASTAR: 1\n",
      "\n",
      " \n",
      "ASTAR: 1\n",
      "ASTAR: 1\n",
      "\n",
      " \n",
      "ASTAR: 1\n",
      "ASTAR: 1\n",
      "\n",
      " \n",
      "ASTAR: 1\n",
      "ASTAR: 1\n",
      "\n",
      " \n",
      "ASTAR: 1\n",
      "ASTAR: 1\n",
      "\n",
      " \n",
      "ASTAR: 1\n",
      "ASTAR: 1\n",
      "\n",
      " \n",
      "Optimal Solution Found! Cost = 69\n",
      "Time spent on probability count: 0.994556781 \n",
      "Time spent on path finding: 0.075605847 \n",
      "Time spent performing optimization: 3.107892156\n",
      "Possible interactions\n",
      "Possible interactions\n"
     ]
    }
   ],
   "source": [
    "name = \"Timing_test_10\"\n",
    "num_agents = tuple(10)\n",
    "grid_x = tuple(10)\n",
    "grid_y = tuple(10)\n",
    "filling_density = tuple(1.0)\n",
    "lambda = 0.2\n",
    "epsilon = 0.2\n",
    "t_delay = 0.2\n",
    "max_num_experiments = 5\n",
    "num_trials = 2000\n",
    "\n",
    "data = run_experiment_set_CRCBS(name,num_agents,grid_x,grid_y,filling_density,lambda,epsilon,t_delay,max_num_experiments,num_trials)"
   ]
  },
  {
   "cell_type": "code",
   "execution_count": 13,
   "metadata": {},
   "outputs": [
    {
     "data": {
      "text/html": [
       "<table class=\"data-frame\"><thead><tr><th></th><th>name</th><th>num_agents</th><th>num_nodes</th><th>num_edges</th><th>solving_time</th><th>counting_time</th><th>time_spent_on_astar</th><th>num_interactions</th><th>num_iterations</th></tr><tr><th></th><th>String</th><th>Int64</th><th>Int64</th><th>Int64</th><th>Float64</th><th>Float64</th><th>Float64</th><th>Int64</th><th>Int64</th></tr></thead><tbody><p>6 rows × 9 columns</p><tr><th>1</th><td>Timing_test_7_1</td><td>6</td><td>121</td><td>280</td><td>0.971295</td><td>0.131181</td><td>0.034694</td><td>5</td><td>4</td></tr><tr><th>2</th><td>Timing_test_7_1</td><td>6</td><td>121</td><td>280</td><td>1.45938</td><td>0.00381778</td><td>1.34179</td><td>3</td><td>0</td></tr><tr><th>3</th><td>Timing_test_7_1</td><td>6</td><td>121</td><td>280</td><td>1.69348</td><td>0.0192347</td><td>1.44387</td><td>3</td><td>1</td></tr><tr><th>4</th><td>Timing_test_7_1</td><td>6</td><td>121</td><td>280</td><td>1.69246</td><td>0.0249314</td><td>1.4319</td><td>3</td><td>1</td></tr><tr><th>5</th><td>Timing_test_7_1</td><td>6</td><td>121</td><td>280</td><td>1.62477</td><td>0.00778081</td><td>1.38216</td><td>3</td><td>1</td></tr><tr><th>6</th><td>Timing_test_7_1</td><td>6</td><td>121</td><td>280</td><td>1.64632</td><td>0.0263784</td><td>1.37846</td><td>3</td><td>1</td></tr></tbody></table>"
      ],
      "text/latex": [
       "\\begin{tabular}{r|ccccccccc}\n",
       "\t& name & num\\_agents & num\\_nodes & num\\_edges & solving\\_time & counting\\_time & time\\_spent\\_on\\_astar & num\\_interactions & num\\_iterations\\\\\n",
       "\t\\hline\n",
       "\t& String & Int64 & Int64 & Int64 & Float64 & Float64 & Float64 & Int64 & Int64\\\\\n",
       "\t\\hline\n",
       "\t1 & Timing\\_test\\_7\\_1 & 6 & 121 & 280 & 0.971295 & 0.131181 & 0.034694 & 5 & 4 \\\\\n",
       "\t2 & Timing\\_test\\_7\\_1 & 6 & 121 & 280 & 1.45938 & 0.00381778 & 1.34179 & 3 & 0 \\\\\n",
       "\t3 & Timing\\_test\\_7\\_1 & 6 & 121 & 280 & 1.69348 & 0.0192347 & 1.44387 & 3 & 1 \\\\\n",
       "\t4 & Timing\\_test\\_7\\_1 & 6 & 121 & 280 & 1.69246 & 0.0249314 & 1.4319 & 3 & 1 \\\\\n",
       "\t5 & Timing\\_test\\_7\\_1 & 6 & 121 & 280 & 1.62477 & 0.00778081 & 1.38216 & 3 & 1 \\\\\n",
       "\t6 & Timing\\_test\\_7\\_1 & 6 & 121 & 280 & 1.64632 & 0.0263784 & 1.37846 & 3 & 1 \\\\\n",
       "\\end{tabular}\n"
      ],
      "text/plain": [
       "6×9 DataFrame. Omitted printing of 4 columns\n",
       "│ Row │ name            │ num_agents │ num_nodes │ num_edges │ solving_time │\n",
       "│     │ \u001b[90mString\u001b[39m          │ \u001b[90mInt64\u001b[39m      │ \u001b[90mInt64\u001b[39m     │ \u001b[90mInt64\u001b[39m     │ \u001b[90mFloat64\u001b[39m      │\n",
       "├─────┼─────────────────┼────────────┼───────────┼───────────┼──────────────┤\n",
       "│ 1   │ Timing_test_7_1 │ 6          │ 121       │ 280       │ 0.971295     │\n",
       "│ 2   │ Timing_test_7_1 │ 6          │ 121       │ 280       │ 1.45938      │\n",
       "│ 3   │ Timing_test_7_1 │ 6          │ 121       │ 280       │ 1.69348      │\n",
       "│ 4   │ Timing_test_7_1 │ 6          │ 121       │ 280       │ 1.69246      │\n",
       "│ 5   │ Timing_test_7_1 │ 6          │ 121       │ 280       │ 1.62477      │\n",
       "│ 6   │ Timing_test_7_1 │ 6          │ 121       │ 280       │ 1.64632      │"
      ]
     },
     "execution_count": 13,
     "metadata": {},
     "output_type": "execute_result"
    }
   ],
   "source": [
    "data6[[1,9,11,12,13,14,15,16,17]]"
   ]
  },
  {
   "cell_type": "code",
   "execution_count": null,
   "metadata": {},
   "outputs": [],
   "source": [
    "name = \"Timing_test_10\"\n",
    "sub_name=\"Timing_test_10_1\"\n",
    "data2 = run_problem(name; sub_name=sub_name, lambda=0.2,epsilon=0.1,t_delay=1.0,dataframe=data,num_trials=2000);\n",
    "data3 = run_problem(name; sub_name=sub_name, lambda=0.2,epsilon=0.05,t_delay=1.0,dataframe=data2,num_trials=2000);\n",
    "data4 = run_problem(name; sub_name=sub_name, lambda=0.2,epsilon=0.01,t_delay=1.0,dataframe=data3,num_trials=2000);\n",
    "data5 = run_problem(name; sub_name=sub_name, lambda=0.2,epsilon=0.001,t_delay=1.0,dataframe=data4,num_trials=2000);\n",
    "data6 = run_problem(name; sub_name=sub_name, lambda=0.2,epsilon=0.0001,t_delay=1.0,dataframe=data5,num_trials=2000);\n",
    "sub_name=\"Timing_test_10_2\"\n",
    "data2 = run_problem(name; sub_name=sub_name, lambda=0.2,epsilon=0.1,t_delay=1.0,dataframe=data6,num_trials=2000);\n",
    "data3 = run_problem(name; sub_name=sub_name, lambda=0.2,epsilon=0.05,t_delay=1.0,dataframe=data2,num_trials=2000);\n",
    "data4 = run_problem(name; sub_name=sub_name, lambda=0.2,epsilon=0.01,t_delay=1.0,dataframe=data3,num_trials=2000);\n",
    "data5 = run_problem(name; sub_name=sub_name, lambda=0.2,epsilon=0.001,t_delay=1.0,dataframe=data4,num_trials=2000);\n",
    "data6 = run_problem(name; sub_name=sub_name, lambda=0.2,epsilon=0.0001,t_delay=1.0,dataframe=data5,num_trials=2000);\n",
    "sub_name=\"Timing_test_10_3\"\n",
    "data2 = run_problem(name; sub_name=sub_name, lambda=0.2,epsilon=0.1,t_delay=1.0,dataframe=data6,num_trials=2000);\n",
    "data3 = run_problem(name; sub_name=sub_name, lambda=0.2,epsilon=0.05,t_delay=1.0,dataframe=data2,num_trials=2000);\n",
    "data4 = run_problem(name; sub_name=sub_name, lambda=0.2,epsilon=0.01,t_delay=1.0,dataframe=data3,num_trials=2000);\n",
    "data5 = run_problem(name; sub_name=sub_name, lambda=0.2,epsilon=0.001,t_delay=1.0,dataframe=data4,num_trials=2000);\n",
    "data6 = run_problem(name; sub_name=sub_name, lambda=0.2,epsilon=0.0001,t_delay=1.0,dataframe=data5,num_trials=2000);\n",
    "sub_name=\"Timing_test_10_4\"\n",
    "data2 = run_problem(name; sub_name=sub_name, lambda=0.2,epsilon=0.1,t_delay=1.0,dataframe=data6,num_trials=2000);\n",
    "data3 = run_problem(name; sub_name=sub_name, lambda=0.2,epsilon=0.05,t_delay=1.0,dataframe=data2,num_trials=2000);\n",
    "data4 = run_problem(name; sub_name=sub_name, lambda=0.2,epsilon=0.01,t_delay=1.0,dataframe=data3,num_trials=2000);\n",
    "data5 = run_problem(name; sub_name=sub_name, lambda=0.2,epsilon=0.001,t_delay=1.0,dataframe=data4,num_trials=2000);\n",
    "data6 = run_problem(name; sub_name=sub_name, lambda=0.2,epsilon=0.0001,t_delay=1.0,dataframe=data5,num_trials=2000);\n",
    "sub_name=\"Timing_test_10_5\"\n",
    "data2 = run_problem(name; sub_name=sub_name, lambda=0.2,epsilon=0.1,t_delay=1.0,dataframe=data6,num_trials=2000);\n",
    "data3 = run_problem(name; sub_name=sub_name, lambda=0.2,epsilon=0.05,t_delay=1.0,dataframe=data2,num_trials=2000);\n",
    "data4 = run_problem(name; sub_name=sub_name, lambda=0.2,epsilon=0.01,t_delay=1.0,dataframe=data3,num_trials=2000);\n",
    "data5 = run_problem(name; sub_name=sub_name, lambda=0.2,epsilon=0.001,t_delay=1.0,dataframe=data4,num_trials=2000);\n",
    "data6 = run_problem(name; sub_name=sub_name, lambda=0.2,epsilon=0.0001,t_delay=1.0,dataframe=data5,num_trials=2000);"
   ]
  },
  {
   "cell_type": "code",
   "execution_count": null,
   "metadata": {},
   "outputs": [],
   "source": [
    "CSV.write(\"Timing_test_10.csv\",data6)"
   ]
  },
  {
   "cell_type": "code",
   "execution_count": null,
   "metadata": {},
   "outputs": [],
   "source": [
    "name = \"Timing_test_11\"\n",
    "num_agents = tuple(10)\n",
    "grid_x = tuple(20)\n",
    "grid_y = tuple(20)\n",
    "filling_density = tuple(1.0)\n",
    "lambda = 0.2\n",
    "epsilon = 0.2\n",
    "t_delay = 0.2\n",
    "max_num_experiments = 5\n",
    "num_trials = 2000\n",
    "\n",
    "data = run_experiment_set_CRCBS(name,num_agents,grid_x,grid_y,filling_density,lambda,epsilon,t_delay,max_num_experiments,num_trials)"
   ]
  },
  {
   "cell_type": "code",
   "execution_count": null,
   "metadata": {},
   "outputs": [],
   "source": [
    "name = \"Timing_test_11\"\n",
    "sub_name=\"Timing_test_11_1\"\n",
    "data2 = run_problem(name; sub_name=sub_name, lambda=0.2,epsilon=0.1,t_delay=1.0,dataframe=data,num_trials=2000);\n",
    "data3 = run_problem(name; sub_name=sub_name, lambda=0.2,epsilon=0.05,t_delay=1.0,dataframe=data2,num_trials=2000);\n",
    "data4 = run_problem(name; sub_name=sub_name, lambda=0.2,epsilon=0.01,t_delay=1.0,dataframe=data3,num_trials=2000);\n",
    "data5 = run_problem(name; sub_name=sub_name, lambda=0.2,epsilon=0.001,t_delay=1.0,dataframe=data4,num_trials=2000);\n",
    "data6 = run_problem(name; sub_name=sub_name, lambda=0.2,epsilon=0.0001,t_delay=1.0,dataframe=data5,num_trials=2000);\n",
    "sub_name=\"Timing_test_11_2\"\n",
    "data2 = run_problem(name; sub_name=sub_name, lambda=0.2,epsilon=0.1,t_delay=1.0,dataframe=data6,num_trials=2000);\n",
    "data3 = run_problem(name; sub_name=sub_name, lambda=0.2,epsilon=0.05,t_delay=1.0,dataframe=data2,num_trials=2000);\n",
    "data4 = run_problem(name; sub_name=sub_name, lambda=0.2,epsilon=0.01,t_delay=1.0,dataframe=data3,num_trials=2000);\n",
    "data5 = run_problem(name; sub_name=sub_name, lambda=0.2,epsilon=0.001,t_delay=1.0,dataframe=data4,num_trials=2000);\n",
    "data6 = run_problem(name; sub_name=sub_name, lambda=0.2,epsilon=0.0001,t_delay=1.0,dataframe=data5,num_trials=2000);\n",
    "sub_name=\"Timing_test_11_3\"\n",
    "data2 = run_problem(name; sub_name=sub_name, lambda=0.2,epsilon=0.1,t_delay=1.0,dataframe=data6,num_trials=2000);\n",
    "data3 = run_problem(name; sub_name=sub_name, lambda=0.2,epsilon=0.05,t_delay=1.0,dataframe=data2,num_trials=2000);\n",
    "data4 = run_problem(name; sub_name=sub_name, lambda=0.2,epsilon=0.01,t_delay=1.0,dataframe=data3,num_trials=2000);\n",
    "data5 = run_problem(name; sub_name=sub_name, lambda=0.2,epsilon=0.001,t_delay=1.0,dataframe=data4,num_trials=2000);\n",
    "data6 = run_problem(name; sub_name=sub_name, lambda=0.2,epsilon=0.0001,t_delay=1.0,dataframe=data5,num_trials=2000);\n",
    "sub_name=\"Timing_test_11_4\"\n",
    "data2 = run_problem(name; sub_name=sub_name, lambda=0.2,epsilon=0.1,t_delay=1.0,dataframe=data6,num_trials=2000);\n",
    "data3 = run_problem(name; sub_name=sub_name, lambda=0.2,epsilon=0.05,t_delay=1.0,dataframe=data2,num_trials=2000);\n",
    "data4 = run_problem(name; sub_name=sub_name, lambda=0.2,epsilon=0.01,t_delay=1.0,dataframe=data3,num_trials=2000);\n",
    "data5 = run_problem(name; sub_name=sub_name, lambda=0.2,epsilon=0.001,t_delay=1.0,dataframe=data4,num_trials=2000);\n",
    "data6 = run_problem(name; sub_name=sub_name, lambda=0.2,epsilon=0.0001,t_delay=1.0,dataframe=data5,num_trials=2000);\n",
    "sub_name=\"Timing_test_11_5\"\n",
    "data2 = run_problem(name; sub_name=sub_name, lambda=0.2,epsilon=0.1,t_delay=1.0,dataframe=data6,num_trials=2000);\n",
    "data3 = run_problem(name; sub_name=sub_name, lambda=0.2,epsilon=0.05,t_delay=1.0,dataframe=data2,num_trials=2000);\n",
    "data4 = run_problem(name; sub_name=sub_name, lambda=0.2,epsilon=0.01,t_delay=1.0,dataframe=data3,num_trials=2000);\n",
    "data5 = run_problem(name; sub_name=sub_name, lambda=0.2,epsilon=0.001,t_delay=1.0,dataframe=data4,num_trials=2000);\n",
    "data6 = run_problem(name; sub_name=sub_name, lambda=0.2,epsilon=0.0001,t_delay=1.0,dataframe=data5,num_trials=2000);"
   ]
  },
  {
   "cell_type": "code",
   "execution_count": null,
   "metadata": {},
   "outputs": [],
   "source": [
    "CSV.write(\"Timing_test_11.csv\",data6)"
   ]
  },
  {
   "cell_type": "code",
   "execution_count": null,
   "metadata": {},
   "outputs": [],
   "source": [
    "name = \"Timing_test_12\"\n",
    "num_agents = tuple(10)\n",
    "grid_x = tuple(30)\n",
    "grid_y = tuple(30)\n",
    "filling_density = tuple(1.0)\n",
    "lambda = 0.2\n",
    "epsilon = 0.2\n",
    "t_delay = 0.2\n",
    "max_num_experiments = 5\n",
    "num_trials = 2000\n",
    "\n",
    "data = run_experiment_set_CRCBS(name,num_agents,grid_x,grid_y,filling_density,lambda,epsilon,t_delay,max_num_experiments,num_trials)"
   ]
  },
  {
   "cell_type": "code",
   "execution_count": null,
   "metadata": {},
   "outputs": [],
   "source": [
    "name = \"Timing_test_12\"\n",
    "sub_name=\"Timing_test_12_1\"\n",
    "data2 = run_problem(name; sub_name=sub_name, lambda=0.2,epsilon=0.1,t_delay=1.0,dataframe=data,num_trials=2000);\n",
    "data3 = run_problem(name; sub_name=sub_name, lambda=0.2,epsilon=0.05,t_delay=1.0,dataframe=data2,num_trials=2000);\n",
    "data4 = run_problem(name; sub_name=sub_name, lambda=0.2,epsilon=0.01,t_delay=1.0,dataframe=data3,num_trials=2000);\n",
    "data5 = run_problem(name; sub_name=sub_name, lambda=0.2,epsilon=0.001,t_delay=1.0,dataframe=data4,num_trials=2000);\n",
    "data6 = run_problem(name; sub_name=sub_name, lambda=0.2,epsilon=0.0001,t_delay=1.0,dataframe=data5,num_trials=2000);\n",
    "sub_name=\"Timing_test_12_2\"\n",
    "data2 = run_problem(name; sub_name=sub_name, lambda=0.2,epsilon=0.1,t_delay=1.0,dataframe=data6,num_trials=2000);\n",
    "data3 = run_problem(name; sub_name=sub_name, lambda=0.2,epsilon=0.05,t_delay=1.0,dataframe=data2,num_trials=2000);\n",
    "data4 = run_problem(name; sub_name=sub_name, lambda=0.2,epsilon=0.01,t_delay=1.0,dataframe=data3,num_trials=2000);\n",
    "data5 = run_problem(name; sub_name=sub_name, lambda=0.2,epsilon=0.001,t_delay=1.0,dataframe=data4,num_trials=2000);\n",
    "data6 = run_problem(name; sub_name=sub_name, lambda=0.2,epsilon=0.0001,t_delay=1.0,dataframe=data5,num_trials=2000);\n",
    "sub_name=\"Timing_test_12_3\"\n",
    "data2 = run_problem(name; sub_name=sub_name, lambda=0.2,epsilon=0.1,t_delay=1.0,dataframe=data6,num_trials=2000);\n",
    "data3 = run_problem(name; sub_name=sub_name, lambda=0.2,epsilon=0.05,t_delay=1.0,dataframe=data2,num_trials=2000);\n",
    "data4 = run_problem(name; sub_name=sub_name, lambda=0.2,epsilon=0.01,t_delay=1.0,dataframe=data3,num_trials=2000);\n",
    "data5 = run_problem(name; sub_name=sub_name, lambda=0.2,epsilon=0.001,t_delay=1.0,dataframe=data4,num_trials=2000);\n",
    "data6 = run_problem(name; sub_name=sub_name, lambda=0.2,epsilon=0.0001,t_delay=1.0,dataframe=data5,num_trials=2000);\n",
    "sub_name=\"Timing_test_12_4\"\n",
    "data2 = run_problem(name; sub_name=sub_name, lambda=0.2,epsilon=0.1,t_delay=1.0,dataframe=data6,num_trials=2000);\n",
    "data3 = run_problem(name; sub_name=sub_name, lambda=0.2,epsilon=0.05,t_delay=1.0,dataframe=data2,num_trials=2000);\n",
    "data4 = run_problem(name; sub_name=sub_name, lambda=0.2,epsilon=0.01,t_delay=1.0,dataframe=data3,num_trials=2000);\n",
    "data5 = run_problem(name; sub_name=sub_name, lambda=0.2,epsilon=0.001,t_delay=1.0,dataframe=data4,num_trials=2000);\n",
    "data6 = run_problem(name; sub_name=sub_name, lambda=0.2,epsilon=0.0001,t_delay=1.0,dataframe=data5,num_trials=2000);\n",
    "sub_name=\"Timing_test_12_5\"\n",
    "data2 = run_problem(name; sub_name=sub_name, lambda=0.2,epsilon=0.1,t_delay=1.0,dataframe=data6,num_trials=2000);\n",
    "data3 = run_problem(name; sub_name=sub_name, lambda=0.2,epsilon=0.05,t_delay=1.0,dataframe=data2,num_trials=2000);\n",
    "data4 = run_problem(name; sub_name=sub_name, lambda=0.2,epsilon=0.01,t_delay=1.0,dataframe=data3,num_trials=2000);\n",
    "data5 = run_problem(name; sub_name=sub_name, lambda=0.2,epsilon=0.001,t_delay=1.0,dataframe=data4,num_trials=2000);\n",
    "data6 = run_problem(name; sub_name=sub_name, lambda=0.2,epsilon=0.0001,t_delay=1.0,dataframe=data5,num_trials=2000);"
   ]
  },
  {
   "cell_type": "code",
   "execution_count": null,
   "metadata": {},
   "outputs": [],
   "source": [
    "CSV.write(\"Timing_test_12.csv\",data6)"
   ]
  },
  {
   "cell_type": "code",
   "execution_count": null,
   "metadata": {},
   "outputs": [],
   "source": []
  },
  {
   "cell_type": "code",
   "execution_count": null,
   "metadata": {},
   "outputs": [],
   "source": []
  },
  {
   "cell_type": "code",
   "execution_count": null,
   "metadata": {},
   "outputs": [],
   "source": [
    "subname = \"Debugging_test_1\"\n",
    "plot_optimal_nominal_paths(subname;type=\"CBS\",graphfilename = \"Debugging_test_1\")"
   ]
  },
  {
   "cell_type": "code",
   "execution_count": null,
   "metadata": {},
   "outputs": [],
   "source": [
    "subname = \"Debugging_test_1\"\n",
    "plot_optimal_nominal_paths(subname;type=\"CBS\",graphfilename =\"\")"
   ]
  },
  {
   "cell_type": "code",
   "execution_count": null,
   "metadata": {},
   "outputs": [],
   "source": [
    "subname = \"Debugging_test_1\"\n",
    "plot_simulations(subname;type=\"CBS\",graphfilename = \"Debugging_test_1\",timehorizon=40,num_particles = 20)"
   ]
  },
  {
   "cell_type": "code",
   "execution_count": null,
   "metadata": {
    "scrolled": true
   },
   "outputs": [],
   "source": [
    "using CRCBS\n",
    "subname = \"Debugging_test_1_optimal_2\"\n",
    "savedir= \"Dbg1/CRCBS_optimal_2/\"\n",
    "run_problem(\"Debugging_test_1\";optimal=true, sub_name=subname, save_simulation=true,lambda=1.0,epsilon=0.001,t_delay=1.0)\n",
    "plot_optimal_nominal_paths(subname;type=\"CRCBS\",graphfilename = \"Debugging_test_1\",savedir=savedir)\n",
    "plot_simulations(subname;type=\"CRCBS\",graphfilename = \"Debugging_test_1\",timehorizon=40,num_particles = 20,savedir=savedir)"
   ]
  },
  {
   "cell_type": "code",
   "execution_count": null,
   "metadata": {},
   "outputs": [],
   "source": [
    "using CRCBS\n",
    "subname = \"Debugging_test_1_sim1\"\n",
    "graphfilename = \"Debugging_test_1\"\n",
    "plot_simulations(subname;type=\"CRCBS\",graphfilename=graphfilename,timehorizon=30,num_particles = 20)"
   ]
  },
  {
   "cell_type": "code",
   "execution_count": null,
   "metadata": {},
   "outputs": [],
   "source": [
    "using CRCBS\n",
    "using Distributions\n",
    "using HCubature\n",
    "\n",
    "name = \"Convergence_test\"\n",
    "num_agents = (3,8,10)\n",
    "grid_x = tuple(10)\n",
    "grid_y = tuple(10)\n",
    "filling_density = tuple(0.8)\n",
    "lambda = 0.2\n",
    "epsilon = 0.9\n",
    "t_delay = 0.5\n",
    "max_num_experiments = 3\n",
    "num_trials = 1000\n",
    "\n",
    "data2 = run_convergence_tests_CRCBS(name,num_agents,grid_x,grid_y,filling_density,lambda,epsilon,t_delay,max_num_experiments,num_trials)"
   ]
  },
  {
   "cell_type": "code",
   "execution_count": null,
   "metadata": {
    "scrolled": true
   },
   "outputs": [],
   "source": [
    "exp_set.data[2].solving_time"
   ]
  },
  {
   "cell_type": "code",
   "execution_count": null,
   "metadata": {},
   "outputs": [],
   "source": [
    "save_experiment_set(exp_set)"
   ]
  },
  {
   "cell_type": "code",
   "execution_count": null,
   "metadata": {},
   "outputs": [],
   "source": [
    "n1 = 17.0\n",
    "t1 = 17.0\n",
    "n2 = 17.0\n",
    "t2 = 17.0\n",
    "nn = 1.0\n",
    "lambda = 0.2\n",
    "y = 0.0\n",
    "t = 400.0"
   ]
  },
  {
   "cell_type": "code",
   "execution_count": null,
   "metadata": {},
   "outputs": [],
   "source": [
    "get_collision_probability_node2(n1,t1,n2,t2,nn,lambda)"
   ]
  },
  {
   "cell_type": "code",
   "execution_count": null,
   "metadata": {
    "scrolled": true
   },
   "outputs": [],
   "source": [
    "(1-cdf(Gamma(nn,lambda),abs(t2-t1+y)))"
   ]
  },
  {
   "cell_type": "code",
   "execution_count": null,
   "metadata": {},
   "outputs": [],
   "source": [
    "pdf(Gamma(n1,lambda), t+y)"
   ]
  },
  {
   "cell_type": "code",
   "execution_count": null,
   "metadata": {},
   "outputs": [],
   "source": [
    "using HCubature\n",
    "function get_collision_probability_node2(n1,t1,n2,t2,nn,lambda)\n",
    "\n",
    "    function f(x)\n",
    "        y = x[1]\n",
    "        t = x[2]\n",
    "        density = (1-cdf(Gamma(nn,lambda),abs(t2-t1+y))) * pdf(Gamma(n1,lambda), t) * pdf(Gamma(n2,lambda),t-y)\n",
    "        return density\n",
    "    end\n",
    "\n",
    "    function g(x)\n",
    "        y = x[1]\n",
    "        t = x[2]\n",
    "        density = (1-cdf(Gamma(nn,lambda),abs(t2-t1+y))) * pdf(Gamma(n1,lambda), t+y) * pdf(Gamma(n2,lambda),t)\n",
    "        return density\n",
    "    end\n",
    "    \n",
    "    function h(x)\n",
    "        y = x[1]\n",
    "        t = x[2]\n",
    "        density = (1-cdf(Gamma(nn,lambda),abs(t2-t1-y))) * pdf(Gamma(n1,lambda), t) * pdf(Gamma(n2,lambda),t-y)\n",
    "        return density\n",
    "    end\n",
    "\n",
    "    a = [-100.0;0.0]\n",
    "    b = [0.0,100.0]\n",
    "    m = [0.0;0.0]\n",
    "    n = [100.0,100.0]\n",
    "    \n",
    "    bound = max(t1+n1,t2+n2)*lambda + 30.0\n",
    "    #bound = 20.0 \n",
    "    \n",
    "    o = bound.*[-1.0,-1.0]\n",
    "    p = bound.*[1.0,1.0]\n",
    "    # C1,err1 = hcubature(f,a,b,maxevals=10^7)\n",
    "    # C2,err2 = hcubature(g,m,n,maxevals=10^7)\n",
    "    # C = C1 + C2\n",
    "    # err = err1 + err2\n",
    "    C, err = hcubature(h,o,p,maxevals=10^8)\n",
    "    #C, err = hcubature(h,o,p,rtol = 10^(-3))\n",
    "\n",
    "    return C, err\n",
    "end"
   ]
  },
  {
   "cell_type": "code",
   "execution_count": null,
   "metadata": {},
   "outputs": [],
   "source": [
    "using Distributions\n",
    "function count_conflicts(n1,t1,n2,t2,nn,lambda,num_particles)\n",
    "    EA1 = rand(Gamma(n1,lambda),num_particles)\n",
    "    EA2 = rand(Gamma(n2,lambda),num_particles)\n",
    "    ed1 = rand(Gamma(nn,lambda),num_particles)\n",
    "    ed2 = rand(Gamma(nn,lambda),num_particles)\n",
    "    \n",
    "    r1_arrivals = t1 .+ EA1\n",
    "    r1_departures = r1_arrivals + ed1\n",
    "    r2_arrivals = t2 .+ EA2\n",
    "    r2_departures = r2_arrivals + ed2\n",
    "    \n",
    "    num_conflicts =length(findall(((r2_departures-r1_arrivals).>0) .& ((r1_departures-r2_arrivals).>0)   ))\n",
    "    \n",
    "    return num_conflicts/num_particles\n",
    "end"
   ]
  },
  {
   "cell_type": "code",
   "execution_count": null,
   "metadata": {
    "scrolled": false
   },
   "outputs": [],
   "source": [
    "n1 = rand(1:50)\n",
    "t1 = rand()*50\n",
    "n2 = rand(1:50)\n",
    "t2 = rand()*50\n",
    "nn = rand(1:5)\n",
    "lambda = rand()\n",
    "print(\"n1: \", n1, \" t1: \", t1, \" n2: \", n2, \" t2: \", t2, \" nn: \", nn, \" lambda: \", lambda)\n",
    "sleep(1)\n",
    "theoretical_cp = get_collision_probability_node2(n1,t1,n2,t2,nn,lambda)\n",
    "count_conflicts(n1,t1,n2,t2,nn,lambda,10000)"
   ]
  },
  {
   "cell_type": "code",
   "execution_count": null,
   "metadata": {},
   "outputs": [],
   "source": [
    "theoretical_cp"
   ]
  },
  {
   "cell_type": "code",
   "execution_count": null,
   "metadata": {},
   "outputs": [],
   "source": [
    "get_collision_probability_node2(n1,t1,n2,t2,nn,lambda)"
   ]
  },
  {
   "cell_type": "code",
   "execution_count": null,
   "metadata": {},
   "outputs": [],
   "source": [
    "get_collision_probability_node2(n1,t1,n2,t2,nn,lambda)"
   ]
  },
  {
   "cell_type": "code",
   "execution_count": null,
   "metadata": {},
   "outputs": [],
   "source": [
    "n1= 55\n",
    "t1= 6.7\n",
    "n2= 13 \n",
    "t2= 13.23\n",
    "nn= 46\n",
    "lambda= 0.08\n",
    "theoretical_cp = get_collision_probability_node2(n1,t1,n2,t2,nn,lambda)\n",
    "experimental_cp = count_conflicts(n1,t1,n2,t2,nn,lambda,2000000)"
   ]
  },
  {
   "cell_type": "code",
   "execution_count": null,
   "metadata": {},
   "outputs": [],
   "source": [
    "using DataFrames\n",
    "using Statistics\n",
    "using Plots\n",
    "df = DataFrame(num_particles=Int64[],cp=Float64[],experimental_cp=Float64[],etas=Float64[])\n",
    "x_list = [1,2,5,10,20,50,100,200,500,1000,2000,5000,10000,20000,50000,100000]\n",
    "max_attempts = 10000\n",
    "# Defining global variables\n",
    "n1 = 0\n",
    "n2 = 0\n",
    "t1 = 0\n",
    "t2 = 0\n",
    "nn = 0\n",
    "lambda = 0\n",
    "for k in 1:200\n",
    "    #println(\"Next k\")\n",
    "    theoretical_cp = 0.0\n",
    "    attempts = 0\n",
    "    while theoretical_cp < 0.01 && attempts < max_attempts\n",
    "        n1 = rand(1:20)\n",
    "        t1 = rand()*20\n",
    "        n2 = rand(1:20)\n",
    "        t2 = rand()*20\n",
    "        nn = rand(1:5)\n",
    "        lambda = rand()\n",
    "        theoretical_cp = get_collision_probability_node2(n1,t1,n2,t2,nn,lambda)[1]\n",
    "        attempts += 1\n",
    "    end\n",
    "    for x in x_list\n",
    "        experimental_cp = count_conflicts(n1,t1,n2,t2,nn,lambda,x)\n",
    "        ecart_relatif = abs(experimental_cp-theoretical_cp)/theoretical_cp\n",
    "        if abs(ecart_relatif) > 0.5 && x > 2000\n",
    "            println(\"Exception case occured! Returned something really wrong.\")\n",
    "            println(\"n1: \", n1, \" t1: \", t1, \" n2: \", n2, \" t2: \", t2, \" nn: \", nn, \" lambda: \", lambda)\n",
    "        end\n",
    "        push!(df,[x,theoretical_cp,experimental_cp,ecart_relatif])\n",
    "    end\n",
    "end\n",
    "\n",
    "ys = []\n",
    "stds = []\n",
    "for x in x_list\n",
    "    indexes = findall((df[1].==x) .& (df[2] .> 0.01) .& (df[2] .< 1.0) .& (df[3] .> 0.01))\n",
    "    values = df[4][indexes]\n",
    "    y = mean(values)\n",
    "    stdv = std(values)\n",
    "    append!(ys,y)\n",
    "    append!(stds,stdv)\n",
    "end\n",
    "\n",
    "plot(x_list,ys,yerror=stds,xscale = :log10)"
   ]
  },
  {
   "cell_type": "code",
   "execution_count": null,
   "metadata": {},
   "outputs": [],
   "source": [
    "plot(x_list,ys,yerror=stds,xscale = :log10,xlabel=\"Number of particles per simulation\", ylabel=\"Relative error\")"
   ]
  },
  {
   "cell_type": "code",
   "execution_count": null,
   "metadata": {
    "scrolled": true
   },
   "outputs": [],
   "source": [
    "df[4]"
   ]
  },
  {
   "cell_type": "code",
   "execution_count": null,
   "metadata": {},
   "outputs": [],
   "source": [
    "df[4]"
   ]
  },
  {
   "cell_type": "code",
   "execution_count": null,
   "metadata": {},
   "outputs": [],
   "source": [
    "indexes = findall(df[1].==1)\n",
    "df[1][indexes]"
   ]
  },
  {
   "cell_type": "code",
   "execution_count": null,
   "metadata": {},
   "outputs": [],
   "source": [
    "using Random\n",
    "typeof(shuffle(collect((1,2,3)))[1:end])"
   ]
  },
  {
   "cell_type": "code",
   "execution_count": null,
   "metadata": {},
   "outputs": [],
   "source": [
    "using LightGraphs, MetaGraphs\n",
    "#using Iterators\n",
    "\n",
    "v = Vector{Edge}()\n",
    "for k in 1:5\n",
    "    push!(v,Edge(k,k+1))\n",
    "end"
   ]
  },
  {
   "cell_type": "code",
   "execution_count": null,
   "metadata": {},
   "outputs": [],
   "source": [
    "typeof(v)"
   ]
  },
  {
   "cell_type": "code",
   "execution_count": null,
   "metadata": {},
   "outputs": [],
   "source": [
    "eltype(MetaGraph())"
   ]
  },
  {
   "cell_type": "code",
   "execution_count": null,
   "metadata": {},
   "outputs": [],
   "source": [
    "using JLD\n",
    "save_experiment_set(exp_set)"
   ]
  },
  {
   "cell_type": "code",
   "execution_count": null,
   "metadata": {},
   "outputs": [],
   "source": [
    "plot_SVtime_vs_nrobots([\"results/003Experiment_Set_001.jld\"])"
   ]
  },
  {
   "cell_type": "code",
   "execution_count": null,
   "metadata": {},
   "outputs": [],
   "source": [
    "using JLD\n",
    "exp_s = load(\"results/001Experiment_Set_001.jld\")"
   ]
  },
  {
   "cell_type": "code",
   "execution_count": null,
   "metadata": {},
   "outputs": [],
   "source": [
    "data = Vector{}()"
   ]
  },
  {
   "cell_type": "code",
   "execution_count": null,
   "metadata": {},
   "outputs": [],
   "source": [
    "using Pkg\n",
    "Pkg.add(\"DataFrames\")"
   ]
  },
  {
   "cell_type": "code",
   "execution_count": null,
   "metadata": {},
   "outputs": [],
   "source": [
    "using DataFrames\n",
    "thing = DataFrame(A=String[])"
   ]
  },
  {
   "cell_type": "code",
   "execution_count": null,
   "metadata": {},
   "outputs": [],
   "source": [
    "myvector = Vector{}([1.0,2.0])\n",
    "mytuple = (1,2,3)"
   ]
  },
  {
   "cell_type": "code",
   "execution_count": null,
   "metadata": {},
   "outputs": [],
   "source": [
    "thing = DataFrame(a=String[],b=Vector{Float64}[],c = Tuple{Float64,Float64}[])"
   ]
  },
  {
   "cell_type": "code",
   "execution_count": null,
   "metadata": {},
   "outputs": [],
   "source": [
    "push!(thing, [\"M\", myvector,(1.0,3.0)])"
   ]
  },
  {
   "cell_type": "code",
   "execution_count": null,
   "metadata": {},
   "outputs": [],
   "source": [
    "string(name,\"1\")"
   ]
  },
  {
   "cell_type": "code",
   "execution_count": null,
   "metadata": {},
   "outputs": [],
   "source": [
    "string('i',string(1))"
   ]
  },
  {
   "cell_type": "code",
   "execution_count": null,
   "metadata": {},
   "outputs": [],
   "source": [
    "string(1)"
   ]
  },
  {
   "cell_type": "code",
   "execution_count": null,
   "metadata": {},
   "outputs": [],
   "source": [
    "using LightGraphs, MetaGraphs"
   ]
  },
  {
   "cell_type": "code",
   "execution_count": null,
   "metadata": {},
   "outputs": [],
   "source": [
    "rand()"
   ]
  },
  {
   "cell_type": "code",
   "execution_count": null,
   "metadata": {},
   "outputs": [],
   "source": [
    "elt = [v for v in vertices(g)]"
   ]
  },
  {
   "cell_type": "code",
   "execution_count": null,
   "metadata": {},
   "outputs": [],
   "source": [
    "function dostuff!(a,b,c=0)\n",
    "    a[1] = 5\n",
    "    b[1] = 2\n",
    "    c = c+5\n",
    "end"
   ]
  },
  {
   "cell_type": "code",
   "execution_count": null,
   "metadata": {},
   "outputs": [],
   "source": [
    "a = [1,2]\n",
    "b = [-4]\n",
    "c = 13\n",
    "dostuff!(a,b,c)\n",
    "println(a)\n",
    "println(b)\n",
    "println(c)"
   ]
  },
  {
   "cell_type": "code",
   "execution_count": 5,
   "metadata": {},
   "outputs": [],
   "source": [
    "using CSV\n",
    "using DataFrames"
   ]
  },
  {
   "cell_type": "code",
   "execution_count": 6,
   "metadata": {},
   "outputs": [
    {
     "data": {
      "text/plain": [
       "\"Timing_test_9.csv\""
      ]
     },
     "execution_count": 6,
     "metadata": {},
     "output_type": "execute_result"
    }
   ],
   "source": [
    "CSV.write(\"Timing_test_9.csv\",data6)"
   ]
  },
  {
   "cell_type": "code",
   "execution_count": null,
   "metadata": {},
   "outputs": [],
   "source": [
    "retrieved_data = DataFrame(CSV.File(\"5test.csv\"))"
   ]
  },
  {
   "cell_type": "code",
   "execution_count": null,
   "metadata": {},
   "outputs": [],
   "source": [
    "mylist = retrieved_data.probability_error[1]"
   ]
  },
  {
   "cell_type": "code",
   "execution_count": null,
   "metadata": {},
   "outputs": [],
   "source": [
    "[parse(Float64, ss[1:end-1]) for ss in split(mylist[2:end])]"
   ]
  },
  {
   "cell_type": "code",
   "execution_count": null,
   "metadata": {},
   "outputs": [],
   "source": [
    "num_trials = 100000\n",
    "range(1,stop=num_trials,length=10)"
   ]
  },
  {
   "cell_type": "code",
   "execution_count": null,
   "metadata": {},
   "outputs": [],
   "source": [
    "maximum(data2[1])"
   ]
  },
  {
   "cell_type": "code",
   "execution_count": null,
   "metadata": {},
   "outputs": [],
   "source": [
    "idxs = findall(data2[2].==0.0)"
   ]
  },
  {
   "cell_type": "code",
   "execution_count": null,
   "metadata": {},
   "outputs": [],
   "source": [
    "max(1,2)"
   ]
  },
  {
   "cell_type": "code",
   "execution_count": null,
   "metadata": {},
   "outputs": [],
   "source": [
    "TA = zeros(Float64,1,2,3)"
   ]
  },
  {
   "cell_type": "code",
   "execution_count": null,
   "metadata": {},
   "outputs": [],
   "source": [
    "size(TA)"
   ]
  },
  {
   "cell_type": "code",
   "execution_count": null,
   "metadata": {},
   "outputs": [],
   "source": [
    "TA[1,1,1]"
   ]
  },
  {
   "cell_type": "code",
   "execution_count": null,
   "metadata": {},
   "outputs": [],
   "source": []
  }
 ],
 "metadata": {
  "@webio": {
   "lastCommId": null,
   "lastKernelId": null
  },
  "kernelspec": {
   "display_name": "Julia 1.0.3",
   "language": "julia",
   "name": "julia-1.0"
  },
  "language_info": {
   "file_extension": ".jl",
   "mimetype": "application/julia",
   "name": "julia",
   "version": "1.0.3"
  }
 },
 "nbformat": 4,
 "nbformat_minor": 2
}
