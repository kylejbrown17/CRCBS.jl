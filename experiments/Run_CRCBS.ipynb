{
 "cells": [
  {
   "cell_type": "code",
   "execution_count": 1,
   "metadata": {},
   "outputs": [
    {
     "name": "stderr",
     "output_type": "stream",
     "text": [
      "┌ Info: Recompiling stale cache file C:\\Users\\orian\\.julia\\compiled\\v1.1\\CRCBS\\26Ksw.ji for CRCBS [edef75b8-3ac4-11e9-0392-bf149c536ee3]\n",
      "└ @ Base loading.jl:1184\n",
      "┌ Warning: Package CRCBS does not have HCubature in its dependencies:\n",
      "│ - If you have CRCBS checked out for development and have\n",
      "│   added HCubature as a dependency but haven't updated your primary\n",
      "│   environment's manifest file, try `Pkg.resolve()`.\n",
      "│ - Otherwise you may need to report an issue with CRCBS\n",
      "└ Loading HCubature into CRCBS from project dependency, future warnings for CRCBS are suppressed.\n",
      "WARNING: Method definition get_dist_matrix(LightGraphs.AbstractGraph{T} where T) in module CRCBS at C:\\Users\\orian\\.julia\\dev\\CRCBS\\src\\utils.jl:11 overwritten at C:\\Users\\orian\\.julia\\dev\\CRCBS\\src\\utils.jl:11.\n",
      "┌ Warning: Replacing docs for `CRCBS.get_dist_matrix :: Tuple{LightGraphs.AbstractGraph}` in module `CRCBS`\n",
      "└ @ Base.Docs docs\\Docs.jl:223\n",
      "WARNING: Method definition pad_matrix(Array{T, 2}, Tuple{Int64, Int64}, T) where {T} in module CRCBS at C:\\Users\\orian\\.julia\\dev\\CRCBS\\src\\utils.jl:22 overwritten at C:\\Users\\orian\\.julia\\dev\\CRCBS\\src\\utils.jl:22.\n",
      "┌ Warning: Replacing docs for `CRCBS.pad_matrix :: Union{Tuple{T}, Tuple{Array{T,2},Tuple{Int64,Int64},T}} where T` in module `CRCBS`\n",
      "└ @ Base.Docs docs\\Docs.jl:223\n",
      "WARNING: Method definition initialize_full_grid_graph() in module CRCBS at C:\\Users\\orian\\.julia\\dev\\CRCBS\\src\\utils.jl:37 overwritten at C:\\Users\\orian\\.julia\\dev\\CRCBS\\src\\utils.jl:37.\n",
      "┌ Warning: Replacing docs for `CRCBS.initialize_full_grid_graph :: Tuple{}` in module `CRCBS`\n",
      "└ @ Base.Docs docs\\Docs.jl:223\n",
      "WARNING: Method definition initialize_regular_grid_graph() in module CRCBS at C:\\Users\\orian\\.julia\\dev\\CRCBS\\src\\utils.jl:81 overwritten at C:\\Users\\orian\\.julia\\dev\\CRCBS\\src\\utils.jl:81.\n",
      "WARNING: Method definition #initialize_regular_grid_graph(Any, typeof(CRCBS.initialize_regular_grid_graph)) in module CRCBS overwritten.\n",
      "┌ Warning: Replacing docs for `CRCBS.initialize_regular_grid_graph :: Tuple{}` in module `CRCBS`\n",
      "└ @ Base.Docs docs\\Docs.jl:223\n",
      "WARNING: Method definition initialize_full_grid_graph() in module CRCBS at C:\\Users\\orian\\.julia\\dev\\CRCBS\\src\\utils.jl:37 overwritten at C:\\Users\\orian\\.julia\\dev\\CRCBS\\src\\CT_graph.jl:15.\n"
     ]
    },
    {
     "ename": "ArgumentError",
     "evalue": "ArgumentError: Package CBS not found in current path:\n- Run `import Pkg; Pkg.add(\"CBS\")` to install the CBS package.\n",
     "output_type": "error",
     "traceback": [
      "ArgumentError: Package CBS not found in current path:\n- Run `import Pkg; Pkg.add(\"CBS\")` to install the CBS package.\n",
      "",
      "Stacktrace:",
      " [1] require(::Module, ::Symbol) at .\\loading.jl:823",
      " [2] top-level scope at In[1]:2"
     ]
    }
   ],
   "source": [
    "using CRCBS"
   ]
  },
  {
   "cell_type": "code",
   "execution_count": 2,
   "metadata": {},
   "outputs": [
    {
     "data": {
      "text/plain": [
       "{84, 216} undirected Int64 metagraph with Float64 weights defined by :weight (default weight 1.0)"
      ]
     },
     "execution_count": 2,
     "metadata": {},
     "output_type": "execute_result"
    }
   ],
   "source": [
    "G = initialize_regular_grid_graph_CT()"
   ]
  },
  {
   "cell_type": "code",
   "execution_count": 3,
   "metadata": {},
   "outputs": [
    {
     "data": {
      "text/plain": [
       "MAPF{MetaGraphs.MetaGraph{Int64,Float64}}({84, 216} undirected Int64 metagraph with Float64 weights defined by :weight (default weight 1.0), [1, 5, 8], [4, 1, 2], 1.0, 0.1, 0.5)"
      ]
     },
     "execution_count": 3,
     "metadata": {},
     "output_type": "execute_result"
    }
   ],
   "source": [
    "starts = [1,5,8]\n",
    "goals = [4,1,2]\n",
    "lambda = 1.0\n",
    "epsilon = 0.1\n",
    "t_delay = 0.5\n",
    "mapf = MAPF(G,starts,goals,lambda,epsilon,t_delay)"
   ]
  },
  {
   "cell_type": "code",
   "execution_count": 6,
   "metadata": {},
   "outputs": [
    {
     "ename": "MethodError",
     "evalue": "MethodError: no method matching get_final_node(::Array{LightGraphs.SimpleGraphs.SimpleEdge{Int64},1})\nClosest candidates are:\n  get_final_node(!Matched::Array{LightGraphs.SimpleGraphs.SimpleEdge,1}) at C:\\Users\\orian\\.julia\\dev\\CRCBS\\src\\CRCBS.jl:49",
     "output_type": "error",
     "traceback": [
      "MethodError: no method matching get_final_node(::Array{LightGraphs.SimpleGraphs.SimpleEdge{Int64},1})\nClosest candidates are:\n  get_final_node(!Matched::Array{LightGraphs.SimpleGraphs.SimpleEdge,1}) at C:\\Users\\orian\\.julia\\dev\\CRCBS\\src\\CRCBS.jl:49",
      "",
      "Stacktrace:",
      " [1] violates_constraints(::CRCBS.ConstraintDict, ::Int64, ::Array{LightGraphs.SimpleGraphs.SimpleEdge{Int64},1}, ::MAPF{MetaGraphs.MetaGraph{Int64,Float64}}) at C:\\Users\\orian\\.julia\\dev\\CRCBS\\src\\CRCBS.jl:293",
      " [2] a_star_impl!(::MetaGraphs.MetaGraph{Int64,Float64}, ::Int64, ::DataStructures.PriorityQueue{Tuple{Float64,Array{LightGraphs.SimpleGraphs.SimpleEdge{Int64},1},Int64},Float64,Base.Order.ForwardOrdering}, ::CRCBS.ConstraintDict, ::MAPF{MetaGraphs.MetaGraph{Int64,Float64}}, ::Array{UInt8,1}, ::MetaGraphs.MetaWeights{Int64,Float64}, ::getfield(CRCBS, Symbol(\"##24#25\")){Float64}) at C:\\Users\\orian\\.julia\\dev\\CRCBS\\src\\low_level_search\\a_star.jl:22",
      " [3] a_star(::MetaGraphs.MetaGraph{Int64,Float64}, ::Int64, ::Int64, ::CRCBS.ConstraintDict, ::MAPF{MetaGraphs.MetaGraph{Int64,Float64}}, ::MetaGraphs.MetaWeights{Int64,Float64}, ::Function) at C:\\Users\\orian\\.julia\\dev\\CRCBS\\src\\low_level_search\\a_star.jl:77",
      " [4] a_star at C:\\Users\\orian\\.julia\\dev\\CRCBS\\src\\low_level_search\\a_star.jl:68 [inlined] (repeats 2 times)",
      " [5] low_level_search!(::MAPF{MetaGraphs.MetaGraph{Int64,Float64}}, ::CRCBS.ConstraintTreeNode, ::Array{Int64,1}, ::typeof(LightGraphs.a_star)) at C:\\Users\\orian\\.julia\\dev\\CRCBS\\src\\CRCBS.jl:679",
      " [6] CTCBS(::MAPF{MetaGraphs.MetaGraph{Int64,Float64}}) at C:\\Users\\orian\\.julia\\dev\\CRCBS\\src\\CRCBS.jl:678",
      " [7] top-level scope at In[6]:1"
     ]
    }
   ],
   "source": [
    "CTCBS(mapf)"
   ]
  },
  {
   "cell_type": "code",
   "execution_count": 5,
   "metadata": {},
   "outputs": [
    {
     "ename": "UndefVarError",
     "evalue": "UndefVarError: CBS not defined",
     "output_type": "error",
     "traceback": [
      "UndefVarError: CBS not defined",
      "",
      "Stacktrace:",
      " [1] top-level scope at In[5]:1"
     ]
    }
   ],
   "source": [
    "CBS(mapf)"
   ]
  },
  {
   "cell_type": "code",
   "execution_count": 13,
   "metadata": {},
   "outputs": [
    {
     "ename": "UndefVarError",
     "evalue": "UndefVarError: Edge not defined",
     "output_type": "error",
     "traceback": [
      "UndefVarError: Edge not defined",
      "",
      "Stacktrace:",
      " [1] top-level scope at In[13]:2"
     ]
    }
   ],
   "source": [
    "using MetaGraphs\n",
    "e = Edge(1,2)"
   ]
  },
  {
   "cell_type": "code",
   "execution_count": 12,
   "metadata": {},
   "outputs": [
    {
     "name": "stdout",
     "output_type": "stream",
     "text": [
      "\u001b[32m\u001b[1m Resolving\u001b[22m\u001b[39m package versions...\n",
      "\u001b[32m\u001b[1m  Updating\u001b[22m\u001b[39m `C:\\Users\\orian\\.julia\\environments\\v1.1\\Project.toml`\n",
      "\u001b[90m [no changes]\u001b[39m\n",
      "\u001b[32m\u001b[1m  Updating\u001b[22m\u001b[39m `C:\\Users\\orian\\.julia\\environments\\v1.1\\Manifest.toml`\n",
      "\u001b[90m [no changes]\u001b[39m\n"
     ]
    }
   ],
   "source": []
  },
  {
   "cell_type": "code",
   "execution_count": null,
   "metadata": {
    "collapsed": true
   },
   "outputs": [],
   "source": []
  }
 ],
 "metadata": {
  "kernelspec": {
   "display_name": "Julia 1.1.0",
   "language": "julia",
   "name": "julia-1.1"
  },
  "language_info": {
   "file_extension": ".jl",
   "mimetype": "application/julia",
   "name": "julia",
   "version": "1.1.0"
  }
 },
 "nbformat": 4,
 "nbformat_minor": 2
}
