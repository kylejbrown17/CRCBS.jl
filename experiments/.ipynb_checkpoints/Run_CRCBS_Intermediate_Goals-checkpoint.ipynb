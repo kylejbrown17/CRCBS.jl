{
 "cells": [
  {
   "cell_type": "code",
   "execution_count": 2,
   "metadata": {},
   "outputs": [],
   "source": [
    "using CRCBS\n",
    "using LightGraphs,MetaGraphs"
   ]
  },
  {
   "cell_type": "code",
   "execution_count": 4,
   "metadata": {
    "scrolled": true
   },
   "outputs": [
    {
     "data": {
      "text/plain": [
       "MAPF{MetaDiGraph{Int64,Float64}}({121, 561} directed Int64 metagraph with Float64 weights defined by :weight (default weight 1.0), [1, 5, 8, 12], [0.0, 1.0, 2.0, 3.0], Array{Int64,1}[[4], [1, 3], [2], [25]], Array{Float64,1}[[0.0], [2.0, 0.0], [1.0], [2.0]], 0.5, 0.1, 0.5)"
      ]
     },
     "execution_count": 4,
     "metadata": {},
     "output_type": "execute_result"
    }
   ],
   "source": [
    "G = initialize_full_grid_graph_CT()\n",
    "starts = [1,5,8,12]\n",
    "start_times = [0.0,1.0,2.0,3.0]\n",
    "goals = [[4],[1,3],[2],[25]]\n",
    "goal_completion_times = [[0.0],[2.0,0.0],[1.0],[2.0]]\n",
    "lambda = 0.5\n",
    "epsilon = 0.1\n",
    "t_delay = 0.5\n",
    "mapf = MAPF(G,starts,start_times,goals,goal_completion_times,lambda,epsilon,t_delay)"
   ]
  },
  {
   "cell_type": "code",
   "execution_count": 8,
   "metadata": {},
   "outputs": [
    {
     "data": {
      "text/plain": [
       "0-element Array{Int64,1}"
      ]
     },
     "execution_count": 8,
     "metadata": {},
     "output_type": "execute_result"
    }
   ],
   "source": [
    "Array{Int64,1}()"
   ]
  },
  {
   "cell_type": "code",
   "execution_count": 5,
   "metadata": {},
   "outputs": [
    {
     "ename": "MethodError",
     "evalue": "MethodError: no method matching dijkstra_shortest_paths(::MetaDiGraph{Int64,Float64}, ::Int64, ::Nothing)\nClosest candidates are:\n  dijkstra_shortest_paths(::AbstractGraph, ::Integer) at /home/peltzer/.julia/packages/LightGraphs/WBY2S/src/shortestpaths/dijkstra.jl:140\n  dijkstra_shortest_paths(::AbstractGraph, ::Integer, !Matched::AbstractArray{T,2} where T; allpaths, trackvertices) at /home/peltzer/.julia/packages/LightGraphs/WBY2S/src/shortestpaths/dijkstra.jl:140\n  dijkstra_shortest_paths(::AbstractGraph, !Matched::Array{U<:Integer,1}) where U<:Integer at /home/peltzer/.julia/packages/LightGraphs/WBY2S/src/shortestpaths/dijkstra.jl:63\n  ...",
     "output_type": "error",
     "traceback": [
      "MethodError: no method matching dijkstra_shortest_paths(::MetaDiGraph{Int64,Float64}, ::Int64, ::Nothing)\nClosest candidates are:\n  dijkstra_shortest_paths(::AbstractGraph, ::Integer) at /home/peltzer/.julia/packages/LightGraphs/WBY2S/src/shortestpaths/dijkstra.jl:140\n  dijkstra_shortest_paths(::AbstractGraph, ::Integer, !Matched::AbstractArray{T,2} where T; allpaths, trackvertices) at /home/peltzer/.julia/packages/LightGraphs/WBY2S/src/shortestpaths/dijkstra.jl:140\n  dijkstra_shortest_paths(::AbstractGraph, !Matched::Array{U<:Integer,1}) where U<:Integer at /home/peltzer/.julia/packages/LightGraphs/WBY2S/src/shortestpaths/dijkstra.jl:63\n  ...",
      "",
      "Stacktrace:",
      " [1] compute_distance_matrix(::MetaDiGraph{Int64,Float64}, ::Nothing) at /home/peltzer/.julia/dev/CRCBS/src/utils.jl:37",
      " [2] CTCBS(::MAPF{MetaDiGraph{Int64,Float64}}, ::Function) at /home/peltzer/.julia/dev/CRCBS/src/CRCBS.jl:960",
      " [3] CTCBS(::MAPF{MetaDiGraph{Int64,Float64}}) at /home/peltzer/.julia/dev/CRCBS/src/CRCBS.jl:957",
      " [4] top-level scope at In[5]:1"
     ]
    }
   ],
   "source": [
    "result = CTCBS(mapf)"
   ]
  },
  {
   "cell_type": "code",
   "execution_count": null,
   "metadata": {},
   "outputs": [],
   "source": []
  }
 ],
 "metadata": {
  "@webio": {
   "lastCommId": null,
   "lastKernelId": null
  },
  "kernelspec": {
   "display_name": "Julia 1.0.3",
   "language": "julia",
   "name": "julia-1.0"
  },
  "language_info": {
   "file_extension": ".jl",
   "mimetype": "application/julia",
   "name": "julia",
   "version": "1.0.3"
  }
 },
 "nbformat": 4,
 "nbformat_minor": 2
}
