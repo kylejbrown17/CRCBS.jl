{
 "cells": [
  {
   "cell_type": "code",
   "execution_count": 1,
   "metadata": {},
   "outputs": [
    {
     "name": "stderr",
     "output_type": "stream",
     "text": [
      "┌ Info: Recompiling stale cache file /home/peltzer/.julia/compiled/v1.0/CRCBS/26Ksw.ji for CRCBS [edef75b8-3ac4-11e9-0392-bf149c536ee3]\n",
      "└ @ Base loading.jl:1190\n",
      "┌ Warning: Package CRCBS does not have JLD in its dependencies:\n",
      "│ - If you have CRCBS checked out for development and have\n",
      "│   added JLD as a dependency but haven't updated your primary\n",
      "│   environment's manifest file, try `Pkg.resolve()`.\n",
      "│ - Otherwise you may need to report an issue with CRCBS\n",
      "└ Loading JLD into CRCBS from project dependency, future warnings for CRCBS are suppressed.\n",
      "WARNING: Method definition get_dist_matrix(LightGraphs.AbstractGraph{T} where T) in module CRCBS at /home/peltzer/.julia/dev/CRCBS/src/utils.jl:11 overwritten at /home/peltzer/.julia/dev/CRCBS/src/utils.jl:11.\n",
      "┌ Warning: Replacing docs for `CRCBS.get_dist_matrix :: Tuple{LightGraphs.AbstractGraph}` in module `CRCBS`\n",
      "└ @ Base.Docs docs/Docs.jl:223\n",
      "WARNING: Method definition pad_matrix(Array{T, 2}, Tuple{Int64, Int64}, T) where {T} in module CRCBS at /home/peltzer/.julia/dev/CRCBS/src/utils.jl:22 overwritten at /home/peltzer/.julia/dev/CRCBS/src/utils.jl:22.\n",
      "┌ Warning: Replacing docs for `CRCBS.pad_matrix :: Union{Tuple{T}, Tuple{Array{T,2},Tuple{Int64,Int64},T}} where T` in module `CRCBS`\n",
      "└ @ Base.Docs docs/Docs.jl:223\n",
      "WARNING: Method definition compute_distance_matrix(Any, Any) in module CRCBS at /home/peltzer/.julia/dev/CRCBS/src/utils.jl:32 overwritten at /home/peltzer/.julia/dev/CRCBS/src/utils.jl:32.\n",
      "WARNING: Method definition sample_wo_repl(Any, Any) in module CRCBS at /home/peltzer/.julia/dev/CRCBS/src/utils.jl:135 overwritten at /home/peltzer/.julia/dev/CRCBS/src/utils.jl:135.\n"
     ]
    }
   ],
   "source": [
    "using CRCBS\n",
    "using Distributions\n",
    "using HCubature\n",
    "using CSV"
   ]
  },
  {
   "cell_type": "code",
   "execution_count": null,
   "metadata": {},
   "outputs": [
    {
     "name": "stdout",
     "output_type": "stream",
     "text": [
      "Started \n",
      "Check1 \n",
      "Check2 \n",
      "ASTAR: 50\n",
      "\n",
      " \n",
      "ASTAR: 1\n",
      "ASTAR: 1\n",
      "\n",
      " \n",
      "ASTAR: 1\n",
      "ASTAR: 1\n",
      "\n",
      " \n",
      "ASTAR: 1\n",
      "ASTAR: 1\n",
      "\n",
      " \n",
      "ASTAR: 1\n",
      "ASTAR: 1\n",
      "\n",
      " \n",
      "ASTAR: 1\n",
      "ASTAR: 1\n",
      "\n",
      " \n",
      "ASTAR: 1\n",
      "ASTAR: 1\n"
     ]
    }
   ],
   "source": [
    "name = \"Timing_test_13\"\n",
    "num_agents = tuple(50)\n",
    "grid_x = tuple(40)\n",
    "grid_y = tuple(40)\n",
    "filling_density = tuple(1.0)\n",
    "lambda = 0.2\n",
    "epsilon = 0.2\n",
    "t_delay = 0.2\n",
    "max_num_experiments = 5\n",
    "num_trials = 2000\n",
    "\n",
    "data = run_experiment_set_CRCBS(name,num_agents,grid_x,grid_y,filling_density,lambda,epsilon,t_delay,max_num_experiments,num_trials)"
   ]
  },
  {
   "cell_type": "code",
   "execution_count": null,
   "metadata": {},
   "outputs": [],
   "source": [
    "name = \"Timing_test_12\"\n",
    "sub_name=\"Timing_test_12_1\"\n",
    "data2 = run_problem(name; sub_name=sub_name, lambda=0.2,epsilon=0.1,t_delay=1.0,dataframe=data,num_trials=2000);\n",
    "data3 = run_problem(name; sub_name=sub_name, lambda=0.2,epsilon=0.05,t_delay=1.0,dataframe=data2,num_trials=2000);\n",
    "data4 = run_problem(name; sub_name=sub_name, lambda=0.2,epsilon=0.01,t_delay=1.0,dataframe=data3,num_trials=2000);\n",
    "data5 = run_problem(name; sub_name=sub_name, lambda=0.2,epsilon=0.001,t_delay=1.0,dataframe=data4,num_trials=2000);\n",
    "data6 = run_problem(name; sub_name=sub_name, lambda=0.2,epsilon=0.0001,t_delay=1.0,dataframe=data5,num_trials=2000);\n",
    "sub_name=\"Timing_test_12_2\"\n",
    "data2 = run_problem(name; sub_name=sub_name, lambda=0.2,epsilon=0.1,t_delay=1.0,dataframe=data6,num_trials=2000);\n",
    "data3 = run_problem(name; sub_name=sub_name, lambda=0.2,epsilon=0.05,t_delay=1.0,dataframe=data2,num_trials=2000);\n",
    "data4 = run_problem(name; sub_name=sub_name, lambda=0.2,epsilon=0.01,t_delay=1.0,dataframe=data3,num_trials=2000);\n",
    "data5 = run_problem(name; sub_name=sub_name, lambda=0.2,epsilon=0.001,t_delay=1.0,dataframe=data4,num_trials=2000);\n",
    "data6 = run_problem(name; sub_name=sub_name, lambda=0.2,epsilon=0.0001,t_delay=1.0,dataframe=data5,num_trials=2000);\n",
    "sub_name=\"Timing_test_12_3\"\n",
    "data2 = run_problem(name; sub_name=sub_name, lambda=0.2,epsilon=0.1,t_delay=1.0,dataframe=data6,num_trials=2000);\n",
    "data3 = run_problem(name; sub_name=sub_name, lambda=0.2,epsilon=0.05,t_delay=1.0,dataframe=data2,num_trials=2000);\n",
    "data4 = run_problem(name; sub_name=sub_name, lambda=0.2,epsilon=0.01,t_delay=1.0,dataframe=data3,num_trials=2000);\n",
    "data5 = run_problem(name; sub_name=sub_name, lambda=0.2,epsilon=0.001,t_delay=1.0,dataframe=data4,num_trials=2000);\n",
    "data6 = run_problem(name; sub_name=sub_name, lambda=0.2,epsilon=0.0001,t_delay=1.0,dataframe=data5,num_trials=2000);\n",
    "sub_name=\"Timing_test_12_4\"\n",
    "data2 = run_problem(name; sub_name=sub_name, lambda=0.2,epsilon=0.1,t_delay=1.0,dataframe=data6,num_trials=2000);\n",
    "data3 = run_problem(name; sub_name=sub_name, lambda=0.2,epsilon=0.05,t_delay=1.0,dataframe=data2,num_trials=2000);\n",
    "data4 = run_problem(name; sub_name=sub_name, lambda=0.2,epsilon=0.01,t_delay=1.0,dataframe=data3,num_trials=2000);\n",
    "data5 = run_problem(name; sub_name=sub_name, lambda=0.2,epsilon=0.001,t_delay=1.0,dataframe=data4,num_trials=2000);\n",
    "data6 = run_problem(name; sub_name=sub_name, lambda=0.2,epsilon=0.0001,t_delay=1.0,dataframe=data5,num_trials=2000);\n",
    "sub_name=\"Timing_test_12_5\"\n",
    "data2 = run_problem(name; sub_name=sub_name, lambda=0.2,epsilon=0.1,t_delay=1.0,dataframe=data6,num_trials=2000);\n",
    "data3 = run_problem(name; sub_name=sub_name, lambda=0.2,epsilon=0.05,t_delay=1.0,dataframe=data2,num_trials=2000);\n",
    "data4 = run_problem(name; sub_name=sub_name, lambda=0.2,epsilon=0.01,t_delay=1.0,dataframe=data3,num_trials=2000);\n",
    "data5 = run_problem(name; sub_name=sub_name, lambda=0.2,epsilon=0.001,t_delay=1.0,dataframe=data4,num_trials=2000);\n",
    "data6 = run_problem(name; sub_name=sub_name, lambda=0.2,epsilon=0.0001,t_delay=1.0,dataframe=data5,num_trials=2000);"
   ]
  }
 ],
 "metadata": {
  "kernelspec": {
   "display_name": "Julia 1.0.3",
   "language": "julia",
   "name": "julia-1.0"
  },
  "language_info": {
   "file_extension": ".jl",
   "mimetype": "application/julia",
   "name": "julia",
   "version": "1.0.3"
  }
 },
 "nbformat": 4,
 "nbformat_minor": 2
}
