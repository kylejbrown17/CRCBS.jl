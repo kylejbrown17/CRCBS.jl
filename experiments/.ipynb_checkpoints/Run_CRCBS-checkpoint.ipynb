{
 "cells": [
  {
   "cell_type": "code",
   "execution_count": null,
   "metadata": {},
   "outputs": [],
   "source": [
    "using CRCBS\n",
    "using LightGraphs, MetaGraphs\n",
    "G = initialize_full_grid_graph_CT()\n",
    "starts = [1,5,8]\n",
    "goals = [4,1,2]\n",
    "lambda = 0.5\n",
    "epsilon = 0.1\n",
    "t_delay = 0.5\n",
    "mapf = MAPF(G,starts,goals,lambda,epsilon,t_delay)"
   ]
  },
  {
   "cell_type": "code",
   "execution_count": null,
   "metadata": {},
   "outputs": [],
   "source": []
  },
  {
   "cell_type": "code",
   "execution_count": null,
   "metadata": {},
   "outputs": [],
   "source": [
    "CTCBS(mapf)"
   ]
  },
  {
   "cell_type": "code",
   "execution_count": null,
   "metadata": {},
   "outputs": [],
   "source": [
    "mg = MetaDiGraph()\n",
    "add_vertex!(mg,Dict(:x=>1,:n_delay=>1.0))\n",
    "add_vertex!(mg,Dict(:x=>2,:n_delay=>1.0))\n",
    "add_edge!(mg,1,2)\n",
    "set_prop!(mg,Edge(1,2),:foo,5)"
   ]
  },
  {
   "cell_type": "code",
   "execution_count": null,
   "metadata": {},
   "outputs": [],
   "source": [
    "for v in vertices(mg)\n",
    "    print(v)\n",
    "end"
   ]
  },
  {
   "cell_type": "code",
   "execution_count": null,
   "metadata": {},
   "outputs": [],
   "source": [
    "Edge(1,2).src"
   ]
  },
  {
   "cell_type": "code",
   "execution_count": null,
   "metadata": {},
   "outputs": [],
   "source": [
    "get_prop(mg,Edge(2,1),:foo)"
   ]
  },
  {
   "cell_type": "code",
   "execution_count": null,
   "metadata": {},
   "outputs": [],
   "source": [
    "using JLD"
   ]
  },
  {
   "cell_type": "code",
   "execution_count": null,
   "metadata": {},
   "outputs": [],
   "source": [
    "jldopen(\"../experiments/001test.jld\",\"w\") do file\n",
    "    addrequire(file,CRCBS)\n",
    "    write(file,\"data\",1)\n",
    "end"
   ]
  },
  {
   "cell_type": "code",
   "execution_count": 1,
   "metadata": {
    "scrolled": true
   },
   "outputs": [
    {
     "name": "stderr",
     "output_type": "stream",
     "text": [
      "┌ Info: Recompiling stale cache file /home/peltzer/.julia/compiled/v1.0/CRCBS/26Ksw.ji for CRCBS [edef75b8-3ac4-11e9-0392-bf149c536ee3]\n",
      "└ @ Base loading.jl:1190\n",
      "┌ Warning: Package CRCBS does not have JLD in its dependencies:\n",
      "│ - If you have CRCBS checked out for development and have\n",
      "│   added JLD as a dependency but haven't updated your primary\n",
      "│   environment's manifest file, try `Pkg.resolve()`.\n",
      "│ - Otherwise you may need to report an issue with CRCBS\n",
      "└ Loading JLD into CRCBS from project dependency, future warnings for CRCBS are suppressed.\n",
      "WARNING: Method definition get_dist_matrix(LightGraphs.AbstractGraph{T} where T) in module CRCBS at /home/peltzer/.julia/dev/CRCBS/src/utils.jl:10 overwritten at /home/peltzer/.julia/dev/CRCBS/src/utils.jl:10.\n",
      "┌ Warning: Replacing docs for `CRCBS.get_dist_matrix :: Tuple{LightGraphs.AbstractGraph}` in module `CRCBS`\n",
      "└ @ Base.Docs docs/Docs.jl:223\n",
      "WARNING: Method definition pad_matrix(Array{T, 2}, Tuple{Int64, Int64}, T) where {T} in module CRCBS at /home/peltzer/.julia/dev/CRCBS/src/utils.jl:21 overwritten at /home/peltzer/.julia/dev/CRCBS/src/utils.jl:21.\n",
      "┌ Warning: Replacing docs for `CRCBS.pad_matrix :: Union{Tuple{T}, Tuple{Array{T,2},Tuple{Int64,Int64},T}} where T` in module `CRCBS`\n",
      "└ @ Base.Docs docs/Docs.jl:223\n",
      "WARNING: Method definition sample_wo_repl(Any, Any) in module CRCBS at /home/peltzer/.julia/dev/CRCBS/src/utils.jl:123 overwritten at /home/peltzer/.julia/dev/CRCBS/src/utils.jl:123.\n"
     ]
    }
   ],
   "source": [
    "using CRCBS\n",
    "using Distributions\n",
    "using HCubature"
   ]
  },
  {
   "cell_type": "code",
   "execution_count": 2,
   "metadata": {},
   "outputs": [
    {
     "name": "stdout",
     "output_type": "stream",
     "text": [
      "Started \n",
      "Check1 \n",
      "Check2 \n",
      "\n",
      " \n",
      "Optimal Solution Found! Cost = 31\n",
      "Total time spent on integration: 0.0 \n",
      "Time spent performing optimization: 1.255808631\n",
      "\n",
      " \n",
      "Optimal Solution Found! Cost = 34\n",
      "Total time spent on integration: 1.4854630949999998 \n",
      "Time spent performing optimization: 2.179765121\n",
      "Interaction!\n",
      "\n",
      " \n",
      "Optimal Solution Found! Cost = 65\n",
      "Total time spent on integration: 0.192334692 \n",
      "Time spent performing optimization: 388.675508842\n",
      "Interaction!\n",
      "Interaction!\n",
      "Interaction!\n",
      "Interaction!\n",
      "Interaction!\n",
      "Interaction!\n",
      "Interaction at edge!\n",
      "Check3 \n"
     ]
    },
    {
     "data": {
      "text/html": [
       "<table class=\"data-frame\"><thead><tr><th></th><th>name</th><th>Id</th><th>CBS</th><th>success</th><th>lambda</th><th>epsilon</th><th>t_delay</th><th>num_trials</th><th>num_agents</th><th>cbs_time_steps</th><th>solving_time</th><th>solution_cost</th><th>global_cp</th><th>conflict_counts_locally</th><th>probability_error</th></tr><tr><th></th><th>String</th><th>Int64</th><th>Bool</th><th>Bool</th><th>Float64</th><th>Float64</th><th>Float64</th><th>Int64</th><th>Int64</th><th>Int64</th><th>Float64</th><th>Float64</th><th>Float64</th><th>Array…</th><th>Tuple…</th></tr></thead><tbody><p>3 rows × 15 columns</p><tr><th>1</th><td>First_test_1</td><td>1</td><td>false</td><td>true</td><td>0.2</td><td>0.2</td><td>0.5</td><td>30</td><td>3</td><td>-1</td><td>1.25581</td><td>31.0</td><td>0.0</td><td>[]</td><td>(NaN, NaN)</td></tr><tr><th>2</th><td>First_test_2</td><td>2</td><td>false</td><td>true</td><td>0.2</td><td>0.2</td><td>0.5</td><td>30</td><td>4</td><td>-1</td><td>2.17977</td><td>34.0</td><td>0.0333333</td><td>[1.0]</td><td>(0.0810733, NaN)</td></tr><tr><th>3</th><td>First_test_3</td><td>3</td><td>false</td><td>true</td><td>0.2</td><td>0.2</td><td>0.5</td><td>30</td><td>7</td><td>-1</td><td>388.676</td><td>65.0</td><td>0.0</td><td>[0.0, 0.0, 0.0, 0.0, 0.0, 0.0, 0.0]</td><td>(4.97687e-5, 6.85217e-5)</td></tr></tbody></table>"
      ],
      "text/latex": [
       "\\begin{tabular}{r|ccccccccccccccc}\n",
       "\t& name & Id & CBS & success & lambda & epsilon & t\\_delay & num\\_trials & num\\_agents & cbs\\_time\\_steps & solving\\_time & solution\\_cost & global\\_cp & conflict\\_counts\\_locally & probability\\_error\\\\\n",
       "\t\\hline\n",
       "\t& String & Int64 & Bool & Bool & Float64 & Float64 & Float64 & Int64 & Int64 & Int64 & Float64 & Float64 & Float64 & Array… & Tuple…\\\\\n",
       "\t\\hline\n",
       "\t1 & First\\_test\\_1 & 1 & false & true & 0.2 & 0.2 & 0.5 & 30 & 3 & -1 & 1.25581 & 31.0 & 0.0 & [] & (NaN, NaN) \\\\\n",
       "\t2 & First\\_test\\_2 & 2 & false & true & 0.2 & 0.2 & 0.5 & 30 & 4 & -1 & 2.17977 & 34.0 & 0.0333333 & [1.0] & (0.0810733, NaN) \\\\\n",
       "\t3 & First\\_test\\_3 & 3 & false & true & 0.2 & 0.2 & 0.5 & 30 & 7 & -1 & 388.676 & 65.0 & 0.0 & [0.0, 0.0, 0.0, 0.0, 0.0, 0.0, 0.0] & (4.97687e-5, 6.85217e-5) \\\\\n",
       "\\end{tabular}\n"
      ],
      "text/plain": [
       "3×15 DataFrames.DataFrame. Omitted printing of 8 columns\n",
       "│ Row │ name         │ Id    │ CBS   │ success │ lambda  │ epsilon │ t_delay │\n",
       "│     │ \u001b[90mString\u001b[39m       │ \u001b[90mInt64\u001b[39m │ \u001b[90mBool\u001b[39m  │ \u001b[90mBool\u001b[39m    │ \u001b[90mFloat64\u001b[39m │ \u001b[90mFloat64\u001b[39m │ \u001b[90mFloat64\u001b[39m │\n",
       "├─────┼──────────────┼───────┼───────┼─────────┼─────────┼─────────┼─────────┤\n",
       "│ 1   │ First_test_1 │ 1     │ false │ true    │ 0.2     │ 0.2     │ 0.5     │\n",
       "│ 2   │ First_test_2 │ 2     │ false │ true    │ 0.2     │ 0.2     │ 0.5     │\n",
       "│ 3   │ First_test_3 │ 3     │ false │ true    │ 0.2     │ 0.2     │ 0.5     │"
      ]
     },
     "execution_count": 2,
     "metadata": {},
     "output_type": "execute_result"
    }
   ],
   "source": [
    "name = \"First_test\"\n",
    "num_agents = (3,4,2)\n",
    "grid_x = tuple(10)\n",
    "grid_y = tuple(10)\n",
    "filling_density = tuple(1.0)\n",
    "lambda = 0.2\n",
    "epsilon = 0.2\n",
    "t_delay = 0.5\n",
    "max_num_experiments = 3\n",
    "num_trials = 100\n",
    "\n",
    "data = run_experiment_set_CRCBS(name,num_agents,grid_x,grid_y,filling_density,lambda,epsilon,t_delay,max_num_experiments,num_trials)"
   ]
  },
  {
   "cell_type": "code",
   "execution_count": null,
   "metadata": {
    "scrolled": true
   },
   "outputs": [],
   "source": [
    "exp_set.data[2].solving_time"
   ]
  },
  {
   "cell_type": "code",
   "execution_count": null,
   "metadata": {},
   "outputs": [],
   "source": [
    "save_experiment_set(exp_set)"
   ]
  },
  {
   "cell_type": "code",
   "execution_count": null,
   "metadata": {},
   "outputs": [],
   "source": [
    "n1 = 17.0\n",
    "t1 = 17.0\n",
    "n2 = 17.0\n",
    "t2 = 17.0\n",
    "nn = 1.0\n",
    "lambda = 0.2\n",
    "y = 0.0\n",
    "t = 400.0"
   ]
  },
  {
   "cell_type": "code",
   "execution_count": null,
   "metadata": {},
   "outputs": [],
   "source": [
    "get_collision_probability_node2(n1,t1,n2,t2,nn,lambda)"
   ]
  },
  {
   "cell_type": "code",
   "execution_count": null,
   "metadata": {
    "scrolled": true
   },
   "outputs": [],
   "source": [
    "(1-cdf(Gamma(nn,lambda),abs(t2-t1+y)))"
   ]
  },
  {
   "cell_type": "code",
   "execution_count": null,
   "metadata": {},
   "outputs": [],
   "source": [
    "pdf(Gamma(n1,lambda), t+y)"
   ]
  },
  {
   "cell_type": "code",
   "execution_count": null,
   "metadata": {},
   "outputs": [],
   "source": [
    "function get_collision_probability_node2(n1,t1,n2,t2,nn,lambda)\n",
    "\n",
    "    function f(x)\n",
    "        y = x[1]\n",
    "        t = x[2]\n",
    "        #density = hcubature(d1,[t2-t1+y],[1000],rtol = 0.5)[1] * lambda^(n1+n2) *  (t)^(n1-1) * (y+t)^(n2-1) * exp(-lambda*(y+2*t)) / (factorial(n1-1)*factorial(n2-1))\n",
    "        #density = hcubature(d1,[t2-t1+y],[1000],rtol = 0.5)[1] * (lambda^(n1) * (t)^(n1-1)  * exp(-lambda*(y+2*t)) / factorial(n1-1))*(lambda^(n2) * (y+t)^(n2-1)/factorial(n2-1))\n",
    "        density = (1-cdf(Gamma(nn,lambda),abs(t2-t1+y))) * pdf(Gamma(n1,lambda), t) * pdf(Gamma(n2,lambda),t-y)\n",
    "        return density\n",
    "    end\n",
    "\n",
    "    function g(x)\n",
    "        y = x[1]\n",
    "        t = x[2]\n",
    "        #density = hcubature(d1,[t2-t1+y],[1000],rtol = 0.5)[1] * lambda^(n1+n2) *  (t)^(n1-1) * (y+t)^(n2-1) * exp(-lambda*(y+2*t)) / (factorial(n1-1)*factorial(n2-1))\n",
    "        #density = hcubature(d1,[t2-t1+y],[1000],rtol = 0.5)[1] * (lambda^(n1) * (t)^(n1-1)  * exp(-lambda*(y+2*t)) / factorial(n1-1))*(lambda^(n2) * (y+t)^(n2-1)/factorial(n2-1))\n",
    "        density = (1-cdf(Gamma(nn,lambda),abs(t2-t1+y))) * pdf(Gamma(n1,lambda), t+y) * pdf(Gamma(n2,lambda),t)\n",
    "        return density\n",
    "    end\n",
    "\n",
    "    a = [-200.0;0.0]\n",
    "    b = [0.0,200.0]\n",
    "    m = [0.0;0.0]\n",
    "    n = [200.0,200.0]\n",
    "    C1,err1 = hcubature(f,a,b)\n",
    "    C2,err2 = hcubature(g,m,n)\n",
    "    C = C1 + C2\n",
    "    err = err1 + err2\n",
    "\n",
    "    return C, err\n",
    "end"
   ]
  },
  {
   "cell_type": "code",
   "execution_count": null,
   "metadata": {},
   "outputs": [],
   "source": [
    "using Random\n",
    "typeof(shuffle(collect((1,2,3)))[1:end])"
   ]
  },
  {
   "cell_type": "code",
   "execution_count": null,
   "metadata": {},
   "outputs": [],
   "source": [
    "using LightGraphs, MetaGraphs\n",
    "#using Iterators\n",
    "\n",
    "v = Vector{Edge}()\n",
    "for k in 1:5\n",
    "    push!(v,Edge(k,k+1))\n",
    "end"
   ]
  },
  {
   "cell_type": "code",
   "execution_count": null,
   "metadata": {},
   "outputs": [],
   "source": [
    "typeof(v)"
   ]
  },
  {
   "cell_type": "code",
   "execution_count": null,
   "metadata": {},
   "outputs": [],
   "source": [
    "eltype(MetaGraph())"
   ]
  },
  {
   "cell_type": "code",
   "execution_count": null,
   "metadata": {},
   "outputs": [],
   "source": [
    "using JLD\n",
    "save_experiment_set(exp_set)"
   ]
  },
  {
   "cell_type": "code",
   "execution_count": null,
   "metadata": {},
   "outputs": [],
   "source": [
    "plot_SVtime_vs_nrobots([\"results/003Experiment_Set_001.jld\"])"
   ]
  },
  {
   "cell_type": "code",
   "execution_count": null,
   "metadata": {},
   "outputs": [],
   "source": [
    "using JLD\n",
    "exp_s = load(\"results/001Experiment_Set_001.jld\")"
   ]
  },
  {
   "cell_type": "code",
   "execution_count": null,
   "metadata": {},
   "outputs": [],
   "source": [
    "data = Vector{}()"
   ]
  },
  {
   "cell_type": "code",
   "execution_count": null,
   "metadata": {},
   "outputs": [],
   "source": [
    "using Pkg\n",
    "Pkg.add(\"DataFrames\")"
   ]
  },
  {
   "cell_type": "code",
   "execution_count": null,
   "metadata": {},
   "outputs": [],
   "source": [
    "using DataFrames\n",
    "thing = DataFrame(A=String[])"
   ]
  },
  {
   "cell_type": "code",
   "execution_count": null,
   "metadata": {},
   "outputs": [],
   "source": [
    "myvector = Vector{}([1.0,2.0])\n",
    "mytuple = (1,2,3)"
   ]
  },
  {
   "cell_type": "code",
   "execution_count": null,
   "metadata": {},
   "outputs": [],
   "source": [
    "thing = DataFrame(a=String[],b=Vector{Float64}[],c = Tuple{Float64,Float64}[])"
   ]
  },
  {
   "cell_type": "code",
   "execution_count": null,
   "metadata": {},
   "outputs": [],
   "source": [
    "push!(thing, [\"M\", myvector,(1.0,3.0)])"
   ]
  },
  {
   "cell_type": "code",
   "execution_count": 15,
   "metadata": {},
   "outputs": [
    {
     "data": {
      "text/plain": [
       "\"First_test1\""
      ]
     },
     "execution_count": 15,
     "metadata": {},
     "output_type": "execute_result"
    }
   ],
   "source": [
    "string(name,\"1\")"
   ]
  },
  {
   "cell_type": "code",
   "execution_count": 16,
   "metadata": {},
   "outputs": [
    {
     "data": {
      "text/plain": [
       "\"i1\""
      ]
     },
     "execution_count": 16,
     "metadata": {},
     "output_type": "execute_result"
    }
   ],
   "source": [
    "string('i',string(1))"
   ]
  },
  {
   "cell_type": "code",
   "execution_count": 9,
   "metadata": {},
   "outputs": [
    {
     "data": {
      "text/plain": [
       "\"1\""
      ]
     },
     "execution_count": 9,
     "metadata": {},
     "output_type": "execute_result"
    }
   ],
   "source": [
    "string(1)"
   ]
  },
  {
   "cell_type": "code",
   "execution_count": 6,
   "metadata": {},
   "outputs": [],
   "source": [
    "using LightGraphs, MetaGraphs"
   ]
  },
  {
   "cell_type": "code",
   "execution_count": 8,
   "metadata": {},
   "outputs": [
    {
     "data": {
      "text/plain": [
       "Base.OneTo(0)"
      ]
     },
     "execution_count": 8,
     "metadata": {},
     "output_type": "execute_result"
    }
   ],
   "source": [
    "g = MetaGraph()\n",
    "vertices(g)"
   ]
  },
  {
   "cell_type": "code",
   "execution_count": 9,
   "metadata": {},
   "outputs": [
    {
     "data": {
      "text/plain": [
       "0-element Array{Int64,1}"
      ]
     },
     "execution_count": 9,
     "metadata": {},
     "output_type": "execute_result"
    }
   ],
   "source": [
    "elt = [v for v in vertices(g)]"
   ]
  },
  {
   "cell_type": "code",
   "execution_count": 14,
   "metadata": {},
   "outputs": [
    {
     "data": {
      "text/plain": [
       "dostuff! (generic function with 2 methods)"
      ]
     },
     "execution_count": 14,
     "metadata": {},
     "output_type": "execute_result"
    }
   ],
   "source": [
    "function dostuff!(a,b,c=0)\n",
    "    a[1] = 5\n",
    "    b = 2\n",
    "    c = c+5\n",
    "end"
   ]
  },
  {
   "cell_type": "code",
   "execution_count": 15,
   "metadata": {},
   "outputs": [
    {
     "name": "stdout",
     "output_type": "stream",
     "text": [
      "[5, 2]\n",
      "-4\n",
      "13\n"
     ]
    }
   ],
   "source": [
    "a = [1,2]\n",
    "b = -4\n",
    "c = 13\n",
    "dostuff!(a,b,c)\n",
    "println(a)\n",
    "println(b)\n",
    "println(c)"
   ]
  },
  {
   "cell_type": "code",
   "execution_count": null,
   "metadata": {},
   "outputs": [],
   "source": []
  }
 ],
 "metadata": {
  "kernelspec": {
   "display_name": "Julia 1.0.3",
   "language": "julia",
   "name": "julia-1.0"
  },
  "language_info": {
   "file_extension": ".jl",
   "mimetype": "application/julia",
   "name": "julia",
   "version": "1.0.3"
  }
 },
 "nbformat": 4,
 "nbformat_minor": 2
}
