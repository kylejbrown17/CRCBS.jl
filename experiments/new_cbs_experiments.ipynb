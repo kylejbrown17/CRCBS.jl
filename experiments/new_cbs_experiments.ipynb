{
 "cells": [
  {
   "cell_type": "code",
   "execution_count": 10,
   "id": "vocal-academy",
   "metadata": {
    "scrolled": true
   },
   "outputs": [],
   "source": [
    "using CRCBS\n",
    "using JLD\n",
    "using LightGraphs, MetaGraphs"
   ]
  },
  {
   "cell_type": "code",
   "execution_count": 13,
   "id": "personal-stress",
   "metadata": {},
   "outputs": [
    {
     "data": {
      "text/plain": [
       "run_problem (generic function with 1 method)"
      ]
     },
     "execution_count": 13,
     "metadata": {},
     "output_type": "execute_result"
    }
   ],
   "source": [
    "\n",
    "function load_experiment_parameters(file)\n",
    "    \"\"\"Creates an experiment set with all the experiment sets\"\"\"\n",
    "    experiment_vector = Vector{}()\n",
    "\n",
    "\n",
    "    exp_set = load(string(file,\".jld\"))\n",
    "    #println(exp_set)\n",
    "    parameters = exp_set[\"parms\"]\n",
    "\n",
    "    #parameters = Experiment_parameters(experiment_vector)\n",
    "    return parameters\n",
    "end\n",
    "\n",
    "function run_problem(name; sub_name=\"\", lambda=1.0,epsilon=0.01,t_delay=1.0,dataframe=false,num_trials=1000)\n",
    "    if sub_name == \"\"\n",
    "        sub_name = name\n",
    "    end\n",
    "    exp_parms = load_experiment_parameters(sub_name)\n",
    "    G = MetaGraph()\n",
    "    for (k,v) in enumerate(exp_parms.vs)\n",
    "        vnew = add_vertex!(G,Dict(:x=>exp_parms.xs[k],:y=>exp_parms.ys[k]))\n",
    "    end\n",
    "    for v in vertices(G)\n",
    "        set_prop!(G, v,:n_delay, 1.0)\n",
    "    end\n",
    "    for e in exp_parms.es\n",
    "        add_edge!(G,e[1],e[2])\n",
    "        set_prop!(G, Edge(e[1],e[2]), :weight, 1.0)\n",
    "    end\n",
    "    mapf = MAPF(G,exp_parms.starts,exp_parms.goals)\n",
    "\n",
    "\n",
    "    a = @timed(CBS(mapf))\n",
    "\n",
    "    llsolution = a[1][1]\n",
    "    cost = a[1][2]\n",
    "    success = true\n",
    "    if cost >=  typemax(Int)\n",
    "        success = false\n",
    "    end\n",
    "    execution_time = a[2]\n",
    "\n",
    "    countingtime = a[1][3]\n",
    "    time_spent_on_astar = a[1][4]\n",
    "    num_interactions = a[1][5][1]\n",
    "    num_iterations = a[1][6]\n",
    "\n",
    "    num_agents = length(exp_parms.starts)\n",
    "    n_nodes = length(exp_parms.vs)\n",
    "    n_edges = div(length(exp_parms.es),2)\n",
    "\n",
    "    # Save solution\n",
    "    solution_to_txt(llsolution, sub_name)\n",
    "\n",
    "    # Save particle data ready for plotting\n",
    "\n",
    "    solution_times = run_particles(mapf, llsolution,20) #20 particles\n",
    "    jldopen(string(\"../experiments/simulations/\",string(sub_name),\".jld\"),\"w\") do file\n",
    "        write(file,\"times\",solution_times)\n",
    "    end\n",
    "\n",
    "\n",
    "    # ---------------------- Now make and fill dataframe --------------------- #\n",
    "    if dataframe == false\n",
    "        data = DataFrame(name=String[],\n",
    "        Id=Int64[],\n",
    "        CBS=Bool[],\n",
    "        success=Bool[],\n",
    "\n",
    "        #MAPF contents\n",
    "        lambda=Float64[],\n",
    "        epsilon=Float64[],\n",
    "        t_delay=Float64[],\n",
    "\n",
    "        # Experiment properties\n",
    "        num_trials=Int64[],\n",
    "        num_agents=Int64[],\n",
    "        cbs_time_steps=Int64[],\n",
    "        num_nodes=Int64[],\n",
    "        num_edges=Int64[],\n",
    "        #mapf::MAPF\n",
    "\n",
    "        # Result storage\n",
    "        solving_time=Float64[], #Time it took to find a solution\n",
    "        counting_time=Float64[],\n",
    "        time_spent_on_astar=Float64[],\n",
    "        num_interactions=Int64[],\n",
    "        num_iterations = Int64[],\n",
    "\n",
    "        solution_cost=Float64[], #Cost of computer solution in ideal case\n",
    "        global_cp=Float64[],\n",
    "        conflict_counts_locally=Vector{Float64}[],\n",
    "        probability_error=Tuple{Float64,Float64}[]) #Mean, std\n",
    "    else\n",
    "        data = dataframe\n",
    "    end\n",
    "\n",
    "    #Run particles for simulation\n",
    "    solution_times = run_particles(mapf, llsolution,num_trials)\n",
    "\n",
    "    # Get conflict stats\n",
    "    (global_cp, conflict_counts_locally, mean_prob_err,std_prob_err) = get_conflict_stats(mapf,llsolution,solution_times,num_trials)\n",
    "    probability_error = (mean_prob_err,std_prob_err)\n",
    "\n",
    "    # Add it to the list of experiments from the set\n",
    "    push!(data, [sub_name,0,false,success,mapf.lambda,mapf.epsilon,mapf.t_delay,num_trials,num_agents,-1,n_nodes, n_edges,execution_time,countingtime,time_spent_on_astar,num_interactions,num_iterations,cost,global_cp,conflict_counts_locally,probability_error])\n",
    "\n",
    "\n",
    "    return data\n",
    "end"
   ]
  },
  {
   "cell_type": "code",
   "execution_count": 14,
   "id": "removed-police",
   "metadata": {},
   "outputs": [
    {
     "name": "stderr",
     "output_type": "stream",
     "text": [
      "┌ Warning: type CRCBS.Experiment_parameters not present in workspace; reconstructing\n",
      "└ @ JLD /home/peltzer/.julia/packages/JLD/jeGJb/src/jld_types.jl:697\n"
     ]
    },
    {
     "name": "stdout",
     "output_type": "stream",
     "text": [
      "Optimal Solution Found! Cost = 78\n"
     ]
    },
    {
     "ename": "LoadError",
     "evalue": "BoundsError: attempt to access (Array{LightGraphs.SimpleGraphs.SimpleEdge{Int64},1}[[Edge 74 => 85, Edge 85 => 96, Edge 96 => 95, Edge 95 => 94, Edge 94 => 105, Edge 105 => 104, Edge 104 => 103, Edge 103 => 114], [Edge 3 => 14, Edge 14 => 25, Edge 25 => 26, Edge 26 => 37, Edge 37 => 48, Edge 48 => 49, Edge 49 => 50, Edge 50 => 61, Edge 61 => 62], [Edge 45 => 56, Edge 56 => 57, Edge 57 => 68, Edge 68 => 69, Edge 69 => 80, Edge 80 => 91, Edge 91 => 92, Edge 92 => 93, Edge 93 => 94, Edge 94 => 95, Edge 95 => 96], [Edge 91 => 80, Edge 80 => 69, Edge 69 => 58], [Edge 12 => 13, Edge 13 => 14, Edge 14 => 25, Edge 25 => 26, Edge 26 => 27, Edge 27 => 28, Edge 28 => 29, Edge 29 => 30, Edge 30 => 31, Edge 31 => 32, Edge 32 => 33, Edge 33 => 44], [Edge 86 => 75, Edge 75 => 74, Edge 74 => 63], [Edge 37 => 38, Edge 38 => 39, Edge 39 => 40, Edge 40 => 51], [Edge 27 => 38, Edge 38 => 49, Edge 49 => 60, Edge 60 => 61, Edge 61 => 72, Edge 72 => 73, Edge 73 => 84], [Edge 110 => 109, Edge 109 => 108, Edge 108 => 97, Edge 97 => 86, Edge 86 => 85, Edge 85 => 84, Edge 84 => 83, Edge 83 => 72, Edge 72 => 61, Edge 61 => 50, Edge 50 => 49, Edge 49 => 38, Edge 38 => 37, Edge 37 => 36, Edge 36 => 35, Edge 35 => 34, Edge 34 => 23], [Edge 29 => 30, Edge 30 => 19, Edge 19 => 20, Edge 20 => 21]], 78)\n  at index [3]",
     "output_type": "error",
     "traceback": [
      "BoundsError: attempt to access (Array{LightGraphs.SimpleGraphs.SimpleEdge{Int64},1}[[Edge 74 => 85, Edge 85 => 96, Edge 96 => 95, Edge 95 => 94, Edge 94 => 105, Edge 105 => 104, Edge 104 => 103, Edge 103 => 114], [Edge 3 => 14, Edge 14 => 25, Edge 25 => 26, Edge 26 => 37, Edge 37 => 48, Edge 48 => 49, Edge 49 => 50, Edge 50 => 61, Edge 61 => 62], [Edge 45 => 56, Edge 56 => 57, Edge 57 => 68, Edge 68 => 69, Edge 69 => 80, Edge 80 => 91, Edge 91 => 92, Edge 92 => 93, Edge 93 => 94, Edge 94 => 95, Edge 95 => 96], [Edge 91 => 80, Edge 80 => 69, Edge 69 => 58], [Edge 12 => 13, Edge 13 => 14, Edge 14 => 25, Edge 25 => 26, Edge 26 => 27, Edge 27 => 28, Edge 28 => 29, Edge 29 => 30, Edge 30 => 31, Edge 31 => 32, Edge 32 => 33, Edge 33 => 44], [Edge 86 => 75, Edge 75 => 74, Edge 74 => 63], [Edge 37 => 38, Edge 38 => 39, Edge 39 => 40, Edge 40 => 51], [Edge 27 => 38, Edge 38 => 49, Edge 49 => 60, Edge 60 => 61, Edge 61 => 72, Edge 72 => 73, Edge 73 => 84], [Edge 110 => 109, Edge 109 => 108, Edge 108 => 97, Edge 97 => 86, Edge 86 => 85, Edge 85 => 84, Edge 84 => 83, Edge 83 => 72, Edge 72 => 61, Edge 61 => 50, Edge 50 => 49, Edge 49 => 38, Edge 38 => 37, Edge 37 => 36, Edge 36 => 35, Edge 35 => 34, Edge 34 => 23], [Edge 29 => 30, Edge 30 => 19, Edge 19 => 20, Edge 20 => 21]], 78)\n  at index [3]",
      "",
      "Stacktrace:",
      " [1] getindex(::Tuple, ::Int64) at ./tuple.jl:24",
      " [2] run_problem(::String; sub_name::String, lambda::Float64, epsilon::Float64, t_delay::Float64, dataframe::Bool, num_trials::Int64) at ./In[13]:44",
      " [3] top-level scope at In[14]:3",
      " [4] include_string(::Function, ::Module, ::String, ::String) at ./loading.jl:1091"
     ]
    }
   ],
   "source": [
    "name = \"Timing_test_10\"\n",
    "sub_name = \"Timing_test_10_3\"\n",
    "data = run_problem(name; sub_name)"
   ]
  },
  {
   "cell_type": "code",
   "execution_count": null,
   "id": "unnecessary-holly",
   "metadata": {},
   "outputs": [],
   "source": []
  }
 ],
 "metadata": {
  "kernelspec": {
   "display_name": "Julia 1.5.1",
   "language": "julia",
   "name": "julia-1.5"
  },
  "language_info": {
   "file_extension": ".jl",
   "mimetype": "application/julia",
   "name": "julia",
   "version": "1.5.1"
  }
 },
 "nbformat": 4,
 "nbformat_minor": 5
}
