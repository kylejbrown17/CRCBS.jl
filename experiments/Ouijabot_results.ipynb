{
 "cells": [
  {
   "cell_type": "code",
   "execution_count": 1,
   "metadata": {},
   "outputs": [
    {
     "name": "stderr",
     "output_type": "stream",
     "text": [
      "┌ Info: Recompiling stale cache file /home/peltzer/.julia/compiled/v1.0/Plots/ld3vC.ji for Plots [91a5bcdd-55d7-5caf-9e0b-520d859cae80]\n",
      "└ @ Base loading.jl:1190\n"
     ]
    }
   ],
   "source": [
    "using Plots"
   ]
  },
  {
   "cell_type": "code",
   "execution_count": 3,
   "metadata": {},
   "outputs": [
    {
     "data": {
      "text/plain": [
       "list_to_traveltime (generic function with 1 method)"
      ]
     },
     "execution_count": 3,
     "metadata": {},
     "output_type": "execute_result"
    }
   ],
   "source": [
    "function list_to_traveltime(list)\n",
    "    return list[2]+list[3]+list[4]-3*list[1]\n",
    "end"
   ]
  },
  {
   "cell_type": "code",
   "execution_count": 5,
   "metadata": {},
   "outputs": [
    {
     "data": {
      "text/plain": [
       "83.70999999716878"
      ]
     },
     "execution_count": 5,
     "metadata": {},
     "output_type": "execute_result"
    }
   ],
   "source": [
    "list_to_traveltime(list1)"
   ]
  },
  {
   "cell_type": "code",
   "execution_count": 6,
   "metadata": {},
   "outputs": [
    {
     "data": {
      "text/plain": [
       "5-element Array{Any,1}:\n",
       " 83.70999999716878 \n",
       " 70.10999999940395 \n",
       " 56.139999996870756\n",
       " 56.16000000014901 \n",
       " 54.95999999716878 "
      ]
     },
     "execution_count": 6,
     "metadata": {},
     "output_type": "execute_result"
    }
   ],
   "source": [
    "sttcbsresults = []\n",
    "list1 = [7817208.23 7817252.69 7817228.79 7817226.92]\n",
    "list2 = [7819004.2 7819035.79 7819025.21 7819021.71]\n",
    "list3 = [7820120.33 7820149.31 7820129.76 7820138.06]\n",
    "list4 = [7820521.78 7820550.65 7820530.7 7820540.15]\n",
    "list5 = [7821112.54 7821141.48 7821122.29 7821128.81]\n",
    "for list in [list1, list2, list3, list4, list5]\n",
    "    push!(sttcbsresults,list_to_traveltime(list))\n",
    "end\n",
    "sttcbsresults"
   ]
  },
  {
   "cell_type": "code",
   "execution_count": 8,
   "metadata": {},
   "outputs": [
    {
     "data": {
      "text/plain": [
       "3-element Array{Any,1}:\n",
       " 61.83999999985099\n",
       " 58.07999999821186\n",
       " 61.98999999463558"
      ]
     },
     "execution_count": 8,
     "metadata": {},
     "output_type": "execute_result"
    }
   ],
   "source": [
    "cbsresults = []\n",
    "clist1 = [7820261.87 7820284.62 7820275.53 7820287.3]\n",
    "clist2 = [7820670.73 7820693.76 7820683.0 7820693.51]\n",
    "clist3 = [7821012.15 7821037.05 7821024.85 7821036.54]\n",
    "for list in [clist1, clist2, clist3]\n",
    "    push!(cbsresults,list_to_traveltime(list))\n",
    "end\n",
    "cbsresults\n"
   ]
  },
  {
   "cell_type": "code",
   "execution_count": null,
   "metadata": {},
   "outputs": [],
   "source": []
  }
 ],
 "metadata": {
  "kernelspec": {
   "display_name": "Julia 1.0.3",
   "language": "julia",
   "name": "julia-1.0"
  },
  "language_info": {
   "file_extension": ".jl",
   "mimetype": "application/julia",
   "name": "julia",
   "version": "1.0.3"
  }
 },
 "nbformat": 4,
 "nbformat_minor": 2
}
