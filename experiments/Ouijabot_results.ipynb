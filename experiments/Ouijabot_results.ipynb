{
 "cells": [
  {
   "cell_type": "code",
   "execution_count": 6,
   "metadata": {},
   "outputs": [],
   "source": [
    "using Plots\n",
    "using Statistics"
   ]
  },
  {
   "cell_type": "code",
   "execution_count": 1,
   "metadata": {},
   "outputs": [
    {
     "data": {
      "text/plain": [
       "list_to_traveltime (generic function with 1 method)"
      ]
     },
     "execution_count": 1,
     "metadata": {},
     "output_type": "execute_result"
    }
   ],
   "source": [
    "function list_to_traveltime(list)\n",
    "    return list[2]+list[3]+list[4]-3*list[1]\n",
    "end"
   ]
  },
  {
   "cell_type": "code",
   "execution_count": 5,
   "metadata": {},
   "outputs": [
    {
     "data": {
      "text/plain": [
       "83.70999999716878"
      ]
     },
     "execution_count": 5,
     "metadata": {},
     "output_type": "execute_result"
    }
   ],
   "source": [
    "list_to_traveltime(list1)"
   ]
  },
  {
   "cell_type": "markdown",
   "metadata": {},
   "source": [
    "##### Custom map"
   ]
  },
  {
   "cell_type": "code",
   "execution_count": 6,
   "metadata": {
    "scrolled": true
   },
   "outputs": [
    {
     "data": {
      "text/plain": [
       "5-element Array{Any,1}:\n",
       " 83.70999999716878 \n",
       " 70.10999999940395 \n",
       " 56.139999996870756\n",
       " 56.16000000014901 \n",
       " 54.95999999716878 "
      ]
     },
     "execution_count": 6,
     "metadata": {},
     "output_type": "execute_result"
    }
   ],
   "source": [
    "sttcbsresults = []\n",
    "list1 = [7817208.23 7817252.69 7817228.79 7817226.92]\n",
    "list2 = [7819004.2 7819035.79 7819025.21 7819021.71]\n",
    "list3 = [7820120.33 7820149.31 7820129.76 7820138.06]\n",
    "list4 = [7820521.78 7820550.65 7820530.7 7820540.15]\n",
    "list5 = [7821112.54 7821141.48 7821122.29 7821128.81]\n",
    "for list in [list1, list2, list3, list4, list5]\n",
    "    push!(sttcbsresults,list_to_traveltime(list))\n",
    "end\n",
    "sttcbsresults"
   ]
  },
  {
   "cell_type": "code",
   "execution_count": 30,
   "metadata": {},
   "outputs": [
    {
     "data": {
      "text/plain": [
       "4-element Array{Any,1}:\n",
       " 58.08999999985099\n",
       " 61.23999999836087\n",
       " 55.5             \n",
       " 58.53000000119209"
      ]
     },
     "execution_count": 30,
     "metadata": {},
     "output_type": "execute_result"
    }
   ],
   "source": [
    "sttcbsresults = []\n",
    "list1 = [8064904.61 8064932.21 8064918.07 8064921.64]\n",
    "list2 = [8065207.38 8065234.39 8065222.12 8065226.87]\n",
    "list3 = [8065671.5 8065698.25 8065683.87 8065687.88]\n",
    "list4 = [8073752.21 8073780.04 8073767.3 8073767.82]\n",
    "for list in [list1, list2, list3, list4]\n",
    "    push!(sttcbsresults,list_to_traveltime(list))\n",
    "end\n",
    "sttcbsresults"
   ]
  },
  {
   "cell_type": "code",
   "execution_count": 31,
   "metadata": {},
   "outputs": [
    {
     "data": {
      "text/plain": [
       "4-element Array{Any,1}:\n",
       " 56.230000000447035\n",
       " 68.66000000014901 \n",
       " 79.42999999970198 \n",
       " 62.08000000193715 "
      ]
     },
     "execution_count": 31,
     "metadata": {},
     "output_type": "execute_result"
    }
   ],
   "source": [
    "cbsresults = []\n",
    "clist1 = [8065052.69 8065075.23 8065067.96 8065071.11]\n",
    "clist2 = [8065557.24 8065581.2 8065573.96 8065585.22]\n",
    "clist3 = [8065768.88 8065806.04 8065784.11 8065795.92]\n",
    "clist4 = [8074030.93 8074055.48 8074046.89 8074052.5]\n",
    "for list in [clist1, clist2, clist3, clist4]\n",
    "    push!(cbsresults,list_to_traveltime(list))\n",
    "end\n",
    "cbsresults\n"
   ]
  },
  {
   "cell_type": "code",
   "execution_count": 34,
   "metadata": {},
   "outputs": [
    {
     "name": "stdout",
     "output_type": "stream",
     "text": [
      "66.6000000005588\n",
      "9.946855448937674\n",
      "10.370000000111759\n",
      "12.829999999143183\n"
     ]
    }
   ],
   "source": [
    "print(mean(cbsresults), \"\\n\")\n",
    "print(std(cbsresults), \"\\n\")\n",
    "print(mean(cbsresults)-minimum(cbsresults), \"\\n\")\n",
    "print(maximum(cbsresults)-mean(cbsresults), \"\\n\")"
   ]
  },
  {
   "cell_type": "code",
   "execution_count": 41,
   "metadata": {},
   "outputs": [
    {
     "name": "stdout",
     "output_type": "stream",
     "text": [
      "51.15000000130385\n",
      "1.505678142865269\n",
      "1.9700000016018748\n",
      "1.590000000782311\n"
     ]
    }
   ],
   "source": [
    "print(mean(sttcbsresults), \"\\n\")\n",
    "print(std(sttcbsresults), \"\\n\")\n",
    "print(mean(sttcbsresults)-minimum(sttcbsresults), \"\\n\")\n",
    "print(maximum(sttcbsresults)-mean(sttcbsresults), \"\\n\")"
   ]
  },
  {
   "cell_type": "markdown",
   "metadata": {},
   "source": [
    "##### Map 7"
   ]
  },
  {
   "cell_type": "code",
   "execution_count": 42,
   "metadata": {},
   "outputs": [
    {
     "name": "stdout",
     "output_type": "stream",
     "text": [
      "59.17000000085682\n",
      "2.0814898490535496\n",
      "1.8199999993667006\n",
      "2.949999996460974\n"
     ]
    }
   ],
   "source": [
    "sttcbsresults = []\n",
    "list1 = [8066995.7 8067006.79 8067021.01 8067016.65]\n",
    "list2 = [8072830.9 8072842.62 8072856.28 8072855.92]\n",
    "list3 = [8073592.02 8073603.74 8073619.87 8073610.64]\n",
    "list4 = [8079112.17 8079122.87 8079140.25 8079132.41]\n",
    "for list in [list1, list2, list3, list4]\n",
    "    push!(sttcbsresults,list_to_traveltime(list))\n",
    "end\n",
    "print(mean(sttcbsresults), \"\\n\")\n",
    "print(std(sttcbsresults), \"\\n\")\n",
    "print(mean(sttcbsresults)-minimum(sttcbsresults), \"\\n\")\n",
    "print(maximum(sttcbsresults)-mean(sttcbsresults), \"\\n\")"
   ]
  },
  {
   "cell_type": "code",
   "execution_count": 36,
   "metadata": {},
   "outputs": [
    {
     "name": "stdout",
     "output_type": "stream",
     "text": [
      "53.51749999914318\n",
      "2.5307360585684546\n",
      "1.7475000033155084\n",
      "3.722499999217689\n"
     ]
    }
   ],
   "source": [
    "cbsresults = []\n",
    "clist1 = [8067147.06 8067157.29 8067173.3 8067163.54]\n",
    "clist2 = [8073352.57 8073367.25 8073380.04 8073367.66]\n",
    "clist3 = [8073482.38 8073493.09 8073510.06 8073495.76]\n",
    "clist4 = [8079211.71 8079221.34 8079241.25 8079224.65]\n",
    "for list in [clist1, clist2, clist3, clist4]\n",
    "    push!(cbsresults,list_to_traveltime(list))\n",
    "end\n",
    "print(mean(cbsresults), \"\\n\")\n",
    "print(std(cbsresults), \"\\n\")\n",
    "print(mean(cbsresults)-minimum(cbsresults), \"\\n\")\n",
    "print(maximum(cbsresults)-mean(cbsresults), \"\\n\")"
   ]
  },
  {
   "cell_type": "markdown",
   "metadata": {},
   "source": [
    "##### Map 8"
   ]
  },
  {
   "cell_type": "code",
   "execution_count": 43,
   "metadata": {},
   "outputs": [
    {
     "name": "stdout",
     "output_type": "stream",
     "text": [
      "49.47499999962747\n",
      "3.5498873221779785\n",
      "3.375000001862645\n",
      "4.884999999776483\n"
     ]
    }
   ],
   "source": [
    "sttcbsresults = []\n",
    "list1 = [8075203.23 8075213.37 8075220.75 8075221.67]\n",
    "list2 = [8075502.94 8075513.07 8075521.69 8075521.94]\n",
    "list3 = [8076001.34 8076011.6 8076022.51 8076024.27]\n",
    "list4 = [8076781.29 8076791.07 8076801.84 8076800.52]\n",
    "for list in [list1, list2, list3, list4]\n",
    "    push!(sttcbsresults,list_to_traveltime(list))\n",
    "end\n",
    "print(mean(sttcbsresults), \"\\n\")\n",
    "print(std(sttcbsresults), \"\\n\")\n",
    "print(mean(sttcbsresults)-minimum(sttcbsresults), \"\\n\")\n",
    "print(maximum(sttcbsresults)-mean(sttcbsresults), \"\\n\")"
   ]
  },
  {
   "cell_type": "code",
   "execution_count": 38,
   "metadata": {},
   "outputs": [
    {
     "name": "stdout",
     "output_type": "stream",
     "text": [
      "68.34999999869615\n",
      "8.295874475855957\n",
      "12.279999998398125\n",
      "5.99000000115484\n"
     ]
    }
   ],
   "source": [
    "cbsresults = []\n",
    "clist1 = [8075416.2 8075440.58 8075441.21 8075438.26]\n",
    "clist2 = [8075870.48 8075895.57 8075896.59 8075890.82]\n",
    "clist3 = [8076669.57 8076694.13 8076695.35 8076693.57]\n",
    "clist4 = [8076926.57 8076944.73 8076944.11 8076946.94]\n",
    "for list in [clist1, clist2, clist3, clist4]\n",
    "    push!(cbsresults,list_to_traveltime(list))\n",
    "end\n",
    "print(mean(cbsresults), \"\\n\")\n",
    "print(std(cbsresults), \"\\n\")\n",
    "print(mean(cbsresults)-minimum(cbsresults), \"\\n\")\n",
    "print(maximum(cbsresults)-mean(cbsresults), \"\\n\")"
   ]
  },
  {
   "cell_type": "markdown",
   "metadata": {},
   "source": [
    "##### Map 2"
   ]
  },
  {
   "cell_type": "code",
   "execution_count": 44,
   "metadata": {},
   "outputs": [
    {
     "name": "stdout",
     "output_type": "stream",
     "text": [
      "51.15000000130385\n",
      "1.505678142865269\n",
      "1.9700000016018748\n",
      "1.590000000782311\n"
     ]
    }
   ],
   "source": [
    "sttcbsresults = []\n",
    "list1 = [8077789.12 8077798.42 8077813.44 8077808.24]\n",
    "list2 = [8078108.21 8078114.73 8078133.6 8078127.24]\n",
    "list3 = [8078445.32 8078452.45 8078470.99 8078464.26]\n",
    "list4 = [8078684.3 8078690.73 8078708.09 8078703.26]\n",
    "for list in [list1, list2, list3, list4]\n",
    "    push!(sttcbsresults,list_to_traveltime(list))\n",
    "end\n",
    "print(mean(sttcbsresults), \"\\n\")\n",
    "print(std(sttcbsresults), \"\\n\")\n",
    "print(mean(sttcbsresults)-minimum(sttcbsresults), \"\\n\")\n",
    "print(maximum(sttcbsresults)-mean(sttcbsresults), \"\\n\")"
   ]
  },
  {
   "cell_type": "code",
   "execution_count": 40,
   "metadata": {},
   "outputs": [
    {
     "name": "stdout",
     "output_type": "stream",
     "text": [
      "36.452499999664724\n",
      "1.009104387705785\n",
      "1.0524999974295497\n",
      "1.1175000006332994\n"
     ]
    }
   ],
   "source": [
    "cbsresults = []\n",
    "clist1 = [8077984.83 8077992.35 8078000.28 8077997.69]\n",
    "clist2 = [8078197.43 8078204.15 8078213.08 8078210.46]\n",
    "clist3 = [8078559.16 8078565.81 8078576.04 8078572.64]\n",
    "clist4 = [8078815.94 8078824.52 8078833.26 8078827.61]\n",
    "for list in [clist1, clist2, clist3, clist4]\n",
    "    push!(cbsresults,list_to_traveltime(list))\n",
    "end\n",
    "print(mean(cbsresults), \"\\n\")\n",
    "print(std(cbsresults), \"\\n\")\n",
    "print(mean(cbsresults)-minimum(cbsresults), \"\\n\")\n",
    "print(maximum(cbsresults)-mean(cbsresults), \"\\n\")"
   ]
  },
  {
   "cell_type": "code",
   "execution_count": null,
   "metadata": {},
   "outputs": [],
   "source": []
  }
 ],
 "metadata": {
  "kernelspec": {
   "display_name": "Julia 1.0.3",
   "language": "julia",
   "name": "julia-1.0"
  },
  "language_info": {
   "file_extension": ".jl",
   "mimetype": "application/julia",
   "name": "julia",
   "version": "1.0.3"
  }
 },
 "nbformat": 4,
 "nbformat_minor": 2
}
