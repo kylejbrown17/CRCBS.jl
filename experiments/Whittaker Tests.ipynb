{
 "cells": [
  {
   "cell_type": "code",
   "execution_count": 1,
   "metadata": {},
   "outputs": [
    {
     "name": "stderr",
     "output_type": "stream",
     "text": [
      "┌ Info: Recompiling stale cache file /home/peltzer/.julia/compiled/v1.0/CRCBS/26Ksw.ji for CRCBS [edef75b8-3ac4-11e9-0392-bf149c536ee3]\n",
      "└ @ Base loading.jl:1190\n",
      "┌ Warning: Package CRCBS does not have JLD in its dependencies:\n",
      "│ - If you have CRCBS checked out for development and have\n",
      "│   added JLD as a dependency but haven't updated your primary\n",
      "│   environment's manifest file, try `Pkg.resolve()`.\n",
      "│ - Otherwise you may need to report an issue with CRCBS\n",
      "└ Loading JLD into CRCBS from project dependency, future warnings for CRCBS are suppressed.\n",
      "WARNING: Method definition get_dist_matrix(LightGraphs.AbstractGraph{T} where T) in module CRCBS at /home/peltzer/.julia/dev/CRCBS/src/utils.jl:11 overwritten at /home/peltzer/.julia/dev/CRCBS/src/utils.jl:11.\n",
      "┌ Warning: Replacing docs for `CRCBS.get_dist_matrix :: Tuple{LightGraphs.AbstractGraph}` in module `CRCBS`\n",
      "└ @ Base.Docs docs/Docs.jl:223\n",
      "WARNING: Method definition pad_matrix(Array{T, 2}, Tuple{Int64, Int64}, T) where {T} in module CRCBS at /home/peltzer/.julia/dev/CRCBS/src/utils.jl:22 overwritten at /home/peltzer/.julia/dev/CRCBS/src/utils.jl:22.\n",
      "┌ Warning: Replacing docs for `CRCBS.pad_matrix :: Union{Tuple{T}, Tuple{Array{T,2},Tuple{Int64,Int64},T}} where T` in module `CRCBS`\n",
      "└ @ Base.Docs docs/Docs.jl:223\n",
      "WARNING: Method definition compute_distance_matrix(Any, Any) in module CRCBS at /home/peltzer/.julia/dev/CRCBS/src/utils.jl:32 overwritten at /home/peltzer/.julia/dev/CRCBS/src/utils.jl:32.\n",
      "WARNING: Method definition sample_wo_repl(Any, Any) in module CRCBS at /home/peltzer/.julia/dev/CRCBS/src/utils.jl:135 overwritten at /home/peltzer/.julia/dev/CRCBS/src/utils.jl:135.\n"
     ]
    }
   ],
   "source": [
    "using CRCBS\n",
    "using SpecialFunctions\n",
    "using Distributions"
   ]
  },
  {
   "cell_type": "code",
   "execution_count": 2,
   "metadata": {},
   "outputs": [
    {
     "data": {
      "text/plain": [
       "7.002864442038907e50 + 8.97377576745836e50im"
      ]
     },
     "execution_count": 2,
     "metadata": {},
     "output_type": "execute_result"
    }
   ],
   "source": [
    "a = Hypergeometric1F1(5,2,100-1000im,50)"
   ]
  },
  {
   "cell_type": "code",
   "execution_count": 3,
   "metadata": {
    "scrolled": true
   },
   "outputs": [
    {
     "data": {
      "text/plain": [
       "0.2"
      ]
     },
     "execution_count": 3,
     "metadata": {},
     "output_type": "execute_result"
    }
   ],
   "source": [
    "n1=3\n",
    "n2=2\n",
    "t1=3.0\n",
    "t2=5.0\n",
    "nn=3\n",
    "lambda=0.2"
   ]
  },
  {
   "cell_type": "code",
   "execution_count": 10,
   "metadata": {
    "scrolled": true
   },
   "outputs": [
    {
     "data": {
      "text/plain": [
       "0.001"
      ]
     },
     "execution_count": 10,
     "metadata": {},
     "output_type": "execute_result"
    }
   ],
   "source": [
    "alpha = 0.5*(n1-n2)\n",
    "beta = 0.5*(1-n1-n2)\n",
    "c1 = 1.0/(gamma(n1)*(2.0*lambda)^((n1+n2)/2.0))\n",
    "c2 = 1.0/(gamma(n2)*(2.0*lambda)^((n1+n2)/2.0))\n",
    "phi = 0.5*(n1+n2)-1\n",
    "\n",
    "1.0/(100^phi)"
   ]
  },
  {
   "cell_type": "code",
   "execution_count": 11,
   "metadata": {},
   "outputs": [
    {
     "data": {
      "text/plain": [
       "hminus (generic function with 1 method)"
      ]
     },
     "execution_count": 11,
     "metadata": {},
     "output_type": "execute_result"
    }
   ],
   "source": [
    "function hplus(y)\n",
    "    density = (1-cdf(Gamma(nn,lambda),abs(t1-t2-y))) * c1 * (y^phi) * WhittakerM_cont(alpha,beta,2*y/lambda)\n",
    "    return density\n",
    "end\n",
    "\n",
    "function hminus(y)\n",
    "    density = (1-cdf(Gamma(nn,lambda),abs(t1-t2-y))) * c2 * ((-y)^phi) * WhittakerM_cont(-alpha,beta,-2*y/lambda)\n",
    "    return density\n",
    "end"
   ]
  },
  {
   "cell_type": "code",
   "execution_count": 12,
   "metadata": {},
   "outputs": [
    {
     "data": {
      "text/plain": [
       "-2.0"
      ]
     },
     "execution_count": 12,
     "metadata": {},
     "output_type": "execute_result"
    }
   ],
   "source": [
    "beta"
   ]
  },
  {
   "cell_type": "code",
   "execution_count": 13,
   "metadata": {
    "scrolled": true
   },
   "outputs": [
    {
     "data": {
      "text/plain": [
       "6.143199893476956e10"
      ]
     },
     "execution_count": 13,
     "metadata": {},
     "output_type": "execute_result"
    }
   ],
   "source": [
    "hminus(-6)\n"
   ]
  },
  {
   "cell_type": "code",
   "execution_count": 14,
   "metadata": {},
   "outputs": [],
   "source": [
    "using Plots"
   ]
  },
  {
   "cell_type": "code",
   "execution_count": 15,
   "metadata": {
    "scrolled": false
   },
   "outputs": [
    {
     "data": {
      "image/svg+xml": [
       "<?xml version=\"1.0\" encoding=\"utf-8\"?>\n",
       "<svg xmlns=\"http://www.w3.org/2000/svg\" xmlns:xlink=\"http://www.w3.org/1999/xlink\" width=\"600\" height=\"400\" viewBox=\"0 0 2400 1600\">\n",
       "<defs>\n",
       "  <clipPath id=\"clip7800\">\n",
       "    <rect x=\"0\" y=\"0\" width=\"2400\" height=\"1600\"/>\n",
       "  </clipPath>\n",
       "</defs>\n",
       "<polygon clip-path=\"url(#clip7800)\" points=\"\n",
       "0,1600 2400,1600 2400,0 0,0 \n",
       "  \" fill=\"#ffffff\" fill-rule=\"evenodd\" fill-opacity=\"1\"/>\n",
       "<defs>\n",
       "  <clipPath id=\"clip7801\">\n",
       "    <rect x=\"480\" y=\"0\" width=\"1681\" height=\"1600\"/>\n",
       "  </clipPath>\n",
       "</defs>\n",
       "<polygon clip-path=\"url(#clip7800)\" points=\"\n",
       "121.251,1503.47 2321.26,1503.47 2321.26,47.2441 121.251,47.2441 \n",
       "  \" fill=\"#ffffff\" fill-rule=\"evenodd\" fill-opacity=\"1\"/>\n",
       "<defs>\n",
       "  <clipPath id=\"clip7802\">\n",
       "    <rect x=\"121\" y=\"47\" width=\"2201\" height=\"1457\"/>\n",
       "  </clipPath>\n",
       "</defs>\n",
       "<polyline clip-path=\"url(#clip7802)\" style=\"stroke:#000000; stroke-width:2; stroke-opacity:0.1; fill:none\" points=\"\n",
       "  179.356,1503.47 179.356,47.2441 \n",
       "  \"/>\n",
       "<polyline clip-path=\"url(#clip7802)\" style=\"stroke:#000000; stroke-width:2; stroke-opacity:0.1; fill:none\" points=\"\n",
       "  595.284,1503.47 595.284,47.2441 \n",
       "  \"/>\n",
       "<polyline clip-path=\"url(#clip7802)\" style=\"stroke:#000000; stroke-width:2; stroke-opacity:0.1; fill:none\" points=\"\n",
       "  1011.21,1503.47 1011.21,47.2441 \n",
       "  \"/>\n",
       "<polyline clip-path=\"url(#clip7802)\" style=\"stroke:#000000; stroke-width:2; stroke-opacity:0.1; fill:none\" points=\"\n",
       "  1427.14,1503.47 1427.14,47.2441 \n",
       "  \"/>\n",
       "<polyline clip-path=\"url(#clip7802)\" style=\"stroke:#000000; stroke-width:2; stroke-opacity:0.1; fill:none\" points=\"\n",
       "  1843.07,1503.47 1843.07,47.2441 \n",
       "  \"/>\n",
       "<polyline clip-path=\"url(#clip7802)\" style=\"stroke:#000000; stroke-width:2; stroke-opacity:0.1; fill:none\" points=\"\n",
       "  2259,1503.47 2259,47.2441 \n",
       "  \"/>\n",
       "<polyline clip-path=\"url(#clip7802)\" style=\"stroke:#000000; stroke-width:2; stroke-opacity:0.1; fill:none\" points=\"\n",
       "  121.251,1462.26 2321.26,1462.26 \n",
       "  \"/>\n",
       "<polyline clip-path=\"url(#clip7802)\" style=\"stroke:#000000; stroke-width:2; stroke-opacity:0.1; fill:none\" points=\"\n",
       "  121.251,1197.45 2321.26,1197.45 \n",
       "  \"/>\n",
       "<polyline clip-path=\"url(#clip7802)\" style=\"stroke:#000000; stroke-width:2; stroke-opacity:0.1; fill:none\" points=\"\n",
       "  121.251,932.646 2321.26,932.646 \n",
       "  \"/>\n",
       "<polyline clip-path=\"url(#clip7802)\" style=\"stroke:#000000; stroke-width:2; stroke-opacity:0.1; fill:none\" points=\"\n",
       "  121.251,667.839 2321.26,667.839 \n",
       "  \"/>\n",
       "<polyline clip-path=\"url(#clip7802)\" style=\"stroke:#000000; stroke-width:2; stroke-opacity:0.1; fill:none\" points=\"\n",
       "  121.251,403.031 2321.26,403.031 \n",
       "  \"/>\n",
       "<polyline clip-path=\"url(#clip7802)\" style=\"stroke:#000000; stroke-width:2; stroke-opacity:0.1; fill:none\" points=\"\n",
       "  121.251,138.224 2321.26,138.224 \n",
       "  \"/>\n",
       "<polyline clip-path=\"url(#clip7800)\" style=\"stroke:#000000; stroke-width:4; stroke-opacity:1; fill:none\" points=\"\n",
       "  121.251,1503.47 2321.26,1503.47 \n",
       "  \"/>\n",
       "<polyline clip-path=\"url(#clip7800)\" style=\"stroke:#000000; stroke-width:4; stroke-opacity:1; fill:none\" points=\"\n",
       "  121.251,1503.47 121.251,47.2441 \n",
       "  \"/>\n",
       "<polyline clip-path=\"url(#clip7800)\" style=\"stroke:#000000; stroke-width:4; stroke-opacity:1; fill:none\" points=\"\n",
       "  179.356,1503.47 179.356,1481.63 \n",
       "  \"/>\n",
       "<polyline clip-path=\"url(#clip7800)\" style=\"stroke:#000000; stroke-width:4; stroke-opacity:1; fill:none\" points=\"\n",
       "  595.284,1503.47 595.284,1481.63 \n",
       "  \"/>\n",
       "<polyline clip-path=\"url(#clip7800)\" style=\"stroke:#000000; stroke-width:4; stroke-opacity:1; fill:none\" points=\"\n",
       "  1011.21,1503.47 1011.21,1481.63 \n",
       "  \"/>\n",
       "<polyline clip-path=\"url(#clip7800)\" style=\"stroke:#000000; stroke-width:4; stroke-opacity:1; fill:none\" points=\"\n",
       "  1427.14,1503.47 1427.14,1481.63 \n",
       "  \"/>\n",
       "<polyline clip-path=\"url(#clip7800)\" style=\"stroke:#000000; stroke-width:4; stroke-opacity:1; fill:none\" points=\"\n",
       "  1843.07,1503.47 1843.07,1481.63 \n",
       "  \"/>\n",
       "<polyline clip-path=\"url(#clip7800)\" style=\"stroke:#000000; stroke-width:4; stroke-opacity:1; fill:none\" points=\"\n",
       "  2259,1503.47 2259,1481.63 \n",
       "  \"/>\n",
       "<polyline clip-path=\"url(#clip7800)\" style=\"stroke:#000000; stroke-width:4; stroke-opacity:1; fill:none\" points=\"\n",
       "  121.251,1462.26 154.251,1462.26 \n",
       "  \"/>\n",
       "<polyline clip-path=\"url(#clip7800)\" style=\"stroke:#000000; stroke-width:4; stroke-opacity:1; fill:none\" points=\"\n",
       "  121.251,1197.45 154.251,1197.45 \n",
       "  \"/>\n",
       "<polyline clip-path=\"url(#clip7800)\" style=\"stroke:#000000; stroke-width:4; stroke-opacity:1; fill:none\" points=\"\n",
       "  121.251,932.646 154.251,932.646 \n",
       "  \"/>\n",
       "<polyline clip-path=\"url(#clip7800)\" style=\"stroke:#000000; stroke-width:4; stroke-opacity:1; fill:none\" points=\"\n",
       "  121.251,667.839 154.251,667.839 \n",
       "  \"/>\n",
       "<polyline clip-path=\"url(#clip7800)\" style=\"stroke:#000000; stroke-width:4; stroke-opacity:1; fill:none\" points=\"\n",
       "  121.251,403.031 154.251,403.031 \n",
       "  \"/>\n",
       "<polyline clip-path=\"url(#clip7800)\" style=\"stroke:#000000; stroke-width:4; stroke-opacity:1; fill:none\" points=\"\n",
       "  121.251,138.224 154.251,138.224 \n",
       "  \"/>\n",
       "<g clip-path=\"url(#clip7800)\">\n",
       "<text style=\"fill:#000000; fill-opacity:1; font-family:Arial,Helvetica Neue,Helvetica,sans-serif; font-size:48px; text-anchor:middle;\" transform=\"rotate(0, 179.356, 1557.47)\" x=\"179.356\" y=\"1557.47\">0</text>\n",
       "</g>\n",
       "<g clip-path=\"url(#clip7800)\">\n",
       "<text style=\"fill:#000000; fill-opacity:1; font-family:Arial,Helvetica Neue,Helvetica,sans-serif; font-size:48px; text-anchor:middle;\" transform=\"rotate(0, 595.284, 1557.47)\" x=\"595.284\" y=\"1557.47\">1</text>\n",
       "</g>\n",
       "<g clip-path=\"url(#clip7800)\">\n",
       "<text style=\"fill:#000000; fill-opacity:1; font-family:Arial,Helvetica Neue,Helvetica,sans-serif; font-size:48px; text-anchor:middle;\" transform=\"rotate(0, 1011.21, 1557.47)\" x=\"1011.21\" y=\"1557.47\">2</text>\n",
       "</g>\n",
       "<g clip-path=\"url(#clip7800)\">\n",
       "<text style=\"fill:#000000; fill-opacity:1; font-family:Arial,Helvetica Neue,Helvetica,sans-serif; font-size:48px; text-anchor:middle;\" transform=\"rotate(0, 1427.14, 1557.47)\" x=\"1427.14\" y=\"1557.47\">3</text>\n",
       "</g>\n",
       "<g clip-path=\"url(#clip7800)\">\n",
       "<text style=\"fill:#000000; fill-opacity:1; font-family:Arial,Helvetica Neue,Helvetica,sans-serif; font-size:48px; text-anchor:middle;\" transform=\"rotate(0, 1843.07, 1557.47)\" x=\"1843.07\" y=\"1557.47\">4</text>\n",
       "</g>\n",
       "<g clip-path=\"url(#clip7800)\">\n",
       "<text style=\"fill:#000000; fill-opacity:1; font-family:Arial,Helvetica Neue,Helvetica,sans-serif; font-size:48px; text-anchor:middle;\" transform=\"rotate(0, 2259, 1557.47)\" x=\"2259\" y=\"1557.47\">5</text>\n",
       "</g>\n",
       "<g clip-path=\"url(#clip7800)\">\n",
       "<text style=\"fill:#000000; fill-opacity:1; font-family:Arial,Helvetica Neue,Helvetica,sans-serif; font-size:48px; text-anchor:end;\" transform=\"rotate(0, 97.2505, 1479.76)\" x=\"97.2505\" y=\"1479.76\">0</text>\n",
       "</g>\n",
       "<g clip-path=\"url(#clip7800)\">\n",
       "<text style=\"fill:#000000; fill-opacity:1; font-family:Arial,Helvetica Neue,Helvetica,sans-serif; font-size:48px; text-anchor:end;\" transform=\"rotate(0, 97.2505, 1214.95)\" x=\"97.2505\" y=\"1214.95\">1</text>\n",
       "</g>\n",
       "<g clip-path=\"url(#clip7800)\">\n",
       "<text style=\"fill:#000000; fill-opacity:1; font-family:Arial,Helvetica Neue,Helvetica,sans-serif; font-size:48px; text-anchor:end;\" transform=\"rotate(0, 97.2505, 950.146)\" x=\"97.2505\" y=\"950.146\">2</text>\n",
       "</g>\n",
       "<g clip-path=\"url(#clip7800)\">\n",
       "<text style=\"fill:#000000; fill-opacity:1; font-family:Arial,Helvetica Neue,Helvetica,sans-serif; font-size:48px; text-anchor:end;\" transform=\"rotate(0, 97.2505, 685.339)\" x=\"97.2505\" y=\"685.339\">3</text>\n",
       "</g>\n",
       "<g clip-path=\"url(#clip7800)\">\n",
       "<text style=\"fill:#000000; fill-opacity:1; font-family:Arial,Helvetica Neue,Helvetica,sans-serif; font-size:48px; text-anchor:end;\" transform=\"rotate(0, 97.2505, 420.531)\" x=\"97.2505\" y=\"420.531\">4</text>\n",
       "</g>\n",
       "<g clip-path=\"url(#clip7800)\">\n",
       "<text style=\"fill:#000000; fill-opacity:1; font-family:Arial,Helvetica Neue,Helvetica,sans-serif; font-size:48px; text-anchor:end;\" transform=\"rotate(0, 97.2505, 155.724)\" x=\"97.2505\" y=\"155.724\">5</text>\n",
       "</g>\n",
       "<polyline clip-path=\"url(#clip7802)\" style=\"stroke:#009af9; stroke-width:4; stroke-opacity:1; fill:none\" points=\"\n",
       "  183.515,1462.26 187.674,1462.26 191.834,1462.26 195.993,1462.26 200.152,1462.26 204.311,1462.25 208.471,1462.24 212.63,1462.23 216.789,1462.21 220.948,1462.19 \n",
       "  225.108,1462.16 229.267,1462.13 233.426,1462.09 237.586,1462.04 241.745,1461.98 245.904,1461.91 250.063,1461.84 254.223,1461.75 258.382,1461.65 262.541,1461.55 \n",
       "  266.701,1461.43 270.86,1461.3 275.019,1461.16 279.178,1461.01 283.338,1460.85 287.497,1460.68 291.656,1460.5 295.815,1460.3 299.975,1460.1 304.134,1459.88 \n",
       "  308.293,1459.65 312.453,1459.41 316.612,1459.16 320.771,1458.9 324.93,1458.62 329.09,1458.34 333.249,1458.04 337.408,1457.74 341.568,1457.42 345.727,1457.1 \n",
       "  349.886,1456.76 354.045,1456.41 358.205,1456.06 362.364,1455.69 366.523,1455.31 370.683,1454.93 374.842,1454.53 379.001,1454.13 383.16,1453.71 387.32,1453.29 \n",
       "  391.479,1452.86 395.638,1452.42 399.797,1451.97 403.957,1451.51 408.116,1451.04 412.275,1450.57 416.435,1450.08 420.594,1449.59 424.753,1449.09 428.912,1448.58 \n",
       "  433.072,1448.06 437.231,1447.53 441.39,1447 445.55,1446.46 449.709,1445.91 453.868,1445.35 458.027,1444.78 462.187,1444.21 466.346,1443.63 470.505,1443.04 \n",
       "  474.665,1442.44 478.824,1441.83 482.983,1441.22 487.142,1440.6 491.302,1439.97 495.461,1439.33 499.62,1438.69 503.779,1438.03 507.939,1437.37 512.098,1436.71 \n",
       "  516.257,1436.03 520.417,1435.35 524.576,1434.66 528.735,1433.96 532.894,1433.25 537.054,1432.53 541.213,1431.81 545.372,1431.08 549.532,1430.34 553.691,1429.6 \n",
       "  557.85,1428.84 562.009,1428.08 566.169,1427.31 570.328,1426.53 574.487,1425.75 578.646,1424.95 582.806,1424.15 586.965,1423.34 591.124,1422.52 595.284,1421.7 \n",
       "  599.443,1420.86 603.602,1420.02 607.761,1419.17 611.921,1418.31 616.08,1417.45 620.239,1416.57 624.399,1415.69 628.558,1414.79 632.717,1413.89 636.876,1412.99 \n",
       "  641.036,1412.07 645.195,1411.14 649.354,1410.21 653.514,1409.27 657.673,1408.32 661.832,1407.36 665.991,1406.39 670.151,1405.41 674.31,1404.43 678.469,1403.44 \n",
       "  682.628,1402.43 686.788,1401.42 690.947,1400.4 695.106,1399.37 699.266,1398.34 703.425,1397.29 707.584,1396.23 711.743,1395.17 715.903,1394.1 720.062,1393.02 \n",
       "  724.221,1391.92 728.381,1390.82 732.54,1389.71 736.699,1388.6 740.858,1387.47 745.018,1386.33 749.177,1385.19 753.336,1384.03 757.496,1382.87 761.655,1381.69 \n",
       "  765.814,1380.51 769.973,1379.32 774.133,1378.11 778.292,1376.9 782.451,1375.68 786.61,1374.45 790.77,1373.21 794.929,1371.96 799.088,1370.7 803.248,1369.43 \n",
       "  807.407,1368.15 811.566,1366.87 815.725,1365.57 819.885,1364.26 824.044,1362.94 828.203,1361.61 832.363,1360.28 836.522,1358.93 840.681,1357.57 844.84,1356.2 \n",
       "  849,1354.83 853.159,1353.44 857.318,1352.04 861.478,1350.63 865.637,1349.22 869.796,1347.79 873.955,1346.35 878.115,1344.9 882.274,1343.44 886.433,1341.97 \n",
       "  890.592,1340.49 894.752,1339 898.911,1337.5 903.07,1335.99 907.23,1334.47 911.389,1332.94 915.548,1331.4 919.707,1329.84 923.867,1328.28 928.026,1326.7 \n",
       "  932.185,1325.12 936.345,1323.52 940.504,1321.92 944.663,1320.3 948.822,1318.67 952.982,1317.03 957.141,1315.38 961.3,1313.72 965.459,1312.05 969.619,1310.37 \n",
       "  973.778,1308.67 977.937,1306.97 982.097,1305.25 986.256,1303.52 990.415,1301.78 994.574,1300.03 998.734,1298.27 1002.89,1296.5 1007.05,1294.72 1011.21,1292.92 \n",
       "  1015.37,1291.12 1019.53,1289.3 1023.69,1287.47 1027.85,1285.63 1032.01,1283.78 1036.17,1281.91 1040.33,1280.04 1044.49,1278.15 1048.65,1276.25 1052.8,1274.34 \n",
       "  1056.96,1272.42 1061.12,1270.49 1065.28,1268.54 1069.44,1266.58 1073.6,1264.61 1077.76,1262.63 1081.92,1260.64 1086.08,1258.63 1090.24,1256.62 1094.4,1254.59 \n",
       "  1098.56,1252.55 1102.72,1250.49 1106.87,1248.43 1111.03,1246.35 1115.19,1244.26 1119.35,1242.16 1123.51,1240.05 1127.67,1237.92 1131.83,1235.78 1135.99,1233.63 \n",
       "  1140.15,1231.47 1144.31,1229.29 1148.47,1227.1 1152.63,1224.9 1156.79,1222.69 1160.95,1220.46 1165.1,1218.22 1169.26,1215.97 1173.42,1213.71 1177.58,1211.43 \n",
       "  1181.74,1209.14 1185.9,1206.84 1190.06,1204.53 1194.22,1202.2 1198.38,1199.86 1202.54,1197.5 1206.7,1195.14 1210.86,1192.76 1215.02,1190.37 1219.18,1187.96 \n",
       "  1223.33,1185.54 1227.49,1183.11 1231.65,1180.67 1235.81,1178.21 1239.97,1175.74 1244.13,1173.25 1248.29,1170.76 1252.45,1168.24 1256.61,1165.72 1260.77,1163.18 \n",
       "  1264.93,1160.63 1269.09,1158.07 1273.25,1155.49 1277.41,1152.9 1281.56,1150.29 1285.72,1147.67 1289.88,1145.04 1294.04,1142.4 1298.2,1139.74 1302.36,1137.06 \n",
       "  1306.52,1134.38 1310.68,1131.68 1314.84,1128.96 1319,1126.23 1323.16,1123.49 1327.32,1120.73 1331.48,1117.96 1335.64,1115.18 1339.79,1112.38 1343.95,1109.57 \n",
       "  1348.11,1106.74 1352.27,1103.9 1356.43,1101.05 1360.59,1098.18 1364.75,1095.3 1368.91,1092.4 1373.07,1089.49 1377.23,1086.56 1381.39,1083.62 1385.55,1080.67 \n",
       "  1389.71,1077.7 1393.87,1074.71 1398.02,1071.72 1402.18,1068.7 1406.34,1065.68 1410.5,1062.64 1414.66,1059.58 1418.82,1056.51 1422.98,1053.42 1427.14,1050.32 \n",
       "  1431.3,1047.21 1435.46,1044.08 1439.62,1040.93 1443.78,1037.77 1447.94,1034.6 1452.1,1031.41 1456.25,1028.2 1460.41,1024.99 1464.57,1021.75 1468.73,1018.5 \n",
       "  1472.89,1015.24 1477.05,1011.96 1481.21,1008.66 1485.37,1005.35 1489.53,1002.03 1493.69,998.686 1497.85,995.33 1502.01,991.959 1506.17,988.572 1510.33,985.17 \n",
       "  1514.48,981.753 1518.64,978.32 1522.8,974.872 1526.96,971.408 1531.12,967.928 1535.28,964.433 1539.44,960.922 1543.6,957.396 1547.76,953.854 1551.92,950.296 \n",
       "  1556.08,946.722 1560.24,943.133 1564.4,939.527 1568.56,935.906 1572.71,932.269 1576.87,928.616 1581.03,924.947 1585.19,921.262 1589.35,917.561 1593.51,913.844 \n",
       "  1597.67,910.111 1601.83,906.361 1605.99,902.596 1610.15,898.814 1614.31,895.016 1618.47,891.201 1622.63,887.371 1626.78,883.524 1630.94,879.66 1635.1,875.781 \n",
       "  1639.26,871.884 1643.42,867.972 1647.58,864.042 1651.74,860.097 1655.9,856.134 1660.06,852.155 1664.22,848.159 1668.38,844.147 1672.54,840.118 1676.7,836.072 \n",
       "  1680.86,832.009 1685.01,827.93 1689.17,823.834 1693.33,819.721 1697.49,815.591 1701.65,811.443 1705.81,807.279 1709.97,803.098 1714.13,798.9 1718.29,794.685 \n",
       "  1722.45,790.452 1726.61,786.203 1730.77,781.936 1734.93,777.652 1739.09,773.351 1743.24,769.032 1747.4,764.697 1751.56,760.343 1755.72,755.973 1759.88,751.585 \n",
       "  1764.04,747.179 1768.2,742.756 1772.36,738.315 1776.52,733.857 1780.68,729.382 1784.84,724.888 1789,720.378 1793.16,715.849 1797.32,711.302 1801.47,706.739 \n",
       "  1805.63,702.156 1809.79,697.556 1813.95,692.938 1818.11,688.303 1822.27,683.65 1826.43,678.977 1830.59,674.288 1834.75,669.581 1838.91,664.855 1843.07,660.11 \n",
       "  1847.23,655.349 1851.39,650.569 1855.55,645.771 1859.7,640.955 1863.86,636.119 1868.02,631.267 1872.18,626.396 1876.34,621.506 1880.5,616.597 1884.66,611.669 \n",
       "  1888.82,606.725 1892.98,601.761 1897.14,596.777 1901.3,591.776 1905.46,586.76 1909.62,581.722 1913.78,576.666 1917.93,571.589 1922.09,566.492 1926.25,561.382 \n",
       "  1930.41,556.251 1934.57,551.099 1938.73,545.93 1942.89,540.743 1947.05,535.53 1951.21,530.306 1955.37,525.065 1959.53,519.801 1963.69,514.516 1967.85,509.212 \n",
       "  1972.01,503.893 1976.16,498.55 1980.32,493.188 1984.48,487.805 1988.64,482.406 1992.8,476.987 1996.96,471.549 2001.12,466.099 2005.28,460.621 2009.44,455.131 \n",
       "  2013.6,449.603 2017.76,444.065 2021.92,438.521 2026.08,432.938 2030.24,427.346 2034.39,421.742 2038.55,416.105 2042.71,410.465 2046.87,404.784 2051.03,399.079 \n",
       "  2055.19,393.374 2059.35,387.644 2063.51,381.897 2067.67,376.114 2071.83,370.313 2075.99,364.522 2080.15,358.703 2084.31,352.815 2088.46,346.944 2092.62,341.064 \n",
       "  2096.78,335.15 2100.94,329.226 2105.1,323.275 2109.26,317.284 2113.42,311.299 2117.58,305.261 2121.74,299.234 2125.9,293.233 2130.06,287.135 2134.22,281.029 \n",
       "  2138.38,274.949 2142.54,268.768 2146.69,262.615 2150.85,256.458 2155.01,250.265 2159.17,244.004 2163.33,237.757 2167.49,231.509 2171.65,225.249 2175.81,218.973 \n",
       "  2179.97,212.678 2184.13,206.224 2188.29,199.909 2192.45,193.455 2196.61,187.042 2200.77,180.715 2204.92,174.159 2209.08,167.792 2213.24,161.294 2217.4,154.72 \n",
       "  2221.56,148.147 2225.72,141.677 2229.88,135.182 2234.04,128.511 2238.2,121.774 2242.36,115.116 2246.52,108.723 2250.68,101.814 2254.84,95.2162 2259,88.4582 \n",
       "  \n",
       "  \"/>\n",
       "<polygon clip-path=\"url(#clip7800)\" points=\"\n",
       "1958.43,251.724 2249.26,251.724 2249.26,130.764 1958.43,130.764 \n",
       "  \" fill=\"#ffffff\" fill-rule=\"evenodd\" fill-opacity=\"1\"/>\n",
       "<polyline clip-path=\"url(#clip7800)\" style=\"stroke:#000000; stroke-width:4; stroke-opacity:1; fill:none\" points=\"\n",
       "  1958.43,251.724 2249.26,251.724 2249.26,130.764 1958.43,130.764 1958.43,251.724 \n",
       "  \"/>\n",
       "<polyline clip-path=\"url(#clip7800)\" style=\"stroke:#009af9; stroke-width:4; stroke-opacity:1; fill:none\" points=\"\n",
       "  1982.43,191.244 2126.43,191.244 \n",
       "  \"/>\n",
       "<g clip-path=\"url(#clip7800)\">\n",
       "<text style=\"fill:#000000; fill-opacity:1; font-family:Arial,Helvetica Neue,Helvetica,sans-serif; font-size:48px; text-anchor:start;\" transform=\"rotate(0, 2150.43, 208.744)\" x=\"2150.43\" y=\"208.744\">y1</text>\n",
       "</g>\n",
       "</svg>\n"
      ]
     },
     "execution_count": 15,
     "metadata": {},
     "output_type": "execute_result"
    }
   ],
   "source": [
    "listy = collect(range(0.01,stop=5,step=0.01))\n",
    "listd = [hplus(y) for y in listy]\n",
    "listmy = collect(range(-10,stop=-0.01,step=0.01))\n",
    "listmd = [hminus(y) for y in listmy]\n",
    "plot(listy,listd)"
   ]
  },
  {
   "cell_type": "code",
   "execution_count": 16,
   "metadata": {},
   "outputs": [
    {
     "data": {
      "image/svg+xml": [
       "<?xml version=\"1.0\" encoding=\"utf-8\"?>\n",
       "<svg xmlns=\"http://www.w3.org/2000/svg\" xmlns:xlink=\"http://www.w3.org/1999/xlink\" width=\"600\" height=\"400\" viewBox=\"0 0 2400 1600\">\n",
       "<defs>\n",
       "  <clipPath id=\"clip8200\">\n",
       "    <rect x=\"0\" y=\"0\" width=\"2400\" height=\"1600\"/>\n",
       "  </clipPath>\n",
       "</defs>\n",
       "<polygon clip-path=\"url(#clip8200)\" points=\"\n",
       "0,1600 2400,1600 2400,0 0,0 \n",
       "  \" fill=\"#ffffff\" fill-rule=\"evenodd\" fill-opacity=\"1\"/>\n",
       "<defs>\n",
       "  <clipPath id=\"clip8201\">\n",
       "    <rect x=\"480\" y=\"0\" width=\"1681\" height=\"1600\"/>\n",
       "  </clipPath>\n",
       "</defs>\n",
       "<polygon clip-path=\"url(#clip8200)\" points=\"\n",
       "234.942,1503.47 2321.26,1503.47 2321.26,47.2441 234.942,47.2441 \n",
       "  \" fill=\"#ffffff\" fill-rule=\"evenodd\" fill-opacity=\"1\"/>\n",
       "<defs>\n",
       "  <clipPath id=\"clip8202\">\n",
       "    <rect x=\"234\" y=\"47\" width=\"2087\" height=\"1457\"/>\n",
       "  </clipPath>\n",
       "</defs>\n",
       "<polyline clip-path=\"url(#clip8202)\" style=\"stroke:#000000; stroke-width:2; stroke-opacity:0.1; fill:none\" points=\"\n",
       "  293.989,1503.47 293.989,47.2441 \n",
       "  \"/>\n",
       "<polyline clip-path=\"url(#clip8202)\" style=\"stroke:#000000; stroke-width:2; stroke-opacity:0.1; fill:none\" points=\"\n",
       "  786.538,1503.47 786.538,47.2441 \n",
       "  \"/>\n",
       "<polyline clip-path=\"url(#clip8202)\" style=\"stroke:#000000; stroke-width:2; stroke-opacity:0.1; fill:none\" points=\"\n",
       "  1279.09,1503.47 1279.09,47.2441 \n",
       "  \"/>\n",
       "<polyline clip-path=\"url(#clip8202)\" style=\"stroke:#000000; stroke-width:2; stroke-opacity:0.1; fill:none\" points=\"\n",
       "  1771.63,1503.47 1771.63,47.2441 \n",
       "  \"/>\n",
       "<polyline clip-path=\"url(#clip8202)\" style=\"stroke:#000000; stroke-width:2; stroke-opacity:0.1; fill:none\" points=\"\n",
       "  2264.18,1503.47 2264.18,47.2441 \n",
       "  \"/>\n",
       "<polyline clip-path=\"url(#clip8202)\" style=\"stroke:#000000; stroke-width:2; stroke-opacity:0.1; fill:none\" points=\"\n",
       "  234.942,1462.26 2321.26,1462.26 \n",
       "  \"/>\n",
       "<polyline clip-path=\"url(#clip8202)\" style=\"stroke:#000000; stroke-width:2; stroke-opacity:0.1; fill:none\" points=\"\n",
       "  234.942,1256.94 2321.26,1256.94 \n",
       "  \"/>\n",
       "<polyline clip-path=\"url(#clip8202)\" style=\"stroke:#000000; stroke-width:2; stroke-opacity:0.1; fill:none\" points=\"\n",
       "  234.942,1051.62 2321.26,1051.62 \n",
       "  \"/>\n",
       "<polyline clip-path=\"url(#clip8202)\" style=\"stroke:#000000; stroke-width:2; stroke-opacity:0.1; fill:none\" points=\"\n",
       "  234.942,846.306 2321.26,846.306 \n",
       "  \"/>\n",
       "<polyline clip-path=\"url(#clip8202)\" style=\"stroke:#000000; stroke-width:2; stroke-opacity:0.1; fill:none\" points=\"\n",
       "  234.942,640.988 2321.26,640.988 \n",
       "  \"/>\n",
       "<polyline clip-path=\"url(#clip8202)\" style=\"stroke:#000000; stroke-width:2; stroke-opacity:0.1; fill:none\" points=\"\n",
       "  234.942,435.67 2321.26,435.67 \n",
       "  \"/>\n",
       "<polyline clip-path=\"url(#clip8202)\" style=\"stroke:#000000; stroke-width:2; stroke-opacity:0.1; fill:none\" points=\"\n",
       "  234.942,230.351 2321.26,230.351 \n",
       "  \"/>\n",
       "<polyline clip-path=\"url(#clip8200)\" style=\"stroke:#000000; stroke-width:4; stroke-opacity:1; fill:none\" points=\"\n",
       "  234.942,1503.47 2321.26,1503.47 \n",
       "  \"/>\n",
       "<polyline clip-path=\"url(#clip8200)\" style=\"stroke:#000000; stroke-width:4; stroke-opacity:1; fill:none\" points=\"\n",
       "  234.942,1503.47 234.942,47.2441 \n",
       "  \"/>\n",
       "<polyline clip-path=\"url(#clip8200)\" style=\"stroke:#000000; stroke-width:4; stroke-opacity:1; fill:none\" points=\"\n",
       "  293.989,1503.47 293.989,1481.63 \n",
       "  \"/>\n",
       "<polyline clip-path=\"url(#clip8200)\" style=\"stroke:#000000; stroke-width:4; stroke-opacity:1; fill:none\" points=\"\n",
       "  786.538,1503.47 786.538,1481.63 \n",
       "  \"/>\n",
       "<polyline clip-path=\"url(#clip8200)\" style=\"stroke:#000000; stroke-width:4; stroke-opacity:1; fill:none\" points=\"\n",
       "  1279.09,1503.47 1279.09,1481.63 \n",
       "  \"/>\n",
       "<polyline clip-path=\"url(#clip8200)\" style=\"stroke:#000000; stroke-width:4; stroke-opacity:1; fill:none\" points=\"\n",
       "  1771.63,1503.47 1771.63,1481.63 \n",
       "  \"/>\n",
       "<polyline clip-path=\"url(#clip8200)\" style=\"stroke:#000000; stroke-width:4; stroke-opacity:1; fill:none\" points=\"\n",
       "  2264.18,1503.47 2264.18,1481.63 \n",
       "  \"/>\n",
       "<polyline clip-path=\"url(#clip8200)\" style=\"stroke:#000000; stroke-width:4; stroke-opacity:1; fill:none\" points=\"\n",
       "  234.942,1462.26 266.237,1462.26 \n",
       "  \"/>\n",
       "<polyline clip-path=\"url(#clip8200)\" style=\"stroke:#000000; stroke-width:4; stroke-opacity:1; fill:none\" points=\"\n",
       "  234.942,1256.94 266.237,1256.94 \n",
       "  \"/>\n",
       "<polyline clip-path=\"url(#clip8200)\" style=\"stroke:#000000; stroke-width:4; stroke-opacity:1; fill:none\" points=\"\n",
       "  234.942,1051.62 266.237,1051.62 \n",
       "  \"/>\n",
       "<polyline clip-path=\"url(#clip8200)\" style=\"stroke:#000000; stroke-width:4; stroke-opacity:1; fill:none\" points=\"\n",
       "  234.942,846.306 266.237,846.306 \n",
       "  \"/>\n",
       "<polyline clip-path=\"url(#clip8200)\" style=\"stroke:#000000; stroke-width:4; stroke-opacity:1; fill:none\" points=\"\n",
       "  234.942,640.988 266.237,640.988 \n",
       "  \"/>\n",
       "<polyline clip-path=\"url(#clip8200)\" style=\"stroke:#000000; stroke-width:4; stroke-opacity:1; fill:none\" points=\"\n",
       "  234.942,435.67 266.237,435.67 \n",
       "  \"/>\n",
       "<polyline clip-path=\"url(#clip8200)\" style=\"stroke:#000000; stroke-width:4; stroke-opacity:1; fill:none\" points=\"\n",
       "  234.942,230.351 266.237,230.351 \n",
       "  \"/>\n",
       "<g clip-path=\"url(#clip8200)\">\n",
       "<text style=\"fill:#000000; fill-opacity:1; font-family:Arial,Helvetica Neue,Helvetica,sans-serif; font-size:48px; text-anchor:middle;\" transform=\"rotate(0, 293.989, 1557.47)\" x=\"293.989\" y=\"1557.47\">-10.0</text>\n",
       "</g>\n",
       "<g clip-path=\"url(#clip8200)\">\n",
       "<text style=\"fill:#000000; fill-opacity:1; font-family:Arial,Helvetica Neue,Helvetica,sans-serif; font-size:48px; text-anchor:middle;\" transform=\"rotate(0, 786.538, 1557.47)\" x=\"786.538\" y=\"1557.47\">-7.5</text>\n",
       "</g>\n",
       "<g clip-path=\"url(#clip8200)\">\n",
       "<text style=\"fill:#000000; fill-opacity:1; font-family:Arial,Helvetica Neue,Helvetica,sans-serif; font-size:48px; text-anchor:middle;\" transform=\"rotate(0, 1279.09, 1557.47)\" x=\"1279.09\" y=\"1557.47\">-5.0</text>\n",
       "</g>\n",
       "<g clip-path=\"url(#clip8200)\">\n",
       "<text style=\"fill:#000000; fill-opacity:1; font-family:Arial,Helvetica Neue,Helvetica,sans-serif; font-size:48px; text-anchor:middle;\" transform=\"rotate(0, 1771.63, 1557.47)\" x=\"1771.63\" y=\"1557.47\">-2.5</text>\n",
       "</g>\n",
       "<g clip-path=\"url(#clip8200)\">\n",
       "<text style=\"fill:#000000; fill-opacity:1; font-family:Arial,Helvetica Neue,Helvetica,sans-serif; font-size:48px; text-anchor:middle;\" transform=\"rotate(0, 2264.18, 1557.47)\" x=\"2264.18\" y=\"1557.47\">0.0</text>\n",
       "</g>\n",
       "<g clip-path=\"url(#clip8200)\">\n",
       "<text style=\"fill:#000000; fill-opacity:1; font-family:Arial,Helvetica Neue,Helvetica,sans-serif; font-size:48px; text-anchor:end;\" transform=\"rotate(0, 210.942, 1479.76)\" x=\"210.942\" y=\"1479.76\">0</text>\n",
       "</g>\n",
       "<g clip-path=\"url(#clip8200)\">\n",
       "<text style=\"fill:#000000; fill-opacity:1; font-family:Arial,Helvetica Neue,Helvetica,sans-serif; font-size:48px; text-anchor:start;\" transform=\"rotate(0, 59.0564, 1280.67)\" x=\"59.0564\" y=\"1280.67\">1×10</text>\n",
       "</g>\n",
       "<g clip-path=\"url(#clip8200)\">\n",
       "<text style=\"fill:#000000; fill-opacity:1; font-family:Arial,Helvetica Neue,Helvetica,sans-serif; font-size:38px; text-anchor:start;\" transform=\"rotate(0, 167.454, 1253.26)\" x=\"167.454\" y=\"1253.26\">11</text>\n",
       "</g>\n",
       "<g clip-path=\"url(#clip8200)\">\n",
       "<text style=\"fill:#000000; fill-opacity:1; font-family:Arial,Helvetica Neue,Helvetica,sans-serif; font-size:48px; text-anchor:start;\" transform=\"rotate(0, 59.0564, 1075.35)\" x=\"59.0564\" y=\"1075.35\">2×10</text>\n",
       "</g>\n",
       "<g clip-path=\"url(#clip8200)\">\n",
       "<text style=\"fill:#000000; fill-opacity:1; font-family:Arial,Helvetica Neue,Helvetica,sans-serif; font-size:38px; text-anchor:start;\" transform=\"rotate(0, 167.454, 1047.94)\" x=\"167.454\" y=\"1047.94\">11</text>\n",
       "</g>\n",
       "<g clip-path=\"url(#clip8200)\">\n",
       "<text style=\"fill:#000000; fill-opacity:1; font-family:Arial,Helvetica Neue,Helvetica,sans-serif; font-size:48px; text-anchor:start;\" transform=\"rotate(0, 59.0564, 870.034)\" x=\"59.0564\" y=\"870.034\">3×10</text>\n",
       "</g>\n",
       "<g clip-path=\"url(#clip8200)\">\n",
       "<text style=\"fill:#000000; fill-opacity:1; font-family:Arial,Helvetica Neue,Helvetica,sans-serif; font-size:38px; text-anchor:start;\" transform=\"rotate(0, 167.454, 842.623)\" x=\"167.454\" y=\"842.623\">11</text>\n",
       "</g>\n",
       "<g clip-path=\"url(#clip8200)\">\n",
       "<text style=\"fill:#000000; fill-opacity:1; font-family:Arial,Helvetica Neue,Helvetica,sans-serif; font-size:48px; text-anchor:start;\" transform=\"rotate(0, 59.0564, 664.715)\" x=\"59.0564\" y=\"664.715\">4×10</text>\n",
       "</g>\n",
       "<g clip-path=\"url(#clip8200)\">\n",
       "<text style=\"fill:#000000; fill-opacity:1; font-family:Arial,Helvetica Neue,Helvetica,sans-serif; font-size:38px; text-anchor:start;\" transform=\"rotate(0, 167.454, 637.305)\" x=\"167.454\" y=\"637.305\">11</text>\n",
       "</g>\n",
       "<g clip-path=\"url(#clip8200)\">\n",
       "<text style=\"fill:#000000; fill-opacity:1; font-family:Arial,Helvetica Neue,Helvetica,sans-serif; font-size:48px; text-anchor:start;\" transform=\"rotate(0, 59.0564, 459.397)\" x=\"59.0564\" y=\"459.397\">5×10</text>\n",
       "</g>\n",
       "<g clip-path=\"url(#clip8200)\">\n",
       "<text style=\"fill:#000000; fill-opacity:1; font-family:Arial,Helvetica Neue,Helvetica,sans-serif; font-size:38px; text-anchor:start;\" transform=\"rotate(0, 167.454, 431.987)\" x=\"167.454\" y=\"431.987\">11</text>\n",
       "</g>\n",
       "<g clip-path=\"url(#clip8200)\">\n",
       "<text style=\"fill:#000000; fill-opacity:1; font-family:Arial,Helvetica Neue,Helvetica,sans-serif; font-size:48px; text-anchor:start;\" transform=\"rotate(0, 59.0564, 254.079)\" x=\"59.0564\" y=\"254.079\">6×10</text>\n",
       "</g>\n",
       "<g clip-path=\"url(#clip8200)\">\n",
       "<text style=\"fill:#000000; fill-opacity:1; font-family:Arial,Helvetica Neue,Helvetica,sans-serif; font-size:38px; text-anchor:start;\" transform=\"rotate(0, 167.454, 226.668)\" x=\"167.454\" y=\"226.668\">11</text>\n",
       "</g>\n",
       "<polyline clip-path=\"url(#clip8202)\" style=\"stroke:#009af9; stroke-width:4; stroke-opacity:1; fill:none\" points=\"\n",
       "  293.989,100.199 295.959,88.4582 297.929,119.77 299.9,115.031 301.87,114.227 303.84,116.974 305.81,122.912 307.78,131.711 309.751,143.067 311.721,156.696 \n",
       "  313.691,147.048 315.661,165.75 317.631,163.151 319.602,164.156 321.572,168.405 323.542,175.567 325.512,185.336 327.482,197.43 329.453,194.91 331.423,211.736 \n",
       "  333.393,215.094 335.363,221.335 337.333,216.617 339.304,228.43 341.274,230.056 343.244,234.697 345.214,242.045 347.184,251.813 349.155,253.831 351.125,258.766 \n",
       "  353.095,266.317 355.065,276.206 357.035,280.135 359.005,286.725 360.976,288.45 362.946,293.034 364.916,300.182 366.886,303.424 368.856,309.337 370.827,317.641 \n",
       "  372.797,322.778 374.767,325.318 376.737,330.542 378.707,338.171 380.678,343.646 382.648,347.384 384.618,353.632 386.588,358.445 388.558,365.634 390.529,368.314 \n",
       "  392.499,373.555 394.469,378.104 396.439,385.005 398.409,388.624 400.38,394.66 402.35,400.434 404.32,406.08 406.29,409.53 408.26,415.36 410.231,419.384 \n",
       "  412.201,425.706 414.171,430.538 416.141,435.877 418.111,440.149 420.081,445.125 422.052,449.363 424.022,454.436 425.992,459.022 427.962,464.519 429.932,469.719 \n",
       "  431.903,473.648 433.873,478.695 435.843,483.791 437.813,488.073 439.783,493.553 441.754,497.584 443.724,502.904 445.694,507.105 447.664,511.904 449.634,516.611 \n",
       "  451.605,521.329 453.575,526.145 455.545,530.539 457.515,535.227 459.485,539.718 461.456,544.129 463.426,548.56 465.396,553.096 467.366,557.808 469.336,562.343 \n",
       "  471.307,566.812 473.277,571.31 475.247,575.564 477.217,580.029 479.187,584.442 481.158,588.893 483.128,593.172 485.098,597.66 487.068,601.892 489.038,606.232 \n",
       "  491.008,610.513 492.979,614.824 494.949,619.033 496.919,623.433 498.889,627.51 500.859,631.748 502.83,636.032 504.8,640.273 506.77,644.402 508.74,648.513 \n",
       "  510.71,652.684 512.681,656.854 514.651,660.974 516.621,665.01 518.591,669.161 520.561,673.167 522.532,677.224 524.502,681.303 526.472,685.294 528.442,689.368 \n",
       "  530.412,693.342 532.383,697.301 534.353,701.248 536.323,705.185 538.293,709.119 540.263,713.058 542.234,716.954 544.204,720.825 546.174,724.691 548.144,728.571 \n",
       "  550.114,732.387 552.085,736.217 554.055,740.04 556.025,743.8 557.995,747.574 559.965,751.353 561.935,755.096 563.906,758.841 565.876,762.559 567.846,766.258 \n",
       "  569.816,769.949 571.786,773.616 573.757,777.276 575.727,780.944 577.697,784.568 579.667,788.171 581.637,791.779 583.608,795.375 585.578,798.945 587.548,802.503 \n",
       "  589.518,806.044 591.488,809.583 593.459,813.104 595.429,816.599 597.399,820.089 599.369,823.558 601.339,827.017 603.31,830.469 605.28,833.894 607.25,837.314 \n",
       "  609.22,840.726 611.19,844.113 613.161,847.491 615.131,850.849 617.101,854.198 619.071,857.533 621.041,860.855 623.012,864.165 624.982,867.46 626.952,870.742 \n",
       "  628.922,874.007 630.892,877.262 632.862,880.503 634.833,883.729 636.803,886.94 638.773,890.138 640.743,893.328 642.713,896.501 644.684,899.66 646.654,902.808 \n",
       "  648.624,905.942 650.594,909.06 652.564,912.17 654.535,915.265 656.505,918.346 658.475,921.414 660.445,924.468 662.415,927.51 664.386,930.541 666.356,933.558 \n",
       "  668.326,936.561 670.296,939.553 672.266,942.532 674.237,945.498 676.207,948.451 678.177,951.391 680.147,954.32 682.117,957.235 684.088,960.138 686.058,963.028 \n",
       "  688.028,965.905 689.998,968.772 691.968,971.625 693.938,974.466 695.909,977.294 697.879,980.111 699.849,982.914 701.819,985.706 703.789,988.486 705.76,991.254 \n",
       "  707.73,994.009 709.7,996.752 711.67,999.484 713.64,1002.2 715.611,1004.91 717.581,1007.61 719.551,1010.29 721.521,1012.96 723.491,1015.62 725.462,1018.27 \n",
       "  727.432,1020.91 729.402,1023.53 731.372,1026.14 733.342,1028.75 735.313,1031.34 737.283,1033.91 739.253,1036.48 741.223,1039.04 743.193,1041.58 745.164,1044.11 \n",
       "  747.134,1046.63 749.104,1049.14 751.074,1051.64 753.044,1054.13 755.015,1056.6 756.985,1059.07 758.955,1061.52 760.925,1063.96 762.895,1066.39 764.865,1068.81 \n",
       "  766.836,1071.22 768.806,1073.62 770.776,1076.01 772.746,1078.38 774.716,1080.75 776.687,1083.1 778.657,1085.44 780.627,1087.78 782.597,1090.1 784.567,1092.41 \n",
       "  786.538,1094.71 788.508,1097 790.478,1099.28 792.448,1101.55 794.418,1103.8 796.389,1106.05 798.359,1108.29 800.329,1110.51 802.299,1112.73 804.269,1114.93 \n",
       "  806.24,1117.13 808.21,1119.31 810.18,1121.49 812.15,1123.65 814.12,1125.8 816.091,1127.94 818.061,1130.08 820.031,1132.2 822.001,1134.31 823.971,1136.42 \n",
       "  825.942,1138.51 827.912,1140.59 829.882,1142.66 831.852,1144.72 833.822,1146.78 835.792,1148.82 837.763,1150.85 839.733,1152.88 841.703,1154.89 843.673,1156.89 \n",
       "  845.643,1158.88 847.614,1160.87 849.584,1162.84 851.554,1164.81 853.524,1166.76 855.494,1168.71 857.465,1170.64 859.435,1172.57 861.405,1174.48 863.375,1176.39 \n",
       "  865.345,1178.29 867.316,1180.18 869.286,1182.06 871.256,1183.92 873.226,1185.78 875.196,1187.64 877.167,1189.48 879.137,1191.31 881.107,1193.13 883.077,1194.95 \n",
       "  885.047,1196.75 887.018,1198.55 888.988,1200.33 890.958,1202.11 892.928,1203.88 894.898,1205.64 896.869,1207.39 898.839,1209.13 900.809,1210.86 902.779,1212.59 \n",
       "  904.749,1214.3 906.719,1216.01 908.69,1217.71 910.66,1219.4 912.63,1221.08 914.6,1222.75 916.57,1224.41 918.541,1226.06 920.511,1227.71 922.481,1229.35 \n",
       "  924.451,1230.98 926.421,1232.6 928.392,1234.21 930.362,1235.81 932.332,1237.4 934.302,1238.99 936.272,1240.57 938.243,1242.14 940.213,1243.7 942.183,1245.25 \n",
       "  944.153,1246.8 946.123,1248.33 948.094,1249.86 950.064,1251.38 952.034,1252.89 954.004,1254.4 955.974,1255.89 957.945,1257.38 959.915,1258.86 961.885,1260.33 \n",
       "  963.855,1261.8 965.825,1263.25 967.795,1264.7 969.766,1266.14 971.736,1267.57 973.706,1269 975.676,1270.42 977.646,1271.83 979.617,1273.23 981.587,1274.62 \n",
       "  983.557,1276.01 985.527,1277.38 987.497,1278.76 989.468,1280.12 991.438,1281.47 993.408,1282.82 995.378,1284.16 997.348,1285.5 999.319,1286.82 1001.29,1288.14 \n",
       "  1003.26,1289.45 1005.23,1290.75 1007.2,1292.05 1009.17,1293.34 1011.14,1294.62 1013.11,1295.89 1015.08,1297.16 1017.05,1298.42 1019.02,1299.67 1020.99,1300.92 \n",
       "  1022.96,1302.16 1024.93,1303.39 1026.9,1304.61 1028.87,1305.83 1030.84,1307.04 1032.81,1308.24 1034.78,1309.44 1036.75,1310.63 1038.72,1311.81 1040.69,1312.99 \n",
       "  1042.66,1314.16 1044.63,1315.32 1046.6,1316.47 1048.57,1317.62 1050.54,1318.76 1052.51,1319.9 1054.48,1321.02 1056.45,1322.15 1058.42,1323.26 1060.39,1324.37 \n",
       "  1062.36,1325.47 1064.34,1326.57 1066.31,1327.65 1068.28,1328.74 1070.25,1329.81 1072.22,1330.88 1074.19,1331.94 1076.16,1333 1078.13,1334.05 1080.1,1335.09 \n",
       "  1082.07,1336.13 1084.04,1337.16 1086.01,1338.18 1087.98,1339.2 1089.95,1340.22 1091.92,1341.22 1093.89,1342.22 1095.86,1343.21 1097.83,1344.2 1099.8,1345.18 \n",
       "  1101.77,1346.16 1103.74,1347.13 1105.71,1348.09 1107.68,1349.05 1109.65,1350 1111.62,1350.94 1113.59,1351.88 1115.56,1352.82 1117.53,1353.74 1119.5,1354.66 \n",
       "  1121.47,1355.58 1123.44,1356.49 1125.41,1357.39 1127.38,1358.29 1129.35,1359.19 1131.32,1360.07 1133.29,1360.95 1135.26,1361.83 1137.23,1362.7 1139.2,1363.56 \n",
       "  1141.17,1364.42 1143.14,1365.28 1145.11,1366.12 1147.08,1366.97 1149.05,1367.8 1151.02,1368.63 1152.99,1369.46 1154.96,1370.28 1156.93,1371.09 1158.9,1371.9 \n",
       "  1160.87,1372.71 1162.84,1373.51 1164.81,1374.3 1166.79,1375.09 1168.76,1375.87 1170.73,1376.65 1172.7,1377.42 1174.67,1378.19 1176.64,1378.95 1178.61,1379.71 \n",
       "  1180.58,1380.46 1182.55,1381.21 1184.52,1381.95 1186.49,1382.69 1188.46,1383.42 1190.43,1384.14 1192.4,1384.86 1194.37,1385.58 1196.34,1386.29 1198.31,1387 \n",
       "  1200.28,1387.7 1202.25,1388.4 1204.22,1389.09 1206.19,1389.78 1208.16,1390.46 1210.13,1391.14 1212.1,1391.81 1214.07,1392.48 1216.04,1393.14 1218.01,1393.8 \n",
       "  1219.98,1394.46 1221.95,1395.11 1223.92,1395.75 1225.89,1396.39 1227.86,1397.03 1229.83,1397.66 1231.8,1398.29 1233.77,1398.91 1235.74,1399.53 1237.71,1400.14 \n",
       "  1239.68,1400.75 1241.65,1401.35 1243.62,1401.95 1245.59,1402.55 1247.56,1403.14 1249.53,1403.72 1251.5,1404.31 1253.47,1404.88 1255.44,1405.46 1257.41,1406.03 \n",
       "  1259.38,1406.59 1261.35,1407.15 1263.32,1407.71 1265.29,1408.26 1267.27,1408.81 1269.24,1409.36 1271.21,1409.9 1273.18,1410.43 1275.15,1410.97 1277.12,1411.49 \n",
       "  1279.09,1412.02 1281.06,1412.54 1283.03,1413.05 1285,1413.57 1286.97,1414.07 1288.94,1414.58 1290.91,1415.08 1292.88,1415.57 1294.85,1416.07 1296.82,1416.55 \n",
       "  1298.79,1417.04 1300.76,1417.52 1302.73,1418 1304.7,1418.47 1306.67,1418.94 1308.64,1419.41 1310.61,1419.87 1312.58,1420.33 1314.55,1420.78 1316.52,1421.23 \n",
       "  1318.49,1421.68 1320.46,1422.12 1322.43,1422.56 1324.4,1423 1326.37,1423.43 1328.34,1423.86 1330.31,1424.29 1332.28,1424.71 1334.25,1425.13 1336.22,1425.55 \n",
       "  1338.19,1425.96 1340.16,1426.37 1342.13,1426.77 1344.1,1427.17 1346.07,1427.57 1348.04,1427.97 1350.01,1428.36 1351.98,1428.75 1353.95,1429.13 1355.92,1429.51 \n",
       "  1357.89,1429.89 1359.86,1430.27 1361.83,1430.64 1363.8,1431.01 1365.77,1431.38 1367.74,1431.74 1369.72,1432.1 1371.69,1432.45 1373.66,1432.81 1375.63,1433.16 \n",
       "  1377.6,1433.5 1379.57,1433.85 1381.54,1434.19 1383.51,1434.53 1385.48,1434.86 1387.45,1435.19 1389.42,1435.52 1391.39,1435.85 1393.36,1436.17 1395.33,1436.49 \n",
       "  1397.3,1436.81 1399.27,1437.12 1401.24,1437.43 1403.21,1437.74 1405.18,1438.05 1407.15,1438.35 1409.12,1438.65 1411.09,1438.95 1413.06,1439.24 1415.03,1439.53 \n",
       "  1417,1439.82 1418.97,1440.11 1420.94,1440.39 1422.91,1440.67 1424.88,1440.95 1426.85,1441.23 1428.82,1441.5 1430.79,1441.77 1432.76,1442.04 1434.73,1442.3 \n",
       "  1436.7,1442.57 1438.67,1442.83 1440.64,1443.08 1442.61,1443.34 1444.58,1443.59 1446.55,1443.84 1448.52,1444.09 1450.49,1444.34 1452.46,1444.58 1454.43,1444.82 \n",
       "  1456.4,1445.06 1458.37,1445.29 1460.34,1445.52 1462.31,1445.75 1464.28,1445.98 1466.25,1446.21 1468.22,1446.43 1470.2,1446.65 1472.17,1446.87 1474.14,1447.09 \n",
       "  1476.11,1447.3 1478.08,1447.52 1480.05,1447.73 1482.02,1447.94 1483.99,1448.14 1485.96,1448.34 1487.93,1448.55 1489.9,1448.74 1491.87,1448.94 1493.84,1449.14 \n",
       "  1495.81,1449.33 1497.78,1449.52 1499.75,1449.71 1501.72,1449.9 1503.69,1450.08 1505.66,1450.26 1507.63,1450.44 1509.6,1450.62 1511.57,1450.8 1513.54,1450.97 \n",
       "  1515.51,1451.15 1517.48,1451.32 1519.45,1451.49 1521.42,1451.65 1523.39,1451.82 1525.36,1451.98 1527.33,1452.14 1529.3,1452.3 1531.27,1452.46 1533.24,1452.61 \n",
       "  1535.21,1452.77 1537.18,1452.92 1539.15,1453.07 1541.12,1453.22 1543.09,1453.37 1545.06,1453.51 1547.03,1453.65 1549,1453.8 1550.97,1453.94 1552.94,1454.07 \n",
       "  1554.91,1454.21 1556.88,1454.35 1558.85,1454.48 1560.82,1454.61 1562.79,1454.74 1564.76,1454.87 1566.73,1454.99 1568.7,1455.12 1570.67,1455.24 1572.65,1455.37 \n",
       "  1574.62,1455.49 1576.59,1455.6 1578.56,1455.72 1580.53,1455.84 1582.5,1455.95 1584.47,1456.06 1586.44,1456.18 1588.41,1456.29 1590.38,1456.39 1592.35,1456.5 \n",
       "  1594.32,1456.61 1596.29,1456.71 1598.26,1456.81 1600.23,1456.92 1602.2,1457.01 1604.17,1457.11 1606.14,1457.21 1608.11,1457.31 1610.08,1457.4 1612.05,1457.49 \n",
       "  1614.02,1457.59 1615.99,1457.68 1617.96,1457.77 1619.93,1457.85 1621.9,1457.94 1623.87,1458.03 1625.84,1458.11 1627.81,1458.19 1629.78,1458.28 1631.75,1458.36 \n",
       "  1633.72,1458.44 1635.69,1458.52 1637.66,1458.59 1639.63,1458.67 1641.6,1458.74 1643.57,1458.82 1645.54,1458.89 1647.51,1458.96 1649.48,1459.03 1651.45,1459.1 \n",
       "  1653.42,1459.17 1655.39,1459.24 1657.36,1459.3 1659.33,1459.37 1661.3,1459.43 1663.27,1459.5 1665.24,1459.56 1667.21,1459.62 1669.18,1459.68 1671.15,1459.74 \n",
       "  1673.13,1459.8 1675.1,1459.85 1677.07,1459.91 1679.04,1459.96 1681.01,1460.02 1682.98,1460.07 1684.95,1460.12 1686.92,1460.17 1688.89,1460.23 1690.86,1460.28 \n",
       "  1692.83,1460.32 1694.8,1460.37 1696.77,1460.42 1698.74,1460.47 1700.71,1460.51 1702.68,1460.56 1704.65,1460.6 1706.62,1460.64 1708.59,1460.68 1710.56,1460.73 \n",
       "  1712.53,1460.77 1714.5,1460.81 1716.47,1460.85 1718.44,1460.88 1720.41,1460.92 1722.38,1460.96 1724.35,1460.99 1726.32,1461.03 1728.29,1461.06 1730.26,1461.1 \n",
       "  1732.23,1461.13 1734.2,1461.16 1736.17,1461.2 1738.14,1461.23 1740.11,1461.26 1742.08,1461.29 1744.05,1461.32 1746.02,1461.35 1747.99,1461.37 1749.96,1461.4 \n",
       "  1751.93,1461.43 1753.9,1461.45 1755.87,1461.48 1757.84,1461.5 1759.81,1461.53 1761.78,1461.55 1763.75,1461.58 1765.72,1461.6 1767.69,1461.62 1769.66,1461.64 \n",
       "  1771.63,1461.66 1773.6,1461.68 1775.58,1461.7 1777.55,1461.72 1779.52,1461.74 1781.49,1461.76 1783.46,1461.78 1785.43,1461.8 1787.4,1461.82 1789.37,1461.83 \n",
       "  1791.34,1461.85 1793.31,1461.86 1795.28,1461.88 1797.25,1461.89 1799.22,1461.91 1801.19,1461.92 1803.16,1461.94 1805.13,1461.95 1807.1,1461.96 1809.07,1461.98 \n",
       "  1811.04,1461.99 1813.01,1462 1814.98,1462.01 1816.95,1462.02 1818.92,1462.03 1820.89,1462.04 1822.86,1462.05 1824.83,1462.06 1826.8,1462.07 1828.77,1462.08 \n",
       "  1830.74,1462.09 1832.71,1462.1 1834.68,1462.11 1836.65,1462.11 1838.62,1462.12 1840.59,1462.13 1842.56,1462.14 1844.53,1462.14 1846.5,1462.15 1848.47,1462.15 \n",
       "  1850.44,1462.16 1852.41,1462.17 1854.38,1462.17 1856.35,1462.18 1858.32,1462.18 1860.29,1462.19 1862.26,1462.19 1864.23,1462.19 1866.2,1462.2 1868.17,1462.2 \n",
       "  1870.14,1462.21 1872.11,1462.21 1874.08,1462.21 1876.06,1462.21 1878.03,1462.22 1880,1462.22 1881.97,1462.22 1883.94,1462.22 1885.91,1462.23 1887.88,1462.23 \n",
       "  1889.85,1462.23 1891.82,1462.23 1893.79,1462.23 1895.76,1462.24 1897.73,1462.24 1899.7,1462.24 1901.67,1462.24 1903.64,1462.24 1905.61,1462.24 1907.58,1462.24 \n",
       "  1909.55,1462.25 1911.52,1462.25 1913.49,1462.25 1915.46,1462.25 1917.43,1462.25 1919.4,1462.25 1921.37,1462.25 1923.34,1462.25 1925.31,1462.25 1927.28,1462.25 \n",
       "  1929.25,1462.25 1931.22,1462.25 1933.19,1462.25 1935.16,1462.26 1937.13,1462.26 1939.1,1462.26 1941.07,1462.26 1943.04,1462.26 1945.01,1462.26 1946.98,1462.26 \n",
       "  1948.95,1462.26 1950.92,1462.26 1952.89,1462.26 1954.86,1462.26 1956.83,1462.26 1958.8,1462.26 1960.77,1462.26 1962.74,1462.26 1964.71,1462.26 1966.68,1462.26 \n",
       "  1968.65,1462.26 1970.62,1462.26 1972.59,1462.26 1974.56,1462.26 1976.53,1462.26 1978.51,1462.26 1980.48,1462.26 1982.45,1462.26 1984.42,1462.26 1986.39,1462.26 \n",
       "  1988.36,1462.26 1990.33,1462.26 1992.3,1462.26 1994.27,1462.26 1996.24,1462.26 1998.21,1462.26 2000.18,1462.26 2002.15,1462.26 2004.12,1462.26 2006.09,1462.26 \n",
       "  2008.06,1462.26 2010.03,1462.26 2012,1462.26 2013.97,1462.26 2015.94,1462.26 2017.91,1462.26 2019.88,1462.26 2021.85,1462.26 2023.82,1462.26 2025.79,1462.26 \n",
       "  2027.76,1462.26 2029.73,1462.26 2031.7,1462.26 2033.67,1462.26 2035.64,1462.26 2037.61,1462.26 2039.58,1462.26 2041.55,1462.26 2043.52,1462.26 2045.49,1462.26 \n",
       "  2047.46,1462.26 2049.43,1462.26 2051.4,1462.26 2053.37,1462.26 2055.34,1462.26 2057.31,1462.26 2059.28,1462.26 2061.25,1462.26 2063.22,1462.26 2065.19,1462.26 \n",
       "  2067.16,1462.26 2069.13,1462.26 2071.1,1462.26 2073.07,1462.26 2075.04,1462.26 2077.01,1462.26 2078.99,1462.26 2080.96,1462.26 2082.93,1462.26 2084.9,1462.26 \n",
       "  2086.87,1462.26 2088.84,1462.26 2090.81,1462.26 2092.78,1462.26 2094.75,1462.26 2096.72,1462.26 2098.69,1462.26 2100.66,1462.26 2102.63,1462.26 2104.6,1462.26 \n",
       "  2106.57,1462.26 2108.54,1462.26 2110.51,1462.26 2112.48,1462.26 2114.45,1462.26 2116.42,1462.26 2118.39,1462.26 2120.36,1462.26 2122.33,1462.26 2124.3,1462.26 \n",
       "  2126.27,1462.26 2128.24,1462.26 2130.21,1462.26 2132.18,1462.26 2134.15,1462.26 2136.12,1462.26 2138.09,1462.26 2140.06,1462.26 2142.03,1462.26 2144,1462.26 \n",
       "  2145.97,1462.26 2147.94,1462.26 2149.91,1462.26 2151.88,1462.26 2153.85,1462.26 2155.82,1462.26 2157.79,1462.26 2159.76,1462.26 2161.73,1462.26 2163.7,1462.26 \n",
       "  2165.67,1462.26 2167.64,1462.26 2169.61,1462.26 2171.58,1462.26 2173.55,1462.26 2175.52,1462.26 2177.49,1462.26 2179.46,1462.26 2181.44,1462.26 2183.41,1462.26 \n",
       "  2185.38,1462.26 2187.35,1462.26 2189.32,1462.26 2191.29,1462.26 2193.26,1462.26 2195.23,1462.26 2197.2,1462.26 2199.17,1462.26 2201.14,1462.26 2203.11,1462.26 \n",
       "  2205.08,1462.26 2207.05,1462.26 2209.02,1462.26 2210.99,1462.26 2212.96,1462.26 2214.93,1462.26 2216.9,1462.26 2218.87,1462.26 2220.84,1462.26 2222.81,1462.26 \n",
       "  2224.78,1462.26 2226.75,1462.26 2228.72,1462.26 2230.69,1462.26 2232.66,1462.26 2234.63,1462.26 2236.6,1462.26 2238.57,1462.26 2240.54,1462.26 2242.51,1462.26 \n",
       "  2244.48,1462.26 2246.45,1462.26 2248.42,1462.26 2250.39,1462.26 2252.36,1462.26 2254.33,1462.26 2256.3,1462.26 2258.27,1462.26 2260.24,1462.26 2262.21,1462.26 \n",
       "  \n",
       "  \"/>\n",
       "<polygon clip-path=\"url(#clip8200)\" points=\"\n",
       "1958.43,251.724 2249.26,251.724 2249.26,130.764 1958.43,130.764 \n",
       "  \" fill=\"#ffffff\" fill-rule=\"evenodd\" fill-opacity=\"1\"/>\n",
       "<polyline clip-path=\"url(#clip8200)\" style=\"stroke:#000000; stroke-width:4; stroke-opacity:1; fill:none\" points=\"\n",
       "  1958.43,251.724 2249.26,251.724 2249.26,130.764 1958.43,130.764 1958.43,251.724 \n",
       "  \"/>\n",
       "<polyline clip-path=\"url(#clip8200)\" style=\"stroke:#009af9; stroke-width:4; stroke-opacity:1; fill:none\" points=\"\n",
       "  1982.43,191.244 2126.43,191.244 \n",
       "  \"/>\n",
       "<g clip-path=\"url(#clip8200)\">\n",
       "<text style=\"fill:#000000; fill-opacity:1; font-family:Arial,Helvetica Neue,Helvetica,sans-serif; font-size:48px; text-anchor:start;\" transform=\"rotate(0, 2150.43, 208.744)\" x=\"2150.43\" y=\"208.744\">y1</text>\n",
       "</g>\n",
       "</svg>\n"
      ]
     },
     "execution_count": 16,
     "metadata": {},
     "output_type": "execute_result"
    }
   ],
   "source": [
    "plot(listmy,listmd)"
   ]
  },
  {
   "cell_type": "code",
   "execution_count": null,
   "metadata": {
    "scrolled": true
   },
   "outputs": [],
   "source": [
    "hminus(-10)"
   ]
  },
  {
   "cell_type": "code",
   "execution_count": null,
   "metadata": {},
   "outputs": [],
   "source": [
    "y=0.01\n",
    "density = (1-cdf(Gamma(nn,lambda),abs(t1-t2-y))) * c1 * 1.0/(y^phi) * WhittakerM(alpha,beta,2*y/lambda)"
   ]
  },
  {
   "cell_type": "code",
   "execution_count": null,
   "metadata": {},
   "outputs": [],
   "source": [
    "WhittakerM(1,4,5)"
   ]
  },
  {
   "cell_type": "code",
   "execution_count": null,
   "metadata": {},
   "outputs": [],
   "source": [
    "WhittakerW(1,2,3)"
   ]
  },
  {
   "cell_type": "code",
   "execution_count": null,
   "metadata": {},
   "outputs": [],
   "source": [
    "conflict_probability_node_w(n1,t1,n2,t2,nn,lambda)"
   ]
  },
  {
   "cell_type": "code",
   "execution_count": null,
   "metadata": {},
   "outputs": [],
   "source": [
    "a=-2.0\n",
    "b=-3.0\n",
    "t=2500.0004999999996\n",
    "N=50\n",
    "\n",
    "h = 2*pi/N\n",
    "\n",
    "c1 = 0.5017\n",
    "c2 = 0.6407\n",
    "c3 = 0.6122\n",
    "c4 = 0.2645im\n",
    "\n",
    "k = collect(1:N)\n",
    "theta   = -pi .+ (k .+ 0.5)*h\n",
    "z   = N/t*(c1*theta ./ Float64[tan(c2*thetai) for thetai in theta] .- c3 .+ c4*theta)\n",
    "dz  = N/t*(-c1*c2*theta ./ Float64[sin(c2*thetai) for thetai in theta].^2 .+ c1./ Float64[tan(c2*thetai) for thetai in theta] .+ c4)\n",
    "\n",
    "F = z .^(-b).*(1 .+ 1.0 ./z).^(a-b)"
   ]
  },
  {
   "cell_type": "code",
   "execution_count": null,
   "metadata": {},
   "outputs": [],
   "source": [
    "evalint = sum([exp(zi*t) for zi in z] .* F .* dz)"
   ]
  },
  {
   "cell_type": "code",
   "execution_count": null,
   "metadata": {
    "scrolled": true
   },
   "outputs": [],
   "source": [
    "using Distributions\n",
    "using SpecialFunctions"
   ]
  },
  {
   "cell_type": "code",
   "execution_count": null,
   "metadata": {},
   "outputs": [],
   "source": [
    "inverse = try (t)^(1-b)\n",
    "catch \n",
    "    (conj(t)/(norm(t))^2)^(b-1)\n",
    "end"
   ]
  },
  {
   "cell_type": "code",
   "execution_count": null,
   "metadata": {},
   "outputs": [],
   "source": [
    "val = gamma(b)*inverse*exp(t)*h/(2im*pi).*evalint"
   ]
  },
  {
   "cell_type": "code",
   "execution_count": null,
   "metadata": {},
   "outputs": [],
   "source": []
  }
 ],
 "metadata": {
  "@webio": {
   "lastCommId": null,
   "lastKernelId": null
  },
  "kernelspec": {
   "display_name": "Julia 1.0.3",
   "language": "julia",
   "name": "julia-1.0"
  },
  "language_info": {
   "file_extension": ".jl",
   "mimetype": "application/julia",
   "name": "julia",
   "version": "1.0.3"
  }
 },
 "nbformat": 4,
 "nbformat_minor": 2
}
