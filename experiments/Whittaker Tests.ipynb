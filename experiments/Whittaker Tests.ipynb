{
 "cells": [
  {
   "cell_type": "code",
   "execution_count": 1,
   "metadata": {},
   "outputs": [
    {
     "name": "stderr",
     "output_type": "stream",
     "text": [
      "┌ Info: Precompiling CRCBS [edef75b8-3ac4-11e9-0392-bf149c536ee3]\n",
      "└ @ Base loading.jl:1192\n",
      "┌ Warning: Package CRCBS does not have JLD in its dependencies:\n",
      "│ - If you have CRCBS checked out for development and have\n",
      "│   added JLD as a dependency but haven't updated your primary\n",
      "│   environment's manifest file, try `Pkg.resolve()`.\n",
      "│ - Otherwise you may need to report an issue with CRCBS\n",
      "└ Loading JLD into CRCBS from project dependency, future warnings for CRCBS are suppressed.\n",
      "WARNING: Method definition get_dist_matrix(LightGraphs.AbstractGraph{T} where T) in module CRCBS at /home/peltzer/.julia/dev/CRCBS/src/utils.jl:11 overwritten at /home/peltzer/.julia/dev/CRCBS/src/utils.jl:11.\n",
      "┌ Warning: Replacing docs for `CRCBS.get_dist_matrix :: Tuple{LightGraphs.AbstractGraph}` in module `CRCBS`\n",
      "└ @ Base.Docs docs/Docs.jl:223\n",
      "WARNING: Method definition pad_matrix(Array{T, 2}, Tuple{Int64, Int64}, T) where {T} in module CRCBS at /home/peltzer/.julia/dev/CRCBS/src/utils.jl:22 overwritten at /home/peltzer/.julia/dev/CRCBS/src/utils.jl:22.\n",
      "┌ Warning: Replacing docs for `CRCBS.pad_matrix :: Union{Tuple{T}, Tuple{Array{T,2},Tuple{Int64,Int64},T}} where T` in module `CRCBS`\n",
      "└ @ Base.Docs docs/Docs.jl:223\n",
      "WARNING: Method definition compute_distance_matrix(Any, Any) in module CRCBS at /home/peltzer/.julia/dev/CRCBS/src/utils.jl:32 overwritten at /home/peltzer/.julia/dev/CRCBS/src/utils.jl:32.\n",
      "WARNING: Method definition sample_wo_repl(Any, Any) in module CRCBS at /home/peltzer/.julia/dev/CRCBS/src/utils.jl:135 overwritten at /home/peltzer/.julia/dev/CRCBS/src/utils.jl:135.\n"
     ]
    }
   ],
   "source": [
    "using CRCBS\n",
    "using SpecialFunctions\n",
    "using Distributions"
   ]
  },
  {
   "cell_type": "code",
   "execution_count": 3,
   "metadata": {},
   "outputs": [
    {
     "data": {
      "text/plain": [
       "7.002864442038907e50 + 8.97377576745836e50im"
      ]
     },
     "execution_count": 3,
     "metadata": {},
     "output_type": "execute_result"
    }
   ],
   "source": [
    "a = Hypergeometric1F1(5,2,100-1000im,50)"
   ]
  },
  {
   "cell_type": "code",
   "execution_count": 4,
   "metadata": {
    "scrolled": true
   },
   "outputs": [
    {
     "data": {
      "text/plain": [
       "0.2"
      ]
     },
     "execution_count": 4,
     "metadata": {},
     "output_type": "execute_result"
    }
   ],
   "source": [
    "n1=3\n",
    "n2=2\n",
    "t1=3.0\n",
    "t2=5.0\n",
    "nn=3\n",
    "lambda=0.2"
   ]
  },
  {
   "cell_type": "code",
   "execution_count": 5,
   "metadata": {},
   "outputs": [
    {
     "data": {
      "text/plain": [
       "2.5"
      ]
     },
     "execution_count": 5,
     "metadata": {},
     "output_type": "execute_result"
    }
   ],
   "source": [
    "alpha = 0.5*(n1-n2)\n",
    "beta = 0.5*(1-n1-n2)\n",
    "c1 = 1.0/(gamma(n1)*(2.0*lambda)^((n1+n2)/2.0))\n",
    "c2 = 1.0/(gamma(n2)*(2.0*lambda)^((n1+n2)/2.0))\n",
    "phi = 0.5*(n1+n2)"
   ]
  },
  {
   "cell_type": "code",
   "execution_count": 6,
   "metadata": {},
   "outputs": [
    {
     "data": {
      "text/plain": [
       "0.008302771856839659 - 2.093365586691557e-16im"
      ]
     },
     "execution_count": 6,
     "metadata": {},
     "output_type": "execute_result"
    }
   ],
   "source": [
    "y=5\n",
    "density = (1-cdf(Gamma(nn,lambda),abs(t1-t2-y))) * c1 * 1.0/(y^phi) * WhittakerM(alpha,beta,2*y/lambda)"
   ]
  },
  {
   "cell_type": "code",
   "execution_count": 7,
   "metadata": {},
   "outputs": [
    {
     "data": {
      "text/plain": [
       "10.176051520426412 - 2.967077122330002e-14im"
      ]
     },
     "execution_count": 7,
     "metadata": {},
     "output_type": "execute_result"
    }
   ],
   "source": [
    "WhittakerM(1,2,3)"
   ]
  },
  {
   "cell_type": "code",
   "execution_count": 7,
   "metadata": {},
   "outputs": [
    {
     "ename": "DomainError",
     "evalue": "DomainError with -4:\n`n` must not be negative.",
     "output_type": "error",
     "traceback": [
      "DomainError with -4:\n`n` must not be negative.",
      "",
      "Stacktrace:",
      " [1] gamma(::Int64) at /home/peltzer/.julia/packages/SpecialFunctions/fvheQ/src/gamma.jl:752",
      " [2] WhittakerW(::Int64, ::Int64, ::Int64) at /home/peltzer/.julia/dev/CRCBS/src/Whittaker.jl:74",
      " [3] top-level scope at In[7]:1"
     ]
    }
   ],
   "source": [
    "WhittakerW(1,2,3)"
   ]
  },
  {
   "cell_type": "code",
   "execution_count": 10,
   "metadata": {},
   "outputs": [
    {
     "data": {
      "text/plain": [
       "(NaN, NaN, 11.850458922000001)"
      ]
     },
     "execution_count": 10,
     "metadata": {},
     "output_type": "execute_result"
    }
   ],
   "source": [
    "conflict_probability_node_w(n1,t1,n2,t2,nn,lambda)"
   ]
  },
  {
   "cell_type": "code",
   "execution_count": 8,
   "metadata": {},
   "outputs": [
    {
     "data": {
      "text/plain": [
       "50-element Array{Complex{Float64},1}:\n",
       "  0.0002499591793296783 + 0.0006715482098389981im \n",
       " 0.00015107392512509987 + 0.0005614114772845369im \n",
       "   7.772044137731589e-5 + 0.0004662964422544558im \n",
       "   2.407526846315248e-5 + 0.0003841519248849326im \n",
       "  -1.426412017887328e-5 + 0.00031329211575552307im\n",
       "  -4.067679634282431e-5 + 0.00025231319094897353im\n",
       " -5.7791564953086065e-5 + 0.00020003170270690835im\n",
       "  -6.767835627561041e-5 + 0.00015543838365767172im\n",
       "   -7.19846444813101e-5 + 0.0001176630339903095im \n",
       "  -7.203420870843123e-5 + 8.594749293837424e-5im  \n",
       "  -6.889964648322114e-5 + 5.9624585166356624e-5im \n",
       "  -6.345629841198148e-5 + 3.810153625390857e-5im  \n",
       " -5.6422812873406644e-5 + 2.084676754445859e-5im  \n",
       "                        ⋮                         \n",
       "  -7.203420870843124e-5 - 8.594749293837433e-5im  \n",
       "  -7.198464448131007e-5 - 0.00011766303399030971im\n",
       "  -6.767835627561028e-5 - 0.00015543838365767208im\n",
       "    -5.7791564953086e-5 - 0.00020003170270690862im\n",
       "  -4.067679634282431e-5 - 0.00025231319094897353im\n",
       " -1.4264120178873117e-5 - 0.0003132921157555233im \n",
       "  2.4075268463152644e-5 - 0.00038415192488493286im\n",
       "   7.772044137731632e-5 - 0.00046629644225445636im\n",
       " 0.00015107392512510054 - 0.0005614114772845378im \n",
       "  0.0002499591793296783 - 0.0006715482098389981im \n",
       "  0.0003822113996921662 - 0.0007992378715176579im \n",
       "   0.000558576979520839 - 0.0009476522592873753im "
      ]
     },
     "execution_count": 8,
     "metadata": {},
     "output_type": "execute_result"
    }
   ],
   "source": [
    "a=-2.0\n",
    "b=-3.0\n",
    "t=2500.0004999999996\n",
    "N=50\n",
    "\n",
    "h = 2*pi/N\n",
    "\n",
    "c1 = 0.5017\n",
    "c2 = 0.6407\n",
    "c3 = 0.6122\n",
    "c4 = 0.2645im\n",
    "\n",
    "k = collect(1:N)\n",
    "theta   = -pi .+ (k .+ 0.5)*h\n",
    "z   = N/t*(c1*theta ./ Float64[tan(c2*thetai) for thetai in theta] .- c3 .+ c4*theta)\n",
    "dz  = N/t*(-c1*c2*theta ./ Float64[sin(c2*thetai) for thetai in theta].^2 .+ c1./ Float64[tan(c2*thetai) for thetai in theta] .+ c4)\n",
    "\n",
    "F = z .^(-b).*(1 .+ 1.0 ./z).^(a-b)"
   ]
  },
  {
   "cell_type": "code",
   "execution_count": 5,
   "metadata": {},
   "outputs": [
    {
     "data": {
      "text/plain": [
       "-9.413108524267019e-19 + 2.932391693224618e-18im"
      ]
     },
     "execution_count": 5,
     "metadata": {},
     "output_type": "execute_result"
    }
   ],
   "source": [
    "evalint = sum([exp(zi*t) for zi in z] .* F .* dz)"
   ]
  },
  {
   "cell_type": "code",
   "execution_count": 30,
   "metadata": {
    "scrolled": true
   },
   "outputs": [],
   "source": [
    "using Distributions\n",
    "using SpecialFunctions"
   ]
  },
  {
   "cell_type": "code",
   "execution_count": 7,
   "metadata": {},
   "outputs": [
    {
     "data": {
      "text/plain": [
       "3.906253125000935e13"
      ]
     },
     "execution_count": 7,
     "metadata": {},
     "output_type": "execute_result"
    }
   ],
   "source": [
    "inverse = try (t)^(1-b)\n",
    "catch \n",
    "    (conj(t)/(norm(t))^2)^(b-1)\n",
    "end"
   ]
  },
  {
   "cell_type": "code",
   "execution_count": 8,
   "metadata": {},
   "outputs": [
    {
     "ename": "DomainError",
     "evalue": "DomainError with -3.0:\nNaN result for non-NaN input.",
     "output_type": "error",
     "traceback": [
      "DomainError with -3.0:\nNaN result for non-NaN input.",
      "",
      "Stacktrace:",
      " [1] nan_dom_err at ./math.jl:339 [inlined]",
      " [2] gamma(::Float64) at /home/peltzer/.julia/packages/SpecialFunctions/fvheQ/src/gamma.jl:558",
      " [3] top-level scope at In[8]:1"
     ]
    }
   ],
   "source": [
    "val = gamma(b)*inverse*exp(t)*h/(2im*pi).*evalint"
   ]
  },
  {
   "cell_type": "code",
   "execution_count": null,
   "metadata": {},
   "outputs": [],
   "source": []
  }
 ],
 "metadata": {
  "@webio": {
   "lastCommId": null,
   "lastKernelId": null
  },
  "kernelspec": {
   "display_name": "Julia 1.0.3",
   "language": "julia",
   "name": "julia-1.0"
  },
  "language_info": {
   "file_extension": ".jl",
   "mimetype": "application/julia",
   "name": "julia",
   "version": "1.0.3"
  }
 },
 "nbformat": 4,
 "nbformat_minor": 2
}
