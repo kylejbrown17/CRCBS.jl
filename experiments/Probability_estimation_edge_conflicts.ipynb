{
 "cells": [
  {
   "cell_type": "code",
   "execution_count": 16,
   "metadata": {},
   "outputs": [],
   "source": [
    "using Distributions\n",
    "using HCubature"
   ]
  },
  {
   "cell_type": "code",
   "execution_count": 33,
   "metadata": {},
   "outputs": [
    {
     "data": {
      "text/plain": [
       "count_edge_conflicts (generic function with 1 method)"
      ]
     },
     "execution_count": 33,
     "metadata": {},
     "output_type": "execute_result"
    }
   ],
   "source": [
    "function get_collision_probability_edge(n1,t1,n2,t2,t_edge,lambda)\n",
    "    #Count edge conflicts quickly to elimininate cases with zeros\n",
    "    res = @timed(count_edge_conflicts(n1,t1,n2,t2,t_edge,lambda;num_particles=1000))\n",
    "    preliminary_count = res[1]\n",
    "    dtcount = res[2]\n",
    "    if preliminary_count < 0.0001\n",
    "        return 0.0,0.0,dt_count\n",
    "    else\n",
    "        return integrate_edge_with_box(n1,t1,n2,t2,t_edge,lambda,dtcount)\n",
    "    end\n",
    "end\n",
    "\n",
    "function integrate_edge_with_box(n1,t1,n2,t2,t_edge,lambda,dtcount)\n",
    "    function h(x)\n",
    "        e2 = x[1]\n",
    "        density = (cdf(Gamma(n2,lambda),max(0,(e2+t2-t1+t_edge))) -  cdf(Gamma(n2,lambda),max(0,(e2+t2-t1-t_edge))) ) * pdf(Gamma(n1,lambda), e2)\n",
    "        return density\n",
    "    end\n",
    "\n",
    "    a = [0.0]\n",
    "    b = [200.0]\n",
    "\n",
    "    res1 = @timed(hcubature(h,a,b,maxevals=10^8))\n",
    "    C,err = res1[1]\n",
    "    dtint = res1[2] #time spent performing integration\n",
    "\n",
    "    return C, err, dtint + dtcount\n",
    "\n",
    "end\n",
    "\n",
    "function count_edge_conflicts(n1,t1,n2,t2,t_edge,lambda;num_particles=10000)\n",
    "    \"\"\"Monte Carlo simulation\"\"\"\n",
    "    EA1 = rand(Gamma(n1,lambda),num_particles)\n",
    "    EA2 = rand(Gamma(n2,lambda),num_particles)\n",
    "\n",
    "    r1_arrivals = t1 .+ EA1\n",
    "    r1_departures = r1_arrivals .+ t_edge\n",
    "    r2_arrivals = t2 .+ EA2\n",
    "    r2_departures = r2_arrivals .+ t_edge\n",
    "\n",
    "    num_conflicts =length(findall(((r2_departures-r1_arrivals).>0) .& ((r1_departures-r2_arrivals).>0)   ))\n",
    "\n",
    "    return num_conflicts/num_particles\n",
    "end"
   ]
  },
  {
   "cell_type": "code",
   "execution_count": 34,
   "metadata": {},
   "outputs": [
    {
     "data": {
      "text/plain": [
       "0.2"
      ]
     },
     "execution_count": 34,
     "metadata": {},
     "output_type": "execute_result"
    }
   ],
   "source": [
    "n1 = 3\n",
    "n2 = 15\n",
    "t1 = 5.0\n",
    "t2 = 1.0\n",
    "t_edge = 1.0\n",
    "lambda = 0.2"
   ]
  },
  {
   "cell_type": "code",
   "execution_count": 35,
   "metadata": {},
   "outputs": [
    {
     "data": {
      "text/plain": [
       "0.2204"
      ]
     },
     "execution_count": 35,
     "metadata": {},
     "output_type": "execute_result"
    }
   ],
   "source": [
    "count_edge_conflicts(n1,t1,n2,t2,t_edge,lambda;num_particles=10000)"
   ]
  },
  {
   "cell_type": "code",
   "execution_count": 36,
   "metadata": {},
   "outputs": [
    {
     "data": {
      "text/plain": [
       "(2.5996695069393797e-9, 1.5214620183295645e-18, 0.023751438)"
      ]
     },
     "execution_count": 36,
     "metadata": {},
     "output_type": "execute_result"
    }
   ],
   "source": [
    "get_collision_probability_edge(n1,t1,n2,t2,t_edge,lambda)"
   ]
  },
  {
   "cell_type": "code",
   "execution_count": null,
   "metadata": {},
   "outputs": [],
   "source": []
  }
 ],
 "metadata": {
  "kernelspec": {
   "display_name": "Julia 1.0.3",
   "language": "julia",
   "name": "julia-1.0"
  },
  "language_info": {
   "file_extension": ".jl",
   "mimetype": "application/julia",
   "name": "julia",
   "version": "1.0.3"
  }
 },
 "nbformat": 4,
 "nbformat_minor": 2
}
