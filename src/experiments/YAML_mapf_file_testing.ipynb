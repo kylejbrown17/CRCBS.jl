{
 "cells": [
  {
   "cell_type": "markdown",
   "metadata": {},
   "source": [
    "# Parse YAML mapf files"
   ]
  },
  {
   "cell_type": "code",
   "execution_count": 2,
   "metadata": {},
   "outputs": [],
   "source": [
    "using CRCBS.n",
    "using LightGraphs, MetaGraphs, GraphUtils\n",
    "using GraphPlottingBFS\n",
    "using YAML"
   ]
  },
  {
   "cell_type": "code",
   "execution_count": 3,
   "metadata": {},
   "outputs": [
    {
     "data": {
      "text/plain": [
       "generate_mapf_from_yaml (generic function with 1 method)"
      ]
     },
     "execution_count": 3,
     "metadata": {},
     "output_type": "execute_result"
    }
   ],
   "source": [
    "function generate_mapf_from_yaml(file_name)\n",
    "    yaml_mapf = YAML.load(open(filename))\n",
    "    # MAP\n",
    "    dims = yaml_mapf[\"map\"][\"dimensions\"]\n",
    "    obstacles = [obs .+ [1,1] for obs in yaml_mapf[\"map\"][\"obstacles\"]] # correct for 0-indexing \n",
    "    G, vtx_grid = initialize_grid_graph_with_obstacles(dims,obstacles)\n",
    "    # AGENTS\n",
    "    starts = [vtx_grid[(d[\"start\"] .+ [1,1])...] for d in yaml_mapf[\"agents\"]] # correct for 0-indexing \n",
    "    goals = [vtx_grid[(d[\"goal\"] .+ [1,1])...] for d in yaml_mapf[\"agents\"]] # correct for 0-indexing \n",
    "    mapf = initialize_mapf(\n",
    "        GraphEnv.LowLevelEnv(graph=G),\n",
    "        [GraphEnv.State(vtx=x,t=0) for x in starts],\n",
    "        [GraphEnv.State(vtx=x) for x in goals]\n",
    "    )\n",
    "end"
   ]
  },
  {
   "cell_type": "code",
   "execution_count": null,
   "metadata": {},
   "outputs": [],
   "source": [
    "using DataStructures\n",
    "function CRCBS.solve!(solver::CBSSolver, mapf::M where {M<:AbstractMAPF}, path_finder=a_star)\n",
    "    # priority queue that stores nodes in order of their cost\n",
    "    priority_queue = PriorityQueue{ConstraintTreeNode,Int}()\n",
    "\n",
    "    root_node = initialize_root_node(mapf)\n",
    "    low_level_search!(solver,mapf,root_node;path_finder=path_finder)\n",
    "    detect_conflicts!(root_node.conflict_table,root_node.solution)\n",
    "    @show is_valid(root_node.solution,mapf)\n",
    "    @show get_final_state(root_node.solution[1])\n",
    "    @show get_final_state(root_node.solution[2])\n",
    "    if is_valid(root_node.solution,mapf)\n",
    "        enqueue!(priority_queue, root_node => root_node.cost)\n",
    "    end\n",
    "\n",
    "    while length(priority_queue) > 0\n",
    "        node = dequeue!(priority_queue)\n",
    "        # check for conflicts\n",
    "        conflict = get_next_conflict(node.conflict_table)\n",
    "        if !is_valid(conflict)\n",
    "            print(\"Optimal Solution Found! Cost = \",node.cost,\"\\n\")\n",
    "            return node.solution, node.cost\n",
    "        end\n",
    "        # otherwise, create constraints and branch\n",
    "        constraints = generate_constraints_from_conflict(conflict)\n",
    "        for constraint in constraints\n",
    "            new_node = initialize_child_search_node(node)\n",
    "            if add_constraint!(new_node,constraint)\n",
    "                low_level_search!(solver, mapf, new_node,[get_agent_id(constraint)]; path_finder=path_finder)\n",
    "                detect_conflicts!(new_node.conflict_table,new_node.solution,[get_agent_id(constraint)]) # update conflicts related to this agent\n",
    "                if is_valid(new_node.solution, mapf)\n",
    "                    enqueue!(priority_queue, new_node => new_node.cost)\n",
    "                end\n",
    "            end\n",
    "        end\n",
    "    end\n",
    "    print(\"No Solution Found. Returning default solution\")\n",
    "    return default_solution(mapf)\n",
    "end"
   ]
  },
  {
   "cell_type": "code",
   "execution_count": null,
   "metadata": {},
   "outputs": [],
   "source": [
    "filename = \"/home/kylebrown/Repositories/libMultiRobotPlanning/test/mapf_someAtGoal.yaml\"\n",
    "mapf = generate_mapf_from_yaml(filename)\n",
    "\n",
    "solver = CBSSolver()\n",
    "solution, cost = CRCBS.solve!(solver,mapf);"
   ]
  },
  {
   "cell_type": "code",
   "execution_count": null,
   "metadata": {},
   "outputs": [],
   "source": [
    "paths = GraphEnv.convert_to_vertex_lists(solution)\n",
    "render_grid_graph(G,[[s.vtx] for s in mapf.starts])"
   ]
  },
  {
   "cell_type": "code",
   "execution_count": null,
   "metadata": {},
   "outputs": [],
   "source": [
    "for filename in readdir(\"/home/kylebrown/Repositories/libMultiRobotPlanning/test/\")\n",
    "    if splitext(filename)[end] == \".yaml\"\n",
    "        mapf = generate_mapf_from_yaml(filename)\n",
    "        solver = CBSSolver()\n",
    "        solution, cost = CRCBS.solve!(solver,mapf);\n",
    "    end\n",
    "end"
   ]
  },
  {
   "cell_type": "code",
   "execution_count": null,
   "metadata": {},
   "outputs": [],
   "source": []
  }
 ],
 "metadata": {
  "kernelspec": {
   "display_name": "Julia 1.0.2",
   "language": "julia",
   "name": "julia-1.0"
  },
  "language_info": {
   "file_extension": ".jl",
   "mimetype": "application/julia",
   "name": "julia",
   "version": "1.0.2"
  }
 },
 "nbformat": 4,
 "nbformat_minor": 2
}
